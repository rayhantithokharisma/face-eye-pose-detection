{
 "cells": [
  {
   "cell_type": "code",
   "execution_count": null,
   "id": "e27e9819-9411-4b04-83ef-39ce7839644c",
   "metadata": {},
   "outputs": [],
   "source": [
    "cv2.circle(frame, (points[0], points[5]), 2, blue, 2)\n",
    "blue = (0, 0, 255)"
   ]
  },
  {
   "cell_type": "code",
   "execution_count": null,
   "id": "777b301b-bb41-4b21-a15e-9ec870b6269a",
   "metadata": {},
   "outputs": [],
   "source": [
    "import mediapipe as mp\n",
    "import cv2\n",
    "import numpy as np\n",
    "from helpers import relative, relativeT\n",
    "# import gaze\n",
    "\n",
    "mp_face_mesh = mp.solutions.face_mesh  # initialize the face mesh model\n",
    "font = cv2.FONT_HERSHEY_COMPLEX\n",
    "# camera stream:\n",
    "cap = cv2.VideoCapture(0)  # chose camera index (try 1, 2, 3)\n",
    "\n",
    "frame_width = int(cap.get(cv2.CAP_PROP_FRAME_WIDTH))\n",
    "frame_height = int(cap.get(cv2.CAP_PROP_FRAME_HEIGHT))\n",
    "fps = cap.get(cv2.CAP_PROP_FPS)\n",
    "\n",
    "video_format = cv2.VideoWriter_fourcc('M','J','P','G')\n",
    "#out = cv2.VideoWriter('output_gaze.avi', )\n",
    "video_file = 'video_out_gaz_2.avi'\n",
    "video_out = cv2.VideoWriter(video_file,video_format, fps, (frame_width, frame_height))\n",
    "\n",
    "\n",
    "blue = (0, 0, 255)\n",
    "red = (255, 0, 0)\n",
    "green = (0,128,0)\n",
    "with mp_face_mesh.FaceMesh(\n",
    "        max_num_faces=1,  # number of faces to track in each frame\n",
    "        refine_landmarks=True,  # includes iris landmarks in the face mesh model\n",
    "        min_detection_confidence=0.5,\n",
    "        min_tracking_confidence=0.5) as face_mesh:\n",
    "    while cap.isOpened():\n",
    "        success, image = cap.read()\n",
    "        if not success:  # no frame input\n",
    "            print(\"Ignoring empty camera frame.\")\n",
    "            continue\n",
    "        # To improve performance, optionally mark the image as not writeable to\n",
    "        # pass by reference.\n",
    "\n",
    "        image.flags.writeable = False\n",
    "        image = cv2.cvtColor(image, cv2.COLOR_BGR2RGB)  # frame to RGB for the face-mesh model\n",
    "        results = face_mesh.process(image)\n",
    "        frame = cv2.cvtColor(image, cv2.COLOR_RGB2BGR)  # frame back to BGR for OpenCV\n",
    "        \n",
    "        gray = cv2.cvtColor(frame, cv2.COLOR_BGR2GRAY)\n",
    "        avg_brightness = gray.mean()\n",
    "        cv2.putText(frame, f\"Avg Brightness : {avg_brightness}\", (10, 300), font, 0.4, green, 1)\n",
    "\n",
    "        \n",
    "\n",
    "        if results.multi_face_landmarks:\n",
    "            points = results.multi_face_landmarks[0]\n",
    "            right_pupil = relative(points.landmark[468], frame.shape)\n",
    "            left_pupil = relative(points.landmark[473], frame.shape)\n",
    "            cv2.circle(frame, (left_pupil[0], left_pupil[1]), 2, blue, 2)\n",
    "            cv2.circle(frame, (right_pupil[0], right_pupil[1]), 2, red, 2)\n",
    "            \n",
    "            \n",
    "            # corner eye\n",
    "            left_corner = relative(points.landmark[263], frame.shape)\n",
    "            right_corner = relative(points.landmark[33], frame.shape)\n",
    "            cv2.circle(frame, (left_corner[0], left_corner[1]), 2, blue, 2)\n",
    "            cv2.circle(frame, (right_corner[0], right_corner[1]), 2, red, 2)\n",
    "        \n",
    "            right_corner_inside = relative(points.landmark[133], frame.shape)\n",
    "            left_corner_inside = relative(points.landmark[362], frame.shape)\n",
    "            cv2.circle(frame, (left_corner_inside[0], left_corner_inside[1]), 2, blue, 2)\n",
    "            cv2.circle(frame, (right_corner_inside[0], right_corner_inside[1]), 2, red, 2)\n",
    "\n",
    "\n",
    "            right_upper = relative(points.landmark[159], frame.shape)\n",
    "            left_upper = relative(points.landmark[386], frame.shape)\n",
    "            cv2.circle(frame, (left_upper[0], left_upper[1]), 2, blue, 2)\n",
    "            cv2.circle(frame, (right_upper[0], right_upper[1]), 2, red, 2)\n",
    "\n",
    "            # cv2.putText(frame, f\"Left Pupil: {left_pupil[0]}\", (10, 250), font, 0.4, blue, 1)\n",
    "            # cv2.putText(frame, f\"Left Corner: {left_corner[0]}\", (10, 260), font, 0.4, blue, 1)\n",
    "            # cv2.putText(frame, f\"Left Inside: {left_corner_inside[0]}\", (10, 270), font, 0.4, blue, 1)\n",
    "            try:\n",
    "                cv2.putText(frame, \n",
    "                            f\"Pupil Left Ratio : {(left_pupil[0] - left_corner_inside[0]) / (left_corner[0] - left_corner_inside[0])}\", \n",
    "                            (10, 250), font, 0.4, blue, 1)\n",
    "\n",
    "                cv2.putText(frame, \n",
    "                            f\"Pupil Right Ratio : {(right_pupil[0] - right_corner[0]) / (right_corner_inside[0] - right_corner[0])}\", \n",
    "                            (10, 270), font, 0.4, red, 1)\n",
    "            except:\n",
    "                cv2.putText(frame, \"Error\", (10,250), font, 0.4, green, 1)\n",
    "        \n",
    "        else:\n",
    "            cv2.putText(frame, \"Please check your lenses, your glasses, or place your face in center\", (10, 100), font, 0.4, green, 1)\n",
    "\n",
    "        # if results.multi_face_landmarks:\n",
    "        #     gaze(image, results.multi_face_landmarks[0])  # gaze estimation\n",
    "        #frame = cv2.flip(frame, 1)\n",
    "        cv2.imshow('output window', frame)\n",
    "        video_out.write(frame)  \n",
    "        if cv2.waitKey(2) & 0xFF == 27:\n",
    "            break\n",
    "cap.release()\n",
    "video_out.release()\n",
    "cv2.destroyAllWindows()"
   ]
  },
  {
   "cell_type": "code",
   "execution_count": 1,
   "id": "43b21737-01f0-4e29-be5e-1074b32a5020",
   "metadata": {},
   "outputs": [],
   "source": [
    "# yawl > 50\n",
    "# yawl < -50\n",
    "\n",
    "# pitch > 10\n",
    "# pitch < -35\n",
    "# left/right > 0.6\n",
    "# left/right < 0.4"
   ]
  },
  {
   "cell_type": "code",
   "execution_count": 1,
   "id": "0474051e-bd96-4f52-8e1a-810248260a11",
   "metadata": {},
   "outputs": [
    {
     "name": "stderr",
     "output_type": "stream",
     "text": [
      "2024-09-09 18:24:59.494719: E external/local_xla/xla/stream_executor/cuda/cuda_fft.cc:485] Unable to register cuFFT factory: Attempting to register factory for plugin cuFFT when one has already been registered\n",
      "2024-09-09 18:24:59.507281: E external/local_xla/xla/stream_executor/cuda/cuda_dnn.cc:8454] Unable to register cuDNN factory: Attempting to register factory for plugin cuDNN when one has already been registered\n",
      "2024-09-09 18:24:59.511034: E external/local_xla/xla/stream_executor/cuda/cuda_blas.cc:1452] Unable to register cuBLAS factory: Attempting to register factory for plugin cuBLAS when one has already been registered\n",
      "2024-09-09 18:24:59.520390: I tensorflow/core/platform/cpu_feature_guard.cc:210] This TensorFlow binary is optimized to use available CPU instructions in performance-critical operations.\n",
      "To enable the following instructions: AVX2 FMA, in other operations, rebuild TensorFlow with the appropriate compiler flags.\n",
      "2024-09-09 18:25:00.182142: W tensorflow/compiler/tf2tensorrt/utils/py_utils.cc:38] TF-TRT Warning: Could not find TensorRT\n",
      "WARNING: All log messages before absl::InitializeLog() is called are written to STDERR\n",
      "I0000 00:00:1725881101.325884   11994 cuda_executor.cc:1015] successful NUMA node read from SysFS had negative value (-1), but there must be at least one NUMA node, so returning NUMA node zero. See more at https://github.com/torvalds/linux/blob/v6.0/Documentation/ABI/testing/sysfs-bus-pci#L344-L355\n",
      "2024-09-09 18:25:01.348357: W tensorflow/core/common_runtime/gpu/gpu_device.cc:2343] Cannot dlopen some GPU libraries. Please make sure the missing libraries mentioned above are installed properly if you would like to use GPU. Follow the guide at https://www.tensorflow.org/install/gpu for how to download and setup the required libraries for your platform.\n",
      "Skipping registering GPU devices...\n"
     ]
    }
   ],
   "source": [
    "from fastapi import FastAPI, Request\n",
    "from pydantic import BaseModel\n",
    "import base64\n",
    "import mediapipe as mp\n",
    "import cv2\n",
    "import numpy as np\n",
    "import uvicorn\n",
    "import nest_asyncio\n",
    "import tensorflow as tf\n",
    "from helpers import relative, relativeT\n",
    "\n",
    "mp_face_mesh = mp.solutions.face_mesh  # initialize the face mesh model\n",
    "font = cv2.FONT_HERSHEY_COMPLEX\n",
    "detector_model = tf.saved_model.load('./models/tf_retinaface_mbv2/')\n",
    "\n",
    "blue = (0, 0, 255)\n",
    "red = (255, 0, 0)\n",
    "green = (0,128,0)"
   ]
  },
  {
   "cell_type": "code",
   "execution_count": 2,
   "id": "70176b32-119d-40b0-9055-68681b726c3f",
   "metadata": {},
   "outputs": [],
   "source": [
    "def one_face(frame, bbs, pointss):\n",
    "    \"\"\"\n",
    "    Parameters\n",
    "    ----------\n",
    "    frame : uint8\n",
    "        RGB image (numpy array).\n",
    "    bbs : float64, Size = (N, 4)\n",
    "        coordinates of bounding boxes for all detected faces.\n",
    "    pointss : flaot32, Size = (N, 10)\n",
    "        coordinates of landmarks for all detected faces.\n",
    "\n",
    "    Returns\n",
    "    -------\n",
    "    bb : float64, Size = (5,)\n",
    "        coordinates of bounding box for the selected face.\n",
    "    points : float32\n",
    "        coordinates of five landmarks for the selected face.\n",
    "\n",
    "    \"\"\"\n",
    "    # select only process only one face (center ?)\n",
    "    offsets = [(bbs[:,0]+bbs[:,2])/2-frame.shape[1]/2,\n",
    "               (bbs[:,1]+bbs[:,3])/2-frame.shape[0]/2]\n",
    "    offset_dist = np.sum(np.abs(offsets),0)\n",
    "    index = np.argmin(offset_dist)\n",
    "    bb = bbs[index]\n",
    "    points = pointss[:,index]\n",
    "    return bb, points\n",
    "\n",
    "def are_coordinates_in_frame(frame, box, pts):\n",
    "    \"\"\"\n",
    "    Parameters\n",
    "    ----------\n",
    "    frame : uint8\n",
    "        RGB image (numpy array).\n",
    "    bbs : float64\n",
    "        coordinates of bounding box.\n",
    "    points : flaot32\n",
    "        coordinates of landmarks.\n",
    "\n",
    "    Returns\n",
    "    -------\n",
    "    boolean\n",
    "    \"\"\"\n",
    "    \n",
    "    height, width = frame.shape[:2]\n",
    "    height = height +1.5*height\n",
    "    width = width +1.5*width\n",
    "    \n",
    "    if np.any(box <= 0) or np.any(box >= height) or np.any(box >= width):\n",
    "        return False\n",
    "    if np.any(pts <= 0) or np.any(pts >= height) or np.any(pts >= width):\n",
    "        return False\n",
    "    \n",
    "    return True\n",
    "\n",
    "def are_centered(frame, box, pts):\n",
    "    \"\"\"\n",
    "    Parameters\n",
    "    ----------\n",
    "    frame : uint8\n",
    "        RGB image (numpy array).\n",
    "    bbs : float64\n",
    "        coordinates of bounding box.\n",
    "    points : flaot32\n",
    "        coordinates of landmarks.\n",
    "\n",
    "    Returns\n",
    "    -------\n",
    "    boolean\n",
    "    \"\"\"\n",
    "    \n",
    "    height, width = frame.shape[:2]\n",
    "    # height = height +1.5*height\n",
    "    # width = width +1.5*width\n",
    "    \n",
    "    if np.any(box <= 0) or np.any(box >= height) or np.any(box >= width):\n",
    "        return False\n",
    "    if np.any(pts <= 0) or np.any(pts >= height) or np.any(pts >= width):\n",
    "        return False\n",
    "    \n",
    "    return True\n",
    "    \n",
    "            \n",
    "def draw_landmarks(frame, bb, points):\n",
    "    '''\n",
    "    Parameters\n",
    "    ----------\n",
    "    frame : uint8\n",
    "        RGB image\n",
    "    bb : float64, Size = (5,)\n",
    "        coordinates of bounding box for the selected face.\n",
    "    points : float32, Size = (10,)\n",
    "        coordinates of landmarks for the selected faces.\n",
    "\n",
    "    Returns\n",
    "    -------\n",
    "    None.\n",
    "\n",
    "    '''\n",
    "    bb = bb.astype(int)\n",
    "    points = points.astype(int)\n",
    "    # draw rectangle and landmarks on face\n",
    "    cv2.rectangle(frame, (bb[0], bb[1]), (bb[2], bb[3]), red, 1)\n",
    "    cv2.circle(frame, (points[0], points[5]), 2, blue, 2)# left eye\n",
    "    cv2.circle(frame, (points[1], points[6]), 2, blue, 2)# right eye\n",
    "    cv2.circle(frame, (points[2], points[7]), 2, blue, 2)# nose\n",
    "    cv2.circle(frame, (points[3], points[8]), 2, blue, 2)# mouth - left\n",
    "    cv2.circle(frame, (points[4], points[9]), 2, blue, 2)# mouth - right \n",
    "    \n",
    "    w = int(bb[2])-int(bb[0])# width\n",
    "    h = int(bb[3])-int(bb[1])# height\n",
    "    w2h_ratio = w/h# width to height ratio\n",
    "    eye2box_ratio = (points[0]-bb[0]) / (bb[2]-points[1])\n",
    "    font_size = 14\n",
    "    #cv2.putText(frame, \"Width (pixels): {}\".format(w), (10,30), font, font_size, red, 1)\n",
    "    #cv2.putText(frame, \"Height (pixels): {}\".format(h), (10,40), font, font_size, red, 1)\n",
    "    \n",
    "    # if eye2box_ratio > 1.5 or eye2box_ratio < 0.88:\n",
    "    #     cv2.putText(frame, \"Face: not in center of the bounding box\", (10, 140), font, font_size, blue, 1)\n",
    "    # if w2h_ratio < 0.7 or w2h_ratio > 0.9:\n",
    "    #     cv2.putText(frame, \"Face: long and narrow\", (10, 160), font, font_size, blue, 1)\n",
    "\n",
    "def find_smile(points):\n",
    "    \"\"\"\n",
    "    Parameters\n",
    "    ----------\n",
    "    points : flaot32\n",
    "        coordinates of landmarks.\n",
    "\n",
    "    Returns\n",
    "    -------\n",
    "    smile_ratio : float32\n",
    "        a value that determines if the face is smiling.\n",
    "    \"\"\"\n",
    "    dx_eyes = points[1] - points[0]# pixels between pupils\n",
    "    dx_mout = points[4] - points[3]# pixles between mouth corners\n",
    "    smile_ratio = dx_mout/dx_eyes    \n",
    "    return smile_ratio\n",
    "\n",
    "def find_roll(points):\n",
    "    \"\"\"\n",
    "    Parameters\n",
    "    ----------\n",
    "    points : float32\n",
    "        coordinates of landmarks.\n",
    "\n",
    "    Returns\n",
    "    -------\n",
    "    flaot32\n",
    "        an indication of roll.\n",
    "\n",
    "    \"\"\"\n",
    "    return points[6] - points[5]\n",
    "\n",
    "def find_yaw(points):\n",
    "    \"\"\"\n",
    "    Parameters\n",
    "    ----------\n",
    "    points : float32, Size = (10,)\n",
    "        coordinates of landmarks.\n",
    "    Returns\n",
    "    -------\n",
    "    float32\n",
    "        an indication of yaw.\n",
    "\n",
    "    \"\"\"\n",
    "    le2n = points[2] - points[0]\n",
    "    re2n = points[1] - points[2]\n",
    "    return le2n - re2n\n",
    "\n",
    "def find_pitch(points):\n",
    "    \"\"\"\n",
    "    Parameters\n",
    "    ----------\n",
    "    points : float32, Size = (10,)\n",
    "        coordinates of landmarks.\n",
    "    Returns\n",
    "    -------\n",
    "    float32\n",
    "        an indication of pitch.\n",
    "    \"\"\"\n",
    "    eye_y = (points[5] + points[6]) / 2\n",
    "    mou_y = (points[8] + points[9]) / 2\n",
    "    e2n = eye_y - points[7]\n",
    "    n2m = points[7] - mou_y\n",
    "    return e2n / n2m\n",
    "\n",
    "def find_pose(points):\n",
    "    \"\"\"\n",
    "    Parameters\n",
    "    ----------\n",
    "    points : float32, Size = (10,)\n",
    "        coordinates of landmarks for the selected faces.\n",
    "    Returns\n",
    "    -------\n",
    "    float32, float32, float32\n",
    "    \"\"\"\n",
    "    LMx = points[0:5]# horizontal coordinates of landmarks\n",
    "    LMy = points[5:10]# vertical coordinates of landmarks\n",
    "    \n",
    "    dPx_eyes = max((LMx[1] - LMx[0]), 1)\n",
    "    dPy_eyes = (LMy[1] - LMy[0])\n",
    "    angle = np.arctan(dPy_eyes / dPx_eyes) # angle for rotation based on slope\n",
    "    \n",
    "    alpha = np.cos(angle)\n",
    "    beta = np.sin(angle)\n",
    "    \n",
    "    # rotated landmarks\n",
    "    LMxr = (alpha * LMx + beta * LMy + (1 - alpha) * LMx[2] / 2 - beta * LMy[2] / 2) \n",
    "    LMyr = (-beta * LMx + alpha * LMy + beta * LMx[2] / 2 + (1 - alpha) * LMy[2] / 2)\n",
    "    \n",
    "    # average distance between eyes and mouth\n",
    "    dXtot = (LMxr[1] - LMxr[0] + LMxr[4] - LMxr[3]) / 2\n",
    "    dYtot = (LMyr[3] - LMyr[0] + LMyr[4] - LMyr[1]) / 2\n",
    "    \n",
    "    # average distance between nose and eyes\n",
    "    dXnose = (LMxr[1] - LMxr[2] + LMxr[4] - LMxr[2]) / 2\n",
    "    dYnose = (LMyr[3] - LMyr[2] + LMyr[4] - LMyr[2]) / 2\n",
    "    \n",
    "    # relative rotation 0 degree is frontal 90 degree is profile\n",
    "    Xfrontal = (-90+90 / 0.5 * dXnose / dXtot) if dXtot != 0 else 0\n",
    "    Yfrontal = (-90+90 / 0.5 * dYnose / dYtot) if dYtot != 0 else 0\n",
    "\n",
    "    return angle * 180 / np.pi, Xfrontal, Yfrontal\n",
    "\n",
    "def detect_faces(image, image_shape_max=640):\n",
    "    '''\n",
    "    Performs face detection using retinaface method with speed boost and \n",
    "    initial quality checks based on whole image size\n",
    "    \n",
    "    Parameters\n",
    "    ----------\n",
    "    image : uint8\n",
    "        image for face detection.\n",
    "    image_shape_max : int, optional\n",
    "        maximum size (in pixels) of image.\n",
    "\n",
    "    Returns\n",
    "    -------\n",
    "    float array\n",
    "        landmarks.\n",
    "    float array\n",
    "        bounding boxes.\n",
    "    flaot array\n",
    "        detection scores.\n",
    "    '''\n",
    "\n",
    "    image_shape = image.shape[:2]\n",
    "    \n",
    "    # perform image resize for faster detection    \n",
    "    if image_shape_max:\n",
    "        scale_factor = max([1, max(image_shape)/image_shape_max])\n",
    "    else:\n",
    "        scale_factor = 1\n",
    "        \n",
    "    if scale_factor > 1:        \n",
    "        scaled_image = cv2.resize(image, (0, 0), fx = 1 / scale_factor, \n",
    "                                  fy = 1 / scale_factor)\n",
    "        bbs_all, points_all = retinaface(scaled_image)\n",
    "        bbs_all[:,:4] *= scale_factor\n",
    "        points_all *= scale_factor\n",
    "    else:\n",
    "        bbs_all, points_all = retinaface(image)              \n",
    "    \n",
    "    scores = bbs_all[:,-1]\n",
    "    bbs = bbs_all[:, :4]\n",
    "    \n",
    "    return points_all, bbs, scores\n",
    "\n",
    "def retinaface(image):\n",
    "    \"\"\" retinaface face detector\"\"\"\n",
    "\n",
    "    height = image.shape[0]\n",
    "    width = image.shape[1]\n",
    "    \n",
    "    image_pad, pad_params = pad_input_image(image)    \n",
    "    image_pad = tf.convert_to_tensor(image_pad[np.newaxis, ...])\n",
    "    image_pad = tf.cast(image_pad, tf.float32)  \n",
    "   \n",
    "    outputs = detector_model(image_pad).numpy()\n",
    "\n",
    "    outputs = recover_pad_output(outputs, pad_params)\n",
    "    Nfaces = len(outputs)\n",
    "    \n",
    "    bbs = np.zeros((Nfaces,5))\n",
    "    lms = np.zeros((Nfaces,10))\n",
    "    \n",
    "    bbs[:,[0,2]] = outputs[:,[0,2]]*width\n",
    "    bbs[:,[1,3]] = outputs[:,[1,3]]*height\n",
    "    bbs[:,4] = outputs[:,-1]\n",
    "    \n",
    "    lms[:,0:5] = outputs[:,[4,6,8,10,12]]*width\n",
    "    lms[:,5:10] = outputs[:,[5,7,9,11,13]]*height\n",
    "    \n",
    "    return bbs, lms\n",
    "\n",
    "def pad_input_image(img, max_steps=32):\n",
    "    \"\"\"pad image to suitable shape - required for retinaface\"\"\"\n",
    "    img_h, img_w, _ = img.shape\n",
    "\n",
    "    img_pad_h = 0\n",
    "    if img_h % max_steps > 0:\n",
    "        img_pad_h = max_steps - img_h % max_steps\n",
    "\n",
    "    img_pad_w = 0\n",
    "    if img_w % max_steps > 0:\n",
    "        img_pad_w = max_steps - img_w % max_steps\n",
    "\n",
    "    padd_val = np.mean(img, axis=(0, 1)).astype(np.uint8)\n",
    "    img = cv2.copyMakeBorder(img, 0, img_pad_h, 0, img_pad_w,\n",
    "                             cv2.BORDER_CONSTANT, value=padd_val.tolist())\n",
    "    pad_params = (img_h, img_w, img_pad_h, img_pad_w)\n",
    "\n",
    "    return img, pad_params\n",
    "\n",
    "def recover_pad_output(outputs, pad_params):\n",
    "    \"\"\"recover the padded output effect\"\"\"\n",
    "    img_h, img_w, img_pad_h, img_pad_w = pad_params\n",
    "    recover_xy = np.reshape(outputs[:, :14], [-1, 7, 2]) * \\\n",
    "        [(img_pad_w + img_w) / img_w, (img_pad_h + img_h) / img_h]\n",
    "    outputs[:, :14] = np.reshape(recover_xy, [-1, 14])\n",
    "\n",
    "    return outputs"
   ]
  },
  {
   "cell_type": "code",
   "execution_count": 3,
   "id": "46b9190c-5b1e-435f-bca9-6ea1785e06e6",
   "metadata": {},
   "outputs": [],
   "source": [
    "def detect_pose_gaze(img):\n",
    "    blue = (0, 0, 255)\n",
    "    red = (255, 0, 0)\n",
    "    green = (0,128,0)\n",
    "    image_rgb = cv2.cvtColor(img, cv2.COLOR_BGR2RGB)\n",
    "    image_rgb = cv2.flip(image_rgb, 1)\n",
    "\n",
    "    is_gazing = False\n",
    "    is_centered = False\n",
    "    \n",
    "    try:\n",
    "        landmarks, bboxes, scores = detect_faces(image_rgb, 720)\n",
    "    except:\n",
    "        print(\"Error: face detector error.\")\n",
    "        return {'is_gazing':is_gazing, 'is_no_face':False, 'is_error':True, 'is_centered':is_centered}\n",
    "\n",
    "    if len(bboxes) > 0:\n",
    "        lmarks = np.transpose(landmarks)\n",
    "        bbs = bboxes.copy()\n",
    "    \n",
    "        bb, lmarks_5 = one_face(image_rgb, bbs, lmarks)\n",
    "        if are_coordinates_in_frame(image_rgb, bb, lmarks_5):\n",
    "            is_centered = are_centered(image_rgb, bb, lmarks_5)\n",
    "            angle, Xfrontal, Yfrontal = find_pose(lmarks_5)\n",
    "            if Xfrontal > 50 or Xfrontal < -50:\n",
    "                is_gazing = True\n",
    "            if Yfrontal > 10 or Yfrontal < -35:\n",
    "                is_gazing = True\n",
    "            return {'is_gazing':is_gazing, 'is_no_face':False, 'is_error':False, 'is_centered':is_centered}\n",
    "            \n",
    "        else:\n",
    "            return {'is_gazing':is_gazing, 'is_no_face':False, 'is_error':False, 'is_centered':is_centered}\n",
    "            \n",
    "    else:\n",
    "        return {'is_gazing':is_gazing, 'is_no_face':True, 'is_error':False, 'is_centered':is_centered}"
   ]
  },
  {
   "cell_type": "code",
   "execution_count": 4,
   "id": "cd9d283f-3d31-4ff4-a59a-468c6d8b5063",
   "metadata": {},
   "outputs": [],
   "source": [
    "def detect_left_right_gaze(img):\n",
    "\n",
    "    blue = (0, 0, 255)\n",
    "    red = (255, 0, 0)\n",
    "    green = (0,128,0)\n",
    "    face_mesh = mp_face_mesh.FaceMesh(\n",
    "            max_num_faces=1,  # number of faces to track in each frame\n",
    "            refine_landmarks=True,  # includes iris landmarks in the face mesh model\n",
    "            min_detection_confidence=0.5,\n",
    "            min_tracking_confidence=0.5)\n",
    "    img.flags.writeable = False\n",
    "    img = cv2.cvtColor(img, cv2.COLOR_BGR2RGB)  # frame to RGB for the face-mesh model\n",
    "    results = face_mesh.process(img)\n",
    "    frame = cv2.cvtColor(img, cv2.COLOR_RGB2BGR)  \n",
    "\n",
    "    gray = cv2.cvtColor(frame, cv2.COLOR_BGR2GRAY)\n",
    "    avg_brightness = gray.mean()\n",
    "\n",
    "    if results.multi_face_landmarks:\n",
    "        points = results.multi_face_landmarks[0]\n",
    "        right_pupil = relative(points.landmark[468], frame.shape)\n",
    "        left_pupil = relative(points.landmark[473], frame.shape)\n",
    "        # cv2.circle(frame, (left_pupil[0], left_pupil[1]), 2, blue, 2)\n",
    "        # cv2.circle(frame, (right_pupil[0], right_pupil[1]), 2, red, 2)\n",
    "        \n",
    "        \n",
    "        # corner eye\n",
    "        left_corner = relative(points.landmark[263], frame.shape)\n",
    "        right_corner = relative(points.landmark[33], frame.shape)\n",
    "        # cv2.circle(frame, (left_corner[0], left_corner[1]), 2, blue, 2)\n",
    "        # cv2.circle(frame, (right_corner[0], right_corner[1]), 2, red, 2)\n",
    "    \n",
    "        right_corner_inside = relative(points.landmark[133], frame.shape)\n",
    "        left_corner_inside = relative(points.landmark[362], frame.shape)\n",
    "        # cv2.circle(frame, (left_corner_inside[0], left_corner_inside[1]), 2, blue, 2)\n",
    "        # cv2.circle(frame, (right_corner_inside[0], right_corner_inside[1]), 2, red, 2)\n",
    "    \n",
    "    \n",
    "        right_upper = relative(points.landmark[159], frame.shape)\n",
    "        left_upper = relative(points.landmark[386], frame.shape)\n",
    "        # cv2.circle(frame, (left_upper[0], left_upper[1]), 2, blue, 2)\n",
    "        # cv2.circle(frame, (right_upper[0], right_upper[1]), 2, red, 2)\n",
    "    \n",
    "        left_pupil_ratio = (left_pupil[0] - left_corner_inside[0]) / (left_corner[0] - left_corner_inside[0])\n",
    "        right_pupil_ratio = (right_pupil[0] - right_corner[0]) / (right_corner_inside[0] - right_corner[0])\n",
    "    \n",
    "        left_gazing = left_pupil_ratio >=0.6 and right_pupil_ratio >= 0.6\n",
    "        right_gazing = left_pupil_ratio < 0.4 and right_pupil_ratio < 0.4\n",
    "    \n",
    "        is_gazing = left_gazing or right_gazing\n",
    "        return {'is_gazing':is_gazing, 'is_no_face':False, 'is_error':False, 'is_centered':True, 'left_pupil':left_pupil, 'right_pupil':right_pupil}\n",
    "    else:\n",
    "        return {'is_gazing':False, 'is_no_face':True, 'is_error':False, 'is_centered':True}"
   ]
  },
  {
   "cell_type": "code",
   "execution_count": 5,
   "id": "d28c416c-9c64-4dfe-aae4-61c327ac0098",
   "metadata": {},
   "outputs": [],
   "source": [
    "nest_asyncio.apply()\n",
    "app = FastAPI()\n",
    "\n",
    "# class Frame(BaseModel):\n",
    "#     frame: str\n",
    "#     timestamp: str\n",
    "\n",
    "@app.post(\"/eye-tracking\")\n",
    "async def eye_tracking(request: Request):\n",
    "    # Decode base64 frame\n",
    "\n",
    "    image_bytes = await request.body()\n",
    "    nparr = np.frombuffer(image_bytes, np.uint8)\n",
    "    img = cv2.imdecode(nparr, cv2.IMREAD_COLOR)\n",
    "\n",
    "    gazing_response = detect_left_right_gaze(img)\n",
    "\n",
    "    return gazing_response\n",
    "    \n",
    "@app.post(\"/pose-estimate\")\n",
    "async def pose_estimate(request: Request):\n",
    "    # Decode base64 frame\n",
    "\n",
    "    image_bytes = await request.body()\n",
    "    nparr = np.frombuffer(image_bytes, np.uint8)\n",
    "    img = cv2.imdecode(nparr, cv2.IMREAD_COLOR)\n",
    "\n",
    "    gazing_response = detect_pose_gaze(img)\n",
    "\n",
    "    return gazing_response\n",
    "    # try:\n",
    "    #     image_bytes = await request.body()\n",
    "    #     nparr = np.frombuffer(image_bytes, np.uint8)\n",
    "    #     img = cv2.imdecode(nparr, cv2.IMREAD_COLOR)\n",
    "    \n",
    "    #     gazing_response = detect_left_right_gaze(img)\n",
    "\n",
    "    #     return gazing_response\n",
    "    # except:\n",
    "    #     return {'is_gazing':False, 'is_no_face':False, 'is_error':True}\n",
    "        \n",
    "def start_fastapi():\n",
    "    uvicorn.run(app, host=\"0.0.0.0\", port=8080)\n",
    "\n",
    "\n",
    "    #cv2.putText(frame, f\"Avg Brightness : {avg_brightness}\", (10, 300), font, 0.4, green, 1)"
   ]
  },
  {
   "cell_type": "code",
   "execution_count": null,
   "id": "b0a25614-d54f-40c6-aa74-136325f53ebd",
   "metadata": {},
   "outputs": [
    {
     "name": "stderr",
     "output_type": "stream",
     "text": [
      "INFO:     Started server process [11994]\n",
      "INFO:     Waiting for application startup.\n",
      "INFO:     Application startup complete.\n",
      "INFO:     Uvicorn running on http://0.0.0.0:8080 (Press CTRL+C to quit)\n"
     ]
    },
    {
     "name": "stdout",
     "output_type": "stream",
     "text": [
      "INFO:     127.0.0.1:38400 - \"POST /pose-estimate HTTP/1.1\" 200 OK\n",
      "INFO:     127.0.0.1:38416 - \"POST /eye-tracking HTTP/1.1\" 200 OK\n",
      "INFO:     127.0.0.1:38422 - \"POST /pose-estimate HTTP/1.1\" 200 OK\n"
     ]
    },
    {
     "name": "stderr",
     "output_type": "stream",
     "text": [
      "WARNING: All log messages before absl::InitializeLog() is called are written to STDERR\n",
      "I0000 00:00:1725881142.495323   11994 gl_context_egl.cc:85] Successfully initialized EGL. Major : 1 Minor: 5\n",
      "I0000 00:00:1725881142.524032   12234 gl_context.cc:357] GL version: 3.2 (OpenGL ES 3.2 NVIDIA 535.146.02), renderer: NVIDIA GeForce RTX 3060/PCIe/SSE2\n",
      "INFO: Created TensorFlow Lite XNNPACK delegate for CPU.\n",
      "W0000 00:00:1725881142.527225   12227 inference_feedback_manager.cc:114] Feedback manager requires a model with a single signature inference. Disabling support for feedback tensors.\n",
      "W0000 00:00:1725881142.541627   12226 inference_feedback_manager.cc:114] Feedback manager requires a model with a single signature inference. Disabling support for feedback tensors.\n",
      "W0000 00:00:1725881142.545213   12223 landmark_projection_calculator.cc:186] Using NORM_RECT without IMAGE_DIMENSIONS is only supported for the square ROI. Provide IMAGE_DIMENSIONS or use PROJECTION_MATRIX.\n",
      "/home/rayhan/miniconda3/envs/vtenv-2/lib/python3.10/site-packages/google/protobuf/symbol_database.py:55: UserWarning: SymbolDatabase.GetPrototype() is deprecated. Please use message_factory.GetMessageClass() instead. SymbolDatabase.GetPrototype() will be removed soon.\n",
      "  warnings.warn('SymbolDatabase.GetPrototype() is deprecated. Please '\n",
      "I0000 00:00:1725881142.656714   11994 gl_context_egl.cc:85] Successfully initialized EGL. Major : 1 Minor: 5\n",
      "I0000 00:00:1725881142.708361   12249 gl_context.cc:357] GL version: 3.2 (OpenGL ES 3.2 NVIDIA 535.146.02), renderer: NVIDIA GeForce RTX 3060/PCIe/SSE2\n",
      "W0000 00:00:1725881142.711951   12247 inference_feedback_manager.cc:114] Feedback manager requires a model with a single signature inference. Disabling support for feedback tensors.\n",
      "W0000 00:00:1725881142.723121   12246 inference_feedback_manager.cc:114] Feedback manager requires a model with a single signature inference. Disabling support for feedback tensors.\n"
     ]
    },
    {
     "name": "stdout",
     "output_type": "stream",
     "text": [
      "INFO:     127.0.0.1:38426 - \"POST /eye-tracking HTTP/1.1\" 200 OK\n",
      "INFO:     127.0.0.1:38430 - \"POST /pose-estimate HTTP/1.1\" 200 OK\n",
      "INFO:     127.0.0.1:38432 - \"POST /eye-tracking HTTP/1.1\" 200 OK\n",
      "INFO:     127.0.0.1:38444 - \"POST /pose-estimate HTTP/1.1\" 200 OK\n",
      "INFO:     127.0.0.1:38450 - \"POST /eye-tracking HTTP/1.1\" 200 OK\n",
      "INFO:     127.0.0.1:38454 - \"POST /pose-estimate HTTP/1.1\" 200 OK\n",
      "INFO:     127.0.0.1:38466 - \"POST /eye-tracking HTTP/1.1\" 200 OK\n"
     ]
    },
    {
     "name": "stderr",
     "output_type": "stream",
     "text": [
      "I0000 00:00:1725881142.797353   11994 gl_context_egl.cc:85] Successfully initialized EGL. Major : 1 Minor: 5\n",
      "I0000 00:00:1725881142.858320   12262 gl_context.cc:357] GL version: 3.2 (OpenGL ES 3.2 NVIDIA 535.146.02), renderer: NVIDIA GeForce RTX 3060/PCIe/SSE2\n",
      "W0000 00:00:1725881142.861160   12251 inference_feedback_manager.cc:114] Feedback manager requires a model with a single signature inference. Disabling support for feedback tensors.\n",
      "W0000 00:00:1725881142.871862   12253 inference_feedback_manager.cc:114] Feedback manager requires a model with a single signature inference. Disabling support for feedback tensors.\n",
      "I0000 00:00:1725881142.940146   11994 gl_context_egl.cc:85] Successfully initialized EGL. Major : 1 Minor: 5\n",
      "I0000 00:00:1725881142.949727   12275 gl_context.cc:357] GL version: 3.2 (OpenGL ES 3.2 NVIDIA 535.146.02), renderer: NVIDIA GeForce RTX 3060/PCIe/SSE2\n",
      "W0000 00:00:1725881142.952382   12263 inference_feedback_manager.cc:114] Feedback manager requires a model with a single signature inference. Disabling support for feedback tensors.\n",
      "W0000 00:00:1725881142.963019   12267 inference_feedback_manager.cc:114] Feedback manager requires a model with a single signature inference. Disabling support for feedback tensors.\n",
      "I0000 00:00:1725881143.032512   11994 gl_context_egl.cc:85] Successfully initialized EGL. Major : 1 Minor: 5\n",
      "I0000 00:00:1725881143.040522   12288 gl_context.cc:357] GL version: 3.2 (OpenGL ES 3.2 NVIDIA 535.146.02), renderer: NVIDIA GeForce RTX 3060/PCIe/SSE2\n",
      "W0000 00:00:1725881143.043096   12280 inference_feedback_manager.cc:114] Feedback manager requires a model with a single signature inference. Disabling support for feedback tensors.\n",
      "W0000 00:00:1725881143.053724   12277 inference_feedback_manager.cc:114] Feedback manager requires a model with a single signature inference. Disabling support for feedback tensors.\n"
     ]
    },
    {
     "name": "stdout",
     "output_type": "stream",
     "text": [
      "INFO:     127.0.0.1:38476 - \"POST /pose-estimate HTTP/1.1\" 200 OK\n",
      "INFO:     127.0.0.1:38492 - \"POST /eye-tracking HTTP/1.1\" 200 OK\n",
      "INFO:     127.0.0.1:38508 - \"POST /pose-estimate HTTP/1.1\" 200 OK\n",
      "INFO:     127.0.0.1:38516 - \"POST /eye-tracking HTTP/1.1\" 200 OK\n",
      "INFO:     127.0.0.1:38532 - \"POST /pose-estimate HTTP/1.1\" 200 OK\n"
     ]
    },
    {
     "name": "stderr",
     "output_type": "stream",
     "text": [
      "I0000 00:00:1725881143.122419   11994 gl_context_egl.cc:85] Successfully initialized EGL. Major : 1 Minor: 5\n",
      "I0000 00:00:1725881143.131562   12301 gl_context.cc:357] GL version: 3.2 (OpenGL ES 3.2 NVIDIA 535.146.02), renderer: NVIDIA GeForce RTX 3060/PCIe/SSE2\n",
      "W0000 00:00:1725881143.134428   12297 inference_feedback_manager.cc:114] Feedback manager requires a model with a single signature inference. Disabling support for feedback tensors.\n",
      "W0000 00:00:1725881143.144864   12292 inference_feedback_manager.cc:114] Feedback manager requires a model with a single signature inference. Disabling support for feedback tensors.\n",
      "I0000 00:00:1725881143.214500   11994 gl_context_egl.cc:85] Successfully initialized EGL. Major : 1 Minor: 5\n",
      "I0000 00:00:1725881143.222291   12314 gl_context.cc:357] GL version: 3.2 (OpenGL ES 3.2 NVIDIA 535.146.02), renderer: NVIDIA GeForce RTX 3060/PCIe/SSE2\n",
      "W0000 00:00:1725881143.224902   12304 inference_feedback_manager.cc:114] Feedback manager requires a model with a single signature inference. Disabling support for feedback tensors.\n",
      "W0000 00:00:1725881143.235938   12310 inference_feedback_manager.cc:114] Feedback manager requires a model with a single signature inference. Disabling support for feedback tensors.\n"
     ]
    },
    {
     "name": "stdout",
     "output_type": "stream",
     "text": [
      "INFO:     127.0.0.1:38546 - \"POST /eye-tracking HTTP/1.1\" 200 OK\n",
      "INFO:     127.0.0.1:38554 - \"POST /pose-estimate HTTP/1.1\" 200 OK\n",
      "INFO:     127.0.0.1:38556 - \"POST /eye-tracking HTTP/1.1\" 200 OK\n",
      "INFO:     127.0.0.1:38560 - \"POST /pose-estimate HTTP/1.1\" 200 OK\n"
     ]
    },
    {
     "name": "stderr",
     "output_type": "stream",
     "text": [
      "I0000 00:00:1725881143.305353   11994 gl_context_egl.cc:85] Successfully initialized EGL. Major : 1 Minor: 5\n",
      "I0000 00:00:1725881143.343916   12328 gl_context.cc:357] GL version: 3.2 (OpenGL ES 3.2 NVIDIA 535.146.02), renderer: NVIDIA GeForce RTX 3060/PCIe/SSE2\n",
      "W0000 00:00:1725881143.346875   12318 inference_feedback_manager.cc:114] Feedback manager requires a model with a single signature inference. Disabling support for feedback tensors.\n",
      "W0000 00:00:1725881143.358263   12326 inference_feedback_manager.cc:114] Feedback manager requires a model with a single signature inference. Disabling support for feedback tensors.\n",
      "I0000 00:00:1725881143.426910   11994 gl_context_egl.cc:85] Successfully initialized EGL. Major : 1 Minor: 5\n",
      "I0000 00:00:1725881143.434404   12341 gl_context.cc:357] GL version: 3.2 (OpenGL ES 3.2 NVIDIA 535.146.02), renderer: NVIDIA GeForce RTX 3060/PCIe/SSE2\n",
      "W0000 00:00:1725881143.436040   12332 inference_feedback_manager.cc:114] Feedback manager requires a model with a single signature inference. Disabling support for feedback tensors.\n",
      "W0000 00:00:1725881143.447532   12331 inference_feedback_manager.cc:114] Feedback manager requires a model with a single signature inference. Disabling support for feedback tensors.\n",
      "I0000 00:00:1725881143.519020   11994 gl_context_egl.cc:85] Successfully initialized EGL. Major : 1 Minor: 5\n",
      "I0000 00:00:1725881143.528364   12354 gl_context.cc:357] GL version: 3.2 (OpenGL ES 3.2 NVIDIA 535.146.02), renderer: NVIDIA GeForce RTX 3060/PCIe/SSE2\n",
      "W0000 00:00:1725881143.531132   12343 inference_feedback_manager.cc:114] Feedback manager requires a model with a single signature inference. Disabling support for feedback tensors.\n",
      "W0000 00:00:1725881143.541651   12347 inference_feedback_manager.cc:114] Feedback manager requires a model with a single signature inference. Disabling support for feedback tensors.\n"
     ]
    },
    {
     "name": "stdout",
     "output_type": "stream",
     "text": [
      "INFO:     127.0.0.1:38566 - \"POST /eye-tracking HTTP/1.1\" 200 OK\n",
      "INFO:     127.0.0.1:38576 - \"POST /pose-estimate HTTP/1.1\" 200 OK\n",
      "INFO:     127.0.0.1:38580 - \"POST /eye-tracking HTTP/1.1\" 200 OK\n",
      "INFO:     127.0.0.1:38586 - \"POST /pose-estimate HTTP/1.1\" 200 OK\n",
      "INFO:     127.0.0.1:38590 - \"POST /eye-tracking HTTP/1.1\" 200 OK\n",
      "INFO:     127.0.0.1:38594 - \"POST /pose-estimate HTTP/1.1\" 200 OK\n",
      "INFO:     127.0.0.1:38602 - \"POST /eye-tracking HTTP/1.1\" 200 OK\n"
     ]
    },
    {
     "name": "stderr",
     "output_type": "stream",
     "text": [
      "I0000 00:00:1725881143.611174   11994 gl_context_egl.cc:85] Successfully initialized EGL. Major : 1 Minor: 5\n",
      "I0000 00:00:1725881143.619030   12367 gl_context.cc:357] GL version: 3.2 (OpenGL ES 3.2 NVIDIA 535.146.02), renderer: NVIDIA GeForce RTX 3060/PCIe/SSE2\n",
      "W0000 00:00:1725881143.622061   12356 inference_feedback_manager.cc:114] Feedback manager requires a model with a single signature inference. Disabling support for feedback tensors.\n",
      "W0000 00:00:1725881143.632471   12359 inference_feedback_manager.cc:114] Feedback manager requires a model with a single signature inference. Disabling support for feedback tensors.\n",
      "I0000 00:00:1725881143.699695   11994 gl_context_egl.cc:85] Successfully initialized EGL. Major : 1 Minor: 5\n",
      "I0000 00:00:1725881143.709245   12380 gl_context.cc:357] GL version: 3.2 (OpenGL ES 3.2 NVIDIA 535.146.02), renderer: NVIDIA GeForce RTX 3060/PCIe/SSE2\n",
      "W0000 00:00:1725881143.711967   12375 inference_feedback_manager.cc:114] Feedback manager requires a model with a single signature inference. Disabling support for feedback tensors.\n",
      "W0000 00:00:1725881143.722492   12370 inference_feedback_manager.cc:114] Feedback manager requires a model with a single signature inference. Disabling support for feedback tensors.\n",
      "I0000 00:00:1725881143.791333   11994 gl_context_egl.cc:85] Successfully initialized EGL. Major : 1 Minor: 5\n",
      "I0000 00:00:1725881143.799288   12393 gl_context.cc:357] GL version: 3.2 (OpenGL ES 3.2 NVIDIA 535.146.02), renderer: NVIDIA GeForce RTX 3060/PCIe/SSE2\n",
      "W0000 00:00:1725881143.802174   12382 inference_feedback_manager.cc:114] Feedback manager requires a model with a single signature inference. Disabling support for feedback tensors.\n",
      "W0000 00:00:1725881143.812514   12384 inference_feedback_manager.cc:114] Feedback manager requires a model with a single signature inference. Disabling support for feedback tensors.\n"
     ]
    },
    {
     "name": "stdout",
     "output_type": "stream",
     "text": [
      "INFO:     127.0.0.1:38614 - \"POST /pose-estimate HTTP/1.1\" 200 OK\n",
      "INFO:     127.0.0.1:38626 - \"POST /eye-tracking HTTP/1.1\" 200 OK\n",
      "INFO:     127.0.0.1:38628 - \"POST /pose-estimate HTTP/1.1\" 200 OK\n",
      "INFO:     127.0.0.1:38644 - \"POST /eye-tracking HTTP/1.1\" 200 OK\n",
      "INFO:     127.0.0.1:38658 - \"POST /pose-estimate HTTP/1.1\" 200 OK\n"
     ]
    },
    {
     "name": "stderr",
     "output_type": "stream",
     "text": [
      "I0000 00:00:1725881143.883248   11994 gl_context_egl.cc:85] Successfully initialized EGL. Major : 1 Minor: 5\n",
      "I0000 00:00:1725881143.892784   12406 gl_context.cc:357] GL version: 3.2 (OpenGL ES 3.2 NVIDIA 535.146.02), renderer: NVIDIA GeForce RTX 3060/PCIe/SSE2\n",
      "W0000 00:00:1725881143.894539   12399 inference_feedback_manager.cc:114] Feedback manager requires a model with a single signature inference. Disabling support for feedback tensors.\n",
      "W0000 00:00:1725881143.905881   12397 inference_feedback_manager.cc:114] Feedback manager requires a model with a single signature inference. Disabling support for feedback tensors.\n",
      "I0000 00:00:1725881143.976746   11994 gl_context_egl.cc:85] Successfully initialized EGL. Major : 1 Minor: 5\n",
      "I0000 00:00:1725881143.984716   12419 gl_context.cc:357] GL version: 3.2 (OpenGL ES 3.2 NVIDIA 535.146.02), renderer: NVIDIA GeForce RTX 3060/PCIe/SSE2\n",
      "W0000 00:00:1725881143.987541   12411 inference_feedback_manager.cc:114] Feedback manager requires a model with a single signature inference. Disabling support for feedback tensors.\n",
      "W0000 00:00:1725881143.998078   12408 inference_feedback_manager.cc:114] Feedback manager requires a model with a single signature inference. Disabling support for feedback tensors.\n",
      "I0000 00:00:1725881144.066601   11994 gl_context_egl.cc:85] Successfully initialized EGL. Major : 1 Minor: 5\n",
      "I0000 00:00:1725881144.076011   12432 gl_context.cc:357] GL version: 3.2 (OpenGL ES 3.2 NVIDIA 535.146.02), renderer: NVIDIA GeForce RTX 3060/PCIe/SSE2\n",
      "W0000 00:00:1725881144.078701   12422 inference_feedback_manager.cc:114] Feedback manager requires a model with a single signature inference. Disabling support for feedback tensors.\n",
      "W0000 00:00:1725881144.090183   12426 inference_feedback_manager.cc:114] Feedback manager requires a model with a single signature inference. Disabling support for feedback tensors.\n"
     ]
    },
    {
     "name": "stdout",
     "output_type": "stream",
     "text": [
      "INFO:     127.0.0.1:38666 - \"POST /eye-tracking HTTP/1.1\" 200 OK\n",
      "INFO:     127.0.0.1:38668 - \"POST /pose-estimate HTTP/1.1\" 200 OK\n",
      "INFO:     127.0.0.1:38670 - \"POST /eye-tracking HTTP/1.1\" 200 OK\n",
      "INFO:     127.0.0.1:38684 - \"POST /pose-estimate HTTP/1.1\" 200 OK\n",
      "INFO:     127.0.0.1:38686 - \"POST /eye-tracking HTTP/1.1\" 200 OK\n",
      "INFO:     127.0.0.1:38698 - \"POST /pose-estimate HTTP/1.1\" 200 OK\n"
     ]
    },
    {
     "name": "stderr",
     "output_type": "stream",
     "text": [
      "I0000 00:00:1725881144.159971   11994 gl_context_egl.cc:85] Successfully initialized EGL. Major : 1 Minor: 5\n",
      "I0000 00:00:1725881144.168147   12445 gl_context.cc:357] GL version: 3.2 (OpenGL ES 3.2 NVIDIA 535.146.02), renderer: NVIDIA GeForce RTX 3060/PCIe/SSE2\n",
      "W0000 00:00:1725881144.169910   12435 inference_feedback_manager.cc:114] Feedback manager requires a model with a single signature inference. Disabling support for feedback tensors.\n",
      "W0000 00:00:1725881144.176090   12434 inference_feedback_manager.cc:114] Feedback manager requires a model with a single signature inference. Disabling support for feedback tensors.\n",
      "I0000 00:00:1725881144.244667   11994 gl_context_egl.cc:85] Successfully initialized EGL. Major : 1 Minor: 5\n",
      "I0000 00:00:1725881144.263089   12458 gl_context.cc:357] GL version: 3.2 (OpenGL ES 3.2 NVIDIA 535.146.02), renderer: NVIDIA GeForce RTX 3060/PCIe/SSE2\n",
      "W0000 00:00:1725881144.266069   12452 inference_feedback_manager.cc:114] Feedback manager requires a model with a single signature inference. Disabling support for feedback tensors.\n",
      "W0000 00:00:1725881144.276419   12446 inference_feedback_manager.cc:114] Feedback manager requires a model with a single signature inference. Disabling support for feedback tensors.\n",
      "I0000 00:00:1725881144.346140   11994 gl_context_egl.cc:85] Successfully initialized EGL. Major : 1 Minor: 5\n",
      "I0000 00:00:1725881144.355614   12471 gl_context.cc:357] GL version: 3.2 (OpenGL ES 3.2 NVIDIA 535.146.02), renderer: NVIDIA GeForce RTX 3060/PCIe/SSE2\n",
      "W0000 00:00:1725881144.358450   12462 inference_feedback_manager.cc:114] Feedback manager requires a model with a single signature inference. Disabling support for feedback tensors.\n",
      "W0000 00:00:1725881144.369102   12460 inference_feedback_manager.cc:114] Feedback manager requires a model with a single signature inference. Disabling support for feedback tensors.\n"
     ]
    },
    {
     "name": "stdout",
     "output_type": "stream",
     "text": [
      "INFO:     127.0.0.1:38712 - \"POST /eye-tracking HTTP/1.1\" 200 OK\n",
      "INFO:     127.0.0.1:38716 - \"POST /pose-estimate HTTP/1.1\" 200 OK\n",
      "INFO:     127.0.0.1:38732 - \"POST /eye-tracking HTTP/1.1\" 200 OK\n",
      "INFO:     127.0.0.1:38740 - \"POST /pose-estimate HTTP/1.1\" 200 OK\n",
      "INFO:     127.0.0.1:38752 - \"POST /eye-tracking HTTP/1.1\" 200 OK\n",
      "INFO:     127.0.0.1:38760 - \"POST /pose-estimate HTTP/1.1\" 200 OK\n"
     ]
    },
    {
     "name": "stderr",
     "output_type": "stream",
     "text": [
      "I0000 00:00:1725881144.440019   11994 gl_context_egl.cc:85] Successfully initialized EGL. Major : 1 Minor: 5\n",
      "I0000 00:00:1725881144.448208   12484 gl_context.cc:357] GL version: 3.2 (OpenGL ES 3.2 NVIDIA 535.146.02), renderer: NVIDIA GeForce RTX 3060/PCIe/SSE2\n",
      "W0000 00:00:1725881144.450490   12482 inference_feedback_manager.cc:114] Feedback manager requires a model with a single signature inference. Disabling support for feedback tensors.\n",
      "W0000 00:00:1725881144.462107   12474 inference_feedback_manager.cc:114] Feedback manager requires a model with a single signature inference. Disabling support for feedback tensors.\n",
      "I0000 00:00:1725881144.530657   11994 gl_context_egl.cc:85] Successfully initialized EGL. Major : 1 Minor: 5\n",
      "I0000 00:00:1725881144.543447   12497 gl_context.cc:357] GL version: 3.2 (OpenGL ES 3.2 NVIDIA 535.146.02), renderer: NVIDIA GeForce RTX 3060/PCIe/SSE2\n",
      "W0000 00:00:1725881144.545674   12493 inference_feedback_manager.cc:114] Feedback manager requires a model with a single signature inference. Disabling support for feedback tensors.\n",
      "W0000 00:00:1725881144.556486   12486 inference_feedback_manager.cc:114] Feedback manager requires a model with a single signature inference. Disabling support for feedback tensors.\n",
      "I0000 00:00:1725881144.624539   11994 gl_context_egl.cc:85] Successfully initialized EGL. Major : 1 Minor: 5\n",
      "I0000 00:00:1725881144.632558   12510 gl_context.cc:357] GL version: 3.2 (OpenGL ES 3.2 NVIDIA 535.146.02), renderer: NVIDIA GeForce RTX 3060/PCIe/SSE2\n",
      "W0000 00:00:1725881144.635444   12504 inference_feedback_manager.cc:114] Feedback manager requires a model with a single signature inference. Disabling support for feedback tensors.\n",
      "W0000 00:00:1725881144.646083   12501 inference_feedback_manager.cc:114] Feedback manager requires a model with a single signature inference. Disabling support for feedback tensors.\n"
     ]
    },
    {
     "name": "stdout",
     "output_type": "stream",
     "text": [
      "INFO:     127.0.0.1:38776 - \"POST /eye-tracking HTTP/1.1\" 200 OK\n",
      "INFO:     127.0.0.1:38792 - \"POST /pose-estimate HTTP/1.1\" 200 OK\n",
      "INFO:     127.0.0.1:38798 - \"POST /eye-tracking HTTP/1.1\" 200 OK\n",
      "INFO:     127.0.0.1:38804 - \"POST /pose-estimate HTTP/1.1\" 200 OK\n",
      "INFO:     127.0.0.1:38808 - \"POST /eye-tracking HTTP/1.1\" 200 OK\n",
      "INFO:     127.0.0.1:38810 - \"POST /pose-estimate HTTP/1.1\" 200 OK\n",
      "INFO:     127.0.0.1:38826 - \"POST /eye-tracking HTTP/1.1\" 200 OK\n"
     ]
    },
    {
     "name": "stderr",
     "output_type": "stream",
     "text": [
      "I0000 00:00:1725881144.714482   11994 gl_context_egl.cc:85] Successfully initialized EGL. Major : 1 Minor: 5\n",
      "I0000 00:00:1725881144.725924   12524 gl_context.cc:357] GL version: 3.2 (OpenGL ES 3.2 NVIDIA 535.146.02), renderer: NVIDIA GeForce RTX 3060/PCIe/SSE2\n",
      "W0000 00:00:1725881144.728863   12514 inference_feedback_manager.cc:114] Feedback manager requires a model with a single signature inference. Disabling support for feedback tensors.\n",
      "W0000 00:00:1725881144.739240   12515 inference_feedback_manager.cc:114] Feedback manager requires a model with a single signature inference. Disabling support for feedback tensors.\n",
      "I0000 00:00:1725881144.811232   11994 gl_context_egl.cc:85] Successfully initialized EGL. Major : 1 Minor: 5\n",
      "I0000 00:00:1725881144.819498   12538 gl_context.cc:357] GL version: 3.2 (OpenGL ES 3.2 NVIDIA 535.146.02), renderer: NVIDIA GeForce RTX 3060/PCIe/SSE2\n",
      "W0000 00:00:1725881144.821080   12528 inference_feedback_manager.cc:114] Feedback manager requires a model with a single signature inference. Disabling support for feedback tensors.\n",
      "W0000 00:00:1725881144.827099   12526 inference_feedback_manager.cc:114] Feedback manager requires a model with a single signature inference. Disabling support for feedback tensors.\n",
      "I0000 00:00:1725881144.897622   11994 gl_context_egl.cc:85] Successfully initialized EGL. Major : 1 Minor: 5\n",
      "I0000 00:00:1725881144.907738   12554 gl_context.cc:357] GL version: 3.2 (OpenGL ES 3.2 NVIDIA 535.146.02), renderer: NVIDIA GeForce RTX 3060/PCIe/SSE2\n",
      "W0000 00:00:1725881144.910527   12542 inference_feedback_manager.cc:114] Feedback manager requires a model with a single signature inference. Disabling support for feedback tensors.\n",
      "W0000 00:00:1725881144.921621   12550 inference_feedback_manager.cc:114] Feedback manager requires a model with a single signature inference. Disabling support for feedback tensors.\n"
     ]
    },
    {
     "name": "stdout",
     "output_type": "stream",
     "text": [
      "INFO:     127.0.0.1:38840 - \"POST /pose-estimate HTTP/1.1\" 200 OK\n",
      "INFO:     127.0.0.1:38854 - \"POST /eye-tracking HTTP/1.1\" 200 OK\n",
      "INFO:     127.0.0.1:38866 - \"POST /pose-estimate HTTP/1.1\" 200 OK\n",
      "INFO:     127.0.0.1:38870 - \"POST /eye-tracking HTTP/1.1\" 200 OK\n",
      "INFO:     127.0.0.1:38880 - \"POST /pose-estimate HTTP/1.1\" 200 OK\n"
     ]
    },
    {
     "name": "stderr",
     "output_type": "stream",
     "text": [
      "I0000 00:00:1725881144.990602   11994 gl_context_egl.cc:85] Successfully initialized EGL. Major : 1 Minor: 5\n",
      "I0000 00:00:1725881144.999007   12567 gl_context.cc:357] GL version: 3.2 (OpenGL ES 3.2 NVIDIA 535.146.02), renderer: NVIDIA GeForce RTX 3060/PCIe/SSE2\n",
      "W0000 00:00:1725881145.001769   12557 inference_feedback_manager.cc:114] Feedback manager requires a model with a single signature inference. Disabling support for feedback tensors.\n",
      "W0000 00:00:1725881145.012213   12559 inference_feedback_manager.cc:114] Feedback manager requires a model with a single signature inference. Disabling support for feedback tensors.\n",
      "I0000 00:00:1725881145.083601   11994 gl_context_egl.cc:85] Successfully initialized EGL. Major : 1 Minor: 5\n",
      "I0000 00:00:1725881145.093479   12580 gl_context.cc:357] GL version: 3.2 (OpenGL ES 3.2 NVIDIA 535.146.02), renderer: NVIDIA GeForce RTX 3060/PCIe/SSE2\n",
      "W0000 00:00:1725881145.096301   12568 inference_feedback_manager.cc:114] Feedback manager requires a model with a single signature inference. Disabling support for feedback tensors.\n",
      "W0000 00:00:1725881145.107174   12576 inference_feedback_manager.cc:114] Feedback manager requires a model with a single signature inference. Disabling support for feedback tensors.\n",
      "I0000 00:00:1725881145.177144   11994 gl_context_egl.cc:85] Successfully initialized EGL. Major : 1 Minor: 5\n",
      "I0000 00:00:1725881145.185568   12593 gl_context.cc:357] GL version: 3.2 (OpenGL ES 3.2 NVIDIA 535.146.02), renderer: NVIDIA GeForce RTX 3060/PCIe/SSE2\n",
      "W0000 00:00:1725881145.188377   12590 inference_feedback_manager.cc:114] Feedback manager requires a model with a single signature inference. Disabling support for feedback tensors.\n",
      "W0000 00:00:1725881145.198908   12582 inference_feedback_manager.cc:114] Feedback manager requires a model with a single signature inference. Disabling support for feedback tensors.\n"
     ]
    },
    {
     "name": "stdout",
     "output_type": "stream",
     "text": [
      "INFO:     127.0.0.1:38894 - \"POST /eye-tracking HTTP/1.1\" 200 OK\n",
      "INFO:     127.0.0.1:38898 - \"POST /pose-estimate HTTP/1.1\" 200 OK\n",
      "INFO:     127.0.0.1:38910 - \"POST /eye-tracking HTTP/1.1\" 200 OK\n",
      "INFO:     127.0.0.1:38912 - \"POST /pose-estimate HTTP/1.1\" 200 OK\n",
      "INFO:     127.0.0.1:38914 - \"POST /eye-tracking HTTP/1.1\" 200 OK\n",
      "INFO:     127.0.0.1:38920 - \"POST /pose-estimate HTTP/1.1\" 200 OK\n"
     ]
    },
    {
     "name": "stderr",
     "output_type": "stream",
     "text": [
      "I0000 00:00:1725881145.269588   11994 gl_context_egl.cc:85] Successfully initialized EGL. Major : 1 Minor: 5\n",
      "I0000 00:00:1725881145.279600   12606 gl_context.cc:357] GL version: 3.2 (OpenGL ES 3.2 NVIDIA 535.146.02), renderer: NVIDIA GeForce RTX 3060/PCIe/SSE2\n",
      "W0000 00:00:1725881145.282448   12595 inference_feedback_manager.cc:114] Feedback manager requires a model with a single signature inference. Disabling support for feedback tensors.\n",
      "W0000 00:00:1725881145.293759   12601 inference_feedback_manager.cc:114] Feedback manager requires a model with a single signature inference. Disabling support for feedback tensors.\n",
      "I0000 00:00:1725881145.362696   11994 gl_context_egl.cc:85] Successfully initialized EGL. Major : 1 Minor: 5\n",
      "I0000 00:00:1725881145.399304   12619 gl_context.cc:357] GL version: 3.2 (OpenGL ES 3.2 NVIDIA 535.146.02), renderer: NVIDIA GeForce RTX 3060/PCIe/SSE2\n",
      "W0000 00:00:1725881145.402180   12607 inference_feedback_manager.cc:114] Feedback manager requires a model with a single signature inference. Disabling support for feedback tensors.\n",
      "W0000 00:00:1725881145.412786   12611 inference_feedback_manager.cc:114] Feedback manager requires a model with a single signature inference. Disabling support for feedback tensors.\n",
      "I0000 00:00:1725881145.482026   11994 gl_context_egl.cc:85] Successfully initialized EGL. Major : 1 Minor: 5\n",
      "I0000 00:00:1725881145.491549   12632 gl_context.cc:357] GL version: 3.2 (OpenGL ES 3.2 NVIDIA 535.146.02), renderer: NVIDIA GeForce RTX 3060/PCIe/SSE2\n"
     ]
    },
    {
     "name": "stdout",
     "output_type": "stream",
     "text": [
      "INFO:     127.0.0.1:38934 - \"POST /eye-tracking HTTP/1.1\" 200 OK\n",
      "INFO:     127.0.0.1:38938 - \"POST /pose-estimate HTTP/1.1\" 200 OK\n",
      "INFO:     127.0.0.1:38946 - \"POST /eye-tracking HTTP/1.1\" 200 OK\n",
      "INFO:     127.0.0.1:38948 - \"POST /pose-estimate HTTP/1.1\" 200 OK\n",
      "INFO:     127.0.0.1:38952 - \"POST /eye-tracking HTTP/1.1\" 200 OK\n"
     ]
    },
    {
     "name": "stderr",
     "output_type": "stream",
     "text": [
      "W0000 00:00:1725881145.493124   12625 inference_feedback_manager.cc:114] Feedback manager requires a model with a single signature inference. Disabling support for feedback tensors.\n",
      "W0000 00:00:1725881145.499781   12623 inference_feedback_manager.cc:114] Feedback manager requires a model with a single signature inference. Disabling support for feedback tensors.\n",
      "I0000 00:00:1725881145.569330   11994 gl_context_egl.cc:85] Successfully initialized EGL. Major : 1 Minor: 5\n",
      "I0000 00:00:1725881145.578419   12645 gl_context.cc:357] GL version: 3.2 (OpenGL ES 3.2 NVIDIA 535.146.02), renderer: NVIDIA GeForce RTX 3060/PCIe/SSE2\n",
      "W0000 00:00:1725881145.581020   12635 inference_feedback_manager.cc:114] Feedback manager requires a model with a single signature inference. Disabling support for feedback tensors.\n",
      "W0000 00:00:1725881145.592088   12640 inference_feedback_manager.cc:114] Feedback manager requires a model with a single signature inference. Disabling support for feedback tensors.\n",
      "I0000 00:00:1725881145.662689   11994 gl_context_egl.cc:85] Successfully initialized EGL. Major : 1 Minor: 5\n",
      "I0000 00:00:1725881145.673432   12658 gl_context.cc:357] GL version: 3.2 (OpenGL ES 3.2 NVIDIA 535.146.02), renderer: NVIDIA GeForce RTX 3060/PCIe/SSE2\n",
      "W0000 00:00:1725881145.676169   12647 inference_feedback_manager.cc:114] Feedback manager requires a model with a single signature inference. Disabling support for feedback tensors.\n",
      "W0000 00:00:1725881145.686634   12648 inference_feedback_manager.cc:114] Feedback manager requires a model with a single signature inference. Disabling support for feedback tensors.\n"
     ]
    },
    {
     "name": "stdout",
     "output_type": "stream",
     "text": [
      "INFO:     127.0.0.1:38958 - \"POST /pose-estimate HTTP/1.1\" 200 OK\n",
      "INFO:     127.0.0.1:38962 - \"POST /eye-tracking HTTP/1.1\" 200 OK\n",
      "INFO:     127.0.0.1:38976 - \"POST /pose-estimate HTTP/1.1\" 200 OK\n",
      "INFO:     127.0.0.1:38978 - \"POST /eye-tracking HTTP/1.1\" 200 OK\n",
      "INFO:     127.0.0.1:38982 - \"POST /pose-estimate HTTP/1.1\" 200 OK\n"
     ]
    },
    {
     "name": "stderr",
     "output_type": "stream",
     "text": [
      "I0000 00:00:1725881145.758518   11994 gl_context_egl.cc:85] Successfully initialized EGL. Major : 1 Minor: 5\n",
      "I0000 00:00:1725881145.767225   12671 gl_context.cc:357] GL version: 3.2 (OpenGL ES 3.2 NVIDIA 535.146.02), renderer: NVIDIA GeForce RTX 3060/PCIe/SSE2\n",
      "W0000 00:00:1725881145.770073   12666 inference_feedback_manager.cc:114] Feedback manager requires a model with a single signature inference. Disabling support for feedback tensors.\n",
      "W0000 00:00:1725881145.780690   12661 inference_feedback_manager.cc:114] Feedback manager requires a model with a single signature inference. Disabling support for feedback tensors.\n",
      "I0000 00:00:1725881145.851240   11994 gl_context_egl.cc:85] Successfully initialized EGL. Major : 1 Minor: 5\n",
      "I0000 00:00:1725881145.860127   12684 gl_context.cc:357] GL version: 3.2 (OpenGL ES 3.2 NVIDIA 535.146.02), renderer: NVIDIA GeForce RTX 3060/PCIe/SSE2\n",
      "W0000 00:00:1725881145.862792   12673 inference_feedback_manager.cc:114] Feedback manager requires a model with a single signature inference. Disabling support for feedback tensors.\n",
      "W0000 00:00:1725881145.873368   12675 inference_feedback_manager.cc:114] Feedback manager requires a model with a single signature inference. Disabling support for feedback tensors.\n",
      "I0000 00:00:1725881145.941332   11994 gl_context_egl.cc:85] Successfully initialized EGL. Major : 1 Minor: 5\n",
      "I0000 00:00:1725881145.951428   12697 gl_context.cc:357] GL version: 3.2 (OpenGL ES 3.2 NVIDIA 535.146.02), renderer: NVIDIA GeForce RTX 3060/PCIe/SSE2\n",
      "W0000 00:00:1725881145.954363   12686 inference_feedback_manager.cc:114] Feedback manager requires a model with a single signature inference. Disabling support for feedback tensors.\n",
      "W0000 00:00:1725881145.964761   12687 inference_feedback_manager.cc:114] Feedback manager requires a model with a single signature inference. Disabling support for feedback tensors.\n"
     ]
    },
    {
     "name": "stdout",
     "output_type": "stream",
     "text": [
      "INFO:     127.0.0.1:38990 - \"POST /eye-tracking HTTP/1.1\" 200 OK\n",
      "INFO:     127.0.0.1:39004 - \"POST /pose-estimate HTTP/1.1\" 200 OK\n",
      "INFO:     127.0.0.1:39006 - \"POST /eye-tracking HTTP/1.1\" 200 OK\n",
      "INFO:     127.0.0.1:39018 - \"POST /pose-estimate HTTP/1.1\" 200 OK\n",
      "INFO:     127.0.0.1:39032 - \"POST /eye-tracking HTTP/1.1\" 200 OK\n",
      "INFO:     127.0.0.1:39038 - \"POST /pose-estimate HTTP/1.1\" 200 OK\n",
      "INFO:     127.0.0.1:39040 - \"POST /eye-tracking HTTP/1.1\" 200 OK\n"
     ]
    },
    {
     "name": "stderr",
     "output_type": "stream",
     "text": [
      "I0000 00:00:1725881146.033391   11994 gl_context_egl.cc:85] Successfully initialized EGL. Major : 1 Minor: 5\n",
      "I0000 00:00:1725881146.042263   12710 gl_context.cc:357] GL version: 3.2 (OpenGL ES 3.2 NVIDIA 535.146.02), renderer: NVIDIA GeForce RTX 3060/PCIe/SSE2\n",
      "W0000 00:00:1725881146.043964   12705 inference_feedback_manager.cc:114] Feedback manager requires a model with a single signature inference. Disabling support for feedback tensors.\n",
      "W0000 00:00:1725881146.055269   12704 inference_feedback_manager.cc:114] Feedback manager requires a model with a single signature inference. Disabling support for feedback tensors.\n",
      "I0000 00:00:1725881146.125462   11994 gl_context_egl.cc:85] Successfully initialized EGL. Major : 1 Minor: 5\n",
      "I0000 00:00:1725881146.136037   12723 gl_context.cc:357] GL version: 3.2 (OpenGL ES 3.2 NVIDIA 535.146.02), renderer: NVIDIA GeForce RTX 3060/PCIe/SSE2\n",
      "W0000 00:00:1725881146.138780   12718 inference_feedback_manager.cc:114] Feedback manager requires a model with a single signature inference. Disabling support for feedback tensors.\n",
      "W0000 00:00:1725881146.149409   12714 inference_feedback_manager.cc:114] Feedback manager requires a model with a single signature inference. Disabling support for feedback tensors.\n",
      "I0000 00:00:1725881146.218053   11994 gl_context_egl.cc:85] Successfully initialized EGL. Major : 1 Minor: 5\n",
      "I0000 00:00:1725881146.226365   12736 gl_context.cc:357] GL version: 3.2 (OpenGL ES 3.2 NVIDIA 535.146.02), renderer: NVIDIA GeForce RTX 3060/PCIe/SSE2\n",
      "W0000 00:00:1725881146.227969   12724 inference_feedback_manager.cc:114] Feedback manager requires a model with a single signature inference. Disabling support for feedback tensors.\n",
      "W0000 00:00:1725881146.238720   12725 inference_feedback_manager.cc:114] Feedback manager requires a model with a single signature inference. Disabling support for feedback tensors.\n"
     ]
    },
    {
     "name": "stdout",
     "output_type": "stream",
     "text": [
      "INFO:     127.0.0.1:39044 - \"POST /pose-estimate HTTP/1.1\" 200 OK\n",
      "INFO:     127.0.0.1:39056 - \"POST /eye-tracking HTTP/1.1\" 200 OK\n",
      "INFO:     127.0.0.1:39066 - \"POST /pose-estimate HTTP/1.1\" 200 OK\n",
      "INFO:     127.0.0.1:39076 - \"POST /eye-tracking HTTP/1.1\" 200 OK\n",
      "INFO:     127.0.0.1:39088 - \"POST /pose-estimate HTTP/1.1\" 200 OK\n",
      "INFO:     127.0.0.1:39102 - \"POST /eye-tracking HTTP/1.1\" 200 OK\n"
     ]
    },
    {
     "name": "stderr",
     "output_type": "stream",
     "text": [
      "I0000 00:00:1725881146.308160   11994 gl_context_egl.cc:85] Successfully initialized EGL. Major : 1 Minor: 5\n",
      "I0000 00:00:1725881146.318486   12749 gl_context.cc:357] GL version: 3.2 (OpenGL ES 3.2 NVIDIA 535.146.02), renderer: NVIDIA GeForce RTX 3060/PCIe/SSE2\n",
      "W0000 00:00:1725881146.321366   12748 inference_feedback_manager.cc:114] Feedback manager requires a model with a single signature inference. Disabling support for feedback tensors.\n",
      "W0000 00:00:1725881146.331810   12737 inference_feedback_manager.cc:114] Feedback manager requires a model with a single signature inference. Disabling support for feedback tensors.\n",
      "I0000 00:00:1725881146.400026   11994 gl_context_egl.cc:85] Successfully initialized EGL. Major : 1 Minor: 5\n",
      "I0000 00:00:1725881146.408466   12762 gl_context.cc:357] GL version: 3.2 (OpenGL ES 3.2 NVIDIA 535.146.02), renderer: NVIDIA GeForce RTX 3060/PCIe/SSE2\n",
      "W0000 00:00:1725881146.411331   12754 inference_feedback_manager.cc:114] Feedback manager requires a model with a single signature inference. Disabling support for feedback tensors.\n",
      "W0000 00:00:1725881146.421581   12751 inference_feedback_manager.cc:114] Feedback manager requires a model with a single signature inference. Disabling support for feedback tensors.\n",
      "I0000 00:00:1725881146.491348   11994 gl_context_egl.cc:85] Successfully initialized EGL. Major : 1 Minor: 5\n",
      "I0000 00:00:1725881146.500464   12775 gl_context.cc:357] GL version: 3.2 (OpenGL ES 3.2 NVIDIA 535.146.02), renderer: NVIDIA GeForce RTX 3060/PCIe/SSE2\n",
      "W0000 00:00:1725881146.503083   12767 inference_feedback_manager.cc:114] Feedback manager requires a model with a single signature inference. Disabling support for feedback tensors.\n",
      "W0000 00:00:1725881146.513687   12770 inference_feedback_manager.cc:114] Feedback manager requires a model with a single signature inference. Disabling support for feedback tensors.\n"
     ]
    },
    {
     "name": "stdout",
     "output_type": "stream",
     "text": [
      "INFO:     127.0.0.1:39110 - \"POST /pose-estimate HTTP/1.1\" 200 OK\n",
      "INFO:     127.0.0.1:39112 - \"POST /eye-tracking HTTP/1.1\" 200 OK\n",
      "INFO:     127.0.0.1:39116 - \"POST /pose-estimate HTTP/1.1\" 200 OK\n",
      "INFO:     127.0.0.1:39120 - \"POST /eye-tracking HTTP/1.1\" 200 OK\n",
      "INFO:     127.0.0.1:39130 - \"POST /pose-estimate HTTP/1.1\" 200 OK\n"
     ]
    },
    {
     "name": "stderr",
     "output_type": "stream",
     "text": [
      "I0000 00:00:1725881146.584837   11994 gl_context_egl.cc:85] Successfully initialized EGL. Major : 1 Minor: 5\n",
      "I0000 00:00:1725881146.593565   12788 gl_context.cc:357] GL version: 3.2 (OpenGL ES 3.2 NVIDIA 535.146.02), renderer: NVIDIA GeForce RTX 3060/PCIe/SSE2\n",
      "W0000 00:00:1725881146.596199   12782 inference_feedback_manager.cc:114] Feedback manager requires a model with a single signature inference. Disabling support for feedback tensors.\n",
      "W0000 00:00:1725881146.606700   12778 inference_feedback_manager.cc:114] Feedback manager requires a model with a single signature inference. Disabling support for feedback tensors.\n",
      "I0000 00:00:1725881146.680306   11994 gl_context_egl.cc:85] Successfully initialized EGL. Major : 1 Minor: 5\n",
      "I0000 00:00:1725881146.688892   12802 gl_context.cc:357] GL version: 3.2 (OpenGL ES 3.2 NVIDIA 535.146.02), renderer: NVIDIA GeForce RTX 3060/PCIe/SSE2\n",
      "W0000 00:00:1725881146.691597   12793 inference_feedback_manager.cc:114] Feedback manager requires a model with a single signature inference. Disabling support for feedback tensors.\n",
      "W0000 00:00:1725881146.702639   12795 inference_feedback_manager.cc:114] Feedback manager requires a model with a single signature inference. Disabling support for feedback tensors.\n",
      "I0000 00:00:1725881146.770204   11994 gl_context_egl.cc:85] Successfully initialized EGL. Major : 1 Minor: 5\n",
      "I0000 00:00:1725881146.779069   12815 gl_context.cc:357] GL version: 3.2 (OpenGL ES 3.2 NVIDIA 535.146.02), renderer: NVIDIA GeForce RTX 3060/PCIe/SSE2\n",
      "W0000 00:00:1725881146.781288   12809 inference_feedback_manager.cc:114] Feedback manager requires a model with a single signature inference. Disabling support for feedback tensors.\n",
      "W0000 00:00:1725881146.792622   12805 inference_feedback_manager.cc:114] Feedback manager requires a model with a single signature inference. Disabling support for feedback tensors.\n"
     ]
    },
    {
     "name": "stdout",
     "output_type": "stream",
     "text": [
      "INFO:     127.0.0.1:39136 - \"POST /eye-tracking HTTP/1.1\" 200 OK\n",
      "INFO:     127.0.0.1:39140 - \"POST /pose-estimate HTTP/1.1\" 200 OK\n",
      "INFO:     127.0.0.1:39150 - \"POST /eye-tracking HTTP/1.1\" 200 OK\n",
      "INFO:     127.0.0.1:39156 - \"POST /pose-estimate HTTP/1.1\" 200 OK\n",
      "INFO:     127.0.0.1:39166 - \"POST /eye-tracking HTTP/1.1\" 200 OK\n",
      "INFO:     127.0.0.1:39170 - \"POST /pose-estimate HTTP/1.1\" 200 OK\n",
      "INFO:     127.0.0.1:36810 - \"POST /eye-tracking HTTP/1.1\" 200 OK\n"
     ]
    },
    {
     "name": "stderr",
     "output_type": "stream",
     "text": [
      "I0000 00:00:1725881146.863674   11994 gl_context_egl.cc:85] Successfully initialized EGL. Major : 1 Minor: 5\n",
      "I0000 00:00:1725881146.874435   12828 gl_context.cc:357] GL version: 3.2 (OpenGL ES 3.2 NVIDIA 535.146.02), renderer: NVIDIA GeForce RTX 3060/PCIe/SSE2\n",
      "W0000 00:00:1725881146.876157   12820 inference_feedback_manager.cc:114] Feedback manager requires a model with a single signature inference. Disabling support for feedback tensors.\n",
      "W0000 00:00:1725881146.883442   12817 inference_feedback_manager.cc:114] Feedback manager requires a model with a single signature inference. Disabling support for feedback tensors.\n",
      "I0000 00:00:1725881146.951399   11994 gl_context_egl.cc:85] Successfully initialized EGL. Major : 1 Minor: 5\n",
      "I0000 00:00:1725881146.960154   12841 gl_context.cc:357] GL version: 3.2 (OpenGL ES 3.2 NVIDIA 535.146.02), renderer: NVIDIA GeForce RTX 3060/PCIe/SSE2\n",
      "W0000 00:00:1725881146.962023   12835 inference_feedback_manager.cc:114] Feedback manager requires a model with a single signature inference. Disabling support for feedback tensors.\n",
      "W0000 00:00:1725881146.973210   12832 inference_feedback_manager.cc:114] Feedback manager requires a model with a single signature inference. Disabling support for feedback tensors.\n",
      "I0000 00:00:1725881147.040724   11994 gl_context_egl.cc:85] Successfully initialized EGL. Major : 1 Minor: 5\n",
      "I0000 00:00:1725881147.049444   12854 gl_context.cc:357] GL version: 3.2 (OpenGL ES 3.2 NVIDIA 535.146.02), renderer: NVIDIA GeForce RTX 3060/PCIe/SSE2\n",
      "W0000 00:00:1725881147.052238   12844 inference_feedback_manager.cc:114] Feedback manager requires a model with a single signature inference. Disabling support for feedback tensors.\n",
      "W0000 00:00:1725881147.063411   12852 inference_feedback_manager.cc:114] Feedback manager requires a model with a single signature inference. Disabling support for feedback tensors.\n"
     ]
    },
    {
     "name": "stdout",
     "output_type": "stream",
     "text": [
      "INFO:     127.0.0.1:36824 - \"POST /pose-estimate HTTP/1.1\" 200 OK\n",
      "INFO:     127.0.0.1:36840 - \"POST /eye-tracking HTTP/1.1\" 200 OK\n",
      "INFO:     127.0.0.1:36844 - \"POST /pose-estimate HTTP/1.1\" 200 OK\n",
      "INFO:     127.0.0.1:36860 - \"POST /eye-tracking HTTP/1.1\" 200 OK\n",
      "INFO:     127.0.0.1:36868 - \"POST /pose-estimate HTTP/1.1\" 200 OK\n"
     ]
    },
    {
     "name": "stderr",
     "output_type": "stream",
     "text": [
      "I0000 00:00:1725881147.132350   11994 gl_context_egl.cc:85] Successfully initialized EGL. Major : 1 Minor: 5\n",
      "I0000 00:00:1725881147.141303   12867 gl_context.cc:357] GL version: 3.2 (OpenGL ES 3.2 NVIDIA 535.146.02), renderer: NVIDIA GeForce RTX 3060/PCIe/SSE2\n",
      "W0000 00:00:1725881147.144080   12857 inference_feedback_manager.cc:114] Feedback manager requires a model with a single signature inference. Disabling support for feedback tensors.\n",
      "W0000 00:00:1725881147.154360   12863 inference_feedback_manager.cc:114] Feedback manager requires a model with a single signature inference. Disabling support for feedback tensors.\n",
      "I0000 00:00:1725881147.224557   11994 gl_context_egl.cc:85] Successfully initialized EGL. Major : 1 Minor: 5\n",
      "I0000 00:00:1725881147.233442   12880 gl_context.cc:357] GL version: 3.2 (OpenGL ES 3.2 NVIDIA 535.146.02), renderer: NVIDIA GeForce RTX 3060/PCIe/SSE2\n",
      "W0000 00:00:1725881147.235753   12869 inference_feedback_manager.cc:114] Feedback manager requires a model with a single signature inference. Disabling support for feedback tensors.\n",
      "W0000 00:00:1725881147.247179   12874 inference_feedback_manager.cc:114] Feedback manager requires a model with a single signature inference. Disabling support for feedback tensors.\n",
      "I0000 00:00:1725881147.317058   11994 gl_context_egl.cc:85] Successfully initialized EGL. Major : 1 Minor: 5\n",
      "I0000 00:00:1725881147.327723   12893 gl_context.cc:357] GL version: 3.2 (OpenGL ES 3.2 NVIDIA 535.146.02), renderer: NVIDIA GeForce RTX 3060/PCIe/SSE2\n",
      "W0000 00:00:1725881147.330450   12885 inference_feedback_manager.cc:114] Feedback manager requires a model with a single signature inference. Disabling support for feedback tensors.\n",
      "W0000 00:00:1725881147.341126   12884 inference_feedback_manager.cc:114] Feedback manager requires a model with a single signature inference. Disabling support for feedback tensors.\n"
     ]
    },
    {
     "name": "stdout",
     "output_type": "stream",
     "text": [
      "INFO:     127.0.0.1:36882 - \"POST /eye-tracking HTTP/1.1\" 200 OK\n",
      "INFO:     127.0.0.1:36890 - \"POST /pose-estimate HTTP/1.1\" 200 OK\n",
      "INFO:     127.0.0.1:36902 - \"POST /eye-tracking HTTP/1.1\" 200 OK\n",
      "INFO:     127.0.0.1:36912 - \"POST /pose-estimate HTTP/1.1\" 200 OK\n",
      "INFO:     127.0.0.1:36926 - \"POST /eye-tracking HTTP/1.1\" 200 OK\n",
      "INFO:     127.0.0.1:36928 - \"POST /pose-estimate HTTP/1.1\" 200 OK\n"
     ]
    },
    {
     "name": "stderr",
     "output_type": "stream",
     "text": [
      "I0000 00:00:1725881147.409591   11994 gl_context_egl.cc:85] Successfully initialized EGL. Major : 1 Minor: 5\n",
      "I0000 00:00:1725881147.418382   12906 gl_context.cc:357] GL version: 3.2 (OpenGL ES 3.2 NVIDIA 535.146.02), renderer: NVIDIA GeForce RTX 3060/PCIe/SSE2\n",
      "W0000 00:00:1725881147.420585   12897 inference_feedback_manager.cc:114] Feedback manager requires a model with a single signature inference. Disabling support for feedback tensors.\n",
      "W0000 00:00:1725881147.432255   12903 inference_feedback_manager.cc:114] Feedback manager requires a model with a single signature inference. Disabling support for feedback tensors.\n",
      "I0000 00:00:1725881147.502637   11994 gl_context_egl.cc:85] Successfully initialized EGL. Major : 1 Minor: 5\n",
      "I0000 00:00:1725881147.512737   12919 gl_context.cc:357] GL version: 3.2 (OpenGL ES 3.2 NVIDIA 535.146.02), renderer: NVIDIA GeForce RTX 3060/PCIe/SSE2\n",
      "W0000 00:00:1725881147.515365   12908 inference_feedback_manager.cc:114] Feedback manager requires a model with a single signature inference. Disabling support for feedback tensors.\n",
      "W0000 00:00:1725881147.526029   12909 inference_feedback_manager.cc:114] Feedback manager requires a model with a single signature inference. Disabling support for feedback tensors.\n",
      "I0000 00:00:1725881147.597590   11994 gl_context_egl.cc:85] Successfully initialized EGL. Major : 1 Minor: 5\n",
      "I0000 00:00:1725881147.606652   12932 gl_context.cc:357] GL version: 3.2 (OpenGL ES 3.2 NVIDIA 535.146.02), renderer: NVIDIA GeForce RTX 3060/PCIe/SSE2\n",
      "W0000 00:00:1725881147.609561   12930 inference_feedback_manager.cc:114] Feedback manager requires a model with a single signature inference. Disabling support for feedback tensors.\n"
     ]
    },
    {
     "name": "stdout",
     "output_type": "stream",
     "text": [
      "INFO:     127.0.0.1:36944 - \"POST /eye-tracking HTTP/1.1\" 200 OK\n",
      "INFO:     127.0.0.1:36958 - \"POST /pose-estimate HTTP/1.1\" 200 OK\n",
      "INFO:     127.0.0.1:36960 - \"POST /eye-tracking HTTP/1.1\" 200 OK\n",
      "INFO:     127.0.0.1:36968 - \"POST /pose-estimate HTTP/1.1\" 200 OK\n",
      "INFO:     127.0.0.1:36980 - \"POST /eye-tracking HTTP/1.1\" 200 OK\n"
     ]
    },
    {
     "name": "stderr",
     "output_type": "stream",
     "text": [
      "W0000 00:00:1725881147.620751   12929 inference_feedback_manager.cc:114] Feedback manager requires a model with a single signature inference. Disabling support for feedback tensors.\n",
      "I0000 00:00:1725881147.689394   11994 gl_context_egl.cc:85] Successfully initialized EGL. Major : 1 Minor: 5\n",
      "I0000 00:00:1725881147.703159   12945 gl_context.cc:357] GL version: 3.2 (OpenGL ES 3.2 NVIDIA 535.146.02), renderer: NVIDIA GeForce RTX 3060/PCIe/SSE2\n",
      "W0000 00:00:1725881147.705792   12935 inference_feedback_manager.cc:114] Feedback manager requires a model with a single signature inference. Disabling support for feedback tensors.\n",
      "W0000 00:00:1725881147.717292   12942 inference_feedback_manager.cc:114] Feedback manager requires a model with a single signature inference. Disabling support for feedback tensors.\n",
      "I0000 00:00:1725881147.787813   11994 gl_context_egl.cc:85] Successfully initialized EGL. Major : 1 Minor: 5\n",
      "I0000 00:00:1725881147.796973   12958 gl_context.cc:357] GL version: 3.2 (OpenGL ES 3.2 NVIDIA 535.146.02), renderer: NVIDIA GeForce RTX 3060/PCIe/SSE2\n",
      "W0000 00:00:1725881147.799631   12952 inference_feedback_manager.cc:114] Feedback manager requires a model with a single signature inference. Disabling support for feedback tensors.\n",
      "W0000 00:00:1725881147.810436   12954 inference_feedback_manager.cc:114] Feedback manager requires a model with a single signature inference. Disabling support for feedback tensors.\n"
     ]
    },
    {
     "name": "stdout",
     "output_type": "stream",
     "text": [
      "INFO:     127.0.0.1:36982 - \"POST /pose-estimate HTTP/1.1\" 200 OK\n",
      "INFO:     127.0.0.1:36994 - \"POST /eye-tracking HTTP/1.1\" 200 OK\n",
      "INFO:     127.0.0.1:37004 - \"POST /pose-estimate HTTP/1.1\" 200 OK\n",
      "INFO:     127.0.0.1:37012 - \"POST /eye-tracking HTTP/1.1\" 200 OK\n",
      "INFO:     127.0.0.1:37028 - \"POST /pose-estimate HTTP/1.1\" 200 OK\n"
     ]
    },
    {
     "name": "stderr",
     "output_type": "stream",
     "text": [
      "I0000 00:00:1725881147.878124   11994 gl_context_egl.cc:85] Successfully initialized EGL. Major : 1 Minor: 5\n",
      "I0000 00:00:1725881147.888088   12971 gl_context.cc:357] GL version: 3.2 (OpenGL ES 3.2 NVIDIA 535.146.02), renderer: NVIDIA GeForce RTX 3060/PCIe/SSE2\n",
      "W0000 00:00:1725881147.890962   12963 inference_feedback_manager.cc:114] Feedback manager requires a model with a single signature inference. Disabling support for feedback tensors.\n",
      "W0000 00:00:1725881147.901399   12959 inference_feedback_manager.cc:114] Feedback manager requires a model with a single signature inference. Disabling support for feedback tensors.\n",
      "I0000 00:00:1725881147.970249   11994 gl_context_egl.cc:85] Successfully initialized EGL. Major : 1 Minor: 5\n",
      "I0000 00:00:1725881147.979601   12984 gl_context.cc:357] GL version: 3.2 (OpenGL ES 3.2 NVIDIA 535.146.02), renderer: NVIDIA GeForce RTX 3060/PCIe/SSE2\n",
      "W0000 00:00:1725881147.983205   12974 inference_feedback_manager.cc:114] Feedback manager requires a model with a single signature inference. Disabling support for feedback tensors.\n",
      "W0000 00:00:1725881147.995131   12978 inference_feedback_manager.cc:114] Feedback manager requires a model with a single signature inference. Disabling support for feedback tensors.\n",
      "I0000 00:00:1725881148.065253   11994 gl_context_egl.cc:85] Successfully initialized EGL. Major : 1 Minor: 5\n",
      "I0000 00:00:1725881148.074142   12997 gl_context.cc:357] GL version: 3.2 (OpenGL ES 3.2 NVIDIA 535.146.02), renderer: NVIDIA GeForce RTX 3060/PCIe/SSE2\n",
      "W0000 00:00:1725881148.076954   12985 inference_feedback_manager.cc:114] Feedback manager requires a model with a single signature inference. Disabling support for feedback tensors.\n",
      "W0000 00:00:1725881148.087449   12986 inference_feedback_manager.cc:114] Feedback manager requires a model with a single signature inference. Disabling support for feedback tensors.\n"
     ]
    },
    {
     "name": "stdout",
     "output_type": "stream",
     "text": [
      "INFO:     127.0.0.1:37044 - \"POST /eye-tracking HTTP/1.1\" 200 OK\n",
      "INFO:     127.0.0.1:37060 - \"POST /pose-estimate HTTP/1.1\" 200 OK\n",
      "INFO:     127.0.0.1:37074 - \"POST /eye-tracking HTTP/1.1\" 200 OK\n",
      "INFO:     127.0.0.1:37084 - \"POST /pose-estimate HTTP/1.1\" 200 OK\n",
      "INFO:     127.0.0.1:37092 - \"POST /eye-tracking HTTP/1.1\" 200 OK\n",
      "INFO:     127.0.0.1:37096 - \"POST /pose-estimate HTTP/1.1\" 200 OK\n",
      "INFO:     127.0.0.1:37102 - \"POST /eye-tracking HTTP/1.1\" 200 OK\n"
     ]
    },
    {
     "name": "stderr",
     "output_type": "stream",
     "text": [
      "I0000 00:00:1725881148.158096   11994 gl_context_egl.cc:85] Successfully initialized EGL. Major : 1 Minor: 5\n",
      "I0000 00:00:1725881148.167490   13010 gl_context.cc:357] GL version: 3.2 (OpenGL ES 3.2 NVIDIA 535.146.02), renderer: NVIDIA GeForce RTX 3060/PCIe/SSE2\n",
      "W0000 00:00:1725881148.169898   13004 inference_feedback_manager.cc:114] Feedback manager requires a model with a single signature inference. Disabling support for feedback tensors.\n",
      "W0000 00:00:1725881148.180671   13001 inference_feedback_manager.cc:114] Feedback manager requires a model with a single signature inference. Disabling support for feedback tensors.\n",
      "I0000 00:00:1725881148.248667   11994 gl_context_egl.cc:85] Successfully initialized EGL. Major : 1 Minor: 5\n",
      "I0000 00:00:1725881148.258180   13023 gl_context.cc:357] GL version: 3.2 (OpenGL ES 3.2 NVIDIA 535.146.02), renderer: NVIDIA GeForce RTX 3060/PCIe/SSE2\n",
      "W0000 00:00:1725881148.259721   13017 inference_feedback_manager.cc:114] Feedback manager requires a model with a single signature inference. Disabling support for feedback tensors.\n",
      "W0000 00:00:1725881148.266156   13011 inference_feedback_manager.cc:114] Feedback manager requires a model with a single signature inference. Disabling support for feedback tensors.\n",
      "I0000 00:00:1725881148.334366   11994 gl_context_egl.cc:85] Successfully initialized EGL. Major : 1 Minor: 5\n",
      "I0000 00:00:1725881148.344829   13036 gl_context.cc:357] GL version: 3.2 (OpenGL ES 3.2 NVIDIA 535.146.02), renderer: NVIDIA GeForce RTX 3060/PCIe/SSE2\n",
      "W0000 00:00:1725881148.347176   13028 inference_feedback_manager.cc:114] Feedback manager requires a model with a single signature inference. Disabling support for feedback tensors.\n",
      "W0000 00:00:1725881148.357867   13026 inference_feedback_manager.cc:114] Feedback manager requires a model with a single signature inference. Disabling support for feedback tensors.\n"
     ]
    },
    {
     "name": "stdout",
     "output_type": "stream",
     "text": [
      "INFO:     127.0.0.1:37104 - \"POST /pose-estimate HTTP/1.1\" 200 OK\n",
      "INFO:     127.0.0.1:37116 - \"POST /eye-tracking HTTP/1.1\" 200 OK\n",
      "INFO:     127.0.0.1:37132 - \"POST /pose-estimate HTTP/1.1\" 200 OK\n",
      "INFO:     127.0.0.1:37148 - \"POST /eye-tracking HTTP/1.1\" 200 OK\n",
      "INFO:     127.0.0.1:37162 - \"POST /pose-estimate HTTP/1.1\" 200 OK\n"
     ]
    },
    {
     "name": "stderr",
     "output_type": "stream",
     "text": [
      "I0000 00:00:1725881148.428771   11994 gl_context_egl.cc:85] Successfully initialized EGL. Major : 1 Minor: 5\n",
      "I0000 00:00:1725881148.438053   13049 gl_context.cc:357] GL version: 3.2 (OpenGL ES 3.2 NVIDIA 535.146.02), renderer: NVIDIA GeForce RTX 3060/PCIe/SSE2\n",
      "W0000 00:00:1725881148.440722   13039 inference_feedback_manager.cc:114] Feedback manager requires a model with a single signature inference. Disabling support for feedback tensors.\n",
      "W0000 00:00:1725881148.452288   13045 inference_feedback_manager.cc:114] Feedback manager requires a model with a single signature inference. Disabling support for feedback tensors.\n",
      "I0000 00:00:1725881148.522130   11994 gl_context_egl.cc:85] Successfully initialized EGL. Major : 1 Minor: 5\n",
      "I0000 00:00:1725881148.531685   13062 gl_context.cc:357] GL version: 3.2 (OpenGL ES 3.2 NVIDIA 535.146.02), renderer: NVIDIA GeForce RTX 3060/PCIe/SSE2\n",
      "W0000 00:00:1725881148.533316   13050 inference_feedback_manager.cc:114] Feedback manager requires a model with a single signature inference. Disabling support for feedback tensors.\n",
      "W0000 00:00:1725881148.544771   13051 inference_feedback_manager.cc:114] Feedback manager requires a model with a single signature inference. Disabling support for feedback tensors.\n",
      "I0000 00:00:1725881148.616159   11994 gl_context_egl.cc:85] Successfully initialized EGL. Major : 1 Minor: 5\n",
      "I0000 00:00:1725881148.626715   13075 gl_context.cc:357] GL version: 3.2 (OpenGL ES 3.2 NVIDIA 535.146.02), renderer: NVIDIA GeForce RTX 3060/PCIe/SSE2\n",
      "W0000 00:00:1725881148.629284   13064 inference_feedback_manager.cc:114] Feedback manager requires a model with a single signature inference. Disabling support for feedback tensors.\n"
     ]
    },
    {
     "name": "stdout",
     "output_type": "stream",
     "text": [
      "INFO:     127.0.0.1:37178 - \"POST /eye-tracking HTTP/1.1\" 200 OK\n",
      "INFO:     127.0.0.1:37182 - \"POST /pose-estimate HTTP/1.1\" 200 OK\n",
      "INFO:     127.0.0.1:37186 - \"POST /eye-tracking HTTP/1.1\" 200 OK\n",
      "INFO:     127.0.0.1:37200 - \"POST /pose-estimate HTTP/1.1\" 200 OK\n",
      "INFO:     127.0.0.1:37204 - \"POST /eye-tracking HTTP/1.1\" 200 OK\n"
     ]
    },
    {
     "name": "stderr",
     "output_type": "stream",
     "text": [
      "W0000 00:00:1725881148.639873   13066 inference_feedback_manager.cc:114] Feedback manager requires a model with a single signature inference. Disabling support for feedback tensors.\n",
      "I0000 00:00:1725881148.708402   11994 gl_context_egl.cc:85] Successfully initialized EGL. Major : 1 Minor: 5\n",
      "I0000 00:00:1725881148.717619   13089 gl_context.cc:357] GL version: 3.2 (OpenGL ES 3.2 NVIDIA 535.146.02), renderer: NVIDIA GeForce RTX 3060/PCIe/SSE2\n",
      "W0000 00:00:1725881148.719988   13077 inference_feedback_manager.cc:114] Feedback manager requires a model with a single signature inference. Disabling support for feedback tensors.\n",
      "W0000 00:00:1725881148.730806   13078 inference_feedback_manager.cc:114] Feedback manager requires a model with a single signature inference. Disabling support for feedback tensors.\n",
      "I0000 00:00:1725881148.800984   11994 gl_context_egl.cc:85] Successfully initialized EGL. Major : 1 Minor: 5\n",
      "I0000 00:00:1725881148.810145   13102 gl_context.cc:357] GL version: 3.2 (OpenGL ES 3.2 NVIDIA 535.146.02), renderer: NVIDIA GeForce RTX 3060/PCIe/SSE2\n",
      "W0000 00:00:1725881148.812949   13090 inference_feedback_manager.cc:114] Feedback manager requires a model with a single signature inference. Disabling support for feedback tensors.\n",
      "W0000 00:00:1725881148.823541   13091 inference_feedback_manager.cc:114] Feedback manager requires a model with a single signature inference. Disabling support for feedback tensors.\n"
     ]
    },
    {
     "name": "stdout",
     "output_type": "stream",
     "text": [
      "INFO:     127.0.0.1:37214 - \"POST /pose-estimate HTTP/1.1\" 200 OK\n",
      "INFO:     127.0.0.1:37226 - \"POST /eye-tracking HTTP/1.1\" 200 OK\n",
      "INFO:     127.0.0.1:37240 - \"POST /pose-estimate HTTP/1.1\" 200 OK\n",
      "INFO:     127.0.0.1:37242 - \"POST /eye-tracking HTTP/1.1\" 200 OK\n",
      "INFO:     127.0.0.1:37258 - \"POST /pose-estimate HTTP/1.1\" 200 OK\n",
      "INFO:     127.0.0.1:37268 - \"POST /eye-tracking HTTP/1.1\" 200 OK\n"
     ]
    },
    {
     "name": "stderr",
     "output_type": "stream",
     "text": [
      "I0000 00:00:1725881148.894254   11994 gl_context_egl.cc:85] Successfully initialized EGL. Major : 1 Minor: 5\n",
      "I0000 00:00:1725881148.903280   13115 gl_context.cc:357] GL version: 3.2 (OpenGL ES 3.2 NVIDIA 535.146.02), renderer: NVIDIA GeForce RTX 3060/PCIe/SSE2\n",
      "W0000 00:00:1725881148.904929   13108 inference_feedback_manager.cc:114] Feedback manager requires a model with a single signature inference. Disabling support for feedback tensors.\n",
      "W0000 00:00:1725881148.916331   13104 inference_feedback_manager.cc:114] Feedback manager requires a model with a single signature inference. Disabling support for feedback tensors.\n",
      "I0000 00:00:1725881148.985743   11994 gl_context_egl.cc:85] Successfully initialized EGL. Major : 1 Minor: 5\n",
      "I0000 00:00:1725881148.994997   13128 gl_context.cc:357] GL version: 3.2 (OpenGL ES 3.2 NVIDIA 535.146.02), renderer: NVIDIA GeForce RTX 3060/PCIe/SSE2\n",
      "W0000 00:00:1725881148.997618   13118 inference_feedback_manager.cc:114] Feedback manager requires a model with a single signature inference. Disabling support for feedback tensors.\n",
      "W0000 00:00:1725881149.003673   13119 inference_feedback_manager.cc:114] Feedback manager requires a model with a single signature inference. Disabling support for feedback tensors.\n",
      "I0000 00:00:1725881149.074352   11994 gl_context_egl.cc:85] Successfully initialized EGL. Major : 1 Minor: 5\n",
      "I0000 00:00:1725881149.083791   13141 gl_context.cc:357] GL version: 3.2 (OpenGL ES 3.2 NVIDIA 535.146.02), renderer: NVIDIA GeForce RTX 3060/PCIe/SSE2\n",
      "W0000 00:00:1725881149.086566   13129 inference_feedback_manager.cc:114] Feedback manager requires a model with a single signature inference. Disabling support for feedback tensors.\n",
      "W0000 00:00:1725881149.097157   13131 inference_feedback_manager.cc:114] Feedback manager requires a model with a single signature inference. Disabling support for feedback tensors.\n"
     ]
    },
    {
     "name": "stdout",
     "output_type": "stream",
     "text": [
      "INFO:     127.0.0.1:37274 - \"POST /pose-estimate HTTP/1.1\" 200 OK\n",
      "INFO:     127.0.0.1:37288 - \"POST /eye-tracking HTTP/1.1\" 200 OK\n",
      "INFO:     127.0.0.1:37296 - \"POST /pose-estimate HTTP/1.1\" 200 OK\n",
      "INFO:     127.0.0.1:37312 - \"POST /eye-tracking HTTP/1.1\" 200 OK\n",
      "INFO:     127.0.0.1:37322 - \"POST /pose-estimate HTTP/1.1\" 200 OK\n"
     ]
    },
    {
     "name": "stderr",
     "output_type": "stream",
     "text": [
      "I0000 00:00:1725881149.165041   11994 gl_context_egl.cc:85] Successfully initialized EGL. Major : 1 Minor: 5\n",
      "I0000 00:00:1725881149.174756   13154 gl_context.cc:357] GL version: 3.2 (OpenGL ES 3.2 NVIDIA 535.146.02), renderer: NVIDIA GeForce RTX 3060/PCIe/SSE2\n",
      "W0000 00:00:1725881149.178511   13145 inference_feedback_manager.cc:114] Feedback manager requires a model with a single signature inference. Disabling support for feedback tensors.\n",
      "W0000 00:00:1725881149.189706   13144 inference_feedback_manager.cc:114] Feedback manager requires a model with a single signature inference. Disabling support for feedback tensors.\n",
      "I0000 00:00:1725881149.259871   11994 gl_context_egl.cc:85] Successfully initialized EGL. Major : 1 Minor: 5\n",
      "I0000 00:00:1725881149.300689   13167 gl_context.cc:357] GL version: 3.2 (OpenGL ES 3.2 NVIDIA 535.146.02), renderer: NVIDIA GeForce RTX 3060/PCIe/SSE2\n",
      "W0000 00:00:1725881149.303502   13156 inference_feedback_manager.cc:114] Feedback manager requires a model with a single signature inference. Disabling support for feedback tensors.\n",
      "W0000 00:00:1725881149.313994   13155 inference_feedback_manager.cc:114] Feedback manager requires a model with a single signature inference. Disabling support for feedback tensors.\n"
     ]
    },
    {
     "name": "stdout",
     "output_type": "stream",
     "text": [
      "INFO:     127.0.0.1:37328 - \"POST /eye-tracking HTTP/1.1\" 200 OK\n",
      "INFO:     127.0.0.1:37336 - \"POST /pose-estimate HTTP/1.1\" 200 OK\n",
      "INFO:     127.0.0.1:37344 - \"POST /eye-tracking HTTP/1.1\" 200 OK\n",
      "INFO:     127.0.0.1:37360 - \"POST /pose-estimate HTTP/1.1\" 200 OK\n"
     ]
    },
    {
     "name": "stderr",
     "output_type": "stream",
     "text": [
      "I0000 00:00:1725881149.383939   11994 gl_context_egl.cc:85] Successfully initialized EGL. Major : 1 Minor: 5\n",
      "I0000 00:00:1725881149.393484   13180 gl_context.cc:357] GL version: 3.2 (OpenGL ES 3.2 NVIDIA 535.146.02), renderer: NVIDIA GeForce RTX 3060/PCIe/SSE2\n",
      "W0000 00:00:1725881149.396364   13168 inference_feedback_manager.cc:114] Feedback manager requires a model with a single signature inference. Disabling support for feedback tensors.\n",
      "W0000 00:00:1725881149.406836   13169 inference_feedback_manager.cc:114] Feedback manager requires a model with a single signature inference. Disabling support for feedback tensors.\n",
      "I0000 00:00:1725881149.476367   11994 gl_context_egl.cc:85] Successfully initialized EGL. Major : 1 Minor: 5\n",
      "I0000 00:00:1725881149.486708   13193 gl_context.cc:357] GL version: 3.2 (OpenGL ES 3.2 NVIDIA 535.146.02), renderer: NVIDIA GeForce RTX 3060/PCIe/SSE2\n",
      "W0000 00:00:1725881149.488248   13183 inference_feedback_manager.cc:114] Feedback manager requires a model with a single signature inference. Disabling support for feedback tensors.\n",
      "W0000 00:00:1725881149.499789   13185 inference_feedback_manager.cc:114] Feedback manager requires a model with a single signature inference. Disabling support for feedback tensors.\n",
      "I0000 00:00:1725881149.570799   11994 gl_context_egl.cc:85] Successfully initialized EGL. Major : 1 Minor: 5\n",
      "I0000 00:00:1725881149.580281   13206 gl_context.cc:357] GL version: 3.2 (OpenGL ES 3.2 NVIDIA 535.146.02), renderer: NVIDIA GeForce RTX 3060/PCIe/SSE2\n",
      "W0000 00:00:1725881149.583018   13198 inference_feedback_manager.cc:114] Feedback manager requires a model with a single signature inference. Disabling support for feedback tensors.\n",
      "W0000 00:00:1725881149.593639   13194 inference_feedback_manager.cc:114] Feedback manager requires a model with a single signature inference. Disabling support for feedback tensors.\n"
     ]
    },
    {
     "name": "stdout",
     "output_type": "stream",
     "text": [
      "INFO:     127.0.0.1:37362 - \"POST /eye-tracking HTTP/1.1\" 200 OK\n",
      "INFO:     127.0.0.1:37376 - \"POST /pose-estimate HTTP/1.1\" 200 OK\n",
      "INFO:     127.0.0.1:37382 - \"POST /eye-tracking HTTP/1.1\" 200 OK\n",
      "INFO:     127.0.0.1:37394 - \"POST /pose-estimate HTTP/1.1\" 200 OK\n",
      "INFO:     127.0.0.1:37398 - \"POST /eye-tracking HTTP/1.1\" 200 OK\n",
      "INFO:     127.0.0.1:37414 - \"POST /pose-estimate HTTP/1.1\" 200 OK\n",
      "INFO:     127.0.0.1:37424 - \"POST /eye-tracking HTTP/1.1\" 200 OK\n"
     ]
    },
    {
     "name": "stderr",
     "output_type": "stream",
     "text": [
      "I0000 00:00:1725881149.664580   11994 gl_context_egl.cc:85] Successfully initialized EGL. Major : 1 Minor: 5\n",
      "I0000 00:00:1725881149.674080   13219 gl_context.cc:357] GL version: 3.2 (OpenGL ES 3.2 NVIDIA 535.146.02), renderer: NVIDIA GeForce RTX 3060/PCIe/SSE2\n",
      "W0000 00:00:1725881149.675733   13209 inference_feedback_manager.cc:114] Feedback manager requires a model with a single signature inference. Disabling support for feedback tensors.\n",
      "W0000 00:00:1725881149.682177   13210 inference_feedback_manager.cc:114] Feedback manager requires a model with a single signature inference. Disabling support for feedback tensors.\n",
      "I0000 00:00:1725881149.752354   11994 gl_context_egl.cc:85] Successfully initialized EGL. Major : 1 Minor: 5\n",
      "I0000 00:00:1725881149.761975   13232 gl_context.cc:357] GL version: 3.2 (OpenGL ES 3.2 NVIDIA 535.146.02), renderer: NVIDIA GeForce RTX 3060/PCIe/SSE2\n",
      "W0000 00:00:1725881149.764696   13225 inference_feedback_manager.cc:114] Feedback manager requires a model with a single signature inference. Disabling support for feedback tensors.\n",
      "W0000 00:00:1725881149.775394   13222 inference_feedback_manager.cc:114] Feedback manager requires a model with a single signature inference. Disabling support for feedback tensors.\n",
      "I0000 00:00:1725881149.844830   11994 gl_context_egl.cc:85] Successfully initialized EGL. Major : 1 Minor: 5\n",
      "I0000 00:00:1725881149.854497   13245 gl_context.cc:357] GL version: 3.2 (OpenGL ES 3.2 NVIDIA 535.146.02), renderer: NVIDIA GeForce RTX 3060/PCIe/SSE2\n",
      "W0000 00:00:1725881149.857226   13237 inference_feedback_manager.cc:114] Feedback manager requires a model with a single signature inference. Disabling support for feedback tensors.\n",
      "W0000 00:00:1725881149.868137   13241 inference_feedback_manager.cc:114] Feedback manager requires a model with a single signature inference. Disabling support for feedback tensors.\n"
     ]
    },
    {
     "name": "stdout",
     "output_type": "stream",
     "text": [
      "INFO:     127.0.0.1:37440 - \"POST /pose-estimate HTTP/1.1\" 200 OK\n",
      "INFO:     127.0.0.1:37452 - \"POST /eye-tracking HTTP/1.1\" 200 OK\n",
      "INFO:     127.0.0.1:37466 - \"POST /pose-estimate HTTP/1.1\" 200 OK\n",
      "INFO:     127.0.0.1:37474 - \"POST /eye-tracking HTTP/1.1\" 200 OK\n",
      "INFO:     127.0.0.1:37488 - \"POST /pose-estimate HTTP/1.1\" 200 OK\n",
      "INFO:     127.0.0.1:37496 - \"POST /eye-tracking HTTP/1.1\" 200 OK\n"
     ]
    },
    {
     "name": "stderr",
     "output_type": "stream",
     "text": [
      "I0000 00:00:1725881149.937060   11994 gl_context_egl.cc:85] Successfully initialized EGL. Major : 1 Minor: 5\n",
      "I0000 00:00:1725881149.946727   13258 gl_context.cc:357] GL version: 3.2 (OpenGL ES 3.2 NVIDIA 535.146.02), renderer: NVIDIA GeForce RTX 3060/PCIe/SSE2\n",
      "W0000 00:00:1725881149.949085   13254 inference_feedback_manager.cc:114] Feedback manager requires a model with a single signature inference. Disabling support for feedback tensors.\n",
      "W0000 00:00:1725881149.959935   13248 inference_feedback_manager.cc:114] Feedback manager requires a model with a single signature inference. Disabling support for feedback tensors.\n",
      "I0000 00:00:1725881150.029661   11994 gl_context_egl.cc:85] Successfully initialized EGL. Major : 1 Minor: 5\n",
      "I0000 00:00:1725881150.039477   13271 gl_context.cc:357] GL version: 3.2 (OpenGL ES 3.2 NVIDIA 535.146.02), renderer: NVIDIA GeForce RTX 3060/PCIe/SSE2\n",
      "W0000 00:00:1725881150.041721   13260 inference_feedback_manager.cc:114] Feedback manager requires a model with a single signature inference. Disabling support for feedback tensors.\n",
      "W0000 00:00:1725881150.052561   13261 inference_feedback_manager.cc:114] Feedback manager requires a model with a single signature inference. Disabling support for feedback tensors.\n",
      "I0000 00:00:1725881150.120254   11994 gl_context_egl.cc:85] Successfully initialized EGL. Major : 1 Minor: 5\n",
      "I0000 00:00:1725881150.129825   13285 gl_context.cc:357] GL version: 3.2 (OpenGL ES 3.2 NVIDIA 535.146.02), renderer: NVIDIA GeForce RTX 3060/PCIe/SSE2\n",
      "W0000 00:00:1725881150.132522   13276 inference_feedback_manager.cc:114] Feedback manager requires a model with a single signature inference. Disabling support for feedback tensors.\n",
      "W0000 00:00:1725881150.143415   13282 inference_feedback_manager.cc:114] Feedback manager requires a model with a single signature inference. Disabling support for feedback tensors.\n"
     ]
    },
    {
     "name": "stdout",
     "output_type": "stream",
     "text": [
      "INFO:     127.0.0.1:37512 - \"POST /pose-estimate HTTP/1.1\" 200 OK\n",
      "INFO:     127.0.0.1:37520 - \"POST /eye-tracking HTTP/1.1\" 200 OK\n",
      "INFO:     127.0.0.1:37526 - \"POST /pose-estimate HTTP/1.1\" 200 OK\n",
      "INFO:     127.0.0.1:37534 - \"POST /eye-tracking HTTP/1.1\" 200 OK\n",
      "INFO:     127.0.0.1:37550 - \"POST /pose-estimate HTTP/1.1\" 200 OK\n"
     ]
    },
    {
     "name": "stderr",
     "output_type": "stream",
     "text": [
      "I0000 00:00:1725881150.209829   11994 gl_context_egl.cc:85] Successfully initialized EGL. Major : 1 Minor: 5\n",
      "I0000 00:00:1725881150.219585   13300 gl_context.cc:357] GL version: 3.2 (OpenGL ES 3.2 NVIDIA 535.146.02), renderer: NVIDIA GeForce RTX 3060/PCIe/SSE2\n",
      "W0000 00:00:1725881150.222417   13291 inference_feedback_manager.cc:114] Feedback manager requires a model with a single signature inference. Disabling support for feedback tensors.\n",
      "W0000 00:00:1725881150.232719   13288 inference_feedback_manager.cc:114] Feedback manager requires a model with a single signature inference. Disabling support for feedback tensors.\n",
      "I0000 00:00:1725881150.303036   11994 gl_context_egl.cc:85] Successfully initialized EGL. Major : 1 Minor: 5\n",
      "I0000 00:00:1725881150.314013   13313 gl_context.cc:357] GL version: 3.2 (OpenGL ES 3.2 NVIDIA 535.146.02), renderer: NVIDIA GeForce RTX 3060/PCIe/SSE2\n",
      "W0000 00:00:1725881150.315545   13302 inference_feedback_manager.cc:114] Feedback manager requires a model with a single signature inference. Disabling support for feedback tensors.\n",
      "W0000 00:00:1725881150.323991   13303 inference_feedback_manager.cc:114] Feedback manager requires a model with a single signature inference. Disabling support for feedback tensors.\n",
      "I0000 00:00:1725881150.393728   11994 gl_context_egl.cc:85] Successfully initialized EGL. Major : 1 Minor: 5\n",
      "I0000 00:00:1725881150.403502   13326 gl_context.cc:357] GL version: 3.2 (OpenGL ES 3.2 NVIDIA 535.146.02), renderer: NVIDIA GeForce RTX 3060/PCIe/SSE2\n",
      "W0000 00:00:1725881150.406338   13314 inference_feedback_manager.cc:114] Feedback manager requires a model with a single signature inference. Disabling support for feedback tensors.\n",
      "W0000 00:00:1725881150.417372   13318 inference_feedback_manager.cc:114] Feedback manager requires a model with a single signature inference. Disabling support for feedback tensors.\n"
     ]
    },
    {
     "name": "stdout",
     "output_type": "stream",
     "text": [
      "INFO:     127.0.0.1:37552 - \"POST /eye-tracking HTTP/1.1\" 200 OK\n",
      "INFO:     127.0.0.1:37554 - \"POST /pose-estimate HTTP/1.1\" 200 OK\n",
      "INFO:     127.0.0.1:37560 - \"POST /eye-tracking HTTP/1.1\" 200 OK\n",
      "INFO:     127.0.0.1:37566 - \"POST /pose-estimate HTTP/1.1\" 200 OK\n",
      "INFO:     127.0.0.1:37576 - \"POST /eye-tracking HTTP/1.1\" 200 OK\n",
      "INFO:     127.0.0.1:37584 - \"POST /pose-estimate HTTP/1.1\" 200 OK\n"
     ]
    },
    {
     "name": "stderr",
     "output_type": "stream",
     "text": [
      "I0000 00:00:1725881150.485146   11994 gl_context_egl.cc:85] Successfully initialized EGL. Major : 1 Minor: 5\n",
      "I0000 00:00:1725881150.494732   13339 gl_context.cc:357] GL version: 3.2 (OpenGL ES 3.2 NVIDIA 535.146.02), renderer: NVIDIA GeForce RTX 3060/PCIe/SSE2\n",
      "W0000 00:00:1725881150.497573   13332 inference_feedback_manager.cc:114] Feedback manager requires a model with a single signature inference. Disabling support for feedback tensors.\n",
      "W0000 00:00:1725881150.509560   13328 inference_feedback_manager.cc:114] Feedback manager requires a model with a single signature inference. Disabling support for feedback tensors.\n",
      "I0000 00:00:1725881150.578948   11994 gl_context_egl.cc:85] Successfully initialized EGL. Major : 1 Minor: 5\n",
      "I0000 00:00:1725881150.588789   13353 gl_context.cc:357] GL version: 3.2 (OpenGL ES 3.2 NVIDIA 535.146.02), renderer: NVIDIA GeForce RTX 3060/PCIe/SSE2\n",
      "W0000 00:00:1725881150.592923   13347 inference_feedback_manager.cc:114] Feedback manager requires a model with a single signature inference. Disabling support for feedback tensors.\n",
      "W0000 00:00:1725881150.604092   13348 inference_feedback_manager.cc:114] Feedback manager requires a model with a single signature inference. Disabling support for feedback tensors.\n",
      "I0000 00:00:1725881150.673743   11994 gl_context_egl.cc:85] Successfully initialized EGL. Major : 1 Minor: 5\n",
      "I0000 00:00:1725881150.684950   13367 gl_context.cc:357] GL version: 3.2 (OpenGL ES 3.2 NVIDIA 535.146.02), renderer: NVIDIA GeForce RTX 3060/PCIe/SSE2\n",
      "W0000 00:00:1725881150.687628   13359 inference_feedback_manager.cc:114] Feedback manager requires a model with a single signature inference. Disabling support for feedback tensors.\n"
     ]
    },
    {
     "name": "stdout",
     "output_type": "stream",
     "text": [
      "INFO:     127.0.0.1:37594 - \"POST /eye-tracking HTTP/1.1\" 200 OK\n",
      "INFO:     127.0.0.1:37598 - \"POST /pose-estimate HTTP/1.1\" 200 OK\n",
      "INFO:     127.0.0.1:37602 - \"POST /eye-tracking HTTP/1.1\" 200 OK\n",
      "INFO:     127.0.0.1:37606 - \"POST /pose-estimate HTTP/1.1\" 200 OK\n",
      "INFO:     127.0.0.1:37616 - \"POST /eye-tracking HTTP/1.1\" 200 OK\n"
     ]
    },
    {
     "name": "stderr",
     "output_type": "stream",
     "text": [
      "W0000 00:00:1725881150.698384   13358 inference_feedback_manager.cc:114] Feedback manager requires a model with a single signature inference. Disabling support for feedback tensors.\n",
      "I0000 00:00:1725881150.771138   11994 gl_context_egl.cc:85] Successfully initialized EGL. Major : 1 Minor: 5\n",
      "I0000 00:00:1725881150.782035   13380 gl_context.cc:357] GL version: 3.2 (OpenGL ES 3.2 NVIDIA 535.146.02), renderer: NVIDIA GeForce RTX 3060/PCIe/SSE2\n",
      "W0000 00:00:1725881150.784924   13368 inference_feedback_manager.cc:114] Feedback manager requires a model with a single signature inference. Disabling support for feedback tensors.\n",
      "W0000 00:00:1725881150.795319   13369 inference_feedback_manager.cc:114] Feedback manager requires a model with a single signature inference. Disabling support for feedback tensors.\n",
      "I0000 00:00:1725881150.861213   11994 gl_context_egl.cc:85] Successfully initialized EGL. Major : 1 Minor: 5\n",
      "I0000 00:00:1725881150.872479   13393 gl_context.cc:357] GL version: 3.2 (OpenGL ES 3.2 NVIDIA 535.146.02), renderer: NVIDIA GeForce RTX 3060/PCIe/SSE2\n",
      "W0000 00:00:1725881150.874859   13381 inference_feedback_manager.cc:114] Feedback manager requires a model with a single signature inference. Disabling support for feedback tensors.\n",
      "W0000 00:00:1725881150.885528   13382 inference_feedback_manager.cc:114] Feedback manager requires a model with a single signature inference. Disabling support for feedback tensors.\n"
     ]
    },
    {
     "name": "stdout",
     "output_type": "stream",
     "text": [
      "INFO:     127.0.0.1:37632 - \"POST /pose-estimate HTTP/1.1\" 200 OK\n",
      "INFO:     127.0.0.1:37644 - \"POST /eye-tracking HTTP/1.1\" 200 OK\n",
      "INFO:     127.0.0.1:37648 - \"POST /pose-estimate HTTP/1.1\" 200 OK\n",
      "INFO:     127.0.0.1:37652 - \"POST /eye-tracking HTTP/1.1\" 200 OK\n",
      "INFO:     127.0.0.1:37668 - \"POST /pose-estimate HTTP/1.1\" 200 OK\n",
      "INFO:     127.0.0.1:37678 - \"POST /eye-tracking HTTP/1.1\" 200 OK\n"
     ]
    },
    {
     "name": "stderr",
     "output_type": "stream",
     "text": [
      "I0000 00:00:1725881150.952184   11994 gl_context_egl.cc:85] Successfully initialized EGL. Major : 1 Minor: 5\n",
      "I0000 00:00:1725881150.962091   13406 gl_context.cc:357] GL version: 3.2 (OpenGL ES 3.2 NVIDIA 535.146.02), renderer: NVIDIA GeForce RTX 3060/PCIe/SSE2\n",
      "W0000 00:00:1725881150.964870   13399 inference_feedback_manager.cc:114] Feedback manager requires a model with a single signature inference. Disabling support for feedback tensors.\n",
      "W0000 00:00:1725881150.975871   13396 inference_feedback_manager.cc:114] Feedback manager requires a model with a single signature inference. Disabling support for feedback tensors.\n",
      "I0000 00:00:1725881151.043354   11994 gl_context_egl.cc:85] Successfully initialized EGL. Major : 1 Minor: 5\n",
      "I0000 00:00:1725881151.053438   13419 gl_context.cc:357] GL version: 3.2 (OpenGL ES 3.2 NVIDIA 535.146.02), renderer: NVIDIA GeForce RTX 3060/PCIe/SSE2\n",
      "W0000 00:00:1725881151.054947   13407 inference_feedback_manager.cc:114] Feedback manager requires a model with a single signature inference. Disabling support for feedback tensors.\n",
      "W0000 00:00:1725881151.062077   13410 inference_feedback_manager.cc:114] Feedback manager requires a model with a single signature inference. Disabling support for feedback tensors.\n",
      "I0000 00:00:1725881151.131262   11994 gl_context_egl.cc:85] Successfully initialized EGL. Major : 1 Minor: 5\n",
      "I0000 00:00:1725881151.141674   13432 gl_context.cc:357] GL version: 3.2 (OpenGL ES 3.2 NVIDIA 535.146.02), renderer: NVIDIA GeForce RTX 3060/PCIe/SSE2\n",
      "W0000 00:00:1725881151.144094   13426 inference_feedback_manager.cc:114] Feedback manager requires a model with a single signature inference. Disabling support for feedback tensors.\n",
      "W0000 00:00:1725881151.154498   13424 inference_feedback_manager.cc:114] Feedback manager requires a model with a single signature inference. Disabling support for feedback tensors.\n"
     ]
    },
    {
     "name": "stdout",
     "output_type": "stream",
     "text": [
      "INFO:     127.0.0.1:37686 - \"POST /pose-estimate HTTP/1.1\" 200 OK\n",
      "INFO:     127.0.0.1:37696 - \"POST /eye-tracking HTTP/1.1\" 200 OK\n",
      "INFO:     127.0.0.1:37710 - \"POST /pose-estimate HTTP/1.1\" 200 OK\n",
      "INFO:     127.0.0.1:37722 - \"POST /eye-tracking HTTP/1.1\" 200 OK\n",
      "INFO:     127.0.0.1:37734 - \"POST /pose-estimate HTTP/1.1\" 200 OK\n"
     ]
    },
    {
     "name": "stderr",
     "output_type": "stream",
     "text": [
      "I0000 00:00:1725881151.224490   11994 gl_context_egl.cc:85] Successfully initialized EGL. Major : 1 Minor: 5\n",
      "I0000 00:00:1725881151.234134   13445 gl_context.cc:357] GL version: 3.2 (OpenGL ES 3.2 NVIDIA 535.146.02), renderer: NVIDIA GeForce RTX 3060/PCIe/SSE2\n",
      "W0000 00:00:1725881151.235789   13435 inference_feedback_manager.cc:114] Feedback manager requires a model with a single signature inference. Disabling support for feedback tensors.\n",
      "W0000 00:00:1725881151.247139   13434 inference_feedback_manager.cc:114] Feedback manager requires a model with a single signature inference. Disabling support for feedback tensors.\n",
      "I0000 00:00:1725881151.322118   11994 gl_context_egl.cc:85] Successfully initialized EGL. Major : 1 Minor: 5\n",
      "I0000 00:00:1725881151.333449   13458 gl_context.cc:357] GL version: 3.2 (OpenGL ES 3.2 NVIDIA 535.146.02), renderer: NVIDIA GeForce RTX 3060/PCIe/SSE2\n",
      "W0000 00:00:1725881151.334906   13451 inference_feedback_manager.cc:114] Feedback manager requires a model with a single signature inference. Disabling support for feedback tensors.\n",
      "W0000 00:00:1725881151.347069   13448 inference_feedback_manager.cc:114] Feedback manager requires a model with a single signature inference. Disabling support for feedback tensors.\n",
      "I0000 00:00:1725881151.416043   11994 gl_context_egl.cc:85] Successfully initialized EGL. Major : 1 Minor: 5\n",
      "I0000 00:00:1725881151.426289   13471 gl_context.cc:357] GL version: 3.2 (OpenGL ES 3.2 NVIDIA 535.146.02), renderer: NVIDIA GeForce RTX 3060/PCIe/SSE2\n",
      "W0000 00:00:1725881151.429069   13468 inference_feedback_manager.cc:114] Feedback manager requires a model with a single signature inference. Disabling support for feedback tensors.\n"
     ]
    },
    {
     "name": "stdout",
     "output_type": "stream",
     "text": [
      "INFO:     127.0.0.1:37744 - \"POST /eye-tracking HTTP/1.1\" 200 OK\n",
      "INFO:     127.0.0.1:37754 - \"POST /pose-estimate HTTP/1.1\" 200 OK\n",
      "INFO:     127.0.0.1:37758 - \"POST /eye-tracking HTTP/1.1\" 200 OK\n",
      "INFO:     127.0.0.1:37772 - \"POST /pose-estimate HTTP/1.1\" 200 OK\n",
      "INFO:     127.0.0.1:37788 - \"POST /eye-tracking HTTP/1.1\" 200 OK\n"
     ]
    },
    {
     "name": "stderr",
     "output_type": "stream",
     "text": [
      "W0000 00:00:1725881151.439885   13461 inference_feedback_manager.cc:114] Feedback manager requires a model with a single signature inference. Disabling support for feedback tensors.\n",
      "I0000 00:00:1725881151.508252   11994 gl_context_egl.cc:85] Successfully initialized EGL. Major : 1 Minor: 5\n",
      "I0000 00:00:1725881151.524054   13484 gl_context.cc:357] GL version: 3.2 (OpenGL ES 3.2 NVIDIA 535.146.02), renderer: NVIDIA GeForce RTX 3060/PCIe/SSE2\n",
      "W0000 00:00:1725881151.526852   13483 inference_feedback_manager.cc:114] Feedback manager requires a model with a single signature inference. Disabling support for feedback tensors.\n",
      "W0000 00:00:1725881151.537316   13474 inference_feedback_manager.cc:114] Feedback manager requires a model with a single signature inference. Disabling support for feedback tensors.\n",
      "I0000 00:00:1725881151.605555   11994 gl_context_egl.cc:85] Successfully initialized EGL. Major : 1 Minor: 5\n",
      "I0000 00:00:1725881151.615571   13497 gl_context.cc:357] GL version: 3.2 (OpenGL ES 3.2 NVIDIA 535.146.02), renderer: NVIDIA GeForce RTX 3060/PCIe/SSE2\n",
      "W0000 00:00:1725881151.618303   13488 inference_feedback_manager.cc:114] Feedback manager requires a model with a single signature inference. Disabling support for feedback tensors.\n",
      "W0000 00:00:1725881151.629169   13494 inference_feedback_manager.cc:114] Feedback manager requires a model with a single signature inference. Disabling support for feedback tensors.\n"
     ]
    },
    {
     "name": "stdout",
     "output_type": "stream",
     "text": [
      "INFO:     127.0.0.1:37804 - \"POST /pose-estimate HTTP/1.1\" 200 OK\n",
      "INFO:     127.0.0.1:37806 - \"POST /eye-tracking HTTP/1.1\" 200 OK\n",
      "INFO:     127.0.0.1:37808 - \"POST /pose-estimate HTTP/1.1\" 200 OK\n",
      "INFO:     127.0.0.1:37818 - \"POST /eye-tracking HTTP/1.1\" 200 OK\n",
      "INFO:     127.0.0.1:37826 - \"POST /pose-estimate HTTP/1.1\" 200 OK\n"
     ]
    },
    {
     "name": "stderr",
     "output_type": "stream",
     "text": [
      "I0000 00:00:1725881151.699719   11994 gl_context_egl.cc:85] Successfully initialized EGL. Major : 1 Minor: 5\n",
      "I0000 00:00:1725881151.709795   13510 gl_context.cc:357] GL version: 3.2 (OpenGL ES 3.2 NVIDIA 535.146.02), renderer: NVIDIA GeForce RTX 3060/PCIe/SSE2\n",
      "W0000 00:00:1725881151.711418   13499 inference_feedback_manager.cc:114] Feedback manager requires a model with a single signature inference. Disabling support for feedback tensors.\n",
      "W0000 00:00:1725881151.717899   13498 inference_feedback_manager.cc:114] Feedback manager requires a model with a single signature inference. Disabling support for feedback tensors.\n",
      "I0000 00:00:1725881151.788185   11994 gl_context_egl.cc:85] Successfully initialized EGL. Major : 1 Minor: 5\n",
      "I0000 00:00:1725881151.798308   13523 gl_context.cc:357] GL version: 3.2 (OpenGL ES 3.2 NVIDIA 535.146.02), renderer: NVIDIA GeForce RTX 3060/PCIe/SSE2\n",
      "W0000 00:00:1725881151.800624   13511 inference_feedback_manager.cc:114] Feedback manager requires a model with a single signature inference. Disabling support for feedback tensors.\n",
      "W0000 00:00:1725881151.812807   13515 inference_feedback_manager.cc:114] Feedback manager requires a model with a single signature inference. Disabling support for feedback tensors.\n",
      "I0000 00:00:1725881151.883285   11994 gl_context_egl.cc:85] Successfully initialized EGL. Major : 1 Minor: 5\n",
      "I0000 00:00:1725881151.895055   13536 gl_context.cc:357] GL version: 3.2 (OpenGL ES 3.2 NVIDIA 535.146.02), renderer: NVIDIA GeForce RTX 3060/PCIe/SSE2\n",
      "W0000 00:00:1725881151.896876   13532 inference_feedback_manager.cc:114] Feedback manager requires a model with a single signature inference. Disabling support for feedback tensors.\n",
      "W0000 00:00:1725881151.907336   13524 inference_feedback_manager.cc:114] Feedback manager requires a model with a single signature inference. Disabling support for feedback tensors.\n"
     ]
    },
    {
     "name": "stdout",
     "output_type": "stream",
     "text": [
      "INFO:     127.0.0.1:37840 - \"POST /eye-tracking HTTP/1.1\" 200 OK\n",
      "INFO:     127.0.0.1:37846 - \"POST /pose-estimate HTTP/1.1\" 200 OK\n",
      "INFO:     127.0.0.1:37856 - \"POST /eye-tracking HTTP/1.1\" 200 OK\n",
      "INFO:     127.0.0.1:37864 - \"POST /pose-estimate HTTP/1.1\" 200 OK\n",
      "INFO:     127.0.0.1:37866 - \"POST /eye-tracking HTTP/1.1\" 200 OK\n",
      "INFO:     127.0.0.1:37880 - \"POST /pose-estimate HTTP/1.1\" 200 OK\n"
     ]
    },
    {
     "name": "stderr",
     "output_type": "stream",
     "text": [
      "I0000 00:00:1725881151.978863   11994 gl_context_egl.cc:85] Successfully initialized EGL. Major : 1 Minor: 5\n",
      "I0000 00:00:1725881151.989270   13549 gl_context.cc:357] GL version: 3.2 (OpenGL ES 3.2 NVIDIA 535.146.02), renderer: NVIDIA GeForce RTX 3060/PCIe/SSE2\n",
      "W0000 00:00:1725881151.991782   13542 inference_feedback_manager.cc:114] Feedback manager requires a model with a single signature inference. Disabling support for feedback tensors.\n",
      "W0000 00:00:1725881152.003008   13540 inference_feedback_manager.cc:114] Feedback manager requires a model with a single signature inference. Disabling support for feedback tensors.\n",
      "I0000 00:00:1725881152.073728   11994 gl_context_egl.cc:85] Successfully initialized EGL. Major : 1 Minor: 5\n",
      "I0000 00:00:1725881152.084701   13562 gl_context.cc:357] GL version: 3.2 (OpenGL ES 3.2 NVIDIA 535.146.02), renderer: NVIDIA GeForce RTX 3060/PCIe/SSE2\n",
      "W0000 00:00:1725881152.087568   13552 inference_feedback_manager.cc:114] Feedback manager requires a model with a single signature inference. Disabling support for feedback tensors.\n",
      "W0000 00:00:1725881152.098774   13558 inference_feedback_manager.cc:114] Feedback manager requires a model with a single signature inference. Disabling support for feedback tensors.\n",
      "I0000 00:00:1725881152.168806   11994 gl_context_egl.cc:85] Successfully initialized EGL. Major : 1 Minor: 5\n",
      "I0000 00:00:1725881152.178726   13575 gl_context.cc:357] GL version: 3.2 (OpenGL ES 3.2 NVIDIA 535.146.02), renderer: NVIDIA GeForce RTX 3060/PCIe/SSE2\n",
      "W0000 00:00:1725881152.180318   13573 inference_feedback_manager.cc:114] Feedback manager requires a model with a single signature inference. Disabling support for feedback tensors.\n"
     ]
    },
    {
     "name": "stdout",
     "output_type": "stream",
     "text": [
      "INFO:     127.0.0.1:37892 - \"POST /eye-tracking HTTP/1.1\" 200 OK\n",
      "INFO:     127.0.0.1:37898 - \"POST /pose-estimate HTTP/1.1\" 200 OK\n",
      "INFO:     127.0.0.1:37908 - \"POST /eye-tracking HTTP/1.1\" 200 OK\n",
      "INFO:     127.0.0.1:37924 - \"POST /pose-estimate HTTP/1.1\" 200 OK\n",
      "INFO:     127.0.0.1:37940 - \"POST /eye-tracking HTTP/1.1\" 200 OK\n"
     ]
    },
    {
     "name": "stderr",
     "output_type": "stream",
     "text": [
      "W0000 00:00:1725881152.191805   13570 inference_feedback_manager.cc:114] Feedback manager requires a model with a single signature inference. Disabling support for feedback tensors.\n",
      "I0000 00:00:1725881152.261870   11994 gl_context_egl.cc:85] Successfully initialized EGL. Major : 1 Minor: 5\n",
      "I0000 00:00:1725881152.273949   13588 gl_context.cc:357] GL version: 3.2 (OpenGL ES 3.2 NVIDIA 535.146.02), renderer: NVIDIA GeForce RTX 3060/PCIe/SSE2\n",
      "W0000 00:00:1725881152.276923   13576 inference_feedback_manager.cc:114] Feedback manager requires a model with a single signature inference. Disabling support for feedback tensors.\n",
      "W0000 00:00:1725881152.287354   13579 inference_feedback_manager.cc:114] Feedback manager requires a model with a single signature inference. Disabling support for feedback tensors.\n",
      "I0000 00:00:1725881152.356294   11994 gl_context_egl.cc:85] Successfully initialized EGL. Major : 1 Minor: 5\n",
      "I0000 00:00:1725881152.366488   13601 gl_context.cc:357] GL version: 3.2 (OpenGL ES 3.2 NVIDIA 535.146.02), renderer: NVIDIA GeForce RTX 3060/PCIe/SSE2\n",
      "W0000 00:00:1725881152.369039   13591 inference_feedback_manager.cc:114] Feedback manager requires a model with a single signature inference. Disabling support for feedback tensors.\n",
      "W0000 00:00:1725881152.375181   13595 inference_feedback_manager.cc:114] Feedback manager requires a model with a single signature inference. Disabling support for feedback tensors.\n"
     ]
    },
    {
     "name": "stdout",
     "output_type": "stream",
     "text": [
      "INFO:     127.0.0.1:37948 - \"POST /pose-estimate HTTP/1.1\" 200 OK\n",
      "INFO:     127.0.0.1:37958 - \"POST /eye-tracking HTTP/1.1\" 200 OK\n",
      "INFO:     127.0.0.1:37964 - \"POST /pose-estimate HTTP/1.1\" 200 OK\n",
      "INFO:     127.0.0.1:37980 - \"POST /eye-tracking HTTP/1.1\" 200 OK\n",
      "INFO:     127.0.0.1:37990 - \"POST /pose-estimate HTTP/1.1\" 200 OK\n"
     ]
    },
    {
     "name": "stderr",
     "output_type": "stream",
     "text": [
      "I0000 00:00:1725881152.442807   11994 gl_context_egl.cc:85] Successfully initialized EGL. Major : 1 Minor: 5\n",
      "I0000 00:00:1725881152.453007   13614 gl_context.cc:357] GL version: 3.2 (OpenGL ES 3.2 NVIDIA 535.146.02), renderer: NVIDIA GeForce RTX 3060/PCIe/SSE2\n",
      "W0000 00:00:1725881152.455718   13604 inference_feedback_manager.cc:114] Feedback manager requires a model with a single signature inference. Disabling support for feedback tensors.\n",
      "W0000 00:00:1725881152.466727   13613 inference_feedback_manager.cc:114] Feedback manager requires a model with a single signature inference. Disabling support for feedback tensors.\n",
      "I0000 00:00:1725881152.534770   11994 gl_context_egl.cc:85] Successfully initialized EGL. Major : 1 Minor: 5\n",
      "I0000 00:00:1725881152.546641   13627 gl_context.cc:357] GL version: 3.2 (OpenGL ES 3.2 NVIDIA 535.146.02), renderer: NVIDIA GeForce RTX 3060/PCIe/SSE2\n",
      "W0000 00:00:1725881152.548958   13618 inference_feedback_manager.cc:114] Feedback manager requires a model with a single signature inference. Disabling support for feedback tensors.\n",
      "W0000 00:00:1725881152.559587   13616 inference_feedback_manager.cc:114] Feedback manager requires a model with a single signature inference. Disabling support for feedback tensors.\n",
      "I0000 00:00:1725881152.626498   11994 gl_context_egl.cc:85] Successfully initialized EGL. Major : 1 Minor: 5\n",
      "I0000 00:00:1725881152.637056   13640 gl_context.cc:357] GL version: 3.2 (OpenGL ES 3.2 NVIDIA 535.146.02), renderer: NVIDIA GeForce RTX 3060/PCIe/SSE2\n",
      "W0000 00:00:1725881152.640745   13632 inference_feedback_manager.cc:114] Feedback manager requires a model with a single signature inference. Disabling support for feedback tensors.\n",
      "W0000 00:00:1725881152.652149   13630 inference_feedback_manager.cc:114] Feedback manager requires a model with a single signature inference. Disabling support for feedback tensors.\n"
     ]
    },
    {
     "name": "stdout",
     "output_type": "stream",
     "text": [
      "INFO:     127.0.0.1:37992 - \"POST /eye-tracking HTTP/1.1\" 200 OK\n",
      "INFO:     127.0.0.1:37996 - \"POST /pose-estimate HTTP/1.1\" 200 OK\n",
      "INFO:     127.0.0.1:38010 - \"POST /eye-tracking HTTP/1.1\" 200 OK\n",
      "INFO:     127.0.0.1:38012 - \"POST /pose-estimate HTTP/1.1\" 200 OK\n",
      "INFO:     127.0.0.1:38018 - \"POST /eye-tracking HTTP/1.1\" 200 OK\n",
      "INFO:     127.0.0.1:38034 - \"POST /pose-estimate HTTP/1.1\" 200 OK\n"
     ]
    },
    {
     "name": "stderr",
     "output_type": "stream",
     "text": [
      "I0000 00:00:1725881152.722184   11994 gl_context_egl.cc:85] Successfully initialized EGL. Major : 1 Minor: 5\n",
      "I0000 00:00:1725881152.732677   13654 gl_context.cc:357] GL version: 3.2 (OpenGL ES 3.2 NVIDIA 535.146.02), renderer: NVIDIA GeForce RTX 3060/PCIe/SSE2\n",
      "W0000 00:00:1725881152.735036   13643 inference_feedback_manager.cc:114] Feedback manager requires a model with a single signature inference. Disabling support for feedback tensors.\n",
      "W0000 00:00:1725881152.746617   13650 inference_feedback_manager.cc:114] Feedback manager requires a model with a single signature inference. Disabling support for feedback tensors.\n",
      "I0000 00:00:1725881152.815607   11994 gl_context_egl.cc:85] Successfully initialized EGL. Major : 1 Minor: 5\n",
      "I0000 00:00:1725881152.825893   13667 gl_context.cc:357] GL version: 3.2 (OpenGL ES 3.2 NVIDIA 535.146.02), renderer: NVIDIA GeForce RTX 3060/PCIe/SSE2\n",
      "W0000 00:00:1725881152.828607   13666 inference_feedback_manager.cc:114] Feedback manager requires a model with a single signature inference. Disabling support for feedback tensors.\n",
      "W0000 00:00:1725881152.839100   13660 inference_feedback_manager.cc:114] Feedback manager requires a model with a single signature inference. Disabling support for feedback tensors.\n",
      "I0000 00:00:1725881152.907407   11994 gl_context_egl.cc:85] Successfully initialized EGL. Major : 1 Minor: 5\n",
      "I0000 00:00:1725881152.923563   13680 gl_context.cc:357] GL version: 3.2 (OpenGL ES 3.2 NVIDIA 535.146.02), renderer: NVIDIA GeForce RTX 3060/PCIe/SSE2\n",
      "W0000 00:00:1725881152.926388   13670 inference_feedback_manager.cc:114] Feedback manager requires a model with a single signature inference. Disabling support for feedback tensors.\n"
     ]
    },
    {
     "name": "stdout",
     "output_type": "stream",
     "text": [
      "INFO:     127.0.0.1:38046 - \"POST /eye-tracking HTTP/1.1\" 200 OK\n",
      "INFO:     127.0.0.1:38054 - \"POST /pose-estimate HTTP/1.1\" 200 OK\n",
      "INFO:     127.0.0.1:38068 - \"POST /eye-tracking HTTP/1.1\" 200 OK\n",
      "INFO:     127.0.0.1:38078 - \"POST /pose-estimate HTTP/1.1\" 200 OK\n",
      "INFO:     127.0.0.1:38086 - \"POST /eye-tracking HTTP/1.1\" 200 OK\n"
     ]
    },
    {
     "name": "stderr",
     "output_type": "stream",
     "text": [
      "W0000 00:00:1725881152.936988   13671 inference_feedback_manager.cc:114] Feedback manager requires a model with a single signature inference. Disabling support for feedback tensors.\n",
      "I0000 00:00:1725881153.005595   11994 gl_context_egl.cc:85] Successfully initialized EGL. Major : 1 Minor: 5\n",
      "I0000 00:00:1725881153.015938   13693 gl_context.cc:357] GL version: 3.2 (OpenGL ES 3.2 NVIDIA 535.146.02), renderer: NVIDIA GeForce RTX 3060/PCIe/SSE2\n",
      "W0000 00:00:1725881153.018697   13685 inference_feedback_manager.cc:114] Feedback manager requires a model with a single signature inference. Disabling support for feedback tensors.\n",
      "W0000 00:00:1725881153.029298   13684 inference_feedback_manager.cc:114] Feedback manager requires a model with a single signature inference. Disabling support for feedback tensors.\n",
      "I0000 00:00:1725881153.098153   11994 gl_context_egl.cc:85] Successfully initialized EGL. Major : 1 Minor: 5\n",
      "I0000 00:00:1725881153.110310   13706 gl_context.cc:357] GL version: 3.2 (OpenGL ES 3.2 NVIDIA 535.146.02), renderer: NVIDIA GeForce RTX 3060/PCIe/SSE2\n",
      "W0000 00:00:1725881153.112968   13701 inference_feedback_manager.cc:114] Feedback manager requires a model with a single signature inference. Disabling support for feedback tensors.\n",
      "W0000 00:00:1725881153.123941   13704 inference_feedback_manager.cc:114] Feedback manager requires a model with a single signature inference. Disabling support for feedback tensors.\n"
     ]
    },
    {
     "name": "stdout",
     "output_type": "stream",
     "text": [
      "INFO:     127.0.0.1:38098 - \"POST /pose-estimate HTTP/1.1\" 200 OK\n",
      "INFO:     127.0.0.1:38110 - \"POST /eye-tracking HTTP/1.1\" 200 OK\n",
      "INFO:     127.0.0.1:38122 - \"POST /pose-estimate HTTP/1.1\" 200 OK\n",
      "INFO:     127.0.0.1:38126 - \"POST /eye-tracking HTTP/1.1\" 200 OK\n",
      "INFO:     127.0.0.1:38128 - \"POST /pose-estimate HTTP/1.1\" 200 OK\n"
     ]
    },
    {
     "name": "stderr",
     "output_type": "stream",
     "text": [
      "I0000 00:00:1725881153.194224   11994 gl_context_egl.cc:85] Successfully initialized EGL. Major : 1 Minor: 5\n",
      "I0000 00:00:1725881153.204919   13719 gl_context.cc:357] GL version: 3.2 (OpenGL ES 3.2 NVIDIA 535.146.02), renderer: NVIDIA GeForce RTX 3060/PCIe/SSE2\n",
      "W0000 00:00:1725881153.207704   13707 inference_feedback_manager.cc:114] Feedback manager requires a model with a single signature inference. Disabling support for feedback tensors.\n",
      "W0000 00:00:1725881153.218823   13714 inference_feedback_manager.cc:114] Feedback manager requires a model with a single signature inference. Disabling support for feedback tensors.\n",
      "I0000 00:00:1725881153.285197   11994 gl_context_egl.cc:85] Successfully initialized EGL. Major : 1 Minor: 5\n",
      "I0000 00:00:1725881153.295644   13732 gl_context.cc:357] GL version: 3.2 (OpenGL ES 3.2 NVIDIA 535.146.02), renderer: NVIDIA GeForce RTX 3060/PCIe/SSE2\n",
      "W0000 00:00:1725881153.297974   13724 inference_feedback_manager.cc:114] Feedback manager requires a model with a single signature inference. Disabling support for feedback tensors.\n",
      "W0000 00:00:1725881153.309599   13720 inference_feedback_manager.cc:114] Feedback manager requires a model with a single signature inference. Disabling support for feedback tensors.\n",
      "I0000 00:00:1725881153.379258   11994 gl_context_egl.cc:85] Successfully initialized EGL. Major : 1 Minor: 5\n",
      "I0000 00:00:1725881153.390205   13745 gl_context.cc:357] GL version: 3.2 (OpenGL ES 3.2 NVIDIA 535.146.02), renderer: NVIDIA GeForce RTX 3060/PCIe/SSE2\n",
      "W0000 00:00:1725881153.392762   13738 inference_feedback_manager.cc:114] Feedback manager requires a model with a single signature inference. Disabling support for feedback tensors.\n",
      "W0000 00:00:1725881153.404038   13741 inference_feedback_manager.cc:114] Feedback manager requires a model with a single signature inference. Disabling support for feedback tensors.\n"
     ]
    },
    {
     "name": "stdout",
     "output_type": "stream",
     "text": [
      "INFO:     127.0.0.1:38142 - \"POST /eye-tracking HTTP/1.1\" 200 OK\n",
      "INFO:     127.0.0.1:38154 - \"POST /pose-estimate HTTP/1.1\" 200 OK\n",
      "INFO:     127.0.0.1:38164 - \"POST /eye-tracking HTTP/1.1\" 200 OK\n",
      "INFO:     127.0.0.1:38168 - \"POST /pose-estimate HTTP/1.1\" 200 OK\n",
      "INFO:     127.0.0.1:38170 - \"POST /eye-tracking HTTP/1.1\" 200 OK\n",
      "INFO:     127.0.0.1:38178 - \"POST /pose-estimate HTTP/1.1\" 200 OK\n"
     ]
    },
    {
     "name": "stderr",
     "output_type": "stream",
     "text": [
      "I0000 00:00:1725881153.472812   11994 gl_context_egl.cc:85] Successfully initialized EGL. Major : 1 Minor: 5\n",
      "I0000 00:00:1725881153.485320   13758 gl_context.cc:357] GL version: 3.2 (OpenGL ES 3.2 NVIDIA 535.146.02), renderer: NVIDIA GeForce RTX 3060/PCIe/SSE2\n",
      "W0000 00:00:1725881153.487641   13750 inference_feedback_manager.cc:114] Feedback manager requires a model with a single signature inference. Disabling support for feedback tensors.\n",
      "W0000 00:00:1725881153.498558   13747 inference_feedback_manager.cc:114] Feedback manager requires a model with a single signature inference. Disabling support for feedback tensors.\n",
      "I0000 00:00:1725881153.567824   11994 gl_context_egl.cc:85] Successfully initialized EGL. Major : 1 Minor: 5\n",
      "I0000 00:00:1725881153.578471   13771 gl_context.cc:357] GL version: 3.2 (OpenGL ES 3.2 NVIDIA 535.146.02), renderer: NVIDIA GeForce RTX 3060/PCIe/SSE2\n",
      "W0000 00:00:1725881153.581379   13763 inference_feedback_manager.cc:114] Feedback manager requires a model with a single signature inference. Disabling support for feedback tensors.\n",
      "W0000 00:00:1725881153.593539   13761 inference_feedback_manager.cc:114] Feedback manager requires a model with a single signature inference. Disabling support for feedback tensors.\n",
      "I0000 00:00:1725881153.662320   11994 gl_context_egl.cc:85] Successfully initialized EGL. Major : 1 Minor: 5\n",
      "I0000 00:00:1725881153.673116   13784 gl_context.cc:357] GL version: 3.2 (OpenGL ES 3.2 NVIDIA 535.146.02), renderer: NVIDIA GeForce RTX 3060/PCIe/SSE2\n",
      "W0000 00:00:1725881153.675718   13775 inference_feedback_manager.cc:114] Feedback manager requires a model with a single signature inference. Disabling support for feedback tensors.\n",
      "W0000 00:00:1725881153.687233   13773 inference_feedback_manager.cc:114] Feedback manager requires a model with a single signature inference. Disabling support for feedback tensors.\n"
     ]
    },
    {
     "name": "stdout",
     "output_type": "stream",
     "text": [
      "INFO:     127.0.0.1:38180 - \"POST /eye-tracking HTTP/1.1\" 200 OK\n",
      "INFO:     127.0.0.1:38186 - \"POST /pose-estimate HTTP/1.1\" 200 OK\n",
      "INFO:     127.0.0.1:38194 - \"POST /eye-tracking HTTP/1.1\" 200 OK\n",
      "INFO:     127.0.0.1:38208 - \"POST /pose-estimate HTTP/1.1\" 200 OK\n",
      "INFO:     127.0.0.1:38214 - \"POST /eye-tracking HTTP/1.1\" 200 OK\n",
      "INFO:     127.0.0.1:38218 - \"POST /pose-estimate HTTP/1.1\" 200 OK\n",
      "INFO:     127.0.0.1:38220 - \"POST /eye-tracking HTTP/1.1\" 200 OK\n"
     ]
    },
    {
     "name": "stderr",
     "output_type": "stream",
     "text": [
      "I0000 00:00:1725881153.756477   11994 gl_context_egl.cc:85] Successfully initialized EGL. Major : 1 Minor: 5\n",
      "I0000 00:00:1725881153.767264   13797 gl_context.cc:357] GL version: 3.2 (OpenGL ES 3.2 NVIDIA 535.146.02), renderer: NVIDIA GeForce RTX 3060/PCIe/SSE2\n",
      "W0000 00:00:1725881153.768845   13792 inference_feedback_manager.cc:114] Feedback manager requires a model with a single signature inference. Disabling support for feedback tensors.\n",
      "W0000 00:00:1725881153.774952   13790 inference_feedback_manager.cc:114] Feedback manager requires a model with a single signature inference. Disabling support for feedback tensors.\n",
      "I0000 00:00:1725881153.840815   11994 gl_context_egl.cc:85] Successfully initialized EGL. Major : 1 Minor: 5\n",
      "I0000 00:00:1725881153.851915   13810 gl_context.cc:357] GL version: 3.2 (OpenGL ES 3.2 NVIDIA 535.146.02), renderer: NVIDIA GeForce RTX 3060/PCIe/SSE2\n",
      "W0000 00:00:1725881153.854589   13807 inference_feedback_manager.cc:114] Feedback manager requires a model with a single signature inference. Disabling support for feedback tensors.\n",
      "W0000 00:00:1725881153.864864   13798 inference_feedback_manager.cc:114] Feedback manager requires a model with a single signature inference. Disabling support for feedback tensors.\n",
      "I0000 00:00:1725881153.930289   11994 gl_context_egl.cc:85] Successfully initialized EGL. Major : 1 Minor: 5\n",
      "I0000 00:00:1725881153.941178   13823 gl_context.cc:357] GL version: 3.2 (OpenGL ES 3.2 NVIDIA 535.146.02), renderer: NVIDIA GeForce RTX 3060/PCIe/SSE2\n",
      "W0000 00:00:1725881153.943400   13814 inference_feedback_manager.cc:114] Feedback manager requires a model with a single signature inference. Disabling support for feedback tensors.\n",
      "W0000 00:00:1725881153.954336   13812 inference_feedback_manager.cc:114] Feedback manager requires a model with a single signature inference. Disabling support for feedback tensors.\n"
     ]
    },
    {
     "name": "stdout",
     "output_type": "stream",
     "text": [
      "INFO:     127.0.0.1:38232 - \"POST /pose-estimate HTTP/1.1\" 200 OK\n",
      "INFO:     127.0.0.1:38240 - \"POST /eye-tracking HTTP/1.1\" 200 OK\n",
      "INFO:     127.0.0.1:38244 - \"POST /pose-estimate HTTP/1.1\" 200 OK\n",
      "INFO:     127.0.0.1:38256 - \"POST /eye-tracking HTTP/1.1\" 200 OK\n",
      "INFO:     127.0.0.1:38258 - \"POST /pose-estimate HTTP/1.1\" 200 OK\n",
      "INFO:     127.0.0.1:38264 - \"POST /eye-tracking HTTP/1.1\" 200 OK\n"
     ]
    },
    {
     "name": "stderr",
     "output_type": "stream",
     "text": [
      "I0000 00:00:1725881154.017171   11994 gl_context_egl.cc:85] Successfully initialized EGL. Major : 1 Minor: 5\n",
      "I0000 00:00:1725881154.028167   13836 gl_context.cc:357] GL version: 3.2 (OpenGL ES 3.2 NVIDIA 535.146.02), renderer: NVIDIA GeForce RTX 3060/PCIe/SSE2\n",
      "W0000 00:00:1725881154.030943   13827 inference_feedback_manager.cc:114] Feedback manager requires a model with a single signature inference. Disabling support for feedback tensors.\n",
      "W0000 00:00:1725881154.041290   13824 inference_feedback_manager.cc:114] Feedback manager requires a model with a single signature inference. Disabling support for feedback tensors.\n",
      "I0000 00:00:1725881154.106696   11994 gl_context_egl.cc:85] Successfully initialized EGL. Major : 1 Minor: 5\n",
      "I0000 00:00:1725881154.118009   13849 gl_context.cc:357] GL version: 3.2 (OpenGL ES 3.2 NVIDIA 535.146.02), renderer: NVIDIA GeForce RTX 3060/PCIe/SSE2\n",
      "W0000 00:00:1725881154.120745   13843 inference_feedback_manager.cc:114] Feedback manager requires a model with a single signature inference. Disabling support for feedback tensors.\n",
      "W0000 00:00:1725881154.131863   13846 inference_feedback_manager.cc:114] Feedback manager requires a model with a single signature inference. Disabling support for feedback tensors.\n",
      "I0000 00:00:1725881154.193728   11994 gl_context_egl.cc:85] Successfully initialized EGL. Major : 1 Minor: 5\n",
      "I0000 00:00:1725881154.204687   13862 gl_context.cc:357] GL version: 3.2 (OpenGL ES 3.2 NVIDIA 535.146.02), renderer: NVIDIA GeForce RTX 3060/PCIe/SSE2\n",
      "W0000 00:00:1725881154.207507   13854 inference_feedback_manager.cc:114] Feedback manager requires a model with a single signature inference. Disabling support for feedback tensors.\n",
      "W0000 00:00:1725881154.218453   13857 inference_feedback_manager.cc:114] Feedback manager requires a model with a single signature inference. Disabling support for feedback tensors.\n"
     ]
    },
    {
     "name": "stdout",
     "output_type": "stream",
     "text": [
      "INFO:     127.0.0.1:38278 - \"POST /pose-estimate HTTP/1.1\" 200 OK\n",
      "INFO:     127.0.0.1:38282 - \"POST /eye-tracking HTTP/1.1\" 200 OK\n",
      "INFO:     127.0.0.1:38288 - \"POST /pose-estimate HTTP/1.1\" 200 OK\n",
      "INFO:     127.0.0.1:38300 - \"POST /eye-tracking HTTP/1.1\" 200 OK\n",
      "INFO:     127.0.0.1:38308 - \"POST /pose-estimate HTTP/1.1\" 200 OK\n",
      "INFO:     127.0.0.1:38322 - \"POST /eye-tracking HTTP/1.1\" 200 OK\n"
     ]
    },
    {
     "name": "stderr",
     "output_type": "stream",
     "text": [
      "I0000 00:00:1725881154.282233   11994 gl_context_egl.cc:85] Successfully initialized EGL. Major : 1 Minor: 5\n",
      "I0000 00:00:1725881154.294838   13875 gl_context.cc:357] GL version: 3.2 (OpenGL ES 3.2 NVIDIA 535.146.02), renderer: NVIDIA GeForce RTX 3060/PCIe/SSE2\n",
      "W0000 00:00:1725881154.297123   13870 inference_feedback_manager.cc:114] Feedback manager requires a model with a single signature inference. Disabling support for feedback tensors.\n",
      "W0000 00:00:1725881154.308692   13864 inference_feedback_manager.cc:114] Feedback manager requires a model with a single signature inference. Disabling support for feedback tensors.\n",
      "I0000 00:00:1725881154.374826   11994 gl_context_egl.cc:85] Successfully initialized EGL. Major : 1 Minor: 5\n",
      "I0000 00:00:1725881154.385431   13888 gl_context.cc:357] GL version: 3.2 (OpenGL ES 3.2 NVIDIA 535.146.02), renderer: NVIDIA GeForce RTX 3060/PCIe/SSE2\n",
      "W0000 00:00:1725881154.388124   13879 inference_feedback_manager.cc:114] Feedback manager requires a model with a single signature inference. Disabling support for feedback tensors.\n",
      "W0000 00:00:1725881154.398870   13878 inference_feedback_manager.cc:114] Feedback manager requires a model with a single signature inference. Disabling support for feedback tensors.\n",
      "I0000 00:00:1725881154.461935   11994 gl_context_egl.cc:85] Successfully initialized EGL. Major : 1 Minor: 5\n",
      "I0000 00:00:1725881154.472762   13901 gl_context.cc:357] GL version: 3.2 (OpenGL ES 3.2 NVIDIA 535.146.02), renderer: NVIDIA GeForce RTX 3060/PCIe/SSE2\n",
      "W0000 00:00:1725881154.474277   13893 inference_feedback_manager.cc:114] Feedback manager requires a model with a single signature inference. Disabling support for feedback tensors.\n",
      "W0000 00:00:1725881154.485477   13894 inference_feedback_manager.cc:114] Feedback manager requires a model with a single signature inference. Disabling support for feedback tensors.\n"
     ]
    },
    {
     "name": "stdout",
     "output_type": "stream",
     "text": [
      "INFO:     127.0.0.1:38330 - \"POST /pose-estimate HTTP/1.1\" 200 OK\n",
      "INFO:     127.0.0.1:38332 - \"POST /eye-tracking HTTP/1.1\" 200 OK\n",
      "INFO:     127.0.0.1:38340 - \"POST /pose-estimate HTTP/1.1\" 200 OK\n",
      "INFO:     127.0.0.1:38342 - \"POST /eye-tracking HTTP/1.1\" 200 OK\n",
      "INFO:     127.0.0.1:38350 - \"POST /pose-estimate HTTP/1.1\" 200 OK\n",
      "INFO:     127.0.0.1:38356 - \"POST /eye-tracking HTTP/1.1\" 200 OK\n"
     ]
    },
    {
     "name": "stderr",
     "output_type": "stream",
     "text": [
      "I0000 00:00:1725881154.553217   11994 gl_context_egl.cc:85] Successfully initialized EGL. Major : 1 Minor: 5\n",
      "I0000 00:00:1725881154.571086   13914 gl_context.cc:357] GL version: 3.2 (OpenGL ES 3.2 NVIDIA 535.146.02), renderer: NVIDIA GeForce RTX 3060/PCIe/SSE2\n",
      "W0000 00:00:1725881154.573862   13903 inference_feedback_manager.cc:114] Feedback manager requires a model with a single signature inference. Disabling support for feedback tensors.\n",
      "W0000 00:00:1725881154.584435   13904 inference_feedback_manager.cc:114] Feedback manager requires a model with a single signature inference. Disabling support for feedback tensors.\n",
      "I0000 00:00:1725881154.647615   11994 gl_context_egl.cc:85] Successfully initialized EGL. Major : 1 Minor: 5\n",
      "I0000 00:00:1725881154.659815   13927 gl_context.cc:357] GL version: 3.2 (OpenGL ES 3.2 NVIDIA 535.146.02), renderer: NVIDIA GeForce RTX 3060/PCIe/SSE2\n",
      "W0000 00:00:1725881154.662241   13926 inference_feedback_manager.cc:114] Feedback manager requires a model with a single signature inference. Disabling support for feedback tensors.\n",
      "W0000 00:00:1725881154.672926   13922 inference_feedback_manager.cc:114] Feedback manager requires a model with a single signature inference. Disabling support for feedback tensors.\n",
      "I0000 00:00:1725881154.737057   11994 gl_context_egl.cc:85] Successfully initialized EGL. Major : 1 Minor: 5\n",
      "I0000 00:00:1725881154.747967   13941 gl_context.cc:357] GL version: 3.2 (OpenGL ES 3.2 NVIDIA 535.146.02), renderer: NVIDIA GeForce RTX 3060/PCIe/SSE2\n",
      "W0000 00:00:1725881154.750712   13937 inference_feedback_manager.cc:114] Feedback manager requires a model with a single signature inference. Disabling support for feedback tensors.\n",
      "W0000 00:00:1725881154.761507   13938 inference_feedback_manager.cc:114] Feedback manager requires a model with a single signature inference. Disabling support for feedback tensors.\n"
     ]
    },
    {
     "name": "stdout",
     "output_type": "stream",
     "text": [
      "INFO:     127.0.0.1:38360 - \"POST /pose-estimate HTTP/1.1\" 200 OK\n",
      "INFO:     127.0.0.1:38374 - \"POST /eye-tracking HTTP/1.1\" 200 OK\n",
      "INFO:     127.0.0.1:38384 - \"POST /pose-estimate HTTP/1.1\" 200 OK\n",
      "INFO:     127.0.0.1:38392 - \"POST /eye-tracking HTTP/1.1\" 200 OK\n",
      "INFO:     127.0.0.1:38394 - \"POST /pose-estimate HTTP/1.1\" 200 OK\n",
      "INFO:     127.0.0.1:38404 - \"POST /eye-tracking HTTP/1.1\" 200 OK\n"
     ]
    },
    {
     "name": "stderr",
     "output_type": "stream",
     "text": [
      "I0000 00:00:1725881154.824086   11994 gl_context_egl.cc:85] Successfully initialized EGL. Major : 1 Minor: 5\n",
      "I0000 00:00:1725881154.835177   13954 gl_context.cc:357] GL version: 3.2 (OpenGL ES 3.2 NVIDIA 535.146.02), renderer: NVIDIA GeForce RTX 3060/PCIe/SSE2\n",
      "W0000 00:00:1725881154.837905   13945 inference_feedback_manager.cc:114] Feedback manager requires a model with a single signature inference. Disabling support for feedback tensors.\n",
      "W0000 00:00:1725881154.848510   13944 inference_feedback_manager.cc:114] Feedback manager requires a model with a single signature inference. Disabling support for feedback tensors.\n",
      "I0000 00:00:1725881154.911913   11994 gl_context_egl.cc:85] Successfully initialized EGL. Major : 1 Minor: 5\n",
      "I0000 00:00:1725881154.924526   13967 gl_context.cc:357] GL version: 3.2 (OpenGL ES 3.2 NVIDIA 535.146.02), renderer: NVIDIA GeForce RTX 3060/PCIe/SSE2\n",
      "W0000 00:00:1725881154.927233   13959 inference_feedback_manager.cc:114] Feedback manager requires a model with a single signature inference. Disabling support for feedback tensors.\n",
      "W0000 00:00:1725881154.937729   13955 inference_feedback_manager.cc:114] Feedback manager requires a model with a single signature inference. Disabling support for feedback tensors.\n",
      "I0000 00:00:1725881154.999883   11994 gl_context_egl.cc:85] Successfully initialized EGL. Major : 1 Minor: 5\n",
      "I0000 00:00:1725881155.010986   13980 gl_context.cc:357] GL version: 3.2 (OpenGL ES 3.2 NVIDIA 535.146.02), renderer: NVIDIA GeForce RTX 3060/PCIe/SSE2\n",
      "W0000 00:00:1725881155.013907   13974 inference_feedback_manager.cc:114] Feedback manager requires a model with a single signature inference. Disabling support for feedback tensors.\n",
      "W0000 00:00:1725881155.026229   13969 inference_feedback_manager.cc:114] Feedback manager requires a model with a single signature inference. Disabling support for feedback tensors.\n"
     ]
    },
    {
     "name": "stdout",
     "output_type": "stream",
     "text": [
      "INFO:     127.0.0.1:38420 - \"POST /pose-estimate HTTP/1.1\" 200 OK\n",
      "INFO:     127.0.0.1:38424 - \"POST /eye-tracking HTTP/1.1\" 200 OK\n",
      "INFO:     127.0.0.1:38432 - \"POST /pose-estimate HTTP/1.1\" 200 OK\n",
      "INFO:     127.0.0.1:38448 - \"POST /eye-tracking HTTP/1.1\" 200 OK\n",
      "INFO:     127.0.0.1:38458 - \"POST /pose-estimate HTTP/1.1\" 200 OK\n",
      "INFO:     127.0.0.1:38470 - \"POST /eye-tracking HTTP/1.1\" 200 OK\n"
     ]
    },
    {
     "name": "stderr",
     "output_type": "stream",
     "text": [
      "I0000 00:00:1725881155.091385   11994 gl_context_egl.cc:85] Successfully initialized EGL. Major : 1 Minor: 5\n",
      "I0000 00:00:1725881155.102773   13993 gl_context.cc:357] GL version: 3.2 (OpenGL ES 3.2 NVIDIA 535.146.02), renderer: NVIDIA GeForce RTX 3060/PCIe/SSE2\n",
      "W0000 00:00:1725881155.104581   13988 inference_feedback_manager.cc:114] Feedback manager requires a model with a single signature inference. Disabling support for feedback tensors.\n",
      "W0000 00:00:1725881155.110650   13987 inference_feedback_manager.cc:114] Feedback manager requires a model with a single signature inference. Disabling support for feedback tensors.\n",
      "I0000 00:00:1725881155.174951   11994 gl_context_egl.cc:85] Successfully initialized EGL. Major : 1 Minor: 5\n",
      "I0000 00:00:1725881155.186231   14006 gl_context.cc:357] GL version: 3.2 (OpenGL ES 3.2 NVIDIA 535.146.02), renderer: NVIDIA GeForce RTX 3060/PCIe/SSE2\n",
      "W0000 00:00:1725881155.188595   13999 inference_feedback_manager.cc:114] Feedback manager requires a model with a single signature inference. Disabling support for feedback tensors.\n",
      "W0000 00:00:1725881155.200916   13994 inference_feedback_manager.cc:114] Feedback manager requires a model with a single signature inference. Disabling support for feedback tensors.\n",
      "I0000 00:00:1725881155.267267   11994 gl_context_egl.cc:85] Successfully initialized EGL. Major : 1 Minor: 5\n",
      "I0000 00:00:1725881155.284368   14019 gl_context.cc:357] GL version: 3.2 (OpenGL ES 3.2 NVIDIA 535.146.02), renderer: NVIDIA GeForce RTX 3060/PCIe/SSE2\n",
      "W0000 00:00:1725881155.286645   14010 inference_feedback_manager.cc:114] Feedback manager requires a model with a single signature inference. Disabling support for feedback tensors.\n",
      "W0000 00:00:1725881155.297523   14009 inference_feedback_manager.cc:114] Feedback manager requires a model with a single signature inference. Disabling support for feedback tensors.\n"
     ]
    },
    {
     "name": "stdout",
     "output_type": "stream",
     "text": [
      "INFO:     127.0.0.1:38472 - \"POST /pose-estimate HTTP/1.1\" 200 OK\n",
      "INFO:     127.0.0.1:38480 - \"POST /eye-tracking HTTP/1.1\" 200 OK\n",
      "INFO:     127.0.0.1:38488 - \"POST /pose-estimate HTTP/1.1\" 200 OK\n",
      "INFO:     127.0.0.1:38492 - \"POST /eye-tracking HTTP/1.1\" 200 OK\n",
      "INFO:     127.0.0.1:38504 - \"POST /pose-estimate HTTP/1.1\" 200 OK\n"
     ]
    },
    {
     "name": "stderr",
     "output_type": "stream",
     "text": [
      "I0000 00:00:1725881155.363483   11994 gl_context_egl.cc:85] Successfully initialized EGL. Major : 1 Minor: 5\n",
      "I0000 00:00:1725881155.374674   14033 gl_context.cc:357] GL version: 3.2 (OpenGL ES 3.2 NVIDIA 535.146.02), renderer: NVIDIA GeForce RTX 3060/PCIe/SSE2\n",
      "W0000 00:00:1725881155.376200   14026 inference_feedback_manager.cc:114] Feedback manager requires a model with a single signature inference. Disabling support for feedback tensors.\n",
      "W0000 00:00:1725881155.387624   14023 inference_feedback_manager.cc:114] Feedback manager requires a model with a single signature inference. Disabling support for feedback tensors.\n",
      "I0000 00:00:1725881155.457020   11994 gl_context_egl.cc:85] Successfully initialized EGL. Major : 1 Minor: 5\n",
      "I0000 00:00:1725881155.471554   14048 gl_context.cc:357] GL version: 3.2 (OpenGL ES 3.2 NVIDIA 535.146.02), renderer: NVIDIA GeForce RTX 3060/PCIe/SSE2\n",
      "W0000 00:00:1725881155.474200   14037 inference_feedback_manager.cc:114] Feedback manager requires a model with a single signature inference. Disabling support for feedback tensors.\n",
      "W0000 00:00:1725881155.485078   14036 inference_feedback_manager.cc:114] Feedback manager requires a model with a single signature inference. Disabling support for feedback tensors.\n",
      "I0000 00:00:1725881155.552496   11994 gl_context_egl.cc:85] Successfully initialized EGL. Major : 1 Minor: 5\n",
      "I0000 00:00:1725881155.563840   14061 gl_context.cc:357] GL version: 3.2 (OpenGL ES 3.2 NVIDIA 535.146.02), renderer: NVIDIA GeForce RTX 3060/PCIe/SSE2\n",
      "W0000 00:00:1725881155.566641   14051 inference_feedback_manager.cc:114] Feedback manager requires a model with a single signature inference. Disabling support for feedback tensors.\n"
     ]
    },
    {
     "name": "stdout",
     "output_type": "stream",
     "text": [
      "INFO:     127.0.0.1:38518 - \"POST /eye-tracking HTTP/1.1\" 200 OK\n",
      "INFO:     127.0.0.1:38532 - \"POST /pose-estimate HTTP/1.1\" 200 OK\n",
      "INFO:     127.0.0.1:38534 - \"POST /eye-tracking HTTP/1.1\" 200 OK\n",
      "INFO:     127.0.0.1:38538 - \"POST /pose-estimate HTTP/1.1\" 200 OK\n",
      "INFO:     127.0.0.1:38552 - \"POST /eye-tracking HTTP/1.1\" 200 OK\n"
     ]
    },
    {
     "name": "stderr",
     "output_type": "stream",
     "text": [
      "W0000 00:00:1725881155.577124   14050 inference_feedback_manager.cc:114] Feedback manager requires a model with a single signature inference. Disabling support for feedback tensors.\n",
      "I0000 00:00:1725881155.644706   11994 gl_context_egl.cc:85] Successfully initialized EGL. Major : 1 Minor: 5\n",
      "I0000 00:00:1725881155.656074   14074 gl_context.cc:357] GL version: 3.2 (OpenGL ES 3.2 NVIDIA 535.146.02), renderer: NVIDIA GeForce RTX 3060/PCIe/SSE2\n",
      "W0000 00:00:1725881155.658181   14065 inference_feedback_manager.cc:114] Feedback manager requires a model with a single signature inference. Disabling support for feedback tensors.\n",
      "W0000 00:00:1725881155.669159   14066 inference_feedback_manager.cc:114] Feedback manager requires a model with a single signature inference. Disabling support for feedback tensors.\n",
      "I0000 00:00:1725881155.737740   11994 gl_context_egl.cc:85] Successfully initialized EGL. Major : 1 Minor: 5\n",
      "I0000 00:00:1725881155.748897   14087 gl_context.cc:357] GL version: 3.2 (OpenGL ES 3.2 NVIDIA 535.146.02), renderer: NVIDIA GeForce RTX 3060/PCIe/SSE2\n",
      "W0000 00:00:1725881155.750312   14078 inference_feedback_manager.cc:114] Feedback manager requires a model with a single signature inference. Disabling support for feedback tensors.\n",
      "W0000 00:00:1725881155.761848   14076 inference_feedback_manager.cc:114] Feedback manager requires a model with a single signature inference. Disabling support for feedback tensors.\n"
     ]
    },
    {
     "name": "stdout",
     "output_type": "stream",
     "text": [
      "INFO:     127.0.0.1:38556 - \"POST /pose-estimate HTTP/1.1\" 200 OK\n",
      "INFO:     127.0.0.1:38558 - \"POST /eye-tracking HTTP/1.1\" 200 OK\n",
      "INFO:     127.0.0.1:38562 - \"POST /pose-estimate HTTP/1.1\" 200 OK\n",
      "INFO:     127.0.0.1:38574 - \"POST /eye-tracking HTTP/1.1\" 200 OK\n",
      "INFO:     127.0.0.1:38578 - \"POST /pose-estimate HTTP/1.1\" 200 OK\n"
     ]
    },
    {
     "name": "stderr",
     "output_type": "stream",
     "text": [
      "I0000 00:00:1725881155.828359   11994 gl_context_egl.cc:85] Successfully initialized EGL. Major : 1 Minor: 5\n",
      "I0000 00:00:1725881155.839855   14100 gl_context.cc:357] GL version: 3.2 (OpenGL ES 3.2 NVIDIA 535.146.02), renderer: NVIDIA GeForce RTX 3060/PCIe/SSE2\n",
      "W0000 00:00:1725881155.842734   14090 inference_feedback_manager.cc:114] Feedback manager requires a model with a single signature inference. Disabling support for feedback tensors.\n",
      "W0000 00:00:1725881155.853887   14097 inference_feedback_manager.cc:114] Feedback manager requires a model with a single signature inference. Disabling support for feedback tensors.\n",
      "I0000 00:00:1725881155.923267   11994 gl_context_egl.cc:85] Successfully initialized EGL. Major : 1 Minor: 5\n",
      "I0000 00:00:1725881155.936803   14113 gl_context.cc:357] GL version: 3.2 (OpenGL ES 3.2 NVIDIA 535.146.02), renderer: NVIDIA GeForce RTX 3060/PCIe/SSE2\n",
      "W0000 00:00:1725881155.939431   14102 inference_feedback_manager.cc:114] Feedback manager requires a model with a single signature inference. Disabling support for feedback tensors.\n",
      "W0000 00:00:1725881155.950041   14104 inference_feedback_manager.cc:114] Feedback manager requires a model with a single signature inference. Disabling support for feedback tensors.\n",
      "I0000 00:00:1725881156.019364   11994 gl_context_egl.cc:85] Successfully initialized EGL. Major : 1 Minor: 5\n",
      "I0000 00:00:1725881156.031060   14126 gl_context.cc:357] GL version: 3.2 (OpenGL ES 3.2 NVIDIA 535.146.02), renderer: NVIDIA GeForce RTX 3060/PCIe/SSE2\n",
      "W0000 00:00:1725881156.033072   14121 inference_feedback_manager.cc:114] Feedback manager requires a model with a single signature inference. Disabling support for feedback tensors.\n"
     ]
    },
    {
     "name": "stdout",
     "output_type": "stream",
     "text": [
      "INFO:     127.0.0.1:38590 - \"POST /eye-tracking HTTP/1.1\" 200 OK\n",
      "INFO:     127.0.0.1:38594 - \"POST /pose-estimate HTTP/1.1\" 200 OK\n",
      "INFO:     127.0.0.1:38610 - \"POST /eye-tracking HTTP/1.1\" 200 OK\n",
      "INFO:     127.0.0.1:38614 - \"POST /pose-estimate HTTP/1.1\" 200 OK\n",
      "INFO:     127.0.0.1:38630 - \"POST /eye-tracking HTTP/1.1\" 200 OK\n"
     ]
    },
    {
     "name": "stderr",
     "output_type": "stream",
     "text": [
      "W0000 00:00:1725881156.044305   14115 inference_feedback_manager.cc:114] Feedback manager requires a model with a single signature inference. Disabling support for feedback tensors.\n",
      "I0000 00:00:1725881156.113682   11994 gl_context_egl.cc:85] Successfully initialized EGL. Major : 1 Minor: 5\n",
      "I0000 00:00:1725881156.125316   14139 gl_context.cc:357] GL version: 3.2 (OpenGL ES 3.2 NVIDIA 535.146.02), renderer: NVIDIA GeForce RTX 3060/PCIe/SSE2\n",
      "W0000 00:00:1725881156.127711   14133 inference_feedback_manager.cc:114] Feedback manager requires a model with a single signature inference. Disabling support for feedback tensors.\n",
      "W0000 00:00:1725881156.139191   14138 inference_feedback_manager.cc:114] Feedback manager requires a model with a single signature inference. Disabling support for feedback tensors.\n",
      "I0000 00:00:1725881156.207317   11994 gl_context_egl.cc:85] Successfully initialized EGL. Major : 1 Minor: 5\n",
      "I0000 00:00:1725881156.219014   14152 gl_context.cc:357] GL version: 3.2 (OpenGL ES 3.2 NVIDIA 535.146.02), renderer: NVIDIA GeForce RTX 3060/PCIe/SSE2\n",
      "W0000 00:00:1725881156.221446   14149 inference_feedback_manager.cc:114] Feedback manager requires a model with a single signature inference. Disabling support for feedback tensors.\n",
      "W0000 00:00:1725881156.232090   14145 inference_feedback_manager.cc:114] Feedback manager requires a model with a single signature inference. Disabling support for feedback tensors.\n"
     ]
    },
    {
     "name": "stdout",
     "output_type": "stream",
     "text": [
      "INFO:     127.0.0.1:38644 - \"POST /pose-estimate HTTP/1.1\" 200 OK\n",
      "INFO:     127.0.0.1:38650 - \"POST /eye-tracking HTTP/1.1\" 200 OK\n",
      "INFO:     127.0.0.1:38656 - \"POST /pose-estimate HTTP/1.1\" 200 OK\n",
      "INFO:     127.0.0.1:38662 - \"POST /eye-tracking HTTP/1.1\" 200 OK\n",
      "INFO:     127.0.0.1:38668 - \"POST /pose-estimate HTTP/1.1\" 200 OK\n",
      "INFO:     127.0.0.1:38676 - \"POST /eye-tracking HTTP/1.1\" 200 OK\n"
     ]
    },
    {
     "name": "stderr",
     "output_type": "stream",
     "text": [
      "I0000 00:00:1725881156.300879   11994 gl_context_egl.cc:85] Successfully initialized EGL. Major : 1 Minor: 5\n",
      "I0000 00:00:1725881156.312622   14165 gl_context.cc:357] GL version: 3.2 (OpenGL ES 3.2 NVIDIA 535.146.02), renderer: NVIDIA GeForce RTX 3060/PCIe/SSE2\n",
      "W0000 00:00:1725881156.315441   14155 inference_feedback_manager.cc:114] Feedback manager requires a model with a single signature inference. Disabling support for feedback tensors.\n",
      "W0000 00:00:1725881156.326148   14153 inference_feedback_manager.cc:114] Feedback manager requires a model with a single signature inference. Disabling support for feedback tensors.\n",
      "I0000 00:00:1725881156.391456   11994 gl_context_egl.cc:85] Successfully initialized EGL. Major : 1 Minor: 5\n",
      "I0000 00:00:1725881156.402947   14178 gl_context.cc:357] GL version: 3.2 (OpenGL ES 3.2 NVIDIA 535.146.02), renderer: NVIDIA GeForce RTX 3060/PCIe/SSE2\n",
      "W0000 00:00:1725881156.404600   14173 inference_feedback_manager.cc:114] Feedback manager requires a model with a single signature inference. Disabling support for feedback tensors.\n",
      "W0000 00:00:1725881156.416337   14172 inference_feedback_manager.cc:114] Feedback manager requires a model with a single signature inference. Disabling support for feedback tensors.\n",
      "I0000 00:00:1725881156.485861   11994 gl_context_egl.cc:85] Successfully initialized EGL. Major : 1 Minor: 5\n",
      "I0000 00:00:1725881156.497833   14191 gl_context.cc:357] GL version: 3.2 (OpenGL ES 3.2 NVIDIA 535.146.02), renderer: NVIDIA GeForce RTX 3060/PCIe/SSE2\n",
      "W0000 00:00:1725881156.499554   14181 inference_feedback_manager.cc:114] Feedback manager requires a model with a single signature inference. Disabling support for feedback tensors.\n",
      "W0000 00:00:1725881156.505611   14180 inference_feedback_manager.cc:114] Feedback manager requires a model with a single signature inference. Disabling support for feedback tensors.\n"
     ]
    },
    {
     "name": "stdout",
     "output_type": "stream",
     "text": [
      "INFO:     127.0.0.1:38684 - \"POST /pose-estimate HTTP/1.1\" 200 OK\n",
      "INFO:     127.0.0.1:38686 - \"POST /eye-tracking HTTP/1.1\" 200 OK\n",
      "INFO:     127.0.0.1:38702 - \"POST /pose-estimate HTTP/1.1\" 200 OK\n",
      "INFO:     127.0.0.1:38710 - \"POST /eye-tracking HTTP/1.1\" 200 OK\n",
      "INFO:     127.0.0.1:38726 - \"POST /pose-estimate HTTP/1.1\" 200 OK\n"
     ]
    },
    {
     "name": "stderr",
     "output_type": "stream",
     "text": [
      "I0000 00:00:1725881156.574877   11994 gl_context_egl.cc:85] Successfully initialized EGL. Major : 1 Minor: 5\n",
      "I0000 00:00:1725881156.586855   14204 gl_context.cc:357] GL version: 3.2 (OpenGL ES 3.2 NVIDIA 535.146.02), renderer: NVIDIA GeForce RTX 3060/PCIe/SSE2\n",
      "W0000 00:00:1725881156.589613   14192 inference_feedback_manager.cc:114] Feedback manager requires a model with a single signature inference. Disabling support for feedback tensors.\n",
      "W0000 00:00:1725881156.599928   14193 inference_feedback_manager.cc:114] Feedback manager requires a model with a single signature inference. Disabling support for feedback tensors.\n",
      "I0000 00:00:1725881156.671253   11994 gl_context_egl.cc:85] Successfully initialized EGL. Major : 1 Minor: 5\n",
      "I0000 00:00:1725881156.698157   14218 gl_context.cc:357] GL version: 3.2 (OpenGL ES 3.2 NVIDIA 535.146.02), renderer: NVIDIA GeForce RTX 3060/PCIe/SSE2\n",
      "W0000 00:00:1725881156.701030   14212 inference_feedback_manager.cc:114] Feedback manager requires a model with a single signature inference. Disabling support for feedback tensors.\n",
      "W0000 00:00:1725881156.711271   14206 inference_feedback_manager.cc:114] Feedback manager requires a model with a single signature inference. Disabling support for feedback tensors.\n",
      "I0000 00:00:1725881156.778399   11994 gl_context_egl.cc:85] Successfully initialized EGL. Major : 1 Minor: 5\n"
     ]
    },
    {
     "name": "stdout",
     "output_type": "stream",
     "text": [
      "INFO:     127.0.0.1:38740 - \"POST /eye-tracking HTTP/1.1\" 200 OK\n",
      "INFO:     127.0.0.1:38742 - \"POST /pose-estimate HTTP/1.1\" 200 OK\n",
      "INFO:     127.0.0.1:38746 - \"POST /eye-tracking HTTP/1.1\" 200 OK\n",
      "INFO:     127.0.0.1:38750 - \"POST /pose-estimate HTTP/1.1\" 200 OK\n"
     ]
    },
    {
     "name": "stderr",
     "output_type": "stream",
     "text": [
      "I0000 00:00:1725881156.790082   14231 gl_context.cc:357] GL version: 3.2 (OpenGL ES 3.2 NVIDIA 535.146.02), renderer: NVIDIA GeForce RTX 3060/PCIe/SSE2\n",
      "W0000 00:00:1725881156.792403   14221 inference_feedback_manager.cc:114] Feedback manager requires a model with a single signature inference. Disabling support for feedback tensors.\n",
      "W0000 00:00:1725881156.805196   14219 inference_feedback_manager.cc:114] Feedback manager requires a model with a single signature inference. Disabling support for feedback tensors.\n",
      "I0000 00:00:1725881156.874940   11994 gl_context_egl.cc:85] Successfully initialized EGL. Major : 1 Minor: 5\n",
      "I0000 00:00:1725881156.886776   14244 gl_context.cc:357] GL version: 3.2 (OpenGL ES 3.2 NVIDIA 535.146.02), renderer: NVIDIA GeForce RTX 3060/PCIe/SSE2\n",
      "W0000 00:00:1725881156.889670   14234 inference_feedback_manager.cc:114] Feedback manager requires a model with a single signature inference. Disabling support for feedback tensors.\n",
      "W0000 00:00:1725881156.900269   14232 inference_feedback_manager.cc:114] Feedback manager requires a model with a single signature inference. Disabling support for feedback tensors.\n",
      "I0000 00:00:1725881156.969769   11994 gl_context_egl.cc:85] Successfully initialized EGL. Major : 1 Minor: 5\n",
      "I0000 00:00:1725881156.982013   14257 gl_context.cc:357] GL version: 3.2 (OpenGL ES 3.2 NVIDIA 535.146.02), renderer: NVIDIA GeForce RTX 3060/PCIe/SSE2\n",
      "W0000 00:00:1725881156.984941   14247 inference_feedback_manager.cc:114] Feedback manager requires a model with a single signature inference. Disabling support for feedback tensors.\n"
     ]
    },
    {
     "name": "stdout",
     "output_type": "stream",
     "text": [
      "INFO:     127.0.0.1:38758 - \"POST /eye-tracking HTTP/1.1\" 200 OK\n",
      "INFO:     127.0.0.1:39970 - \"POST /pose-estimate HTTP/1.1\" 200 OK\n",
      "INFO:     127.0.0.1:39982 - \"POST /eye-tracking HTTP/1.1\" 200 OK\n",
      "INFO:     127.0.0.1:39996 - \"POST /pose-estimate HTTP/1.1\" 200 OK\n",
      "INFO:     127.0.0.1:40010 - \"POST /eye-tracking HTTP/1.1\" 200 OK\n"
     ]
    },
    {
     "name": "stderr",
     "output_type": "stream",
     "text": [
      "W0000 00:00:1725881156.995614   14245 inference_feedback_manager.cc:114] Feedback manager requires a model with a single signature inference. Disabling support for feedback tensors.\n",
      "I0000 00:00:1725881157.065842   11994 gl_context_egl.cc:85] Successfully initialized EGL. Major : 1 Minor: 5\n",
      "I0000 00:00:1725881157.077439   14270 gl_context.cc:357] GL version: 3.2 (OpenGL ES 3.2 NVIDIA 535.146.02), renderer: NVIDIA GeForce RTX 3060/PCIe/SSE2\n",
      "W0000 00:00:1725881157.079644   14260 inference_feedback_manager.cc:114] Feedback manager requires a model with a single signature inference. Disabling support for feedback tensors.\n",
      "W0000 00:00:1725881157.090355   14259 inference_feedback_manager.cc:114] Feedback manager requires a model with a single signature inference. Disabling support for feedback tensors.\n",
      "I0000 00:00:1725881157.159773   11994 gl_context_egl.cc:85] Successfully initialized EGL. Major : 1 Minor: 5\n",
      "I0000 00:00:1725881157.171981   14283 gl_context.cc:357] GL version: 3.2 (OpenGL ES 3.2 NVIDIA 535.146.02), renderer: NVIDIA GeForce RTX 3060/PCIe/SSE2\n",
      "W0000 00:00:1725881157.173703   14274 inference_feedback_manager.cc:114] Feedback manager requires a model with a single signature inference. Disabling support for feedback tensors.\n",
      "W0000 00:00:1725881157.180946   14278 inference_feedback_manager.cc:114] Feedback manager requires a model with a single signature inference. Disabling support for feedback tensors.\n"
     ]
    },
    {
     "name": "stdout",
     "output_type": "stream",
     "text": [
      "INFO:     127.0.0.1:40026 - \"POST /pose-estimate HTTP/1.1\" 200 OK\n",
      "INFO:     127.0.0.1:40038 - \"POST /eye-tracking HTTP/1.1\" 200 OK\n",
      "INFO:     127.0.0.1:40048 - \"POST /pose-estimate HTTP/1.1\" 200 OK\n",
      "INFO:     127.0.0.1:40050 - \"POST /eye-tracking HTTP/1.1\" 200 OK\n",
      "INFO:     127.0.0.1:40064 - \"POST /pose-estimate HTTP/1.1\" 200 OK\n"
     ]
    },
    {
     "name": "stderr",
     "output_type": "stream",
     "text": [
      "I0000 00:00:1725881157.250537   11994 gl_context_egl.cc:85] Successfully initialized EGL. Major : 1 Minor: 5\n",
      "I0000 00:00:1725881157.298390   14296 gl_context.cc:357] GL version: 3.2 (OpenGL ES 3.2 NVIDIA 535.146.02), renderer: NVIDIA GeForce RTX 3060/PCIe/SSE2\n",
      "W0000 00:00:1725881157.301119   14285 inference_feedback_manager.cc:114] Feedback manager requires a model with a single signature inference. Disabling support for feedback tensors.\n",
      "W0000 00:00:1725881157.311533   14286 inference_feedback_manager.cc:114] Feedback manager requires a model with a single signature inference. Disabling support for feedback tensors.\n",
      "I0000 00:00:1725881157.383494   11994 gl_context_egl.cc:85] Successfully initialized EGL. Major : 1 Minor: 5\n",
      "I0000 00:00:1725881157.395546   14309 gl_context.cc:357] GL version: 3.2 (OpenGL ES 3.2 NVIDIA 535.146.02), renderer: NVIDIA GeForce RTX 3060/PCIe/SSE2\n",
      "W0000 00:00:1725881157.397883   14302 inference_feedback_manager.cc:114] Feedback manager requires a model with a single signature inference. Disabling support for feedback tensors.\n",
      "W0000 00:00:1725881157.408680   14298 inference_feedback_manager.cc:114] Feedback manager requires a model with a single signature inference. Disabling support for feedback tensors.\n",
      "I0000 00:00:1725881157.477006   11994 gl_context_egl.cc:85] Successfully initialized EGL. Major : 1 Minor: 5\n",
      "I0000 00:00:1725881157.490282   14322 gl_context.cc:357] GL version: 3.2 (OpenGL ES 3.2 NVIDIA 535.146.02), renderer: NVIDIA GeForce RTX 3060/PCIe/SSE2\n",
      "W0000 00:00:1725881157.493006   14315 inference_feedback_manager.cc:114] Feedback manager requires a model with a single signature inference. Disabling support for feedback tensors.\n"
     ]
    },
    {
     "name": "stdout",
     "output_type": "stream",
     "text": [
      "INFO:     127.0.0.1:40078 - \"POST /eye-tracking HTTP/1.1\" 200 OK\n",
      "INFO:     127.0.0.1:40084 - \"POST /pose-estimate HTTP/1.1\" 200 OK\n",
      "INFO:     127.0.0.1:40090 - \"POST /eye-tracking HTTP/1.1\" 200 OK\n",
      "INFO:     127.0.0.1:40102 - \"POST /pose-estimate HTTP/1.1\" 200 OK\n",
      "INFO:     127.0.0.1:40118 - \"POST /eye-tracking HTTP/1.1\" 200 OK\n"
     ]
    },
    {
     "name": "stderr",
     "output_type": "stream",
     "text": [
      "W0000 00:00:1725881157.504249   14314 inference_feedback_manager.cc:114] Feedback manager requires a model with a single signature inference. Disabling support for feedback tensors.\n",
      "I0000 00:00:1725881157.573076   11994 gl_context_egl.cc:85] Successfully initialized EGL. Major : 1 Minor: 5\n",
      "I0000 00:00:1725881157.585145   14335 gl_context.cc:357] GL version: 3.2 (OpenGL ES 3.2 NVIDIA 535.146.02), renderer: NVIDIA GeForce RTX 3060/PCIe/SSE2\n",
      "W0000 00:00:1725881157.588010   14330 inference_feedback_manager.cc:114] Feedback manager requires a model with a single signature inference. Disabling support for feedback tensors.\n",
      "W0000 00:00:1725881157.599179   14331 inference_feedback_manager.cc:114] Feedback manager requires a model with a single signature inference. Disabling support for feedback tensors.\n",
      "I0000 00:00:1725881157.666857   11994 gl_context_egl.cc:85] Successfully initialized EGL. Major : 1 Minor: 5\n",
      "I0000 00:00:1725881157.684850   14348 gl_context.cc:357] GL version: 3.2 (OpenGL ES 3.2 NVIDIA 535.146.02), renderer: NVIDIA GeForce RTX 3060/PCIe/SSE2\n",
      "W0000 00:00:1725881157.687607   14338 inference_feedback_manager.cc:114] Feedback manager requires a model with a single signature inference. Disabling support for feedback tensors.\n",
      "W0000 00:00:1725881157.698351   14337 inference_feedback_manager.cc:114] Feedback manager requires a model with a single signature inference. Disabling support for feedback tensors.\n"
     ]
    },
    {
     "name": "stdout",
     "output_type": "stream",
     "text": [
      "INFO:     127.0.0.1:40132 - \"POST /pose-estimate HTTP/1.1\" 200 OK\n",
      "INFO:     127.0.0.1:40136 - \"POST /eye-tracking HTTP/1.1\" 200 OK\n",
      "INFO:     127.0.0.1:40144 - \"POST /pose-estimate HTTP/1.1\" 200 OK\n",
      "INFO:     127.0.0.1:40154 - \"POST /eye-tracking HTTP/1.1\" 200 OK\n",
      "INFO:     127.0.0.1:40160 - \"POST /pose-estimate HTTP/1.1\" 200 OK\n",
      "INFO:     127.0.0.1:40166 - \"POST /eye-tracking HTTP/1.1\" 200 OK\n"
     ]
    },
    {
     "name": "stderr",
     "output_type": "stream",
     "text": [
      "I0000 00:00:1725881157.765407   11994 gl_context_egl.cc:85] Successfully initialized EGL. Major : 1 Minor: 5\n",
      "I0000 00:00:1725881157.776979   14361 gl_context.cc:357] GL version: 3.2 (OpenGL ES 3.2 NVIDIA 535.146.02), renderer: NVIDIA GeForce RTX 3060/PCIe/SSE2\n",
      "W0000 00:00:1725881157.780764   14351 inference_feedback_manager.cc:114] Feedback manager requires a model with a single signature inference. Disabling support for feedback tensors.\n",
      "W0000 00:00:1725881157.791776   14354 inference_feedback_manager.cc:114] Feedback manager requires a model with a single signature inference. Disabling support for feedback tensors.\n",
      "I0000 00:00:1725881157.863170   11994 gl_context_egl.cc:85] Successfully initialized EGL. Major : 1 Minor: 5\n",
      "I0000 00:00:1725881157.875311   14374 gl_context.cc:357] GL version: 3.2 (OpenGL ES 3.2 NVIDIA 535.146.02), renderer: NVIDIA GeForce RTX 3060/PCIe/SSE2\n",
      "W0000 00:00:1725881157.877075   14369 inference_feedback_manager.cc:114] Feedback manager requires a model with a single signature inference. Disabling support for feedback tensors.\n",
      "W0000 00:00:1725881157.887953   14364 inference_feedback_manager.cc:114] Feedback manager requires a model with a single signature inference. Disabling support for feedback tensors.\n",
      "I0000 00:00:1725881157.953740   11994 gl_context_egl.cc:85] Successfully initialized EGL. Major : 1 Minor: 5\n",
      "I0000 00:00:1725881157.966061   14387 gl_context.cc:357] GL version: 3.2 (OpenGL ES 3.2 NVIDIA 535.146.02), renderer: NVIDIA GeForce RTX 3060/PCIe/SSE2\n",
      "W0000 00:00:1725881157.967695   14377 inference_feedback_manager.cc:114] Feedback manager requires a model with a single signature inference. Disabling support for feedback tensors.\n",
      "W0000 00:00:1725881157.973762   14376 inference_feedback_manager.cc:114] Feedback manager requires a model with a single signature inference. Disabling support for feedback tensors.\n"
     ]
    },
    {
     "name": "stdout",
     "output_type": "stream",
     "text": [
      "INFO:     127.0.0.1:40170 - \"POST /pose-estimate HTTP/1.1\" 200 OK\n",
      "INFO:     127.0.0.1:40172 - \"POST /eye-tracking HTTP/1.1\" 200 OK\n",
      "INFO:     127.0.0.1:40178 - \"POST /pose-estimate HTTP/1.1\" 200 OK\n",
      "INFO:     127.0.0.1:40188 - \"POST /eye-tracking HTTP/1.1\" 200 OK\n",
      "INFO:     127.0.0.1:40196 - \"POST /pose-estimate HTTP/1.1\" 200 OK\n"
     ]
    },
    {
     "name": "stderr",
     "output_type": "stream",
     "text": [
      "I0000 00:00:1725881158.044783   11994 gl_context_egl.cc:85] Successfully initialized EGL. Major : 1 Minor: 5\n",
      "I0000 00:00:1725881158.057128   14400 gl_context.cc:357] GL version: 3.2 (OpenGL ES 3.2 NVIDIA 535.146.02), renderer: NVIDIA GeForce RTX 3060/PCIe/SSE2\n",
      "W0000 00:00:1725881158.060015   14389 inference_feedback_manager.cc:114] Feedback manager requires a model with a single signature inference. Disabling support for feedback tensors.\n",
      "W0000 00:00:1725881158.070510   14388 inference_feedback_manager.cc:114] Feedback manager requires a model with a single signature inference. Disabling support for feedback tensors.\n",
      "I0000 00:00:1725881158.139249   11994 gl_context_egl.cc:85] Successfully initialized EGL. Major : 1 Minor: 5\n",
      "I0000 00:00:1725881158.151741   14413 gl_context.cc:357] GL version: 3.2 (OpenGL ES 3.2 NVIDIA 535.146.02), renderer: NVIDIA GeForce RTX 3060/PCIe/SSE2\n",
      "W0000 00:00:1725881158.154458   14404 inference_feedback_manager.cc:114] Feedback manager requires a model with a single signature inference. Disabling support for feedback tensors.\n",
      "W0000 00:00:1725881158.164826   14409 inference_feedback_manager.cc:114] Feedback manager requires a model with a single signature inference. Disabling support for feedback tensors.\n",
      "I0000 00:00:1725881158.234702   11994 gl_context_egl.cc:85] Successfully initialized EGL. Major : 1 Minor: 5\n",
      "I0000 00:00:1725881158.247246   14426 gl_context.cc:357] GL version: 3.2 (OpenGL ES 3.2 NVIDIA 535.146.02), renderer: NVIDIA GeForce RTX 3060/PCIe/SSE2\n",
      "W0000 00:00:1725881158.249116   14416 inference_feedback_manager.cc:114] Feedback manager requires a model with a single signature inference. Disabling support for feedback tensors.\n"
     ]
    },
    {
     "name": "stdout",
     "output_type": "stream",
     "text": [
      "INFO:     127.0.0.1:40198 - \"POST /eye-tracking HTTP/1.1\" 200 OK\n",
      "INFO:     127.0.0.1:40206 - \"POST /pose-estimate HTTP/1.1\" 200 OK\n",
      "INFO:     127.0.0.1:40218 - \"POST /eye-tracking HTTP/1.1\" 200 OK\n",
      "INFO:     127.0.0.1:40224 - \"POST /pose-estimate HTTP/1.1\" 200 OK\n"
     ]
    },
    {
     "name": "stderr",
     "output_type": "stream",
     "text": [
      "W0000 00:00:1725881158.261067   14417 inference_feedback_manager.cc:114] Feedback manager requires a model with a single signature inference. Disabling support for feedback tensors.\n",
      "I0000 00:00:1725881158.331483   11994 gl_context_egl.cc:85] Successfully initialized EGL. Major : 1 Minor: 5\n",
      "I0000 00:00:1725881158.354437   14439 gl_context.cc:357] GL version: 3.2 (OpenGL ES 3.2 NVIDIA 535.146.02), renderer: NVIDIA GeForce RTX 3060/PCIe/SSE2\n",
      "W0000 00:00:1725881158.357077   14429 inference_feedback_manager.cc:114] Feedback manager requires a model with a single signature inference. Disabling support for feedback tensors.\n",
      "W0000 00:00:1725881158.367726   14431 inference_feedback_manager.cc:114] Feedback manager requires a model with a single signature inference. Disabling support for feedback tensors.\n",
      "I0000 00:00:1725881158.439291   11994 gl_context_egl.cc:85] Successfully initialized EGL. Major : 1 Minor: 5\n",
      "I0000 00:00:1725881158.451667   14452 gl_context.cc:357] GL version: 3.2 (OpenGL ES 3.2 NVIDIA 535.146.02), renderer: NVIDIA GeForce RTX 3060/PCIe/SSE2\n",
      "W0000 00:00:1725881158.455684   14447 inference_feedback_manager.cc:114] Feedback manager requires a model with a single signature inference. Disabling support for feedback tensors.\n"
     ]
    },
    {
     "name": "stdout",
     "output_type": "stream",
     "text": [
      "INFO:     127.0.0.1:40236 - \"POST /eye-tracking HTTP/1.1\" 200 OK\n",
      "INFO:     127.0.0.1:40246 - \"POST /pose-estimate HTTP/1.1\" 200 OK\n",
      "INFO:     127.0.0.1:40248 - \"POST /eye-tracking HTTP/1.1\" 200 OK\n",
      "INFO:     127.0.0.1:40256 - \"POST /pose-estimate HTTP/1.1\" 200 OK\n",
      "INFO:     127.0.0.1:40268 - \"POST /eye-tracking HTTP/1.1\" 200 OK\n"
     ]
    },
    {
     "name": "stderr",
     "output_type": "stream",
     "text": [
      "W0000 00:00:1725881158.466987   14448 inference_feedback_manager.cc:114] Feedback manager requires a model with a single signature inference. Disabling support for feedback tensors.\n",
      "I0000 00:00:1725881158.533870   11994 gl_context_egl.cc:85] Successfully initialized EGL. Major : 1 Minor: 5\n",
      "I0000 00:00:1725881158.546287   14465 gl_context.cc:357] GL version: 3.2 (OpenGL ES 3.2 NVIDIA 535.146.02), renderer: NVIDIA GeForce RTX 3060/PCIe/SSE2\n",
      "W0000 00:00:1725881158.549105   14453 inference_feedback_manager.cc:114] Feedback manager requires a model with a single signature inference. Disabling support for feedback tensors.\n",
      "W0000 00:00:1725881158.560166   14458 inference_feedback_manager.cc:114] Feedback manager requires a model with a single signature inference. Disabling support for feedback tensors.\n",
      "I0000 00:00:1725881158.627546   11994 gl_context_egl.cc:85] Successfully initialized EGL. Major : 1 Minor: 5\n",
      "I0000 00:00:1725881158.640315   14478 gl_context.cc:357] GL version: 3.2 (OpenGL ES 3.2 NVIDIA 535.146.02), renderer: NVIDIA GeForce RTX 3060/PCIe/SSE2\n",
      "W0000 00:00:1725881158.641823   14468 inference_feedback_manager.cc:114] Feedback manager requires a model with a single signature inference. Disabling support for feedback tensors.\n",
      "W0000 00:00:1725881158.652906   14475 inference_feedback_manager.cc:114] Feedback manager requires a model with a single signature inference. Disabling support for feedback tensors.\n"
     ]
    },
    {
     "name": "stdout",
     "output_type": "stream",
     "text": [
      "INFO:     127.0.0.1:40282 - \"POST /pose-estimate HTTP/1.1\" 200 OK\n",
      "INFO:     127.0.0.1:40296 - \"POST /eye-tracking HTTP/1.1\" 200 OK\n",
      "INFO:     127.0.0.1:40298 - \"POST /pose-estimate HTTP/1.1\" 200 OK\n",
      "INFO:     127.0.0.1:40310 - \"POST /eye-tracking HTTP/1.1\" 200 OK\n",
      "INFO:     127.0.0.1:40312 - \"POST /pose-estimate HTTP/1.1\" 200 OK\n"
     ]
    },
    {
     "name": "stderr",
     "output_type": "stream",
     "text": [
      "I0000 00:00:1725881158.725492   11994 gl_context_egl.cc:85] Successfully initialized EGL. Major : 1 Minor: 5\n",
      "I0000 00:00:1725881158.738015   14492 gl_context.cc:357] GL version: 3.2 (OpenGL ES 3.2 NVIDIA 535.146.02), renderer: NVIDIA GeForce RTX 3060/PCIe/SSE2\n",
      "W0000 00:00:1725881158.740382   14491 inference_feedback_manager.cc:114] Feedback manager requires a model with a single signature inference. Disabling support for feedback tensors.\n",
      "W0000 00:00:1725881158.751281   14486 inference_feedback_manager.cc:114] Feedback manager requires a model with a single signature inference. Disabling support for feedback tensors.\n",
      "I0000 00:00:1725881158.821484   11994 gl_context_egl.cc:85] Successfully initialized EGL. Major : 1 Minor: 5\n",
      "I0000 00:00:1725881158.834392   14505 gl_context.cc:357] GL version: 3.2 (OpenGL ES 3.2 NVIDIA 535.146.02), renderer: NVIDIA GeForce RTX 3060/PCIe/SSE2\n",
      "W0000 00:00:1725881158.837212   14494 inference_feedback_manager.cc:114] Feedback manager requires a model with a single signature inference. Disabling support for feedback tensors.\n",
      "W0000 00:00:1725881158.847756   14493 inference_feedback_manager.cc:114] Feedback manager requires a model with a single signature inference. Disabling support for feedback tensors.\n",
      "I0000 00:00:1725881158.914248   11994 gl_context_egl.cc:85] Successfully initialized EGL. Major : 1 Minor: 5\n",
      "I0000 00:00:1725881158.928257   14518 gl_context.cc:357] GL version: 3.2 (OpenGL ES 3.2 NVIDIA 535.146.02), renderer: NVIDIA GeForce RTX 3060/PCIe/SSE2\n",
      "W0000 00:00:1725881158.930481   14506 inference_feedback_manager.cc:114] Feedback manager requires a model with a single signature inference. Disabling support for feedback tensors.\n"
     ]
    },
    {
     "name": "stdout",
     "output_type": "stream",
     "text": [
      "INFO:     127.0.0.1:40328 - \"POST /eye-tracking HTTP/1.1\" 200 OK\n",
      "INFO:     127.0.0.1:40342 - \"POST /pose-estimate HTTP/1.1\" 200 OK\n",
      "INFO:     127.0.0.1:40346 - \"POST /eye-tracking HTTP/1.1\" 200 OK\n",
      "INFO:     127.0.0.1:40350 - \"POST /pose-estimate HTTP/1.1\" 200 OK\n",
      "INFO:     127.0.0.1:40358 - \"POST /eye-tracking HTTP/1.1\" 200 OK\n"
     ]
    },
    {
     "name": "stderr",
     "output_type": "stream",
     "text": [
      "W0000 00:00:1725881158.941652   14516 inference_feedback_manager.cc:114] Feedback manager requires a model with a single signature inference. Disabling support for feedback tensors.\n",
      "I0000 00:00:1725881159.008657   11994 gl_context_egl.cc:85] Successfully initialized EGL. Major : 1 Minor: 5\n",
      "I0000 00:00:1725881159.021319   14531 gl_context.cc:357] GL version: 3.2 (OpenGL ES 3.2 NVIDIA 535.146.02), renderer: NVIDIA GeForce RTX 3060/PCIe/SSE2\n",
      "W0000 00:00:1725881159.024109   14521 inference_feedback_manager.cc:114] Feedback manager requires a model with a single signature inference. Disabling support for feedback tensors.\n",
      "W0000 00:00:1725881159.036245   14520 inference_feedback_manager.cc:114] Feedback manager requires a model with a single signature inference. Disabling support for feedback tensors.\n",
      "I0000 00:00:1725881159.101332   11994 gl_context_egl.cc:85] Successfully initialized EGL. Major : 1 Minor: 5\n",
      "I0000 00:00:1725881159.114186   14544 gl_context.cc:357] GL version: 3.2 (OpenGL ES 3.2 NVIDIA 535.146.02), renderer: NVIDIA GeForce RTX 3060/PCIe/SSE2\n",
      "W0000 00:00:1725881159.116810   14533 inference_feedback_manager.cc:114] Feedback manager requires a model with a single signature inference. Disabling support for feedback tensors.\n",
      "W0000 00:00:1725881159.127367   14532 inference_feedback_manager.cc:114] Feedback manager requires a model with a single signature inference. Disabling support for feedback tensors.\n"
     ]
    },
    {
     "name": "stdout",
     "output_type": "stream",
     "text": [
      "INFO:     127.0.0.1:40364 - \"POST /pose-estimate HTTP/1.1\" 200 OK\n",
      "INFO:     127.0.0.1:40370 - \"POST /eye-tracking HTTP/1.1\" 200 OK\n",
      "INFO:     127.0.0.1:40382 - \"POST /pose-estimate HTTP/1.1\" 200 OK\n",
      "INFO:     127.0.0.1:40386 - \"POST /eye-tracking HTTP/1.1\" 200 OK\n",
      "INFO:     127.0.0.1:40392 - \"POST /pose-estimate HTTP/1.1\" 200 OK\n",
      "INFO:     127.0.0.1:40406 - \"POST /eye-tracking HTTP/1.1\" 200 OK\n"
     ]
    },
    {
     "name": "stderr",
     "output_type": "stream",
     "text": [
      "I0000 00:00:1725881159.191310   11994 gl_context_egl.cc:85] Successfully initialized EGL. Major : 1 Minor: 5\n",
      "I0000 00:00:1725881159.203981   14557 gl_context.cc:357] GL version: 3.2 (OpenGL ES 3.2 NVIDIA 535.146.02), renderer: NVIDIA GeForce RTX 3060/PCIe/SSE2\n",
      "W0000 00:00:1725881159.206047   14548 inference_feedback_manager.cc:114] Feedback manager requires a model with a single signature inference. Disabling support for feedback tensors.\n",
      "W0000 00:00:1725881159.217189   14554 inference_feedback_manager.cc:114] Feedback manager requires a model with a single signature inference. Disabling support for feedback tensors.\n",
      "I0000 00:00:1725881159.282270   11994 gl_context_egl.cc:85] Successfully initialized EGL. Major : 1 Minor: 5\n",
      "I0000 00:00:1725881159.294566   14570 gl_context.cc:357] GL version: 3.2 (OpenGL ES 3.2 NVIDIA 535.146.02), renderer: NVIDIA GeForce RTX 3060/PCIe/SSE2\n",
      "W0000 00:00:1725881159.296076   14560 inference_feedback_manager.cc:114] Feedback manager requires a model with a single signature inference. Disabling support for feedback tensors.\n",
      "W0000 00:00:1725881159.307252   14558 inference_feedback_manager.cc:114] Feedback manager requires a model with a single signature inference. Disabling support for feedback tensors.\n",
      "I0000 00:00:1725881159.374395   11994 gl_context_egl.cc:85] Successfully initialized EGL. Major : 1 Minor: 5\n",
      "I0000 00:00:1725881159.387235   14583 gl_context.cc:357] GL version: 3.2 (OpenGL ES 3.2 NVIDIA 535.146.02), renderer: NVIDIA GeForce RTX 3060/PCIe/SSE2\n",
      "W0000 00:00:1725881159.389673   14573 inference_feedback_manager.cc:114] Feedback manager requires a model with a single signature inference. Disabling support for feedback tensors.\n",
      "W0000 00:00:1725881159.400370   14571 inference_feedback_manager.cc:114] Feedback manager requires a model with a single signature inference. Disabling support for feedback tensors.\n"
     ]
    },
    {
     "name": "stdout",
     "output_type": "stream",
     "text": [
      "INFO:     127.0.0.1:40408 - \"POST /pose-estimate HTTP/1.1\" 200 OK\n",
      "INFO:     127.0.0.1:40414 - \"POST /eye-tracking HTTP/1.1\" 200 OK\n",
      "INFO:     127.0.0.1:40422 - \"POST /pose-estimate HTTP/1.1\" 200 OK\n",
      "INFO:     127.0.0.1:40432 - \"POST /eye-tracking HTTP/1.1\" 200 OK\n",
      "INFO:     127.0.0.1:40442 - \"POST /pose-estimate HTTP/1.1\" 200 OK\n",
      "INFO:     127.0.0.1:40458 - \"POST /eye-tracking HTTP/1.1\" 200 OK\n"
     ]
    },
    {
     "name": "stderr",
     "output_type": "stream",
     "text": [
      "I0000 00:00:1725881159.467443   11994 gl_context_egl.cc:85] Successfully initialized EGL. Major : 1 Minor: 5\n",
      "I0000 00:00:1725881159.480210   14596 gl_context.cc:357] GL version: 3.2 (OpenGL ES 3.2 NVIDIA 535.146.02), renderer: NVIDIA GeForce RTX 3060/PCIe/SSE2\n",
      "W0000 00:00:1725881159.483124   14589 inference_feedback_manager.cc:114] Feedback manager requires a model with a single signature inference. Disabling support for feedback tensors.\n",
      "W0000 00:00:1725881159.493353   14584 inference_feedback_manager.cc:114] Feedback manager requires a model with a single signature inference. Disabling support for feedback tensors.\n",
      "I0000 00:00:1725881159.557784   11994 gl_context_egl.cc:85] Successfully initialized EGL. Major : 1 Minor: 5\n",
      "I0000 00:00:1725881159.570253   14609 gl_context.cc:357] GL version: 3.2 (OpenGL ES 3.2 NVIDIA 535.146.02), renderer: NVIDIA GeForce RTX 3060/PCIe/SSE2\n",
      "W0000 00:00:1725881159.572468   14605 inference_feedback_manager.cc:114] Feedback manager requires a model with a single signature inference. Disabling support for feedback tensors.\n",
      "W0000 00:00:1725881159.583455   14600 inference_feedback_manager.cc:114] Feedback manager requires a model with a single signature inference. Disabling support for feedback tensors.\n",
      "I0000 00:00:1725881159.649707   11994 gl_context_egl.cc:85] Successfully initialized EGL. Major : 1 Minor: 5\n",
      "I0000 00:00:1725881159.662642   14622 gl_context.cc:357] GL version: 3.2 (OpenGL ES 3.2 NVIDIA 535.146.02), renderer: NVIDIA GeForce RTX 3060/PCIe/SSE2\n",
      "W0000 00:00:1725881159.666277   14619 inference_feedback_manager.cc:114] Feedback manager requires a model with a single signature inference. Disabling support for feedback tensors.\n",
      "W0000 00:00:1725881159.676512   14614 inference_feedback_manager.cc:114] Feedback manager requires a model with a single signature inference. Disabling support for feedback tensors.\n"
     ]
    },
    {
     "name": "stdout",
     "output_type": "stream",
     "text": [
      "INFO:     127.0.0.1:40468 - \"POST /pose-estimate HTTP/1.1\" 200 OK\n",
      "INFO:     127.0.0.1:40482 - \"POST /eye-tracking HTTP/1.1\" 200 OK\n",
      "INFO:     127.0.0.1:40484 - \"POST /pose-estimate HTTP/1.1\" 200 OK\n",
      "INFO:     127.0.0.1:40496 - \"POST /eye-tracking HTTP/1.1\" 200 OK\n",
      "INFO:     127.0.0.1:40502 - \"POST /pose-estimate HTTP/1.1\" 200 OK\n",
      "INFO:     127.0.0.1:40512 - \"POST /eye-tracking HTTP/1.1\" 200 OK\n"
     ]
    },
    {
     "name": "stderr",
     "output_type": "stream",
     "text": [
      "I0000 00:00:1725881159.740136   11994 gl_context_egl.cc:85] Successfully initialized EGL. Major : 1 Minor: 5\n",
      "I0000 00:00:1725881159.753038   14635 gl_context.cc:357] GL version: 3.2 (OpenGL ES 3.2 NVIDIA 535.146.02), renderer: NVIDIA GeForce RTX 3060/PCIe/SSE2\n",
      "W0000 00:00:1725881159.755351   14623 inference_feedback_manager.cc:114] Feedback manager requires a model with a single signature inference. Disabling support for feedback tensors.\n",
      "W0000 00:00:1725881159.766325   14627 inference_feedback_manager.cc:114] Feedback manager requires a model with a single signature inference. Disabling support for feedback tensors.\n",
      "I0000 00:00:1725881159.829730   11994 gl_context_egl.cc:85] Successfully initialized EGL. Major : 1 Minor: 5\n",
      "I0000 00:00:1725881159.842738   14648 gl_context.cc:357] GL version: 3.2 (OpenGL ES 3.2 NVIDIA 535.146.02), renderer: NVIDIA GeForce RTX 3060/PCIe/SSE2\n",
      "W0000 00:00:1725881159.845573   14638 inference_feedback_manager.cc:114] Feedback manager requires a model with a single signature inference. Disabling support for feedback tensors.\n",
      "W0000 00:00:1725881159.855925   14636 inference_feedback_manager.cc:114] Feedback manager requires a model with a single signature inference. Disabling support for feedback tensors.\n",
      "I0000 00:00:1725881159.919562   11994 gl_context_egl.cc:85] Successfully initialized EGL. Major : 1 Minor: 5\n",
      "I0000 00:00:1725881159.932966   14661 gl_context.cc:357] GL version: 3.2 (OpenGL ES 3.2 NVIDIA 535.146.02), renderer: NVIDIA GeForce RTX 3060/PCIe/SSE2\n",
      "W0000 00:00:1725881159.935577   14651 inference_feedback_manager.cc:114] Feedback manager requires a model with a single signature inference. Disabling support for feedback tensors.\n",
      "W0000 00:00:1725881159.946227   14650 inference_feedback_manager.cc:114] Feedback manager requires a model with a single signature inference. Disabling support for feedback tensors.\n"
     ]
    },
    {
     "name": "stdout",
     "output_type": "stream",
     "text": [
      "INFO:     127.0.0.1:40518 - \"POST /pose-estimate HTTP/1.1\" 200 OK\n",
      "INFO:     127.0.0.1:40528 - \"POST /eye-tracking HTTP/1.1\" 200 OK\n",
      "INFO:     127.0.0.1:40542 - \"POST /pose-estimate HTTP/1.1\" 200 OK\n",
      "INFO:     127.0.0.1:40548 - \"POST /eye-tracking HTTP/1.1\" 200 OK\n",
      "INFO:     127.0.0.1:40558 - \"POST /pose-estimate HTTP/1.1\" 200 OK\n",
      "INFO:     127.0.0.1:40560 - \"POST /eye-tracking HTTP/1.1\" 200 OK\n"
     ]
    },
    {
     "name": "stderr",
     "output_type": "stream",
     "text": [
      "I0000 00:00:1725881160.012294   11994 gl_context_egl.cc:85] Successfully initialized EGL. Major : 1 Minor: 5\n",
      "I0000 00:00:1725881160.025399   14674 gl_context.cc:357] GL version: 3.2 (OpenGL ES 3.2 NVIDIA 535.146.02), renderer: NVIDIA GeForce RTX 3060/PCIe/SSE2\n",
      "W0000 00:00:1725881160.028361   14667 inference_feedback_manager.cc:114] Feedback manager requires a model with a single signature inference. Disabling support for feedback tensors.\n",
      "W0000 00:00:1725881160.034393   14664 inference_feedback_manager.cc:114] Feedback manager requires a model with a single signature inference. Disabling support for feedback tensors.\n",
      "I0000 00:00:1725881160.096109   11994 gl_context_egl.cc:85] Successfully initialized EGL. Major : 1 Minor: 5\n",
      "I0000 00:00:1725881160.109110   14687 gl_context.cc:357] GL version: 3.2 (OpenGL ES 3.2 NVIDIA 535.146.02), renderer: NVIDIA GeForce RTX 3060/PCIe/SSE2\n",
      "W0000 00:00:1725881160.111930   14683 inference_feedback_manager.cc:114] Feedback manager requires a model with a single signature inference. Disabling support for feedback tensors.\n",
      "W0000 00:00:1725881160.122233   14677 inference_feedback_manager.cc:114] Feedback manager requires a model with a single signature inference. Disabling support for feedback tensors.\n",
      "I0000 00:00:1725881160.187482   11994 gl_context_egl.cc:85] Successfully initialized EGL. Major : 1 Minor: 5\n",
      "I0000 00:00:1725881160.201296   14700 gl_context.cc:357] GL version: 3.2 (OpenGL ES 3.2 NVIDIA 535.146.02), renderer: NVIDIA GeForce RTX 3060/PCIe/SSE2\n",
      "W0000 00:00:1725881160.203495   14696 inference_feedback_manager.cc:114] Feedback manager requires a model with a single signature inference. Disabling support for feedback tensors.\n",
      "W0000 00:00:1725881160.214284   14691 inference_feedback_manager.cc:114] Feedback manager requires a model with a single signature inference. Disabling support for feedback tensors.\n"
     ]
    },
    {
     "name": "stdout",
     "output_type": "stream",
     "text": [
      "INFO:     127.0.0.1:40570 - \"POST /pose-estimate HTTP/1.1\" 200 OK\n",
      "INFO:     127.0.0.1:40576 - \"POST /eye-tracking HTTP/1.1\" 200 OK\n",
      "INFO:     127.0.0.1:40592 - \"POST /pose-estimate HTTP/1.1\" 200 OK\n",
      "INFO:     127.0.0.1:40596 - \"POST /eye-tracking HTTP/1.1\" 200 OK\n",
      "INFO:     127.0.0.1:40602 - \"POST /pose-estimate HTTP/1.1\" 200 OK\n",
      "INFO:     127.0.0.1:40610 - \"POST /eye-tracking HTTP/1.1\" 200 OK\n"
     ]
    },
    {
     "name": "stderr",
     "output_type": "stream",
     "text": [
      "I0000 00:00:1725881160.281660   11994 gl_context_egl.cc:85] Successfully initialized EGL. Major : 1 Minor: 5\n",
      "I0000 00:00:1725881160.294238   14713 gl_context.cc:357] GL version: 3.2 (OpenGL ES 3.2 NVIDIA 535.146.02), renderer: NVIDIA GeForce RTX 3060/PCIe/SSE2\n",
      "W0000 00:00:1725881160.296967   14701 inference_feedback_manager.cc:114] Feedback manager requires a model with a single signature inference. Disabling support for feedback tensors.\n",
      "W0000 00:00:1725881160.307459   14705 inference_feedback_manager.cc:114] Feedback manager requires a model with a single signature inference. Disabling support for feedback tensors.\n",
      "I0000 00:00:1725881160.375403   11994 gl_context_egl.cc:85] Successfully initialized EGL. Major : 1 Minor: 5\n",
      "I0000 00:00:1725881160.388437   14726 gl_context.cc:357] GL version: 3.2 (OpenGL ES 3.2 NVIDIA 535.146.02), renderer: NVIDIA GeForce RTX 3060/PCIe/SSE2\n",
      "W0000 00:00:1725881160.391367   14718 inference_feedback_manager.cc:114] Feedback manager requires a model with a single signature inference. Disabling support for feedback tensors.\n",
      "W0000 00:00:1725881160.401721   14721 inference_feedback_manager.cc:114] Feedback manager requires a model with a single signature inference. Disabling support for feedback tensors.\n",
      "I0000 00:00:1725881160.465038   11994 gl_context_egl.cc:85] Successfully initialized EGL. Major : 1 Minor: 5\n",
      "I0000 00:00:1725881160.478547   14739 gl_context.cc:357] GL version: 3.2 (OpenGL ES 3.2 NVIDIA 535.146.02), renderer: NVIDIA GeForce RTX 3060/PCIe/SSE2\n",
      "W0000 00:00:1725881160.481204   14730 inference_feedback_manager.cc:114] Feedback manager requires a model with a single signature inference. Disabling support for feedback tensors.\n",
      "W0000 00:00:1725881160.492474   14734 inference_feedback_manager.cc:114] Feedback manager requires a model with a single signature inference. Disabling support for feedback tensors.\n"
     ]
    },
    {
     "name": "stdout",
     "output_type": "stream",
     "text": [
      "INFO:     127.0.0.1:40624 - \"POST /pose-estimate HTTP/1.1\" 200 OK\n",
      "INFO:     127.0.0.1:40630 - \"POST /eye-tracking HTTP/1.1\" 200 OK\n",
      "INFO:     127.0.0.1:40634 - \"POST /pose-estimate HTTP/1.1\" 200 OK\n",
      "INFO:     127.0.0.1:40638 - \"POST /eye-tracking HTTP/1.1\" 200 OK\n",
      "INFO:     127.0.0.1:40652 - \"POST /pose-estimate HTTP/1.1\" 200 OK\n"
     ]
    },
    {
     "name": "stderr",
     "output_type": "stream",
     "text": [
      "I0000 00:00:1725881160.556751   11994 gl_context_egl.cc:85] Successfully initialized EGL. Major : 1 Minor: 5\n",
      "I0000 00:00:1725881160.569477   14752 gl_context.cc:357] GL version: 3.2 (OpenGL ES 3.2 NVIDIA 535.146.02), renderer: NVIDIA GeForce RTX 3060/PCIe/SSE2\n",
      "W0000 00:00:1725881160.572377   14749 inference_feedback_manager.cc:114] Feedback manager requires a model with a single signature inference. Disabling support for feedback tensors.\n",
      "W0000 00:00:1725881160.583466   14742 inference_feedback_manager.cc:114] Feedback manager requires a model with a single signature inference. Disabling support for feedback tensors.\n",
      "I0000 00:00:1725881160.655149   11994 gl_context_egl.cc:85] Successfully initialized EGL. Major : 1 Minor: 5\n",
      "I0000 00:00:1725881160.668289   14769 gl_context.cc:357] GL version: 3.2 (OpenGL ES 3.2 NVIDIA 535.146.02), renderer: NVIDIA GeForce RTX 3060/PCIe/SSE2\n",
      "W0000 00:00:1725881160.670048   14760 inference_feedback_manager.cc:114] Feedback manager requires a model with a single signature inference. Disabling support for feedback tensors.\n",
      "W0000 00:00:1725881160.681451   14766 inference_feedback_manager.cc:114] Feedback manager requires a model with a single signature inference. Disabling support for feedback tensors.\n",
      "I0000 00:00:1725881160.746294   11994 gl_context_egl.cc:85] Successfully initialized EGL. Major : 1 Minor: 5\n",
      "I0000 00:00:1725881160.759493   14783 gl_context.cc:357] GL version: 3.2 (OpenGL ES 3.2 NVIDIA 535.146.02), renderer: NVIDIA GeForce RTX 3060/PCIe/SSE2\n",
      "W0000 00:00:1725881160.761970   14773 inference_feedback_manager.cc:114] Feedback manager requires a model with a single signature inference. Disabling support for feedback tensors.\n"
     ]
    },
    {
     "name": "stdout",
     "output_type": "stream",
     "text": [
      "INFO:     127.0.0.1:40654 - \"POST /eye-tracking HTTP/1.1\" 200 OK\n",
      "INFO:     127.0.0.1:40668 - \"POST /pose-estimate HTTP/1.1\" 200 OK\n",
      "INFO:     127.0.0.1:40684 - \"POST /eye-tracking HTTP/1.1\" 200 OK\n",
      "INFO:     127.0.0.1:40694 - \"POST /pose-estimate HTTP/1.1\" 200 OK\n",
      "INFO:     127.0.0.1:40704 - \"POST /eye-tracking HTTP/1.1\" 200 OK\n"
     ]
    },
    {
     "name": "stderr",
     "output_type": "stream",
     "text": [
      "W0000 00:00:1725881160.772660   14774 inference_feedback_manager.cc:114] Feedback manager requires a model with a single signature inference. Disabling support for feedback tensors.\n",
      "I0000 00:00:1725881160.835229   11994 gl_context_egl.cc:85] Successfully initialized EGL. Major : 1 Minor: 5\n",
      "I0000 00:00:1725881160.848233   14796 gl_context.cc:357] GL version: 3.2 (OpenGL ES 3.2 NVIDIA 535.146.02), renderer: NVIDIA GeForce RTX 3060/PCIe/SSE2\n",
      "W0000 00:00:1725881160.850524   14786 inference_feedback_manager.cc:114] Feedback manager requires a model with a single signature inference. Disabling support for feedback tensors.\n",
      "W0000 00:00:1725881160.862370   14793 inference_feedback_manager.cc:114] Feedback manager requires a model with a single signature inference. Disabling support for feedback tensors.\n",
      "I0000 00:00:1725881160.924358   11994 gl_context_egl.cc:85] Successfully initialized EGL. Major : 1 Minor: 5\n",
      "I0000 00:00:1725881160.942187   14809 gl_context.cc:357] GL version: 3.2 (OpenGL ES 3.2 NVIDIA 535.146.02), renderer: NVIDIA GeForce RTX 3060/PCIe/SSE2\n",
      "W0000 00:00:1725881160.945199   14802 inference_feedback_manager.cc:114] Feedback manager requires a model with a single signature inference. Disabling support for feedback tensors.\n",
      "W0000 00:00:1725881160.955306   14808 inference_feedback_manager.cc:114] Feedback manager requires a model with a single signature inference. Disabling support for feedback tensors.\n"
     ]
    },
    {
     "name": "stdout",
     "output_type": "stream",
     "text": [
      "INFO:     127.0.0.1:40720 - \"POST /pose-estimate HTTP/1.1\" 200 OK\n",
      "INFO:     127.0.0.1:40728 - \"POST /eye-tracking HTTP/1.1\" 200 OK\n",
      "INFO:     127.0.0.1:40734 - \"POST /pose-estimate HTTP/1.1\" 200 OK\n",
      "INFO:     127.0.0.1:40738 - \"POST /eye-tracking HTTP/1.1\" 200 OK\n",
      "INFO:     127.0.0.1:40754 - \"POST /pose-estimate HTTP/1.1\" 200 OK\n",
      "INFO:     127.0.0.1:40768 - \"POST /eye-tracking HTTP/1.1\" 200 OK\n"
     ]
    },
    {
     "name": "stderr",
     "output_type": "stream",
     "text": [
      "I0000 00:00:1725881161.021918   11994 gl_context_egl.cc:85] Successfully initialized EGL. Major : 1 Minor: 5\n",
      "I0000 00:00:1725881161.035622   14822 gl_context.cc:357] GL version: 3.2 (OpenGL ES 3.2 NVIDIA 535.146.02), renderer: NVIDIA GeForce RTX 3060/PCIe/SSE2\n",
      "W0000 00:00:1725881161.038374   14812 inference_feedback_manager.cc:114] Feedback manager requires a model with a single signature inference. Disabling support for feedback tensors.\n",
      "W0000 00:00:1725881161.049037   14811 inference_feedback_manager.cc:114] Feedback manager requires a model with a single signature inference. Disabling support for feedback tensors.\n",
      "I0000 00:00:1725881161.114398   11994 gl_context_egl.cc:85] Successfully initialized EGL. Major : 1 Minor: 5\n",
      "I0000 00:00:1725881161.129115   14835 gl_context.cc:357] GL version: 3.2 (OpenGL ES 3.2 NVIDIA 535.146.02), renderer: NVIDIA GeForce RTX 3060/PCIe/SSE2\n",
      "W0000 00:00:1725881161.131896   14829 inference_feedback_manager.cc:114] Feedback manager requires a model with a single signature inference. Disabling support for feedback tensors.\n",
      "W0000 00:00:1725881161.142519   14826 inference_feedback_manager.cc:114] Feedback manager requires a model with a single signature inference. Disabling support for feedback tensors.\n",
      "I0000 00:00:1725881161.207591   11994 gl_context_egl.cc:85] Successfully initialized EGL. Major : 1 Minor: 5\n",
      "I0000 00:00:1725881161.221611   14848 gl_context.cc:357] GL version: 3.2 (OpenGL ES 3.2 NVIDIA 535.146.02), renderer: NVIDIA GeForce RTX 3060/PCIe/SSE2\n",
      "W0000 00:00:1725881161.223696   14844 inference_feedback_manager.cc:114] Feedback manager requires a model with a single signature inference. Disabling support for feedback tensors.\n",
      "W0000 00:00:1725881161.234409   14841 inference_feedback_manager.cc:114] Feedback manager requires a model with a single signature inference. Disabling support for feedback tensors.\n"
     ]
    },
    {
     "name": "stdout",
     "output_type": "stream",
     "text": [
      "INFO:     127.0.0.1:40770 - \"POST /pose-estimate HTTP/1.1\" 200 OK\n",
      "INFO:     127.0.0.1:40778 - \"POST /eye-tracking HTTP/1.1\" 200 OK\n",
      "INFO:     127.0.0.1:40788 - \"POST /pose-estimate HTTP/1.1\" 200 OK\n",
      "INFO:     127.0.0.1:40792 - \"POST /eye-tracking HTTP/1.1\" 200 OK\n",
      "INFO:     127.0.0.1:40798 - \"POST /pose-estimate HTTP/1.1\" 200 OK\n",
      "INFO:     127.0.0.1:40812 - \"POST /eye-tracking HTTP/1.1\" 200 OK\n"
     ]
    },
    {
     "name": "stderr",
     "output_type": "stream",
     "text": [
      "I0000 00:00:1725881161.297541   11994 gl_context_egl.cc:85] Successfully initialized EGL. Major : 1 Minor: 5\n",
      "I0000 00:00:1725881161.310599   14861 gl_context.cc:357] GL version: 3.2 (OpenGL ES 3.2 NVIDIA 535.146.02), renderer: NVIDIA GeForce RTX 3060/PCIe/SSE2\n",
      "W0000 00:00:1725881161.313363   14850 inference_feedback_manager.cc:114] Feedback manager requires a model with a single signature inference. Disabling support for feedback tensors.\n",
      "W0000 00:00:1725881161.320508   14852 inference_feedback_manager.cc:114] Feedback manager requires a model with a single signature inference. Disabling support for feedback tensors.\n",
      "I0000 00:00:1725881161.386082   11994 gl_context_egl.cc:85] Successfully initialized EGL. Major : 1 Minor: 5\n",
      "I0000 00:00:1725881161.399196   14874 gl_context.cc:357] GL version: 3.2 (OpenGL ES 3.2 NVIDIA 535.146.02), renderer: NVIDIA GeForce RTX 3060/PCIe/SSE2\n",
      "W0000 00:00:1725881161.401974   14867 inference_feedback_manager.cc:114] Feedback manager requires a model with a single signature inference. Disabling support for feedback tensors.\n",
      "W0000 00:00:1725881161.412514   14864 inference_feedback_manager.cc:114] Feedback manager requires a model with a single signature inference. Disabling support for feedback tensors.\n",
      "I0000 00:00:1725881161.476270   11994 gl_context_egl.cc:85] Successfully initialized EGL. Major : 1 Minor: 5\n",
      "I0000 00:00:1725881161.489993   14887 gl_context.cc:357] GL version: 3.2 (OpenGL ES 3.2 NVIDIA 535.146.02), renderer: NVIDIA GeForce RTX 3060/PCIe/SSE2\n",
      "W0000 00:00:1725881161.492206   14878 inference_feedback_manager.cc:114] Feedback manager requires a model with a single signature inference. Disabling support for feedback tensors.\n",
      "W0000 00:00:1725881161.503294   14877 inference_feedback_manager.cc:114] Feedback manager requires a model with a single signature inference. Disabling support for feedback tensors.\n"
     ]
    },
    {
     "name": "stdout",
     "output_type": "stream",
     "text": [
      "INFO:     127.0.0.1:40818 - \"POST /pose-estimate HTTP/1.1\" 200 OK\n",
      "INFO:     127.0.0.1:40832 - \"POST /eye-tracking HTTP/1.1\" 200 OK\n",
      "INFO:     127.0.0.1:40840 - \"POST /pose-estimate HTTP/1.1\" 200 OK\n",
      "INFO:     127.0.0.1:40850 - \"POST /eye-tracking HTTP/1.1\" 200 OK\n",
      "INFO:     127.0.0.1:40852 - \"POST /pose-estimate HTTP/1.1\" 200 OK\n",
      "INFO:     127.0.0.1:40856 - \"POST /eye-tracking HTTP/1.1\" 200 OK\n"
     ]
    },
    {
     "name": "stderr",
     "output_type": "stream",
     "text": [
      "I0000 00:00:1725881161.570409   11994 gl_context_egl.cc:85] Successfully initialized EGL. Major : 1 Minor: 5\n",
      "I0000 00:00:1725881161.584143   14900 gl_context.cc:357] GL version: 3.2 (OpenGL ES 3.2 NVIDIA 535.146.02), renderer: NVIDIA GeForce RTX 3060/PCIe/SSE2\n",
      "W0000 00:00:1725881161.585928   14888 inference_feedback_manager.cc:114] Feedback manager requires a model with a single signature inference. Disabling support for feedback tensors.\n",
      "W0000 00:00:1725881161.597182   14890 inference_feedback_manager.cc:114] Feedback manager requires a model with a single signature inference. Disabling support for feedback tensors.\n",
      "I0000 00:00:1725881161.661732   11994 gl_context_egl.cc:85] Successfully initialized EGL. Major : 1 Minor: 5\n",
      "I0000 00:00:1725881161.674799   14913 gl_context.cc:357] GL version: 3.2 (OpenGL ES 3.2 NVIDIA 535.146.02), renderer: NVIDIA GeForce RTX 3060/PCIe/SSE2\n",
      "W0000 00:00:1725881161.677532   14901 inference_feedback_manager.cc:114] Feedback manager requires a model with a single signature inference. Disabling support for feedback tensors.\n",
      "W0000 00:00:1725881161.688073   14902 inference_feedback_manager.cc:114] Feedback manager requires a model with a single signature inference. Disabling support for feedback tensors.\n",
      "I0000 00:00:1725881161.751867   11994 gl_context_egl.cc:85] Successfully initialized EGL. Major : 1 Minor: 5\n",
      "I0000 00:00:1725881161.765390   14926 gl_context.cc:357] GL version: 3.2 (OpenGL ES 3.2 NVIDIA 535.146.02), renderer: NVIDIA GeForce RTX 3060/PCIe/SSE2\n",
      "W0000 00:00:1725881161.768235   14917 inference_feedback_manager.cc:114] Feedback manager requires a model with a single signature inference. Disabling support for feedback tensors.\n",
      "W0000 00:00:1725881161.779298   14921 inference_feedback_manager.cc:114] Feedback manager requires a model with a single signature inference. Disabling support for feedback tensors.\n"
     ]
    },
    {
     "name": "stdout",
     "output_type": "stream",
     "text": [
      "INFO:     127.0.0.1:40862 - \"POST /pose-estimate HTTP/1.1\" 200 OK\n",
      "INFO:     127.0.0.1:40864 - \"POST /eye-tracking HTTP/1.1\" 200 OK\n",
      "INFO:     127.0.0.1:40878 - \"POST /pose-estimate HTTP/1.1\" 200 OK\n",
      "INFO:     127.0.0.1:40892 - \"POST /eye-tracking HTTP/1.1\" 200 OK\n"
     ]
    },
    {
     "name": "stderr",
     "output_type": "stream",
     "text": [
      "I0000 00:00:1725881161.844026   11994 gl_context_egl.cc:85] Successfully initialized EGL. Major : 1 Minor: 5\n",
      "I0000 00:00:1725881161.857923   14939 gl_context.cc:357] GL version: 3.2 (OpenGL ES 3.2 NVIDIA 535.146.02), renderer: NVIDIA GeForce RTX 3060/PCIe/SSE2\n",
      "W0000 00:00:1725881161.860141   14936 inference_feedback_manager.cc:114] Feedback manager requires a model with a single signature inference. Disabling support for feedback tensors.\n",
      "W0000 00:00:1725881161.871060   14927 inference_feedback_manager.cc:114] Feedback manager requires a model with a single signature inference. Disabling support for feedback tensors.\n",
      "I0000 00:00:1725881161.935022   11994 gl_context_egl.cc:85] Successfully initialized EGL. Major : 1 Minor: 5\n",
      "I0000 00:00:1725881161.948301   14952 gl_context.cc:357] GL version: 3.2 (OpenGL ES 3.2 NVIDIA 535.146.02), renderer: NVIDIA GeForce RTX 3060/PCIe/SSE2\n",
      "W0000 00:00:1725881161.950675   14943 inference_feedback_manager.cc:114] Feedback manager requires a model with a single signature inference. Disabling support for feedback tensors.\n",
      "W0000 00:00:1725881161.961423   14941 inference_feedback_manager.cc:114] Feedback manager requires a model with a single signature inference. Disabling support for feedback tensors.\n"
     ]
    },
    {
     "name": "stdout",
     "output_type": "stream",
     "text": [
      "INFO:     127.0.0.1:40904 - \"POST /pose-estimate HTTP/1.1\" 200 OK\n",
      "INFO:     127.0.0.1:40906 - \"POST /eye-tracking HTTP/1.1\" 200 OK\n",
      "INFO:     127.0.0.1:40918 - \"POST /pose-estimate HTTP/1.1\" 200 OK\n",
      "INFO:     127.0.0.1:40920 - \"POST /eye-tracking HTTP/1.1\" 200 OK\n",
      "INFO:     127.0.0.1:40926 - \"POST /pose-estimate HTTP/1.1\" 200 OK\n"
     ]
    },
    {
     "name": "stderr",
     "output_type": "stream",
     "text": [
      "I0000 00:00:1725881163.627233   11994 gl_context_egl.cc:85] Successfully initialized EGL. Major : 1 Minor: 5\n",
      "I0000 00:00:1725881163.644492   14966 gl_context.cc:357] GL version: 3.2 (OpenGL ES 3.2 NVIDIA 535.146.02), renderer: NVIDIA GeForce RTX 3060/PCIe/SSE2\n",
      "W0000 00:00:1725881163.646316   14954 inference_feedback_manager.cc:114] Feedback manager requires a model with a single signature inference. Disabling support for feedback tensors.\n",
      "W0000 00:00:1725881163.657116   14965 inference_feedback_manager.cc:114] Feedback manager requires a model with a single signature inference. Disabling support for feedback tensors.\n",
      "I0000 00:00:1725881163.723461   11994 gl_context_egl.cc:85] Successfully initialized EGL. Major : 1 Minor: 5\n",
      "I0000 00:00:1725881163.741978   14979 gl_context.cc:357] GL version: 3.2 (OpenGL ES 3.2 NVIDIA 535.146.02), renderer: NVIDIA GeForce RTX 3060/PCIe/SSE2\n",
      "W0000 00:00:1725881163.744308   14968 inference_feedback_manager.cc:114] Feedback manager requires a model with a single signature inference. Disabling support for feedback tensors.\n",
      "W0000 00:00:1725881163.755180   14967 inference_feedback_manager.cc:114] Feedback manager requires a model with a single signature inference. Disabling support for feedback tensors.\n",
      "I0000 00:00:1725881163.819992   11994 gl_context_egl.cc:85] Successfully initialized EGL. Major : 1 Minor: 5\n",
      "I0000 00:00:1725881163.834071   14992 gl_context.cc:357] GL version: 3.2 (OpenGL ES 3.2 NVIDIA 535.146.02), renderer: NVIDIA GeForce RTX 3060/PCIe/SSE2\n",
      "W0000 00:00:1725881163.836458   14984 inference_feedback_manager.cc:114] Feedback manager requires a model with a single signature inference. Disabling support for feedback tensors.\n"
     ]
    },
    {
     "name": "stdout",
     "output_type": "stream",
     "text": [
      "INFO:     127.0.0.1:40928 - \"POST /eye-tracking HTTP/1.1\" 200 OK\n",
      "INFO:     127.0.0.1:40934 - \"POST /pose-estimate HTTP/1.1\" 200 OK\n",
      "INFO:     127.0.0.1:40946 - \"POST /eye-tracking HTTP/1.1\" 200 OK\n",
      "INFO:     127.0.0.1:40962 - \"POST /pose-estimate HTTP/1.1\" 200 OK\n",
      "INFO:     127.0.0.1:40966 - \"POST /eye-tracking HTTP/1.1\" 200 OK\n"
     ]
    },
    {
     "name": "stderr",
     "output_type": "stream",
     "text": [
      "W0000 00:00:1725881163.847370   14980 inference_feedback_manager.cc:114] Feedback manager requires a model with a single signature inference. Disabling support for feedback tensors.\n",
      "I0000 00:00:1725881163.911419   11994 gl_context_egl.cc:85] Successfully initialized EGL. Major : 1 Minor: 5\n",
      "I0000 00:00:1725881163.926143   15005 gl_context.cc:357] GL version: 3.2 (OpenGL ES 3.2 NVIDIA 535.146.02), renderer: NVIDIA GeForce RTX 3060/PCIe/SSE2\n",
      "W0000 00:00:1725881163.929043   14995 inference_feedback_manager.cc:114] Feedback manager requires a model with a single signature inference. Disabling support for feedback tensors.\n",
      "W0000 00:00:1725881163.939885   15001 inference_feedback_manager.cc:114] Feedback manager requires a model with a single signature inference. Disabling support for feedback tensors.\n",
      "I0000 00:00:1725881164.007803   11994 gl_context_egl.cc:85] Successfully initialized EGL. Major : 1 Minor: 5\n",
      "I0000 00:00:1725881164.021435   15018 gl_context.cc:357] GL version: 3.2 (OpenGL ES 3.2 NVIDIA 535.146.02), renderer: NVIDIA GeForce RTX 3060/PCIe/SSE2\n",
      "W0000 00:00:1725881164.024185   15009 inference_feedback_manager.cc:114] Feedback manager requires a model with a single signature inference. Disabling support for feedback tensors.\n",
      "W0000 00:00:1725881164.035778   15015 inference_feedback_manager.cc:114] Feedback manager requires a model with a single signature inference. Disabling support for feedback tensors.\n"
     ]
    },
    {
     "name": "stdout",
     "output_type": "stream",
     "text": [
      "INFO:     127.0.0.1:40980 - \"POST /pose-estimate HTTP/1.1\" 200 OK\n",
      "INFO:     127.0.0.1:40994 - \"POST /eye-tracking HTTP/1.1\" 200 OK\n",
      "INFO:     127.0.0.1:41010 - \"POST /pose-estimate HTTP/1.1\" 200 OK\n",
      "INFO:     127.0.0.1:41022 - \"POST /eye-tracking HTTP/1.1\" 200 OK\n",
      "INFO:     127.0.0.1:41034 - \"POST /pose-estimate HTTP/1.1\" 200 OK\n",
      "INFO:     127.0.0.1:41050 - \"POST /eye-tracking HTTP/1.1\" 200 OK\n"
     ]
    },
    {
     "name": "stderr",
     "output_type": "stream",
     "text": [
      "I0000 00:00:1725881164.100540   11994 gl_context_egl.cc:85] Successfully initialized EGL. Major : 1 Minor: 5\n",
      "I0000 00:00:1725881164.115059   15031 gl_context.cc:357] GL version: 3.2 (OpenGL ES 3.2 NVIDIA 535.146.02), renderer: NVIDIA GeForce RTX 3060/PCIe/SSE2\n",
      "W0000 00:00:1725881164.117937   15023 inference_feedback_manager.cc:114] Feedback manager requires a model with a single signature inference. Disabling support for feedback tensors.\n",
      "W0000 00:00:1725881164.128573   15022 inference_feedback_manager.cc:114] Feedback manager requires a model with a single signature inference. Disabling support for feedback tensors.\n",
      "I0000 00:00:1725881164.191863   11994 gl_context_egl.cc:85] Successfully initialized EGL. Major : 1 Minor: 5\n",
      "I0000 00:00:1725881164.205668   15044 gl_context.cc:357] GL version: 3.2 (OpenGL ES 3.2 NVIDIA 535.146.02), renderer: NVIDIA GeForce RTX 3060/PCIe/SSE2\n",
      "W0000 00:00:1725881164.208392   15039 inference_feedback_manager.cc:114] Feedback manager requires a model with a single signature inference. Disabling support for feedback tensors.\n",
      "W0000 00:00:1725881164.218926   15033 inference_feedback_manager.cc:114] Feedback manager requires a model with a single signature inference. Disabling support for feedback tensors.\n",
      "I0000 00:00:1725881164.284360   11994 gl_context_egl.cc:85] Successfully initialized EGL. Major : 1 Minor: 5\n",
      "I0000 00:00:1725881164.298671   15057 gl_context.cc:357] GL version: 3.2 (OpenGL ES 3.2 NVIDIA 535.146.02), renderer: NVIDIA GeForce RTX 3060/PCIe/SSE2\n",
      "W0000 00:00:1725881164.300327   15046 inference_feedback_manager.cc:114] Feedback manager requires a model with a single signature inference. Disabling support for feedback tensors.\n",
      "W0000 00:00:1725881164.311970   15045 inference_feedback_manager.cc:114] Feedback manager requires a model with a single signature inference. Disabling support for feedback tensors.\n"
     ]
    },
    {
     "name": "stdout",
     "output_type": "stream",
     "text": [
      "INFO:     127.0.0.1:41066 - \"POST /pose-estimate HTTP/1.1\" 200 OK\n",
      "INFO:     127.0.0.1:41076 - \"POST /eye-tracking HTTP/1.1\" 200 OK\n",
      "INFO:     127.0.0.1:41084 - \"POST /pose-estimate HTTP/1.1\" 200 OK\n",
      "INFO:     127.0.0.1:41096 - \"POST /eye-tracking HTTP/1.1\" 200 OK\n",
      "INFO:     127.0.0.1:41098 - \"POST /pose-estimate HTTP/1.1\" 200 OK\n",
      "INFO:     127.0.0.1:41100 - \"POST /eye-tracking HTTP/1.1\" 200 OK\n"
     ]
    },
    {
     "name": "stderr",
     "output_type": "stream",
     "text": [
      "I0000 00:00:1725881164.376438   11994 gl_context_egl.cc:85] Successfully initialized EGL. Major : 1 Minor: 5\n",
      "I0000 00:00:1725881164.404391   15070 gl_context.cc:357] GL version: 3.2 (OpenGL ES 3.2 NVIDIA 535.146.02), renderer: NVIDIA GeForce RTX 3060/PCIe/SSE2\n",
      "W0000 00:00:1725881164.406562   15062 inference_feedback_manager.cc:114] Feedback manager requires a model with a single signature inference. Disabling support for feedback tensors.\n",
      "W0000 00:00:1725881164.417610   15061 inference_feedback_manager.cc:114] Feedback manager requires a model with a single signature inference. Disabling support for feedback tensors.\n",
      "I0000 00:00:1725881164.481697   11994 gl_context_egl.cc:85] Successfully initialized EGL. Major : 1 Minor: 5\n",
      "I0000 00:00:1725881164.495636   15083 gl_context.cc:357] GL version: 3.2 (OpenGL ES 3.2 NVIDIA 535.146.02), renderer: NVIDIA GeForce RTX 3060/PCIe/SSE2\n",
      "W0000 00:00:1725881164.498640   15073 inference_feedback_manager.cc:114] Feedback manager requires a model with a single signature inference. Disabling support for feedback tensors.\n",
      "W0000 00:00:1725881164.509081   15071 inference_feedback_manager.cc:114] Feedback manager requires a model with a single signature inference. Disabling support for feedback tensors.\n",
      "I0000 00:00:1725881164.576000   11994 gl_context_egl.cc:85] Successfully initialized EGL. Major : 1 Minor: 5\n",
      "I0000 00:00:1725881164.589853   15096 gl_context.cc:357] GL version: 3.2 (OpenGL ES 3.2 NVIDIA 535.146.02), renderer: NVIDIA GeForce RTX 3060/PCIe/SSE2\n",
      "W0000 00:00:1725881164.591763   15090 inference_feedback_manager.cc:114] Feedback manager requires a model with a single signature inference. Disabling support for feedback tensors.\n",
      "W0000 00:00:1725881164.603125   15086 inference_feedback_manager.cc:114] Feedback manager requires a model with a single signature inference. Disabling support for feedback tensors.\n"
     ]
    },
    {
     "name": "stdout",
     "output_type": "stream",
     "text": [
      "INFO:     127.0.0.1:41102 - \"POST /pose-estimate HTTP/1.1\" 200 OK\n",
      "INFO:     127.0.0.1:41114 - \"POST /eye-tracking HTTP/1.1\" 200 OK\n",
      "INFO:     127.0.0.1:41128 - \"POST /pose-estimate HTTP/1.1\" 200 OK\n",
      "INFO:     127.0.0.1:41134 - \"POST /eye-tracking HTTP/1.1\" 200 OK\n",
      "INFO:     127.0.0.1:41142 - \"POST /pose-estimate HTTP/1.1\" 200 OK\n"
     ]
    },
    {
     "name": "stderr",
     "output_type": "stream",
     "text": [
      "I0000 00:00:1725881164.666721   11994 gl_context_egl.cc:85] Successfully initialized EGL. Major : 1 Minor: 5\n",
      "I0000 00:00:1725881164.681453   15109 gl_context.cc:357] GL version: 3.2 (OpenGL ES 3.2 NVIDIA 535.146.02), renderer: NVIDIA GeForce RTX 3060/PCIe/SSE2\n",
      "W0000 00:00:1725881164.683916   15099 inference_feedback_manager.cc:114] Feedback manager requires a model with a single signature inference. Disabling support for feedback tensors.\n",
      "W0000 00:00:1725881164.695011   15097 inference_feedback_manager.cc:114] Feedback manager requires a model with a single signature inference. Disabling support for feedback tensors.\n",
      "I0000 00:00:1725881164.759220   11994 gl_context_egl.cc:85] Successfully initialized EGL. Major : 1 Minor: 5\n",
      "I0000 00:00:1725881164.773243   15123 gl_context.cc:357] GL version: 3.2 (OpenGL ES 3.2 NVIDIA 535.146.02), renderer: NVIDIA GeForce RTX 3060/PCIe/SSE2\n",
      "W0000 00:00:1725881164.775599   15121 inference_feedback_manager.cc:114] Feedback manager requires a model with a single signature inference. Disabling support for feedback tensors.\n",
      "W0000 00:00:1725881164.786353   15111 inference_feedback_manager.cc:114] Feedback manager requires a model with a single signature inference. Disabling support for feedback tensors.\n",
      "I0000 00:00:1725881164.851756   11994 gl_context_egl.cc:85] Successfully initialized EGL. Major : 1 Minor: 5\n",
      "I0000 00:00:1725881164.870263   15136 gl_context.cc:357] GL version: 3.2 (OpenGL ES 3.2 NVIDIA 535.146.02), renderer: NVIDIA GeForce RTX 3060/PCIe/SSE2\n",
      "W0000 00:00:1725881164.872562   15124 inference_feedback_manager.cc:114] Feedback manager requires a model with a single signature inference. Disabling support for feedback tensors.\n"
     ]
    },
    {
     "name": "stdout",
     "output_type": "stream",
     "text": [
      "INFO:     127.0.0.1:41144 - \"POST /eye-tracking HTTP/1.1\" 200 OK\n",
      "INFO:     127.0.0.1:41160 - \"POST /pose-estimate HTTP/1.1\" 200 OK\n",
      "INFO:     127.0.0.1:41168 - \"POST /eye-tracking HTTP/1.1\" 200 OK\n",
      "INFO:     127.0.0.1:41174 - \"POST /pose-estimate HTTP/1.1\" 200 OK\n",
      "INFO:     127.0.0.1:41190 - \"POST /eye-tracking HTTP/1.1\" 200 OK\n"
     ]
    },
    {
     "name": "stderr",
     "output_type": "stream",
     "text": [
      "W0000 00:00:1725881164.883619   15127 inference_feedback_manager.cc:114] Feedback manager requires a model with a single signature inference. Disabling support for feedback tensors.\n",
      "I0000 00:00:1725881164.948176   11994 gl_context_egl.cc:85] Successfully initialized EGL. Major : 1 Minor: 5\n",
      "I0000 00:00:1725881164.962046   15149 gl_context.cc:357] GL version: 3.2 (OpenGL ES 3.2 NVIDIA 535.146.02), renderer: NVIDIA GeForce RTX 3060/PCIe/SSE2\n",
      "W0000 00:00:1725881164.964778   15140 inference_feedback_manager.cc:114] Feedback manager requires a model with a single signature inference. Disabling support for feedback tensors.\n",
      "W0000 00:00:1725881164.971306   15147 inference_feedback_manager.cc:114] Feedback manager requires a model with a single signature inference. Disabling support for feedback tensors.\n",
      "I0000 00:00:1725881165.033373   11994 gl_context_egl.cc:85] Successfully initialized EGL. Major : 1 Minor: 5\n",
      "I0000 00:00:1725881165.047515   15162 gl_context.cc:357] GL version: 3.2 (OpenGL ES 3.2 NVIDIA 535.146.02), renderer: NVIDIA GeForce RTX 3060/PCIe/SSE2\n",
      "W0000 00:00:1725881165.050135   15151 inference_feedback_manager.cc:114] Feedback manager requires a model with a single signature inference. Disabling support for feedback tensors.\n",
      "W0000 00:00:1725881165.060639   15154 inference_feedback_manager.cc:114] Feedback manager requires a model with a single signature inference. Disabling support for feedback tensors.\n"
     ]
    },
    {
     "name": "stdout",
     "output_type": "stream",
     "text": [
      "INFO:     127.0.0.1:41198 - \"POST /pose-estimate HTTP/1.1\" 200 OK\n",
      "INFO:     127.0.0.1:41206 - \"POST /eye-tracking HTTP/1.1\" 200 OK\n",
      "INFO:     127.0.0.1:41216 - \"POST /pose-estimate HTTP/1.1\" 200 OK\n",
      "INFO:     127.0.0.1:41218 - \"POST /eye-tracking HTTP/1.1\" 200 OK\n",
      "INFO:     127.0.0.1:41226 - \"POST /pose-estimate HTTP/1.1\" 200 OK\n",
      "INFO:     127.0.0.1:41228 - \"POST /eye-tracking HTTP/1.1\" 200 OK\n"
     ]
    },
    {
     "name": "stderr",
     "output_type": "stream",
     "text": [
      "I0000 00:00:1725881165.125613   11994 gl_context_egl.cc:85] Successfully initialized EGL. Major : 1 Minor: 5\n",
      "I0000 00:00:1725881165.139920   15175 gl_context.cc:357] GL version: 3.2 (OpenGL ES 3.2 NVIDIA 535.146.02), renderer: NVIDIA GeForce RTX 3060/PCIe/SSE2\n",
      "W0000 00:00:1725881165.142137   15166 inference_feedback_manager.cc:114] Feedback manager requires a model with a single signature inference. Disabling support for feedback tensors.\n",
      "W0000 00:00:1725881165.153046   15164 inference_feedback_manager.cc:114] Feedback manager requires a model with a single signature inference. Disabling support for feedback tensors.\n",
      "I0000 00:00:1725881165.217174   11994 gl_context_egl.cc:85] Successfully initialized EGL. Major : 1 Minor: 5\n",
      "I0000 00:00:1725881165.231743   15188 gl_context.cc:357] GL version: 3.2 (OpenGL ES 3.2 NVIDIA 535.146.02), renderer: NVIDIA GeForce RTX 3060/PCIe/SSE2\n",
      "W0000 00:00:1725881165.234492   15180 inference_feedback_manager.cc:114] Feedback manager requires a model with a single signature inference. Disabling support for feedback tensors.\n",
      "W0000 00:00:1725881165.245484   15183 inference_feedback_manager.cc:114] Feedback manager requires a model with a single signature inference. Disabling support for feedback tensors.\n",
      "I0000 00:00:1725881165.308987   11994 gl_context_egl.cc:85] Successfully initialized EGL. Major : 1 Minor: 5\n",
      "I0000 00:00:1725881165.324159   15201 gl_context.cc:357] GL version: 3.2 (OpenGL ES 3.2 NVIDIA 535.146.02), renderer: NVIDIA GeForce RTX 3060/PCIe/SSE2\n",
      "W0000 00:00:1725881165.326409   15195 inference_feedback_manager.cc:114] Feedback manager requires a model with a single signature inference. Disabling support for feedback tensors.\n",
      "W0000 00:00:1725881165.337350   15192 inference_feedback_manager.cc:114] Feedback manager requires a model with a single signature inference. Disabling support for feedback tensors.\n"
     ]
    },
    {
     "name": "stdout",
     "output_type": "stream",
     "text": [
      "INFO:     127.0.0.1:41238 - \"POST /pose-estimate HTTP/1.1\" 200 OK\n",
      "INFO:     127.0.0.1:41252 - \"POST /eye-tracking HTTP/1.1\" 200 OK\n",
      "INFO:     127.0.0.1:41266 - \"POST /pose-estimate HTTP/1.1\" 200 OK\n",
      "INFO:     127.0.0.1:41274 - \"POST /eye-tracking HTTP/1.1\" 200 OK\n",
      "INFO:     127.0.0.1:41284 - \"POST /pose-estimate HTTP/1.1\" 200 OK\n",
      "INFO:     127.0.0.1:41300 - \"POST /eye-tracking HTTP/1.1\" 200 OK\n"
     ]
    },
    {
     "name": "stderr",
     "output_type": "stream",
     "text": [
      "I0000 00:00:1725881165.406136   11994 gl_context_egl.cc:85] Successfully initialized EGL. Major : 1 Minor: 5\n",
      "I0000 00:00:1725881165.420695   15214 gl_context.cc:357] GL version: 3.2 (OpenGL ES 3.2 NVIDIA 535.146.02), renderer: NVIDIA GeForce RTX 3060/PCIe/SSE2\n",
      "W0000 00:00:1725881165.423367   15207 inference_feedback_manager.cc:114] Feedback manager requires a model with a single signature inference. Disabling support for feedback tensors.\n",
      "W0000 00:00:1725881165.434197   15202 inference_feedback_manager.cc:114] Feedback manager requires a model with a single signature inference. Disabling support for feedback tensors.\n",
      "I0000 00:00:1725881165.498085   11994 gl_context_egl.cc:85] Successfully initialized EGL. Major : 1 Minor: 5\n",
      "I0000 00:00:1725881165.513671   15227 gl_context.cc:357] GL version: 3.2 (OpenGL ES 3.2 NVIDIA 535.146.02), renderer: NVIDIA GeForce RTX 3060/PCIe/SSE2\n",
      "W0000 00:00:1725881165.516550   15215 inference_feedback_manager.cc:114] Feedback manager requires a model with a single signature inference. Disabling support for feedback tensors.\n",
      "W0000 00:00:1725881165.527013   15216 inference_feedback_manager.cc:114] Feedback manager requires a model with a single signature inference. Disabling support for feedback tensors.\n",
      "I0000 00:00:1725881165.590064   11994 gl_context_egl.cc:85] Successfully initialized EGL. Major : 1 Minor: 5\n",
      "I0000 00:00:1725881165.603861   15240 gl_context.cc:357] GL version: 3.2 (OpenGL ES 3.2 NVIDIA 535.146.02), renderer: NVIDIA GeForce RTX 3060/PCIe/SSE2\n",
      "W0000 00:00:1725881165.606082   15231 inference_feedback_manager.cc:114] Feedback manager requires a model with a single signature inference. Disabling support for feedback tensors.\n",
      "W0000 00:00:1725881165.617120   15230 inference_feedback_manager.cc:114] Feedback manager requires a model with a single signature inference. Disabling support for feedback tensors.\n"
     ]
    },
    {
     "name": "stdout",
     "output_type": "stream",
     "text": [
      "INFO:     127.0.0.1:41312 - \"POST /pose-estimate HTTP/1.1\" 200 OK\n",
      "INFO:     127.0.0.1:41320 - \"POST /eye-tracking HTTP/1.1\" 200 OK\n",
      "INFO:     127.0.0.1:41334 - \"POST /pose-estimate HTTP/1.1\" 200 OK\n",
      "INFO:     127.0.0.1:41344 - \"POST /eye-tracking HTTP/1.1\" 200 OK\n",
      "INFO:     127.0.0.1:41356 - \"POST /pose-estimate HTTP/1.1\" 200 OK\n"
     ]
    },
    {
     "name": "stderr",
     "output_type": "stream",
     "text": [
      "I0000 00:00:1725881165.681022   11994 gl_context_egl.cc:85] Successfully initialized EGL. Major : 1 Minor: 5\n",
      "I0000 00:00:1725881165.696750   15253 gl_context.cc:357] GL version: 3.2 (OpenGL ES 3.2 NVIDIA 535.146.02), renderer: NVIDIA GeForce RTX 3060/PCIe/SSE2\n",
      "W0000 00:00:1725881165.699527   15246 inference_feedback_manager.cc:114] Feedback manager requires a model with a single signature inference. Disabling support for feedback tensors.\n",
      "W0000 00:00:1725881165.705717   15245 inference_feedback_manager.cc:114] Feedback manager requires a model with a single signature inference. Disabling support for feedback tensors.\n",
      "I0000 00:00:1725881165.770718   11994 gl_context_egl.cc:85] Successfully initialized EGL. Major : 1 Minor: 5\n",
      "I0000 00:00:1725881165.785194   15266 gl_context.cc:357] GL version: 3.2 (OpenGL ES 3.2 NVIDIA 535.146.02), renderer: NVIDIA GeForce RTX 3060/PCIe/SSE2\n",
      "W0000 00:00:1725881165.787619   15260 inference_feedback_manager.cc:114] Feedback manager requires a model with a single signature inference. Disabling support for feedback tensors.\n",
      "W0000 00:00:1725881165.798407   15258 inference_feedback_manager.cc:114] Feedback manager requires a model with a single signature inference. Disabling support for feedback tensors.\n",
      "I0000 00:00:1725881165.865054   11994 gl_context_egl.cc:85] Successfully initialized EGL. Major : 1 Minor: 5\n",
      "I0000 00:00:1725881165.892480   15280 gl_context.cc:357] GL version: 3.2 (OpenGL ES 3.2 NVIDIA 535.146.02), renderer: NVIDIA GeForce RTX 3060/PCIe/SSE2\n",
      "W0000 00:00:1725881165.895317   15276 inference_feedback_manager.cc:114] Feedback manager requires a model with a single signature inference. Disabling support for feedback tensors.\n"
     ]
    },
    {
     "name": "stdout",
     "output_type": "stream",
     "text": [
      "INFO:     127.0.0.1:41360 - \"POST /eye-tracking HTTP/1.1\" 200 OK\n",
      "INFO:     127.0.0.1:41374 - \"POST /pose-estimate HTTP/1.1\" 200 OK\n",
      "INFO:     127.0.0.1:41384 - \"POST /eye-tracking HTTP/1.1\" 200 OK\n"
     ]
    },
    {
     "name": "stderr",
     "output_type": "stream",
     "text": [
      "W0000 00:00:1725881165.906423   15272 inference_feedback_manager.cc:114] Feedback manager requires a model with a single signature inference. Disabling support for feedback tensors.\n",
      "I0000 00:00:1725881165.974819   11994 gl_context_egl.cc:85] Successfully initialized EGL. Major : 1 Minor: 5\n",
      "I0000 00:00:1725881166.042305   15295 gl_context.cc:357] GL version: 3.2 (OpenGL ES 3.2 NVIDIA 535.146.02), renderer: NVIDIA GeForce RTX 3060/PCIe/SSE2\n",
      "W0000 00:00:1725881166.045209   15283 inference_feedback_manager.cc:114] Feedback manager requires a model with a single signature inference. Disabling support for feedback tensors.\n",
      "W0000 00:00:1725881166.056437   15285 inference_feedback_manager.cc:114] Feedback manager requires a model with a single signature inference. Disabling support for feedback tensors.\n"
     ]
    },
    {
     "name": "stdout",
     "output_type": "stream",
     "text": [
      "INFO:     127.0.0.1:41392 - \"POST /pose-estimate HTTP/1.1\" 200 OK\n",
      "INFO:     127.0.0.1:41394 - \"POST /eye-tracking HTTP/1.1\" 200 OK\n",
      "INFO:     127.0.0.1:41398 - \"POST /pose-estimate HTTP/1.1\" 200 OK\n",
      "INFO:     127.0.0.1:41414 - \"POST /eye-tracking HTTP/1.1\" 200 OK\n",
      "INFO:     127.0.0.1:41422 - \"POST /pose-estimate HTTP/1.1\" 200 OK\n"
     ]
    },
    {
     "name": "stderr",
     "output_type": "stream",
     "text": [
      "I0000 00:00:1725881166.124170   11994 gl_context_egl.cc:85] Successfully initialized EGL. Major : 1 Minor: 5\n",
      "I0000 00:00:1725881166.175673   15308 gl_context.cc:357] GL version: 3.2 (OpenGL ES 3.2 NVIDIA 535.146.02), renderer: NVIDIA GeForce RTX 3060/PCIe/SSE2\n",
      "W0000 00:00:1725881166.178657   15300 inference_feedback_manager.cc:114] Feedback manager requires a model with a single signature inference. Disabling support for feedback tensors.\n",
      "W0000 00:00:1725881166.189883   15305 inference_feedback_manager.cc:114] Feedback manager requires a model with a single signature inference. Disabling support for feedback tensors.\n",
      "I0000 00:00:1725881166.259881   11994 gl_context_egl.cc:85] Successfully initialized EGL. Major : 1 Minor: 5\n",
      "I0000 00:00:1725881166.289487   15321 gl_context.cc:357] GL version: 3.2 (OpenGL ES 3.2 NVIDIA 535.146.02), renderer: NVIDIA GeForce RTX 3060/PCIe/SSE2\n",
      "W0000 00:00:1725881166.291760   15316 inference_feedback_manager.cc:114] Feedback manager requires a model with a single signature inference. Disabling support for feedback tensors.\n",
      "W0000 00:00:1725881166.302358   15312 inference_feedback_manager.cc:114] Feedback manager requires a model with a single signature inference. Disabling support for feedback tensors.\n"
     ]
    },
    {
     "name": "stdout",
     "output_type": "stream",
     "text": [
      "INFO:     127.0.0.1:41438 - \"POST /eye-tracking HTTP/1.1\" 200 OK\n",
      "INFO:     127.0.0.1:41440 - \"POST /pose-estimate HTTP/1.1\" 200 OK\n",
      "INFO:     127.0.0.1:41448 - \"POST /eye-tracking HTTP/1.1\" 200 OK\n",
      "INFO:     127.0.0.1:41456 - \"POST /pose-estimate HTTP/1.1\" 200 OK\n"
     ]
    },
    {
     "name": "stderr",
     "output_type": "stream",
     "text": [
      "I0000 00:00:1725881166.367385   11994 gl_context_egl.cc:85] Successfully initialized EGL. Major : 1 Minor: 5\n",
      "I0000 00:00:1725881166.381806   15334 gl_context.cc:357] GL version: 3.2 (OpenGL ES 3.2 NVIDIA 535.146.02), renderer: NVIDIA GeForce RTX 3060/PCIe/SSE2\n",
      "W0000 00:00:1725881166.384841   15323 inference_feedback_manager.cc:114] Feedback manager requires a model with a single signature inference. Disabling support for feedback tensors.\n",
      "W0000 00:00:1725881166.395556   15322 inference_feedback_manager.cc:114] Feedback manager requires a model with a single signature inference. Disabling support for feedback tensors.\n",
      "I0000 00:00:1725881166.463653   11994 gl_context_egl.cc:85] Successfully initialized EGL. Major : 1 Minor: 5\n",
      "I0000 00:00:1725881166.483544   15347 gl_context.cc:357] GL version: 3.2 (OpenGL ES 3.2 NVIDIA 535.146.02), renderer: NVIDIA GeForce RTX 3060/PCIe/SSE2\n",
      "W0000 00:00:1725881166.485169   15339 inference_feedback_manager.cc:114] Feedback manager requires a model with a single signature inference. Disabling support for feedback tensors.\n",
      "W0000 00:00:1725881166.496516   15337 inference_feedback_manager.cc:114] Feedback manager requires a model with a single signature inference. Disabling support for feedback tensors.\n",
      "I0000 00:00:1725881166.570637   11994 gl_context_egl.cc:85] Successfully initialized EGL. Major : 1 Minor: 5\n"
     ]
    },
    {
     "name": "stdout",
     "output_type": "stream",
     "text": [
      "INFO:     127.0.0.1:41458 - \"POST /eye-tracking HTTP/1.1\" 200 OK\n",
      "INFO:     127.0.0.1:41466 - \"POST /pose-estimate HTTP/1.1\" 200 OK\n",
      "INFO:     127.0.0.1:41470 - \"POST /eye-tracking HTTP/1.1\" 200 OK\n",
      "INFO:     127.0.0.1:41480 - \"POST /pose-estimate HTTP/1.1\" 200 OK\n"
     ]
    },
    {
     "name": "stderr",
     "output_type": "stream",
     "text": [
      "I0000 00:00:1725881166.585009   15360 gl_context.cc:357] GL version: 3.2 (OpenGL ES 3.2 NVIDIA 535.146.02), renderer: NVIDIA GeForce RTX 3060/PCIe/SSE2\n",
      "W0000 00:00:1725881166.586536   15348 inference_feedback_manager.cc:114] Feedback manager requires a model with a single signature inference. Disabling support for feedback tensors.\n",
      "W0000 00:00:1725881166.598935   15353 inference_feedback_manager.cc:114] Feedback manager requires a model with a single signature inference. Disabling support for feedback tensors.\n",
      "I0000 00:00:1725881166.666617   11994 gl_context_egl.cc:85] Successfully initialized EGL. Major : 1 Minor: 5\n",
      "I0000 00:00:1725881166.683065   15373 gl_context.cc:357] GL version: 3.2 (OpenGL ES 3.2 NVIDIA 535.146.02), renderer: NVIDIA GeForce RTX 3060/PCIe/SSE2\n",
      "W0000 00:00:1725881166.686863   15363 inference_feedback_manager.cc:114] Feedback manager requires a model with a single signature inference. Disabling support for feedback tensors.\n",
      "W0000 00:00:1725881166.698540   15362 inference_feedback_manager.cc:114] Feedback manager requires a model with a single signature inference. Disabling support for feedback tensors.\n",
      "I0000 00:00:1725881166.767408   11994 gl_context_egl.cc:85] Successfully initialized EGL. Major : 1 Minor: 5\n",
      "I0000 00:00:1725881166.781924   15387 gl_context.cc:357] GL version: 3.2 (OpenGL ES 3.2 NVIDIA 535.146.02), renderer: NVIDIA GeForce RTX 3060/PCIe/SSE2\n",
      "W0000 00:00:1725881166.783418   15382 inference_feedback_manager.cc:114] Feedback manager requires a model with a single signature inference. Disabling support for feedback tensors.\n"
     ]
    },
    {
     "name": "stdout",
     "output_type": "stream",
     "text": [
      "INFO:     127.0.0.1:41482 - \"POST /eye-tracking HTTP/1.1\" 200 OK\n",
      "INFO:     127.0.0.1:41494 - \"POST /pose-estimate HTTP/1.1\" 200 OK\n",
      "INFO:     127.0.0.1:41510 - \"POST /eye-tracking HTTP/1.1\" 200 OK\n",
      "INFO:     127.0.0.1:41526 - \"POST /pose-estimate HTTP/1.1\" 200 OK\n"
     ]
    },
    {
     "name": "stderr",
     "output_type": "stream",
     "text": [
      "W0000 00:00:1725881166.795203   15376 inference_feedback_manager.cc:114] Feedback manager requires a model with a single signature inference. Disabling support for feedback tensors.\n",
      "I0000 00:00:1725881166.865563   11994 gl_context_egl.cc:85] Successfully initialized EGL. Major : 1 Minor: 5\n",
      "I0000 00:00:1725881166.884706   15400 gl_context.cc:357] GL version: 3.2 (OpenGL ES 3.2 NVIDIA 535.146.02), renderer: NVIDIA GeForce RTX 3060/PCIe/SSE2\n",
      "W0000 00:00:1725881166.887820   15391 inference_feedback_manager.cc:114] Feedback manager requires a model with a single signature inference. Disabling support for feedback tensors.\n",
      "W0000 00:00:1725881166.898986   15389 inference_feedback_manager.cc:114] Feedback manager requires a model with a single signature inference. Disabling support for feedback tensors.\n",
      "I0000 00:00:1725881166.972667   11994 gl_context_egl.cc:85] Successfully initialized EGL. Major : 1 Minor: 5\n",
      "I0000 00:00:1725881166.992143   15413 gl_context.cc:357] GL version: 3.2 (OpenGL ES 3.2 NVIDIA 535.146.02), renderer: NVIDIA GeForce RTX 3060/PCIe/SSE2\n",
      "W0000 00:00:1725881166.994031   15402 inference_feedback_manager.cc:114] Feedback manager requires a model with a single signature inference. Disabling support for feedback tensors.\n"
     ]
    },
    {
     "name": "stdout",
     "output_type": "stream",
     "text": [
      "INFO:     127.0.0.1:41536 - \"POST /eye-tracking HTTP/1.1\" 200 OK\n",
      "INFO:     127.0.0.1:41044 - \"POST /pose-estimate HTTP/1.1\" 200 OK\n",
      "INFO:     127.0.0.1:41052 - \"POST /eye-tracking HTTP/1.1\" 200 OK\n",
      "INFO:     127.0.0.1:41064 - \"POST /pose-estimate HTTP/1.1\" 200 OK\n"
     ]
    },
    {
     "name": "stderr",
     "output_type": "stream",
     "text": [
      "W0000 00:00:1725881167.005723   15403 inference_feedback_manager.cc:114] Feedback manager requires a model with a single signature inference. Disabling support for feedback tensors.\n",
      "I0000 00:00:1725881167.080606   11994 gl_context_egl.cc:85] Successfully initialized EGL. Major : 1 Minor: 5\n",
      "I0000 00:00:1725881167.125596   15426 gl_context.cc:357] GL version: 3.2 (OpenGL ES 3.2 NVIDIA 535.146.02), renderer: NVIDIA GeForce RTX 3060/PCIe/SSE2\n",
      "W0000 00:00:1725881167.128582   15417 inference_feedback_manager.cc:114] Feedback manager requires a model with a single signature inference. Disabling support for feedback tensors.\n",
      "W0000 00:00:1725881167.139383   15415 inference_feedback_manager.cc:114] Feedback manager requires a model with a single signature inference. Disabling support for feedback tensors.\n"
     ]
    },
    {
     "name": "stdout",
     "output_type": "stream",
     "text": [
      "INFO:     127.0.0.1:41074 - \"POST /eye-tracking HTTP/1.1\" 200 OK\n",
      "INFO:     127.0.0.1:41082 - \"POST /pose-estimate HTTP/1.1\" 200 OK\n",
      "INFO:     127.0.0.1:41098 - \"POST /eye-tracking HTTP/1.1\" 200 OK\n",
      "INFO:     127.0.0.1:41102 - \"POST /pose-estimate HTTP/1.1\" 200 OK\n"
     ]
    },
    {
     "name": "stderr",
     "output_type": "stream",
     "text": [
      "I0000 00:00:1725881167.213828   11994 gl_context_egl.cc:85] Successfully initialized EGL. Major : 1 Minor: 5\n",
      "I0000 00:00:1725881167.242079   15439 gl_context.cc:357] GL version: 3.2 (OpenGL ES 3.2 NVIDIA 535.146.02), renderer: NVIDIA GeForce RTX 3060/PCIe/SSE2\n",
      "W0000 00:00:1725881167.244463   15428 inference_feedback_manager.cc:114] Feedback manager requires a model with a single signature inference. Disabling support for feedback tensors.\n",
      "W0000 00:00:1725881167.250927   15438 inference_feedback_manager.cc:114] Feedback manager requires a model with a single signature inference. Disabling support for feedback tensors.\n",
      "I0000 00:00:1725881167.322479   11994 gl_context_egl.cc:85] Successfully initialized EGL. Major : 1 Minor: 5\n",
      "I0000 00:00:1725881167.338582   15452 gl_context.cc:357] GL version: 3.2 (OpenGL ES 3.2 NVIDIA 535.146.02), renderer: NVIDIA GeForce RTX 3060/PCIe/SSE2\n",
      "W0000 00:00:1725881167.341333   15448 inference_feedback_manager.cc:114] Feedback manager requires a model with a single signature inference. Disabling support for feedback tensors.\n",
      "W0000 00:00:1725881167.347789   15444 inference_feedback_manager.cc:114] Feedback manager requires a model with a single signature inference. Disabling support for feedback tensors.\n",
      "I0000 00:00:1725881167.416547   11994 gl_context_egl.cc:85] Successfully initialized EGL. Major : 1 Minor: 5\n",
      "I0000 00:00:1725881167.431194   15465 gl_context.cc:357] GL version: 3.2 (OpenGL ES 3.2 NVIDIA 535.146.02), renderer: NVIDIA GeForce RTX 3060/PCIe/SSE2\n",
      "W0000 00:00:1725881167.434045   15456 inference_feedback_manager.cc:114] Feedback manager requires a model with a single signature inference. Disabling support for feedback tensors.\n"
     ]
    },
    {
     "name": "stdout",
     "output_type": "stream",
     "text": [
      "INFO:     127.0.0.1:41104 - \"POST /eye-tracking HTTP/1.1\" 200 OK\n",
      "INFO:     127.0.0.1:41106 - \"POST /pose-estimate HTTP/1.1\" 200 OK\n",
      "INFO:     127.0.0.1:41116 - \"POST /eye-tracking HTTP/1.1\" 200 OK\n"
     ]
    },
    {
     "name": "stderr",
     "output_type": "stream",
     "text": [
      "W0000 00:00:1725881167.444883   15453 inference_feedback_manager.cc:114] Feedback manager requires a model with a single signature inference. Disabling support for feedback tensors.\n",
      "I0000 00:00:1725881167.518529   11994 gl_context_egl.cc:85] Successfully initialized EGL. Major : 1 Minor: 5\n",
      "I0000 00:00:1725881167.535076   15478 gl_context.cc:357] GL version: 3.2 (OpenGL ES 3.2 NVIDIA 535.146.02), renderer: NVIDIA GeForce RTX 3060/PCIe/SSE2\n",
      "W0000 00:00:1725881167.536752   15470 inference_feedback_manager.cc:114] Feedback manager requires a model with a single signature inference. Disabling support for feedback tensors.\n",
      "W0000 00:00:1725881167.548201   15468 inference_feedback_manager.cc:114] Feedback manager requires a model with a single signature inference. Disabling support for feedback tensors.\n"
     ]
    }
   ],
   "source": [
    "start_fastapi()"
   ]
  },
  {
   "cell_type": "code",
   "execution_count": 4,
   "id": "4072be7a-5b18-49af-a4f8-aef0b340d8fc",
   "metadata": {},
   "outputs": [],
   "source": []
  },
  {
   "cell_type": "code",
   "execution_count": null,
   "id": "a8878a8e-2a6c-4e12-a38d-b64f074ea837",
   "metadata": {},
   "outputs": [],
   "source": []
  },
  {
   "cell_type": "code",
   "execution_count": null,
   "id": "41e0c49d-8462-41d2-9eaa-774f8f7c4ad6",
   "metadata": {},
   "outputs": [],
   "source": []
  },
  {
   "cell_type": "code",
   "execution_count": null,
   "id": "20776faa-a565-4597-b503-2625fd8d7977",
   "metadata": {},
   "outputs": [],
   "source": []
  },
  {
   "cell_type": "code",
   "execution_count": null,
   "id": "56de3e9e-856b-4e44-9a89-93e40f99624d",
   "metadata": {},
   "outputs": [],
   "source": []
  },
  {
   "cell_type": "code",
   "execution_count": null,
   "id": "9d076122-5dd8-47ee-b777-e175bacf13cd",
   "metadata": {},
   "outputs": [],
   "source": []
  },
  {
   "cell_type": "code",
   "execution_count": null,
   "id": "b2438a62-f4cc-4b36-923b-d915c1b16603",
   "metadata": {},
   "outputs": [],
   "source": []
  },
  {
   "cell_type": "code",
   "execution_count": null,
   "id": "9cc66f68-136a-484c-8de8-251b69fb48da",
   "metadata": {},
   "outputs": [],
   "source": []
  },
  {
   "cell_type": "code",
   "execution_count": null,
   "id": "14e7cd9f-594c-4fc9-84ac-3e777871dc63",
   "metadata": {},
   "outputs": [],
   "source": []
  },
  {
   "cell_type": "code",
   "execution_count": null,
   "id": "23934077-c94a-4775-9a26-e7f756353c25",
   "metadata": {},
   "outputs": [],
   "source": []
  },
  {
   "cell_type": "code",
   "execution_count": null,
   "id": "1921e53f-43c2-4705-b827-4b9a3e96aa01",
   "metadata": {},
   "outputs": [],
   "source": [
    "nest_asyncio.apply()\n",
    "app = FastAPI()\n",
    "\n",
    "# class Frame(BaseModel):\n",
    "#     frame: str\n",
    "#     timestamp: str\n",
    "\n",
    "@app.post(\"/process-video\")\n",
    "async def process_video(request: Request):\n",
    "\n",
    "    infodata = await request.body()\n",
    "    return {'connected':'yes'}\n",
    "    \n",
    "        \n",
    "def start_fastapi():\n",
    "    uvicorn.run(app, host=\"0.0.0.0\", port=8080)\n",
    "\n",
    "start_fastapi()"
   ]
  }
 ],
 "metadata": {
  "kernelspec": {
   "display_name": "vtenv-2",
   "language": "python",
   "name": "vtenv-2"
  },
  "language_info": {
   "codemirror_mode": {
    "name": "ipython",
    "version": 3
   },
   "file_extension": ".py",
   "mimetype": "text/x-python",
   "name": "python",
   "nbconvert_exporter": "python",
   "pygments_lexer": "ipython3",
   "version": "3.10.0"
  }
 },
 "nbformat": 4,
 "nbformat_minor": 5
}
