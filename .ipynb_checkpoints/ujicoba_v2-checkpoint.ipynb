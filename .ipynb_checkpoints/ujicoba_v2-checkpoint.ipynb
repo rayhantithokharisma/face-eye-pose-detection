{
 "cells": [
  {
   "cell_type": "code",
   "execution_count": null,
   "id": "e27e9819-9411-4b04-83ef-39ce7839644c",
   "metadata": {},
   "outputs": [],
   "source": [
    "cv2.circle(frame, (points[0], points[5]), 2, blue, 2)\n",
    "blue = (0, 0, 255)"
   ]
  },
  {
   "cell_type": "code",
   "execution_count": null,
   "id": "777b301b-bb41-4b21-a15e-9ec870b6269a",
   "metadata": {},
   "outputs": [],
   "source": [
    "import mediapipe as mp\n",
    "import cv2\n",
    "import numpy as np\n",
    "from helpers import relative, relativeT\n",
    "# import gaze\n",
    "\n",
    "mp_face_mesh = mp.solutions.face_mesh  # initialize the face mesh model\n",
    "font = cv2.FONT_HERSHEY_COMPLEX\n",
    "# camera stream:\n",
    "cap = cv2.VideoCapture(0)  # chose camera index (try 1, 2, 3)\n",
    "\n",
    "frame_width = int(cap.get(cv2.CAP_PROP_FRAME_WIDTH))\n",
    "frame_height = int(cap.get(cv2.CAP_PROP_FRAME_HEIGHT))\n",
    "fps = cap.get(cv2.CAP_PROP_FPS)\n",
    "\n",
    "video_format = cv2.VideoWriter_fourcc('M','J','P','G')\n",
    "#out = cv2.VideoWriter('output_gaze.avi', )\n",
    "video_file = 'video_out_gaz_2.avi'\n",
    "video_out = cv2.VideoWriter(video_file,video_format, fps, (frame_width, frame_height))\n",
    "\n",
    "\n",
    "blue = (0, 0, 255)\n",
    "red = (255, 0, 0)\n",
    "green = (0,128,0)\n",
    "with mp_face_mesh.FaceMesh(\n",
    "        max_num_faces=1,  # number of faces to track in each frame\n",
    "        refine_landmarks=True,  # includes iris landmarks in the face mesh model\n",
    "        min_detection_confidence=0.5,\n",
    "        min_tracking_confidence=0.5) as face_mesh:\n",
    "    while cap.isOpened():\n",
    "        success, image = cap.read()\n",
    "        if not success:  # no frame input\n",
    "            print(\"Ignoring empty camera frame.\")\n",
    "            continue\n",
    "        # To improve performance, optionally mark the image as not writeable to\n",
    "        # pass by reference.\n",
    "\n",
    "        image.flags.writeable = False\n",
    "        image = cv2.cvtColor(image, cv2.COLOR_BGR2RGB)  # frame to RGB for the face-mesh model\n",
    "        results = face_mesh.process(image)\n",
    "        frame = cv2.cvtColor(image, cv2.COLOR_RGB2BGR)  # frame back to BGR for OpenCV\n",
    "        \n",
    "        gray = cv2.cvtColor(frame, cv2.COLOR_BGR2GRAY)\n",
    "        avg_brightness = gray.mean()\n",
    "        cv2.putText(frame, f\"Avg Brightness : {avg_brightness}\", (10, 300), font, 0.4, green, 1)\n",
    "\n",
    "        \n",
    "\n",
    "        if results.multi_face_landmarks:\n",
    "            points = results.multi_face_landmarks[0]\n",
    "            right_pupil = relative(points.landmark[468], frame.shape)\n",
    "            left_pupil = relative(points.landmark[473], frame.shape)\n",
    "            cv2.circle(frame, (left_pupil[0], left_pupil[1]), 2, blue, 2)\n",
    "            cv2.circle(frame, (right_pupil[0], right_pupil[1]), 2, red, 2)\n",
    "            \n",
    "            \n",
    "            # corner eye\n",
    "            left_corner = relative(points.landmark[263], frame.shape)\n",
    "            right_corner = relative(points.landmark[33], frame.shape)\n",
    "            cv2.circle(frame, (left_corner[0], left_corner[1]), 2, blue, 2)\n",
    "            cv2.circle(frame, (right_corner[0], right_corner[1]), 2, red, 2)\n",
    "        \n",
    "            right_corner_inside = relative(points.landmark[133], frame.shape)\n",
    "            left_corner_inside = relative(points.landmark[362], frame.shape)\n",
    "            cv2.circle(frame, (left_corner_inside[0], left_corner_inside[1]), 2, blue, 2)\n",
    "            cv2.circle(frame, (right_corner_inside[0], right_corner_inside[1]), 2, red, 2)\n",
    "\n",
    "\n",
    "            right_upper = relative(points.landmark[159], frame.shape)\n",
    "            left_upper = relative(points.landmark[386], frame.shape)\n",
    "            cv2.circle(frame, (left_upper[0], left_upper[1]), 2, blue, 2)\n",
    "            cv2.circle(frame, (right_upper[0], right_upper[1]), 2, red, 2)\n",
    "\n",
    "            # cv2.putText(frame, f\"Left Pupil: {left_pupil[0]}\", (10, 250), font, 0.4, blue, 1)\n",
    "            # cv2.putText(frame, f\"Left Corner: {left_corner[0]}\", (10, 260), font, 0.4, blue, 1)\n",
    "            # cv2.putText(frame, f\"Left Inside: {left_corner_inside[0]}\", (10, 270), font, 0.4, blue, 1)\n",
    "            try:\n",
    "                cv2.putText(frame, \n",
    "                            f\"Pupil Left Ratio : {(left_pupil[0] - left_corner_inside[0]) / (left_corner[0] - left_corner_inside[0])}\", \n",
    "                            (10, 250), font, 0.4, blue, 1)\n",
    "\n",
    "                cv2.putText(frame, \n",
    "                            f\"Pupil Right Ratio : {(right_pupil[0] - right_corner[0]) / (right_corner_inside[0] - right_corner[0])}\", \n",
    "                            (10, 270), font, 0.4, red, 1)\n",
    "            except:\n",
    "                cv2.putText(frame, \"Error\", (10,250), font, 0.4, green, 1)\n",
    "        \n",
    "        else:\n",
    "            cv2.putText(frame, \"Please check your lenses, your glasses, or place your face in center\", (10, 100), font, 0.4, green, 1)\n",
    "\n",
    "        # if results.multi_face_landmarks:\n",
    "        #     gaze(image, results.multi_face_landmarks[0])  # gaze estimation\n",
    "        #frame = cv2.flip(frame, 1)\n",
    "        cv2.imshow('output window', frame)\n",
    "        video_out.write(frame)  \n",
    "        if cv2.waitKey(2) & 0xFF == 27:\n",
    "            break\n",
    "cap.release()\n",
    "video_out.release()\n",
    "cv2.destroyAllWindows()"
   ]
  },
  {
   "cell_type": "code",
   "execution_count": 1,
   "id": "43b21737-01f0-4e29-be5e-1074b32a5020",
   "metadata": {},
   "outputs": [],
   "source": [
    "# yawl > 50\n",
    "# yawl < -50\n",
    "\n",
    "# pitch > 10\n",
    "# pitch < -35\n",
    "# left/right > 0.6\n",
    "# left/right < 0.4"
   ]
  },
  {
   "cell_type": "code",
   "execution_count": 1,
   "id": "0474051e-bd96-4f52-8e1a-810248260a11",
   "metadata": {},
   "outputs": [
    {
     "name": "stderr",
     "output_type": "stream",
     "text": [
      "2024-09-09 18:06:13.259360: E external/local_xla/xla/stream_executor/cuda/cuda_fft.cc:485] Unable to register cuFFT factory: Attempting to register factory for plugin cuFFT when one has already been registered\n",
      "2024-09-09 18:06:13.370997: E external/local_xla/xla/stream_executor/cuda/cuda_dnn.cc:8454] Unable to register cuDNN factory: Attempting to register factory for plugin cuDNN when one has already been registered\n",
      "2024-09-09 18:06:13.399851: E external/local_xla/xla/stream_executor/cuda/cuda_blas.cc:1452] Unable to register cuBLAS factory: Attempting to register factory for plugin cuBLAS when one has already been registered\n",
      "2024-09-09 18:06:13.609142: I tensorflow/core/platform/cpu_feature_guard.cc:210] This TensorFlow binary is optimized to use available CPU instructions in performance-critical operations.\n",
      "To enable the following instructions: AVX2 FMA, in other operations, rebuild TensorFlow with the appropriate compiler flags.\n",
      "2024-09-09 18:06:14.782675: W tensorflow/compiler/tf2tensorrt/utils/py_utils.cc:38] TF-TRT Warning: Could not find TensorRT\n",
      "WARNING: All log messages before absl::InitializeLog() is called are written to STDERR\n",
      "I0000 00:00:1725879977.051564    6179 cuda_executor.cc:1015] successful NUMA node read from SysFS had negative value (-1), but there must be at least one NUMA node, so returning NUMA node zero. See more at https://github.com/torvalds/linux/blob/v6.0/Documentation/ABI/testing/sysfs-bus-pci#L344-L355\n",
      "2024-09-09 18:06:17.276967: W tensorflow/core/common_runtime/gpu/gpu_device.cc:2343] Cannot dlopen some GPU libraries. Please make sure the missing libraries mentioned above are installed properly if you would like to use GPU. Follow the guide at https://www.tensorflow.org/install/gpu for how to download and setup the required libraries for your platform.\n",
      "Skipping registering GPU devices...\n"
     ]
    }
   ],
   "source": [
    "from fastapi import FastAPI, Request\n",
    "from pydantic import BaseModel\n",
    "import base64\n",
    "import mediapipe as mp\n",
    "import cv2\n",
    "import numpy as np\n",
    "import uvicorn\n",
    "import nest_asyncio\n",
    "import tensorflow as tf\n",
    "from helpers import relative, relativeT\n",
    "\n",
    "mp_face_mesh = mp.solutions.face_mesh  # initialize the face mesh model\n",
    "font = cv2.FONT_HERSHEY_COMPLEX\n",
    "detector_model = tf.saved_model.load('./models/tf_retinaface_mbv2/')\n",
    "\n",
    "blue = (0, 0, 255)\n",
    "red = (255, 0, 0)\n",
    "green = (0,128,0)"
   ]
  },
  {
   "cell_type": "code",
   "execution_count": 1,
   "id": "70176b32-119d-40b0-9055-68681b726c3f",
   "metadata": {},
   "outputs": [],
   "source": [
    "def one_face(frame, bbs, pointss):\n",
    "    \"\"\"\n",
    "    Parameters\n",
    "    ----------\n",
    "    frame : uint8\n",
    "        RGB image (numpy array).\n",
    "    bbs : float64, Size = (N, 4)\n",
    "        coordinates of bounding boxes for all detected faces.\n",
    "    pointss : flaot32, Size = (N, 10)\n",
    "        coordinates of landmarks for all detected faces.\n",
    "\n",
    "    Returns\n",
    "    -------\n",
    "    bb : float64, Size = (5,)\n",
    "        coordinates of bounding box for the selected face.\n",
    "    points : float32\n",
    "        coordinates of five landmarks for the selected face.\n",
    "\n",
    "    \"\"\"\n",
    "    # select only process only one face (center ?)\n",
    "    offsets = [(bbs[:,0]+bbs[:,2])/2-frame.shape[1]/2,\n",
    "               (bbs[:,1]+bbs[:,3])/2-frame.shape[0]/2]\n",
    "    offset_dist = np.sum(np.abs(offsets),0)\n",
    "    index = np.argmin(offset_dist)\n",
    "    bb = bbs[index]\n",
    "    points = pointss[:,index]\n",
    "    return bb, points\n",
    "\n",
    "def are_coordinates_in_frame(frame, box, pts):\n",
    "    \"\"\"\n",
    "    Parameters\n",
    "    ----------\n",
    "    frame : uint8\n",
    "        RGB image (numpy array).\n",
    "    bbs : float64\n",
    "        coordinates of bounding box.\n",
    "    points : flaot32\n",
    "        coordinates of landmarks.\n",
    "\n",
    "    Returns\n",
    "    -------\n",
    "    boolean\n",
    "    \"\"\"\n",
    "    \n",
    "    height, width = frame.shape[:2]\n",
    "    height = height +1.5*height\n",
    "    width = width +1.5*width\n",
    "    \n",
    "    if np.any(box <= 0) or np.any(box >= height) or np.any(box >= width):\n",
    "        return False\n",
    "    if np.any(pts <= 0) or np.any(pts >= height) or np.any(pts >= width):\n",
    "        return False\n",
    "    \n",
    "    return True\n",
    "\n",
    "def are_centered(frame, box, pts):\n",
    "    \"\"\"\n",
    "    Parameters\n",
    "    ----------\n",
    "    frame : uint8\n",
    "        RGB image (numpy array).\n",
    "    bbs : float64\n",
    "        coordinates of bounding box.\n",
    "    points : flaot32\n",
    "        coordinates of landmarks.\n",
    "\n",
    "    Returns\n",
    "    -------\n",
    "    boolean\n",
    "    \"\"\"\n",
    "    \n",
    "    height, width = frame.shape[:2]\n",
    "    # height = height +1.5*height\n",
    "    # width = width +1.5*width\n",
    "    \n",
    "    if np.any(box <= 0) or np.any(box >= height) or np.any(box >= width):\n",
    "        return False\n",
    "    if np.any(pts <= 0) or np.any(pts >= height) or np.any(pts >= width):\n",
    "        return False\n",
    "    \n",
    "    return True\n",
    "    \n",
    "            \n",
    "def draw_landmarks(frame, bb, points):\n",
    "    '''\n",
    "    Parameters\n",
    "    ----------\n",
    "    frame : uint8\n",
    "        RGB image\n",
    "    bb : float64, Size = (5,)\n",
    "        coordinates of bounding box for the selected face.\n",
    "    points : float32, Size = (10,)\n",
    "        coordinates of landmarks for the selected faces.\n",
    "\n",
    "    Returns\n",
    "    -------\n",
    "    None.\n",
    "\n",
    "    '''\n",
    "    bb = bb.astype(int)\n",
    "    points = points.astype(int)\n",
    "    # draw rectangle and landmarks on face\n",
    "    cv2.rectangle(frame, (bb[0], bb[1]), (bb[2], bb[3]), red, 1)\n",
    "    cv2.circle(frame, (points[0], points[5]), 2, blue, 2)# left eye\n",
    "    cv2.circle(frame, (points[1], points[6]), 2, blue, 2)# right eye\n",
    "    cv2.circle(frame, (points[2], points[7]), 2, blue, 2)# nose\n",
    "    cv2.circle(frame, (points[3], points[8]), 2, blue, 2)# mouth - left\n",
    "    cv2.circle(frame, (points[4], points[9]), 2, blue, 2)# mouth - right \n",
    "    \n",
    "    w = int(bb[2])-int(bb[0])# width\n",
    "    h = int(bb[3])-int(bb[1])# height\n",
    "    w2h_ratio = w/h# width to height ratio\n",
    "    eye2box_ratio = (points[0]-bb[0]) / (bb[2]-points[1])\n",
    "    font_size = 14\n",
    "    #cv2.putText(frame, \"Width (pixels): {}\".format(w), (10,30), font, font_size, red, 1)\n",
    "    #cv2.putText(frame, \"Height (pixels): {}\".format(h), (10,40), font, font_size, red, 1)\n",
    "    \n",
    "    # if eye2box_ratio > 1.5 or eye2box_ratio < 0.88:\n",
    "    #     cv2.putText(frame, \"Face: not in center of the bounding box\", (10, 140), font, font_size, blue, 1)\n",
    "    # if w2h_ratio < 0.7 or w2h_ratio > 0.9:\n",
    "    #     cv2.putText(frame, \"Face: long and narrow\", (10, 160), font, font_size, blue, 1)\n",
    "\n",
    "def find_smile(points):\n",
    "    \"\"\"\n",
    "    Parameters\n",
    "    ----------\n",
    "    points : flaot32\n",
    "        coordinates of landmarks.\n",
    "\n",
    "    Returns\n",
    "    -------\n",
    "    smile_ratio : float32\n",
    "        a value that determines if the face is smiling.\n",
    "    \"\"\"\n",
    "    dx_eyes = points[1] - points[0]# pixels between pupils\n",
    "    dx_mout = points[4] - points[3]# pixles between mouth corners\n",
    "    smile_ratio = dx_mout/dx_eyes    \n",
    "    return smile_ratio\n",
    "\n",
    "def find_roll(points):\n",
    "    \"\"\"\n",
    "    Parameters\n",
    "    ----------\n",
    "    points : float32\n",
    "        coordinates of landmarks.\n",
    "\n",
    "    Returns\n",
    "    -------\n",
    "    flaot32\n",
    "        an indication of roll.\n",
    "\n",
    "    \"\"\"\n",
    "    return points[6] - points[5]\n",
    "\n",
    "def find_yaw(points):\n",
    "    \"\"\"\n",
    "    Parameters\n",
    "    ----------\n",
    "    points : float32, Size = (10,)\n",
    "        coordinates of landmarks.\n",
    "    Returns\n",
    "    -------\n",
    "    float32\n",
    "        an indication of yaw.\n",
    "\n",
    "    \"\"\"\n",
    "    le2n = points[2] - points[0]\n",
    "    re2n = points[1] - points[2]\n",
    "    return le2n - re2n\n",
    "\n",
    "def find_pitch(points):\n",
    "    \"\"\"\n",
    "    Parameters\n",
    "    ----------\n",
    "    points : float32, Size = (10,)\n",
    "        coordinates of landmarks.\n",
    "    Returns\n",
    "    -------\n",
    "    float32\n",
    "        an indication of pitch.\n",
    "    \"\"\"\n",
    "    eye_y = (points[5] + points[6]) / 2\n",
    "    mou_y = (points[8] + points[9]) / 2\n",
    "    e2n = eye_y - points[7]\n",
    "    n2m = points[7] - mou_y\n",
    "    return e2n / n2m\n",
    "\n",
    "def find_pose(points):\n",
    "    \"\"\"\n",
    "    Parameters\n",
    "    ----------\n",
    "    points : float32, Size = (10,)\n",
    "        coordinates of landmarks for the selected faces.\n",
    "    Returns\n",
    "    -------\n",
    "    float32, float32, float32\n",
    "    \"\"\"\n",
    "    LMx = points[0:5]# horizontal coordinates of landmarks\n",
    "    LMy = points[5:10]# vertical coordinates of landmarks\n",
    "    \n",
    "    dPx_eyes = max((LMx[1] - LMx[0]), 1)\n",
    "    dPy_eyes = (LMy[1] - LMy[0])\n",
    "    angle = np.arctan(dPy_eyes / dPx_eyes) # angle for rotation based on slope\n",
    "    \n",
    "    alpha = np.cos(angle)\n",
    "    beta = np.sin(angle)\n",
    "    \n",
    "    # rotated landmarks\n",
    "    LMxr = (alpha * LMx + beta * LMy + (1 - alpha) * LMx[2] / 2 - beta * LMy[2] / 2) \n",
    "    LMyr = (-beta * LMx + alpha * LMy + beta * LMx[2] / 2 + (1 - alpha) * LMy[2] / 2)\n",
    "    \n",
    "    # average distance between eyes and mouth\n",
    "    dXtot = (LMxr[1] - LMxr[0] + LMxr[4] - LMxr[3]) / 2\n",
    "    dYtot = (LMyr[3] - LMyr[0] + LMyr[4] - LMyr[1]) / 2\n",
    "    \n",
    "    # average distance between nose and eyes\n",
    "    dXnose = (LMxr[1] - LMxr[2] + LMxr[4] - LMxr[2]) / 2\n",
    "    dYnose = (LMyr[3] - LMyr[2] + LMyr[4] - LMyr[2]) / 2\n",
    "    \n",
    "    # relative rotation 0 degree is frontal 90 degree is profile\n",
    "    Xfrontal = (-90+90 / 0.5 * dXnose / dXtot) if dXtot != 0 else 0\n",
    "    Yfrontal = (-90+90 / 0.5 * dYnose / dYtot) if dYtot != 0 else 0\n",
    "\n",
    "    return angle * 180 / np.pi, Xfrontal, Yfrontal\n",
    "\n",
    "def detect_faces(image, image_shape_max=640):\n",
    "    '''\n",
    "    Performs face detection using retinaface method with speed boost and \n",
    "    initial quality checks based on whole image size\n",
    "    \n",
    "    Parameters\n",
    "    ----------\n",
    "    image : uint8\n",
    "        image for face detection.\n",
    "    image_shape_max : int, optional\n",
    "        maximum size (in pixels) of image.\n",
    "\n",
    "    Returns\n",
    "    -------\n",
    "    float array\n",
    "        landmarks.\n",
    "    float array\n",
    "        bounding boxes.\n",
    "    flaot array\n",
    "        detection scores.\n",
    "    '''\n",
    "\n",
    "    image_shape = image.shape[:2]\n",
    "    \n",
    "    # perform image resize for faster detection    \n",
    "    if image_shape_max:\n",
    "        scale_factor = max([1, max(image_shape)/image_shape_max])\n",
    "    else:\n",
    "        scale_factor = 1\n",
    "        \n",
    "    if scale_factor > 1:        \n",
    "        scaled_image = cv2.resize(image, (0, 0), fx = 1 / scale_factor, \n",
    "                                  fy = 1 / scale_factor)\n",
    "        bbs_all, points_all = retinaface(scaled_image)\n",
    "        bbs_all[:,:4] *= scale_factor\n",
    "        points_all *= scale_factor\n",
    "    else:\n",
    "        bbs_all, points_all = retinaface(image)              \n",
    "    \n",
    "    scores = bbs_all[:,-1]\n",
    "    bbs = bbs_all[:, :4]\n",
    "    \n",
    "    return points_all, bbs, scores\n",
    "\n",
    "def retinaface(image):\n",
    "    \"\"\" retinaface face detector\"\"\"\n",
    "\n",
    "    height = image.shape[0]\n",
    "    width = image.shape[1]\n",
    "    \n",
    "    image_pad, pad_params = pad_input_image(image)    \n",
    "    image_pad = tf.convert_to_tensor(image_pad[np.newaxis, ...])\n",
    "    image_pad = tf.cast(image_pad, tf.float32)  \n",
    "   \n",
    "    outputs = detector_model(image_pad).numpy()\n",
    "\n",
    "    outputs = recover_pad_output(outputs, pad_params)\n",
    "    Nfaces = len(outputs)\n",
    "    \n",
    "    bbs = np.zeros((Nfaces,5))\n",
    "    lms = np.zeros((Nfaces,10))\n",
    "    \n",
    "    bbs[:,[0,2]] = outputs[:,[0,2]]*width\n",
    "    bbs[:,[1,3]] = outputs[:,[1,3]]*height\n",
    "    bbs[:,4] = outputs[:,-1]\n",
    "    \n",
    "    lms[:,0:5] = outputs[:,[4,6,8,10,12]]*width\n",
    "    lms[:,5:10] = outputs[:,[5,7,9,11,13]]*height\n",
    "    \n",
    "    return bbs, lms\n",
    "\n",
    "def pad_input_image(img, max_steps=32):\n",
    "    \"\"\"pad image to suitable shape - required for retinaface\"\"\"\n",
    "    img_h, img_w, _ = img.shape\n",
    "\n",
    "    img_pad_h = 0\n",
    "    if img_h % max_steps > 0:\n",
    "        img_pad_h = max_steps - img_h % max_steps\n",
    "\n",
    "    img_pad_w = 0\n",
    "    if img_w % max_steps > 0:\n",
    "        img_pad_w = max_steps - img_w % max_steps\n",
    "\n",
    "    padd_val = np.mean(img, axis=(0, 1)).astype(np.uint8)\n",
    "    img = cv2.copyMakeBorder(img, 0, img_pad_h, 0, img_pad_w,\n",
    "                             cv2.BORDER_CONSTANT, value=padd_val.tolist())\n",
    "    pad_params = (img_h, img_w, img_pad_h, img_pad_w)\n",
    "\n",
    "    return img, pad_params\n",
    "\n",
    "def recover_pad_output(outputs, pad_params):\n",
    "    \"\"\"recover the padded output effect\"\"\"\n",
    "    img_h, img_w, img_pad_h, img_pad_w = pad_params\n",
    "    recover_xy = np.reshape(outputs[:, :14], [-1, 7, 2]) * \\\n",
    "        [(img_pad_w + img_w) / img_w, (img_pad_h + img_h) / img_h]\n",
    "    outputs[:, :14] = np.reshape(recover_xy, [-1, 14])\n",
    "\n",
    "    return outputs"
   ]
  },
  {
   "cell_type": "code",
   "execution_count": 3,
   "id": "46b9190c-5b1e-435f-bca9-6ea1785e06e6",
   "metadata": {},
   "outputs": [],
   "source": [
    "def detect_pose_gaze(img):\n",
    "    blue = (0, 0, 255)\n",
    "    red = (255, 0, 0)\n",
    "    green = (0,128,0)\n",
    "    image_rgb = cv2.cvtColor(img, cv2.COLOR_BGR2RGB)\n",
    "    image_rgb = cv2.flip(image_rgb, 1)\n",
    "\n",
    "    is_gazing = False\n",
    "    is_centered = False\n",
    "    \n",
    "    try:\n",
    "        landmarks, bboxes, scores = detect_faces(image_rgb, 720)\n",
    "    except:\n",
    "        print(\"Error: face detector error.\")\n",
    "        return {'is_gazing':is_gazing, 'is_no_face':False, 'is_error':True, 'is_centered':is_centered}\n",
    "\n",
    "    if len(bboxes) > 0:\n",
    "        lmarks = np.transpose(landmarks)\n",
    "        bbs = bboxes.copy()\n",
    "    \n",
    "        bb, lmarks_5 = one_face(image_rgb, bbs, lmarks)\n",
    "        if are_coordinates_in_frame(image_rgb, bb, lmarks_5):\n",
    "            is_centered = are_centered(image_rgb, bb, lmarks_5)\n",
    "            angle, Xfrontal, Yfrontal = find_pose(lmarks_5)\n",
    "            if Xfrontal > 50 or Xfrontal < -50:\n",
    "                is_gazing = True\n",
    "            if Yfrontal > 10 or Yfrontal < -35:\n",
    "                is_gazing = True\n",
    "            return {'is_gazing':is_gazing, 'is_no_face':False, 'is_error':False, 'is_centered':is_centered}\n",
    "            \n",
    "        else:\n",
    "            return {'is_gazing':is_gazing, 'is_no_face':False, 'is_error':False, 'is_centered':is_centered}\n",
    "            \n",
    "    else:\n",
    "        return {'is_gazing':is_gazing, 'is_no_face':True, 'is_error':False, 'is_centered':is_centered}"
   ]
  },
  {
   "cell_type": "code",
   "execution_count": 4,
   "id": "cd9d283f-3d31-4ff4-a59a-468c6d8b5063",
   "metadata": {},
   "outputs": [],
   "source": [
    "def detect_left_right_gaze(img):\n",
    "\n",
    "    blue = (0, 0, 255)\n",
    "    red = (255, 0, 0)\n",
    "    green = (0,128,0)\n",
    "    face_mesh = mp_face_mesh.FaceMesh(\n",
    "            max_num_faces=1,  # number of faces to track in each frame\n",
    "            refine_landmarks=True,  # includes iris landmarks in the face mesh model\n",
    "            min_detection_confidence=0.5,\n",
    "            min_tracking_confidence=0.5)\n",
    "    img.flags.writeable = False\n",
    "    img = cv2.cvtColor(img, cv2.COLOR_BGR2RGB)  # frame to RGB for the face-mesh model\n",
    "    results = face_mesh.process(img)\n",
    "    frame = cv2.cvtColor(img, cv2.COLOR_RGB2BGR)  \n",
    "\n",
    "    gray = cv2.cvtColor(frame, cv2.COLOR_BGR2GRAY)\n",
    "    avg_brightness = gray.mean()\n",
    "\n",
    "    if results.multi_face_landmarks:\n",
    "        points = results.multi_face_landmarks[0]\n",
    "        right_pupil = relative(points.landmark[468], frame.shape)\n",
    "        left_pupil = relative(points.landmark[473], frame.shape)\n",
    "        # cv2.circle(frame, (left_pupil[0], left_pupil[1]), 2, blue, 2)\n",
    "        # cv2.circle(frame, (right_pupil[0], right_pupil[1]), 2, red, 2)\n",
    "        \n",
    "        \n",
    "        # corner eye\n",
    "        left_corner = relative(points.landmark[263], frame.shape)\n",
    "        right_corner = relative(points.landmark[33], frame.shape)\n",
    "        # cv2.circle(frame, (left_corner[0], left_corner[1]), 2, blue, 2)\n",
    "        # cv2.circle(frame, (right_corner[0], right_corner[1]), 2, red, 2)\n",
    "    \n",
    "        right_corner_inside = relative(points.landmark[133], frame.shape)\n",
    "        left_corner_inside = relative(points.landmark[362], frame.shape)\n",
    "        # cv2.circle(frame, (left_corner_inside[0], left_corner_inside[1]), 2, blue, 2)\n",
    "        # cv2.circle(frame, (right_corner_inside[0], right_corner_inside[1]), 2, red, 2)\n",
    "    \n",
    "    \n",
    "        right_upper = relative(points.landmark[159], frame.shape)\n",
    "        left_upper = relative(points.landmark[386], frame.shape)\n",
    "        # cv2.circle(frame, (left_upper[0], left_upper[1]), 2, blue, 2)\n",
    "        # cv2.circle(frame, (right_upper[0], right_upper[1]), 2, red, 2)\n",
    "    \n",
    "        left_pupil_ratio = (left_pupil[0] - left_corner_inside[0]) / (left_corner[0] - left_corner_inside[0])\n",
    "        right_pupil_ratio = (right_pupil[0] - right_corner[0]) / (right_corner_inside[0] - right_corner[0])\n",
    "    \n",
    "        left_gazing = left_pupil_ratio >=0.6 and right_pupil_ratio >= 0.6\n",
    "        right_gazing = left_pupil_ratio < 0.4 and right_pupil_ratio < 0.4\n",
    "    \n",
    "        is_gazing = left_gazing or right_gazing\n",
    "        return {'is_gazing':is_gazing, 'is_no_face':False, 'is_error':False, 'is_centered':True, 'left_pupil':left_pupil, 'right_pupil':right_pupil}\n",
    "    else:\n",
    "        return {'is_gazing':False, 'is_no_face':True, 'is_error':False, 'is_centered':True}"
   ]
  },
  {
   "cell_type": "code",
   "execution_count": 5,
   "id": "d28c416c-9c64-4dfe-aae4-61c327ac0098",
   "metadata": {},
   "outputs": [],
   "source": [
    "nest_asyncio.apply()\n",
    "app = FastAPI()\n",
    "\n",
    "# class Frame(BaseModel):\n",
    "#     frame: str\n",
    "#     timestamp: str\n",
    "\n",
    "@app.post(\"/eye-tracking\")\n",
    "async def eye_tracking(request: Request):\n",
    "    # Decode base64 frame\n",
    "\n",
    "    image_bytes = await request.body()\n",
    "    nparr = np.frombuffer(image_bytes, np.uint8)\n",
    "    img = cv2.imdecode(nparr, cv2.IMREAD_COLOR)\n",
    "\n",
    "    gazing_response = detect_left_right_gaze(img)\n",
    "\n",
    "    return gazing_response\n",
    "    \n",
    "@app.post(\"/pose-estimate\")\n",
    "async def pose_estimate(request: Request):\n",
    "    # Decode base64 frame\n",
    "\n",
    "    image_bytes = await request.body()\n",
    "    nparr = np.frombuffer(image_bytes, np.uint8)\n",
    "    img = cv2.imdecode(nparr, cv2.IMREAD_COLOR)\n",
    "\n",
    "    gazing_response = detect_pose_gaze(img)\n",
    "\n",
    "    return gazing_response\n",
    "    # try:\n",
    "    #     image_bytes = await request.body()\n",
    "    #     nparr = np.frombuffer(image_bytes, np.uint8)\n",
    "    #     img = cv2.imdecode(nparr, cv2.IMREAD_COLOR)\n",
    "    \n",
    "    #     gazing_response = detect_left_right_gaze(img)\n",
    "\n",
    "    #     return gazing_response\n",
    "    # except:\n",
    "    #     return {'is_gazing':False, 'is_no_face':False, 'is_error':True}\n",
    "        \n",
    "def start_fastapi():\n",
    "    uvicorn.run(app, host=\"0.0.0.0\", port=8080)\n",
    "\n",
    "\n",
    "    #cv2.putText(frame, f\"Avg Brightness : {avg_brightness}\", (10, 300), font, 0.4, green, 1)"
   ]
  },
  {
   "cell_type": "code",
   "execution_count": 6,
   "id": "b0a25614-d54f-40c6-aa74-136325f53ebd",
   "metadata": {},
   "outputs": [
    {
     "name": "stderr",
     "output_type": "stream",
     "text": [
      "INFO:     Started server process [6179]\n",
      "INFO:     Waiting for application startup.\n",
      "INFO:     Application startup complete.\n",
      "INFO:     Uvicorn running on http://0.0.0.0:8080 (Press CTRL+C to quit)\n"
     ]
    },
    {
     "name": "stdout",
     "output_type": "stream",
     "text": [
      "INFO:     127.0.0.1:39334 - \"POST /pose-estimate HTTP/1.1\" 200 OK\n",
      "INFO:     127.0.0.1:39342 - \"POST /eye-tracking HTTP/1.1\" 200 OK\n"
     ]
    },
    {
     "name": "stderr",
     "output_type": "stream",
     "text": [
      "WARNING: All log messages before absl::InitializeLog() is called are written to STDERR\n",
      "I0000 00:00:1725879999.172343    6179 gl_context_egl.cc:85] Successfully initialized EGL. Major : 1 Minor: 5\n",
      "I0000 00:00:1725879999.213370    8322 gl_context.cc:357] GL version: 3.2 (OpenGL ES 3.2 NVIDIA 535.146.02), renderer: NVIDIA GeForce RTX 3060/PCIe/SSE2\n",
      "INFO: Created TensorFlow Lite XNNPACK delegate for CPU.\n",
      "W0000 00:00:1725879999.245661    8314 inference_feedback_manager.cc:114] Feedback manager requires a model with a single signature inference. Disabling support for feedback tensors.\n",
      "W0000 00:00:1725879999.257030    8311 inference_feedback_manager.cc:114] Feedback manager requires a model with a single signature inference. Disabling support for feedback tensors.\n",
      "W0000 00:00:1725879999.261037    8318 landmark_projection_calculator.cc:186] Using NORM_RECT without IMAGE_DIMENSIONS is only supported for the square ROI. Provide IMAGE_DIMENSIONS or use PROJECTION_MATRIX.\n",
      "/home/rayhan/miniconda3/envs/vtenv-2/lib/python3.10/site-packages/google/protobuf/symbol_database.py:55: UserWarning: SymbolDatabase.GetPrototype() is deprecated. Please use message_factory.GetMessageClass() instead. SymbolDatabase.GetPrototype() will be removed soon.\n",
      "  warnings.warn('SymbolDatabase.GetPrototype() is deprecated. Please '\n"
     ]
    },
    {
     "name": "stdout",
     "output_type": "stream",
     "text": [
      "INFO:     127.0.0.1:57746 - \"POST /pose-estimate HTTP/1.1\" 200 OK\n",
      "INFO:     127.0.0.1:57754 - \"POST /eye-tracking HTTP/1.1\" 200 OK\n"
     ]
    },
    {
     "name": "stderr",
     "output_type": "stream",
     "text": [
      "I0000 00:00:1725880026.919419    6179 gl_context_egl.cc:85] Successfully initialized EGL. Major : 1 Minor: 5\n",
      "I0000 00:00:1725880026.938886    8435 gl_context.cc:357] GL version: 3.2 (OpenGL ES 3.2 NVIDIA 535.146.02), renderer: NVIDIA GeForce RTX 3060/PCIe/SSE2\n",
      "W0000 00:00:1725880026.941761    8430 inference_feedback_manager.cc:114] Feedback manager requires a model with a single signature inference. Disabling support for feedback tensors.\n",
      "W0000 00:00:1725880026.953166    8423 inference_feedback_manager.cc:114] Feedback manager requires a model with a single signature inference. Disabling support for feedback tensors.\n"
     ]
    },
    {
     "name": "stdout",
     "output_type": "stream",
     "text": [
      "INFO:     127.0.0.1:57768 - \"POST /pose-estimate HTTP/1.1\" 200 OK\n",
      "INFO:     127.0.0.1:47794 - \"POST /eye-tracking HTTP/1.1\" 200 OK\n",
      "INFO:     127.0.0.1:47796 - \"POST /pose-estimate HTTP/1.1\" 200 OK\n",
      "INFO:     127.0.0.1:47806 - \"POST /eye-tracking HTTP/1.1\" 200 OK\n"
     ]
    },
    {
     "name": "stderr",
     "output_type": "stream",
     "text": [
      "I0000 00:00:1725880027.198870    6179 gl_context_egl.cc:85] Successfully initialized EGL. Major : 1 Minor: 5\n",
      "I0000 00:00:1725880027.242188    8450 gl_context.cc:357] GL version: 3.2 (OpenGL ES 3.2 NVIDIA 535.146.02), renderer: NVIDIA GeForce RTX 3060/PCIe/SSE2\n",
      "W0000 00:00:1725880027.246060    8444 inference_feedback_manager.cc:114] Feedback manager requires a model with a single signature inference. Disabling support for feedback tensors.\n",
      "W0000 00:00:1725880027.257680    8438 inference_feedback_manager.cc:114] Feedback manager requires a model with a single signature inference. Disabling support for feedback tensors.\n",
      "I0000 00:00:1725880027.342447    6179 gl_context_egl.cc:85] Successfully initialized EGL. Major : 1 Minor: 5\n",
      "I0000 00:00:1725880027.392376    8463 gl_context.cc:357] GL version: 3.2 (OpenGL ES 3.2 NVIDIA 535.146.02), renderer: NVIDIA GeForce RTX 3060/PCIe/SSE2\n",
      "W0000 00:00:1725880027.395449    8454 inference_feedback_manager.cc:114] Feedback manager requires a model with a single signature inference. Disabling support for feedback tensors.\n",
      "W0000 00:00:1725880027.407601    8461 inference_feedback_manager.cc:114] Feedback manager requires a model with a single signature inference. Disabling support for feedback tensors.\n"
     ]
    },
    {
     "name": "stdout",
     "output_type": "stream",
     "text": [
      "INFO:     127.0.0.1:47810 - \"POST /pose-estimate HTTP/1.1\" 200 OK\n",
      "INFO:     127.0.0.1:47824 - \"POST /eye-tracking HTTP/1.1\" 200 OK\n",
      "INFO:     127.0.0.1:47830 - \"POST /pose-estimate HTTP/1.1\" 200 OK\n",
      "INFO:     127.0.0.1:47832 - \"POST /eye-tracking HTTP/1.1\" 200 OK\n"
     ]
    },
    {
     "name": "stderr",
     "output_type": "stream",
     "text": [
      "I0000 00:00:1725880027.482316    6179 gl_context_egl.cc:85] Successfully initialized EGL. Major : 1 Minor: 5\n",
      "I0000 00:00:1725880027.525493    8476 gl_context.cc:357] GL version: 3.2 (OpenGL ES 3.2 NVIDIA 535.146.02), renderer: NVIDIA GeForce RTX 3060/PCIe/SSE2\n",
      "W0000 00:00:1725880027.528577    8466 inference_feedback_manager.cc:114] Feedback manager requires a model with a single signature inference. Disabling support for feedback tensors.\n",
      "W0000 00:00:1725880027.539288    8467 inference_feedback_manager.cc:114] Feedback manager requires a model with a single signature inference. Disabling support for feedback tensors.\n",
      "I0000 00:00:1725880027.614225    6179 gl_context_egl.cc:85] Successfully initialized EGL. Major : 1 Minor: 5\n",
      "I0000 00:00:1725880027.646513    8490 gl_context.cc:357] GL version: 3.2 (OpenGL ES 3.2 NVIDIA 535.146.02), renderer: NVIDIA GeForce RTX 3060/PCIe/SSE2\n",
      "W0000 00:00:1725880027.649458    8486 inference_feedback_manager.cc:114] Feedback manager requires a model with a single signature inference. Disabling support for feedback tensors.\n",
      "W0000 00:00:1725880027.660844    8485 inference_feedback_manager.cc:114] Feedback manager requires a model with a single signature inference. Disabling support for feedback tensors.\n"
     ]
    },
    {
     "name": "stdout",
     "output_type": "stream",
     "text": [
      "INFO:     127.0.0.1:47844 - \"POST /pose-estimate HTTP/1.1\" 200 OK\n",
      "INFO:     127.0.0.1:47858 - \"POST /eye-tracking HTTP/1.1\" 200 OK\n",
      "INFO:     127.0.0.1:47868 - \"POST /pose-estimate HTTP/1.1\" 200 OK\n",
      "INFO:     127.0.0.1:47870 - \"POST /eye-tracking HTTP/1.1\" 200 OK\n"
     ]
    },
    {
     "name": "stderr",
     "output_type": "stream",
     "text": [
      "I0000 00:00:1725880027.736853    6179 gl_context_egl.cc:85] Successfully initialized EGL. Major : 1 Minor: 5\n",
      "I0000 00:00:1725880027.763365    8503 gl_context.cc:357] GL version: 3.2 (OpenGL ES 3.2 NVIDIA 535.146.02), renderer: NVIDIA GeForce RTX 3060/PCIe/SSE2\n",
      "W0000 00:00:1725880027.766222    8496 inference_feedback_manager.cc:114] Feedback manager requires a model with a single signature inference. Disabling support for feedback tensors.\n",
      "W0000 00:00:1725880027.777119    8493 inference_feedback_manager.cc:114] Feedback manager requires a model with a single signature inference. Disabling support for feedback tensors.\n",
      "I0000 00:00:1725880027.851890    6179 gl_context_egl.cc:85] Successfully initialized EGL. Major : 1 Minor: 5\n",
      "I0000 00:00:1725880027.925725    8516 gl_context.cc:357] GL version: 3.2 (OpenGL ES 3.2 NVIDIA 535.146.02), renderer: NVIDIA GeForce RTX 3060/PCIe/SSE2\n",
      "W0000 00:00:1725880027.927874    8508 inference_feedback_manager.cc:114] Feedback manager requires a model with a single signature inference. Disabling support for feedback tensors.\n",
      "W0000 00:00:1725880027.940817    8506 inference_feedback_manager.cc:114] Feedback manager requires a model with a single signature inference. Disabling support for feedback tensors.\n"
     ]
    },
    {
     "name": "stdout",
     "output_type": "stream",
     "text": [
      "INFO:     127.0.0.1:47880 - \"POST /pose-estimate HTTP/1.1\" 200 OK\n",
      "INFO:     127.0.0.1:47896 - \"POST /eye-tracking HTTP/1.1\" 200 OK\n",
      "INFO:     127.0.0.1:47900 - \"POST /pose-estimate HTTP/1.1\" 200 OK\n",
      "INFO:     127.0.0.1:47914 - \"POST /eye-tracking HTTP/1.1\" 200 OK\n",
      "INFO:     127.0.0.1:47920 - \"POST /pose-estimate HTTP/1.1\" 200 OK\n"
     ]
    },
    {
     "name": "stderr",
     "output_type": "stream",
     "text": [
      "I0000 00:00:1725880028.010105    6179 gl_context_egl.cc:85] Successfully initialized EGL. Major : 1 Minor: 5\n",
      "I0000 00:00:1725880028.030508    8529 gl_context.cc:357] GL version: 3.2 (OpenGL ES 3.2 NVIDIA 535.146.02), renderer: NVIDIA GeForce RTX 3060/PCIe/SSE2\n",
      "W0000 00:00:1725880028.033363    8519 inference_feedback_manager.cc:114] Feedback manager requires a model with a single signature inference. Disabling support for feedback tensors.\n",
      "W0000 00:00:1725880028.044468    8517 inference_feedback_manager.cc:114] Feedback manager requires a model with a single signature inference. Disabling support for feedback tensors.\n",
      "I0000 00:00:1725880028.114996    6179 gl_context_egl.cc:85] Successfully initialized EGL. Major : 1 Minor: 5\n",
      "I0000 00:00:1725880028.132545    8542 gl_context.cc:357] GL version: 3.2 (OpenGL ES 3.2 NVIDIA 535.146.02), renderer: NVIDIA GeForce RTX 3060/PCIe/SSE2\n",
      "W0000 00:00:1725880028.135644    8533 inference_feedback_manager.cc:114] Feedback manager requires a model with a single signature inference. Disabling support for feedback tensors.\n",
      "W0000 00:00:1725880028.147666    8535 inference_feedback_manager.cc:114] Feedback manager requires a model with a single signature inference. Disabling support for feedback tensors.\n",
      "I0000 00:00:1725880028.218694    6179 gl_context_egl.cc:85] Successfully initialized EGL. Major : 1 Minor: 5\n",
      "I0000 00:00:1725880028.233378    8555 gl_context.cc:357] GL version: 3.2 (OpenGL ES 3.2 NVIDIA 535.146.02), renderer: NVIDIA GeForce RTX 3060/PCIe/SSE2\n"
     ]
    },
    {
     "name": "stdout",
     "output_type": "stream",
     "text": [
      "INFO:     127.0.0.1:47926 - \"POST /eye-tracking HTTP/1.1\" 200 OK\n",
      "INFO:     127.0.0.1:47930 - \"POST /pose-estimate HTTP/1.1\" 200 OK\n",
      "INFO:     127.0.0.1:47944 - \"POST /eye-tracking HTTP/1.1\" 200 OK\n",
      "INFO:     127.0.0.1:47946 - \"POST /pose-estimate HTTP/1.1\" 200 OK\n"
     ]
    },
    {
     "name": "stderr",
     "output_type": "stream",
     "text": [
      "W0000 00:00:1725880028.236742    8544 inference_feedback_manager.cc:114] Feedback manager requires a model with a single signature inference. Disabling support for feedback tensors.\n",
      "W0000 00:00:1725880028.247566    8546 inference_feedback_manager.cc:114] Feedback manager requires a model with a single signature inference. Disabling support for feedback tensors.\n",
      "I0000 00:00:1725880028.316905    6179 gl_context_egl.cc:85] Successfully initialized EGL. Major : 1 Minor: 5\n",
      "I0000 00:00:1725880028.332459    8568 gl_context.cc:357] GL version: 3.2 (OpenGL ES 3.2 NVIDIA 535.146.02), renderer: NVIDIA GeForce RTX 3060/PCIe/SSE2\n",
      "W0000 00:00:1725880028.335230    8560 inference_feedback_manager.cc:114] Feedback manager requires a model with a single signature inference. Disabling support for feedback tensors.\n",
      "W0000 00:00:1725880028.346914    8566 inference_feedback_manager.cc:114] Feedback manager requires a model with a single signature inference. Disabling support for feedback tensors.\n",
      "I0000 00:00:1725880028.416919    6179 gl_context_egl.cc:85] Successfully initialized EGL. Major : 1 Minor: 5\n",
      "I0000 00:00:1725880028.433960    8581 gl_context.cc:357] GL version: 3.2 (OpenGL ES 3.2 NVIDIA 535.146.02), renderer: NVIDIA GeForce RTX 3060/PCIe/SSE2\n",
      "W0000 00:00:1725880028.437686    8571 inference_feedback_manager.cc:114] Feedback manager requires a model with a single signature inference. Disabling support for feedback tensors.\n"
     ]
    },
    {
     "name": "stdout",
     "output_type": "stream",
     "text": [
      "INFO:     127.0.0.1:47956 - \"POST /eye-tracking HTTP/1.1\" 200 OK\n",
      "INFO:     127.0.0.1:47962 - \"POST /pose-estimate HTTP/1.1\" 200 OK\n",
      "INFO:     127.0.0.1:47974 - \"POST /eye-tracking HTTP/1.1\" 200 OK\n",
      "INFO:     127.0.0.1:47984 - \"POST /pose-estimate HTTP/1.1\" 200 OK\n"
     ]
    },
    {
     "name": "stderr",
     "output_type": "stream",
     "text": [
      "W0000 00:00:1725880028.449380    8572 inference_feedback_manager.cc:114] Feedback manager requires a model with a single signature inference. Disabling support for feedback tensors.\n",
      "I0000 00:00:1725880028.520692    6179 gl_context_egl.cc:85] Successfully initialized EGL. Major : 1 Minor: 5\n",
      "I0000 00:00:1725880028.532372    8594 gl_context.cc:357] GL version: 3.2 (OpenGL ES 3.2 NVIDIA 535.146.02), renderer: NVIDIA GeForce RTX 3060/PCIe/SSE2\n",
      "W0000 00:00:1725880028.535261    8583 inference_feedback_manager.cc:114] Feedback manager requires a model with a single signature inference. Disabling support for feedback tensors.\n",
      "W0000 00:00:1725880028.545954    8585 inference_feedback_manager.cc:114] Feedback manager requires a model with a single signature inference. Disabling support for feedback tensors.\n",
      "I0000 00:00:1725880028.618449    6179 gl_context_egl.cc:85] Successfully initialized EGL. Major : 1 Minor: 5\n",
      "I0000 00:00:1725880028.633890    8607 gl_context.cc:357] GL version: 3.2 (OpenGL ES 3.2 NVIDIA 535.146.02), renderer: NVIDIA GeForce RTX 3060/PCIe/SSE2\n",
      "W0000 00:00:1725880028.636769    8597 inference_feedback_manager.cc:114] Feedback manager requires a model with a single signature inference. Disabling support for feedback tensors.\n",
      "W0000 00:00:1725880028.647489    8598 inference_feedback_manager.cc:114] Feedback manager requires a model with a single signature inference. Disabling support for feedback tensors.\n"
     ]
    },
    {
     "name": "stdout",
     "output_type": "stream",
     "text": [
      "INFO:     127.0.0.1:47986 - \"POST /eye-tracking HTTP/1.1\" 200 OK\n",
      "INFO:     127.0.0.1:47992 - \"POST /pose-estimate HTTP/1.1\" 200 OK\n",
      "INFO:     127.0.0.1:48008 - \"POST /eye-tracking HTTP/1.1\" 200 OK\n",
      "INFO:     127.0.0.1:48014 - \"POST /pose-estimate HTTP/1.1\" 200 OK\n",
      "INFO:     127.0.0.1:48030 - \"POST /eye-tracking HTTP/1.1\" 200 OK\n",
      "INFO:     127.0.0.1:48038 - \"POST /pose-estimate HTTP/1.1\" 200 OK\n"
     ]
    },
    {
     "name": "stderr",
     "output_type": "stream",
     "text": [
      "I0000 00:00:1725880028.718240    6179 gl_context_egl.cc:85] Successfully initialized EGL. Major : 1 Minor: 5\n",
      "I0000 00:00:1725880028.732274    8620 gl_context.cc:357] GL version: 3.2 (OpenGL ES 3.2 NVIDIA 535.146.02), renderer: NVIDIA GeForce RTX 3060/PCIe/SSE2\n",
      "W0000 00:00:1725880028.735183    8610 inference_feedback_manager.cc:114] Feedback manager requires a model with a single signature inference. Disabling support for feedback tensors.\n",
      "W0000 00:00:1725880028.745714    8609 inference_feedback_manager.cc:114] Feedback manager requires a model with a single signature inference. Disabling support for feedback tensors.\n",
      "I0000 00:00:1725880028.816888    6179 gl_context_egl.cc:85] Successfully initialized EGL. Major : 1 Minor: 5\n",
      "I0000 00:00:1725880028.835343    8633 gl_context.cc:357] GL version: 3.2 (OpenGL ES 3.2 NVIDIA 535.146.02), renderer: NVIDIA GeForce RTX 3060/PCIe/SSE2\n",
      "W0000 00:00:1725880028.838162    8629 inference_feedback_manager.cc:114] Feedback manager requires a model with a single signature inference. Disabling support for feedback tensors.\n",
      "W0000 00:00:1725880028.844405    8628 inference_feedback_manager.cc:114] Feedback manager requires a model with a single signature inference. Disabling support for feedback tensors.\n",
      "I0000 00:00:1725880028.916574    6179 gl_context_egl.cc:85] Successfully initialized EGL. Major : 1 Minor: 5\n"
     ]
    },
    {
     "name": "stdout",
     "output_type": "stream",
     "text": [
      "INFO:     127.0.0.1:48054 - \"POST /eye-tracking HTTP/1.1\" 200 OK\n",
      "INFO:     127.0.0.1:48056 - \"POST /pose-estimate HTTP/1.1\" 200 OK\n",
      "INFO:     127.0.0.1:48060 - \"POST /eye-tracking HTTP/1.1\" 200 OK\n",
      "INFO:     127.0.0.1:48068 - \"POST /pose-estimate HTTP/1.1\" 200 OK\n"
     ]
    },
    {
     "name": "stderr",
     "output_type": "stream",
     "text": [
      "I0000 00:00:1725880028.933671    8646 gl_context.cc:357] GL version: 3.2 (OpenGL ES 3.2 NVIDIA 535.146.02), renderer: NVIDIA GeForce RTX 3060/PCIe/SSE2\n",
      "W0000 00:00:1725880028.936523    8636 inference_feedback_manager.cc:114] Feedback manager requires a model with a single signature inference. Disabling support for feedback tensors.\n",
      "W0000 00:00:1725880028.947636    8634 inference_feedback_manager.cc:114] Feedback manager requires a model with a single signature inference. Disabling support for feedback tensors.\n",
      "I0000 00:00:1725880029.018176    6179 gl_context_egl.cc:85] Successfully initialized EGL. Major : 1 Minor: 5\n",
      "I0000 00:00:1725880029.033923    8659 gl_context.cc:357] GL version: 3.2 (OpenGL ES 3.2 NVIDIA 535.146.02), renderer: NVIDIA GeForce RTX 3060/PCIe/SSE2\n",
      "W0000 00:00:1725880029.036635    8651 inference_feedback_manager.cc:114] Feedback manager requires a model with a single signature inference. Disabling support for feedback tensors.\n",
      "W0000 00:00:1725880029.047408    8652 inference_feedback_manager.cc:114] Feedback manager requires a model with a single signature inference. Disabling support for feedback tensors.\n",
      "I0000 00:00:1725880029.117900    6179 gl_context_egl.cc:85] Successfully initialized EGL. Major : 1 Minor: 5\n",
      "I0000 00:00:1725880029.132633    8672 gl_context.cc:357] GL version: 3.2 (OpenGL ES 3.2 NVIDIA 535.146.02), renderer: NVIDIA GeForce RTX 3060/PCIe/SSE2\n",
      "W0000 00:00:1725880029.135220    8660 inference_feedback_manager.cc:114] Feedback manager requires a model with a single signature inference. Disabling support for feedback tensors.\n"
     ]
    },
    {
     "name": "stdout",
     "output_type": "stream",
     "text": [
      "INFO:     127.0.0.1:48078 - \"POST /eye-tracking HTTP/1.1\" 200 OK\n",
      "INFO:     127.0.0.1:48082 - \"POST /pose-estimate HTTP/1.1\" 200 OK\n",
      "INFO:     127.0.0.1:48096 - \"POST /eye-tracking HTTP/1.1\" 200 OK\n",
      "INFO:     127.0.0.1:48102 - \"POST /pose-estimate HTTP/1.1\" 200 OK\n"
     ]
    },
    {
     "name": "stderr",
     "output_type": "stream",
     "text": [
      "W0000 00:00:1725880029.146623    8664 inference_feedback_manager.cc:114] Feedback manager requires a model with a single signature inference. Disabling support for feedback tensors.\n",
      "I0000 00:00:1725880029.218651    6179 gl_context_egl.cc:85] Successfully initialized EGL. Major : 1 Minor: 5\n",
      "I0000 00:00:1725880029.234328    8685 gl_context.cc:357] GL version: 3.2 (OpenGL ES 3.2 NVIDIA 535.146.02), renderer: NVIDIA GeForce RTX 3060/PCIe/SSE2\n",
      "W0000 00:00:1725880029.237229    8673 inference_feedback_manager.cc:114] Feedback manager requires a model with a single signature inference. Disabling support for feedback tensors.\n",
      "W0000 00:00:1725880029.248170    8680 inference_feedback_manager.cc:114] Feedback manager requires a model with a single signature inference. Disabling support for feedback tensors.\n",
      "I0000 00:00:1725880029.318907    6179 gl_context_egl.cc:85] Successfully initialized EGL. Major : 1 Minor: 5\n",
      "I0000 00:00:1725880029.332778    8698 gl_context.cc:357] GL version: 3.2 (OpenGL ES 3.2 NVIDIA 535.146.02), renderer: NVIDIA GeForce RTX 3060/PCIe/SSE2\n",
      "W0000 00:00:1725880029.335233    8686 inference_feedback_manager.cc:114] Feedback manager requires a model with a single signature inference. Disabling support for feedback tensors.\n",
      "W0000 00:00:1725880029.346612    8687 inference_feedback_manager.cc:114] Feedback manager requires a model with a single signature inference. Disabling support for feedback tensors.\n"
     ]
    },
    {
     "name": "stdout",
     "output_type": "stream",
     "text": [
      "INFO:     127.0.0.1:48104 - \"POST /eye-tracking HTTP/1.1\" 200 OK\n",
      "INFO:     127.0.0.1:48112 - \"POST /pose-estimate HTTP/1.1\" 200 OK\n",
      "INFO:     127.0.0.1:48116 - \"POST /eye-tracking HTTP/1.1\" 200 OK\n",
      "INFO:     127.0.0.1:48122 - \"POST /pose-estimate HTTP/1.1\" 200 OK\n",
      "INFO:     127.0.0.1:48126 - \"POST /eye-tracking HTTP/1.1\" 200 OK\n",
      "INFO:     127.0.0.1:48134 - \"POST /pose-estimate HTTP/1.1\" 200 OK\n"
     ]
    },
    {
     "name": "stderr",
     "output_type": "stream",
     "text": [
      "I0000 00:00:1725880029.417613    6179 gl_context_egl.cc:85] Successfully initialized EGL. Major : 1 Minor: 5\n",
      "I0000 00:00:1725880029.433085    8711 gl_context.cc:357] GL version: 3.2 (OpenGL ES 3.2 NVIDIA 535.146.02), renderer: NVIDIA GeForce RTX 3060/PCIe/SSE2\n",
      "W0000 00:00:1725880029.436024    8701 inference_feedback_manager.cc:114] Feedback manager requires a model with a single signature inference. Disabling support for feedback tensors.\n",
      "W0000 00:00:1725880029.447645    8700 inference_feedback_manager.cc:114] Feedback manager requires a model with a single signature inference. Disabling support for feedback tensors.\n",
      "I0000 00:00:1725880029.517045    6179 gl_context_egl.cc:85] Successfully initialized EGL. Major : 1 Minor: 5\n",
      "I0000 00:00:1725880029.532686    8724 gl_context.cc:357] GL version: 3.2 (OpenGL ES 3.2 NVIDIA 535.146.02), renderer: NVIDIA GeForce RTX 3060/PCIe/SSE2\n",
      "W0000 00:00:1725880029.535553    8712 inference_feedback_manager.cc:114] Feedback manager requires a model with a single signature inference. Disabling support for feedback tensors.\n",
      "W0000 00:00:1725880029.541688    8719 inference_feedback_manager.cc:114] Feedback manager requires a model with a single signature inference. Disabling support for feedback tensors.\n"
     ]
    },
    {
     "name": "stdout",
     "output_type": "stream",
     "text": [
      "INFO:     127.0.0.1:48144 - \"POST /eye-tracking HTTP/1.1\" 200 OK\n",
      "INFO:     127.0.0.1:48152 - \"POST /pose-estimate HTTP/1.1\" 200 OK\n",
      "INFO:     127.0.0.1:48156 - \"POST /eye-tracking HTTP/1.1\" 200 OK\n",
      "INFO:     127.0.0.1:48164 - \"POST /pose-estimate HTTP/1.1\" 200 OK\n"
     ]
    },
    {
     "name": "stderr",
     "output_type": "stream",
     "text": [
      "I0000 00:00:1725880029.611362    6179 gl_context_egl.cc:85] Successfully initialized EGL. Major : 1 Minor: 5\n",
      "I0000 00:00:1725880029.642172    8737 gl_context.cc:357] GL version: 3.2 (OpenGL ES 3.2 NVIDIA 535.146.02), renderer: NVIDIA GeForce RTX 3060/PCIe/SSE2\n",
      "W0000 00:00:1725880029.645225    8725 inference_feedback_manager.cc:114] Feedback manager requires a model with a single signature inference. Disabling support for feedback tensors.\n",
      "W0000 00:00:1725880029.655956    8728 inference_feedback_manager.cc:114] Feedback manager requires a model with a single signature inference. Disabling support for feedback tensors.\n",
      "I0000 00:00:1725880029.726296    6179 gl_context_egl.cc:85] Successfully initialized EGL. Major : 1 Minor: 5\n",
      "I0000 00:00:1725880029.734524    8751 gl_context.cc:357] GL version: 3.2 (OpenGL ES 3.2 NVIDIA 535.146.02), renderer: NVIDIA GeForce RTX 3060/PCIe/SSE2\n",
      "W0000 00:00:1725880029.737456    8743 inference_feedback_manager.cc:114] Feedback manager requires a model with a single signature inference. Disabling support for feedback tensors.\n",
      "W0000 00:00:1725880029.748075    8742 inference_feedback_manager.cc:114] Feedback manager requires a model with a single signature inference. Disabling support for feedback tensors.\n",
      "I0000 00:00:1725880029.821233    6179 gl_context_egl.cc:85] Successfully initialized EGL. Major : 1 Minor: 5\n",
      "I0000 00:00:1725880029.832639    8764 gl_context.cc:357] GL version: 3.2 (OpenGL ES 3.2 NVIDIA 535.146.02), renderer: NVIDIA GeForce RTX 3060/PCIe/SSE2\n",
      "W0000 00:00:1725880029.835399    8754 inference_feedback_manager.cc:114] Feedback manager requires a model with a single signature inference. Disabling support for feedback tensors.\n"
     ]
    },
    {
     "name": "stdout",
     "output_type": "stream",
     "text": [
      "INFO:     127.0.0.1:48172 - \"POST /eye-tracking HTTP/1.1\" 200 OK\n",
      "INFO:     127.0.0.1:48174 - \"POST /pose-estimate HTTP/1.1\" 200 OK\n",
      "INFO:     127.0.0.1:48190 - \"POST /eye-tracking HTTP/1.1\" 200 OK\n",
      "INFO:     127.0.0.1:48204 - \"POST /pose-estimate HTTP/1.1\" 200 OK\n"
     ]
    },
    {
     "name": "stderr",
     "output_type": "stream",
     "text": [
      "W0000 00:00:1725880029.846658    8755 inference_feedback_manager.cc:114] Feedback manager requires a model with a single signature inference. Disabling support for feedback tensors.\n",
      "I0000 00:00:1725880029.918294    6179 gl_context_egl.cc:85] Successfully initialized EGL. Major : 1 Minor: 5\n",
      "I0000 00:00:1725880029.933006    8777 gl_context.cc:357] GL version: 3.2 (OpenGL ES 3.2 NVIDIA 535.146.02), renderer: NVIDIA GeForce RTX 3060/PCIe/SSE2\n",
      "W0000 00:00:1725880029.935476    8773 inference_feedback_manager.cc:114] Feedback manager requires a model with a single signature inference. Disabling support for feedback tensors.\n",
      "W0000 00:00:1725880029.947611    8769 inference_feedback_manager.cc:114] Feedback manager requires a model with a single signature inference. Disabling support for feedback tensors.\n",
      "I0000 00:00:1725880030.015330    6179 gl_context_egl.cc:85] Successfully initialized EGL. Major : 1 Minor: 5\n",
      "I0000 00:00:1725880030.034410    8790 gl_context.cc:357] GL version: 3.2 (OpenGL ES 3.2 NVIDIA 535.146.02), renderer: NVIDIA GeForce RTX 3060/PCIe/SSE2\n",
      "W0000 00:00:1725880030.037310    8784 inference_feedback_manager.cc:114] Feedback manager requires a model with a single signature inference. Disabling support for feedback tensors.\n",
      "W0000 00:00:1725880030.048070    8783 inference_feedback_manager.cc:114] Feedback manager requires a model with a single signature inference. Disabling support for feedback tensors.\n"
     ]
    },
    {
     "name": "stdout",
     "output_type": "stream",
     "text": [
      "INFO:     127.0.0.1:48220 - \"POST /eye-tracking HTTP/1.1\" 200 OK\n",
      "INFO:     127.0.0.1:48224 - \"POST /pose-estimate HTTP/1.1\" 200 OK\n",
      "INFO:     127.0.0.1:48228 - \"POST /eye-tracking HTTP/1.1\" 200 OK\n",
      "INFO:     127.0.0.1:48236 - \"POST /pose-estimate HTTP/1.1\" 200 OK\n",
      "INFO:     127.0.0.1:48238 - \"POST /eye-tracking HTTP/1.1\" 200 OK\n",
      "INFO:     127.0.0.1:48250 - \"POST /pose-estimate HTTP/1.1\" 200 OK\n"
     ]
    },
    {
     "name": "stderr",
     "output_type": "stream",
     "text": [
      "I0000 00:00:1725880030.121146    6179 gl_context_egl.cc:85] Successfully initialized EGL. Major : 1 Minor: 5\n",
      "I0000 00:00:1725880030.168959    8803 gl_context.cc:357] GL version: 3.2 (OpenGL ES 3.2 NVIDIA 535.146.02), renderer: NVIDIA GeForce RTX 3060/PCIe/SSE2\n",
      "W0000 00:00:1725880030.170513    8794 inference_feedback_manager.cc:114] Feedback manager requires a model with a single signature inference. Disabling support for feedback tensors.\n",
      "W0000 00:00:1725880030.182382    8793 inference_feedback_manager.cc:114] Feedback manager requires a model with a single signature inference. Disabling support for feedback tensors.\n",
      "I0000 00:00:1725880030.255843    6179 gl_context_egl.cc:85] Successfully initialized EGL. Major : 1 Minor: 5\n",
      "I0000 00:00:1725880030.267239    8816 gl_context.cc:357] GL version: 3.2 (OpenGL ES 3.2 NVIDIA 535.146.02), renderer: NVIDIA GeForce RTX 3060/PCIe/SSE2\n",
      "W0000 00:00:1725880030.268724    8811 inference_feedback_manager.cc:114] Feedback manager requires a model with a single signature inference. Disabling support for feedback tensors.\n",
      "W0000 00:00:1725880030.282504    8809 inference_feedback_manager.cc:114] Feedback manager requires a model with a single signature inference. Disabling support for feedback tensors.\n",
      "I0000 00:00:1725880030.358681    6179 gl_context_egl.cc:85] Successfully initialized EGL. Major : 1 Minor: 5\n",
      "I0000 00:00:1725880030.367779    8829 gl_context.cc:357] GL version: 3.2 (OpenGL ES 3.2 NVIDIA 535.146.02), renderer: NVIDIA GeForce RTX 3060/PCIe/SSE2\n",
      "W0000 00:00:1725880030.370088    8824 inference_feedback_manager.cc:114] Feedback manager requires a model with a single signature inference. Disabling support for feedback tensors.\n"
     ]
    },
    {
     "name": "stdout",
     "output_type": "stream",
     "text": [
      "INFO:     127.0.0.1:48256 - \"POST /eye-tracking HTTP/1.1\" 200 OK\n",
      "INFO:     127.0.0.1:48270 - \"POST /pose-estimate HTTP/1.1\" 200 OK\n",
      "INFO:     127.0.0.1:48272 - \"POST /eye-tracking HTTP/1.1\" 200 OK\n",
      "INFO:     127.0.0.1:48278 - \"POST /pose-estimate HTTP/1.1\" 200 OK\n"
     ]
    },
    {
     "name": "stderr",
     "output_type": "stream",
     "text": [
      "W0000 00:00:1725880030.381661    8821 inference_feedback_manager.cc:114] Feedback manager requires a model with a single signature inference. Disabling support for feedback tensors.\n",
      "I0000 00:00:1725880030.453924    6179 gl_context_egl.cc:85] Successfully initialized EGL. Major : 1 Minor: 5\n",
      "I0000 00:00:1725880030.466637    8842 gl_context.cc:357] GL version: 3.2 (OpenGL ES 3.2 NVIDIA 535.146.02), renderer: NVIDIA GeForce RTX 3060/PCIe/SSE2\n",
      "W0000 00:00:1725880030.469375    8831 inference_feedback_manager.cc:114] Feedback manager requires a model with a single signature inference. Disabling support for feedback tensors.\n",
      "W0000 00:00:1725880030.480165    8833 inference_feedback_manager.cc:114] Feedback manager requires a model with a single signature inference. Disabling support for feedback tensors.\n",
      "I0000 00:00:1725880030.551493    6179 gl_context_egl.cc:85] Successfully initialized EGL. Major : 1 Minor: 5\n",
      "I0000 00:00:1725880030.566457    8855 gl_context.cc:357] GL version: 3.2 (OpenGL ES 3.2 NVIDIA 535.146.02), renderer: NVIDIA GeForce RTX 3060/PCIe/SSE2\n",
      "W0000 00:00:1725880030.568762    8850 inference_feedback_manager.cc:114] Feedback manager requires a model with a single signature inference. Disabling support for feedback tensors.\n",
      "W0000 00:00:1725880030.580047    8847 inference_feedback_manager.cc:114] Feedback manager requires a model with a single signature inference. Disabling support for feedback tensors.\n"
     ]
    },
    {
     "name": "stdout",
     "output_type": "stream",
     "text": [
      "INFO:     127.0.0.1:48280 - \"POST /eye-tracking HTTP/1.1\" 200 OK\n",
      "INFO:     127.0.0.1:48290 - \"POST /pose-estimate HTTP/1.1\" 200 OK\n",
      "INFO:     127.0.0.1:48306 - \"POST /eye-tracking HTTP/1.1\" 200 OK\n",
      "INFO:     127.0.0.1:48322 - \"POST /pose-estimate HTTP/1.1\" 200 OK\n",
      "INFO:     127.0.0.1:48336 - \"POST /eye-tracking HTTP/1.1\" 200 OK\n",
      "INFO:     127.0.0.1:48342 - \"POST /pose-estimate HTTP/1.1\" 200 OK\n"
     ]
    },
    {
     "name": "stderr",
     "output_type": "stream",
     "text": [
      "I0000 00:00:1725880030.653590    6179 gl_context_egl.cc:85] Successfully initialized EGL. Major : 1 Minor: 5\n",
      "I0000 00:00:1725880030.667601    8868 gl_context.cc:357] GL version: 3.2 (OpenGL ES 3.2 NVIDIA 535.146.02), renderer: NVIDIA GeForce RTX 3060/PCIe/SSE2\n",
      "W0000 00:00:1725880030.671320    8865 inference_feedback_manager.cc:114] Feedback manager requires a model with a single signature inference. Disabling support for feedback tensors.\n",
      "W0000 00:00:1725880030.683153    8863 inference_feedback_manager.cc:114] Feedback manager requires a model with a single signature inference. Disabling support for feedback tensors.\n",
      "I0000 00:00:1725880030.755224    6179 gl_context_egl.cc:85] Successfully initialized EGL. Major : 1 Minor: 5\n",
      "I0000 00:00:1725880030.766429    8881 gl_context.cc:357] GL version: 3.2 (OpenGL ES 3.2 NVIDIA 535.146.02), renderer: NVIDIA GeForce RTX 3060/PCIe/SSE2\n",
      "W0000 00:00:1725880030.769328    8880 inference_feedback_manager.cc:114] Feedback manager requires a model with a single signature inference. Disabling support for feedback tensors.\n",
      "W0000 00:00:1725880030.780232    8872 inference_feedback_manager.cc:114] Feedback manager requires a model with a single signature inference. Disabling support for feedback tensors.\n",
      "I0000 00:00:1725880030.852876    6179 gl_context_egl.cc:85] Successfully initialized EGL. Major : 1 Minor: 5\n",
      "I0000 00:00:1725880030.867904    8894 gl_context.cc:357] GL version: 3.2 (OpenGL ES 3.2 NVIDIA 535.146.02), renderer: NVIDIA GeForce RTX 3060/PCIe/SSE2\n"
     ]
    },
    {
     "name": "stdout",
     "output_type": "stream",
     "text": [
      "INFO:     127.0.0.1:48352 - \"POST /eye-tracking HTTP/1.1\" 200 OK\n",
      "INFO:     127.0.0.1:48366 - \"POST /pose-estimate HTTP/1.1\" 200 OK\n",
      "INFO:     127.0.0.1:48378 - \"POST /eye-tracking HTTP/1.1\" 200 OK\n",
      "INFO:     127.0.0.1:48390 - \"POST /pose-estimate HTTP/1.1\" 200 OK\n"
     ]
    },
    {
     "name": "stderr",
     "output_type": "stream",
     "text": [
      "W0000 00:00:1725880030.871600    8886 inference_feedback_manager.cc:114] Feedback manager requires a model with a single signature inference. Disabling support for feedback tensors.\n",
      "W0000 00:00:1725880030.883807    8885 inference_feedback_manager.cc:114] Feedback manager requires a model with a single signature inference. Disabling support for feedback tensors.\n",
      "I0000 00:00:1725880030.958646    6179 gl_context_egl.cc:85] Successfully initialized EGL. Major : 1 Minor: 5\n",
      "I0000 00:00:1725880030.966784    8907 gl_context.cc:357] GL version: 3.2 (OpenGL ES 3.2 NVIDIA 535.146.02), renderer: NVIDIA GeForce RTX 3060/PCIe/SSE2\n",
      "W0000 00:00:1725880030.969551    8897 inference_feedback_manager.cc:114] Feedback manager requires a model with a single signature inference. Disabling support for feedback tensors.\n",
      "W0000 00:00:1725880030.980445    8903 inference_feedback_manager.cc:114] Feedback manager requires a model with a single signature inference. Disabling support for feedback tensors.\n",
      "I0000 00:00:1725880031.051029    6179 gl_context_egl.cc:85] Successfully initialized EGL. Major : 1 Minor: 5\n",
      "I0000 00:00:1725880031.066528    8920 gl_context.cc:357] GL version: 3.2 (OpenGL ES 3.2 NVIDIA 535.146.02), renderer: NVIDIA GeForce RTX 3060/PCIe/SSE2\n",
      "W0000 00:00:1725880031.068039    8915 inference_feedback_manager.cc:114] Feedback manager requires a model with a single signature inference. Disabling support for feedback tensors.\n"
     ]
    },
    {
     "name": "stdout",
     "output_type": "stream",
     "text": [
      "INFO:     127.0.0.1:48406 - \"POST /eye-tracking HTTP/1.1\" 200 OK\n",
      "INFO:     127.0.0.1:48422 - \"POST /pose-estimate HTTP/1.1\" 200 OK\n",
      "INFO:     127.0.0.1:48428 - \"POST /eye-tracking HTTP/1.1\" 200 OK\n",
      "INFO:     127.0.0.1:48432 - \"POST /pose-estimate HTTP/1.1\" 200 OK\n"
     ]
    },
    {
     "name": "stderr",
     "output_type": "stream",
     "text": [
      "W0000 00:00:1725880031.074700    8911 inference_feedback_manager.cc:114] Feedback manager requires a model with a single signature inference. Disabling support for feedback tensors.\n",
      "I0000 00:00:1725880031.146024    6179 gl_context_egl.cc:85] Successfully initialized EGL. Major : 1 Minor: 5\n",
      "I0000 00:00:1725880031.166637    8933 gl_context.cc:357] GL version: 3.2 (OpenGL ES 3.2 NVIDIA 535.146.02), renderer: NVIDIA GeForce RTX 3060/PCIe/SSE2\n",
      "W0000 00:00:1725880031.169578    8932 inference_feedback_manager.cc:114] Feedback manager requires a model with a single signature inference. Disabling support for feedback tensors.\n",
      "W0000 00:00:1725880031.180715    8927 inference_feedback_manager.cc:114] Feedback manager requires a model with a single signature inference. Disabling support for feedback tensors.\n",
      "I0000 00:00:1725880031.255918    6179 gl_context_egl.cc:85] Successfully initialized EGL. Major : 1 Minor: 5\n",
      "I0000 00:00:1725880031.269226    8946 gl_context.cc:357] GL version: 3.2 (OpenGL ES 3.2 NVIDIA 535.146.02), renderer: NVIDIA GeForce RTX 3060/PCIe/SSE2\n",
      "W0000 00:00:1725880031.270896    8941 inference_feedback_manager.cc:114] Feedback manager requires a model with a single signature inference. Disabling support for feedback tensors.\n"
     ]
    },
    {
     "name": "stdout",
     "output_type": "stream",
     "text": [
      "INFO:     127.0.0.1:48442 - \"POST /eye-tracking HTTP/1.1\" 200 OK\n",
      "INFO:     127.0.0.1:48446 - \"POST /pose-estimate HTTP/1.1\" 200 OK\n",
      "INFO:     127.0.0.1:48452 - \"POST /eye-tracking HTTP/1.1\" 200 OK\n",
      "INFO:     127.0.0.1:48468 - \"POST /pose-estimate HTTP/1.1\" 200 OK\n"
     ]
    },
    {
     "name": "stderr",
     "output_type": "stream",
     "text": [
      "W0000 00:00:1725880031.282802    8938 inference_feedback_manager.cc:114] Feedback manager requires a model with a single signature inference. Disabling support for feedback tensors.\n",
      "I0000 00:00:1725880031.356946    6179 gl_context_egl.cc:85] Successfully initialized EGL. Major : 1 Minor: 5\n",
      "I0000 00:00:1725880031.366163    8960 gl_context.cc:357] GL version: 3.2 (OpenGL ES 3.2 NVIDIA 535.146.02), renderer: NVIDIA GeForce RTX 3060/PCIe/SSE2\n",
      "W0000 00:00:1725880031.368879    8958 inference_feedback_manager.cc:114] Feedback manager requires a model with a single signature inference. Disabling support for feedback tensors.\n",
      "W0000 00:00:1725880031.380454    8948 inference_feedback_manager.cc:114] Feedback manager requires a model with a single signature inference. Disabling support for feedback tensors.\n",
      "I0000 00:00:1725880031.453353    6179 gl_context_egl.cc:85] Successfully initialized EGL. Major : 1 Minor: 5\n",
      "I0000 00:00:1725880031.468162    8973 gl_context.cc:357] GL version: 3.2 (OpenGL ES 3.2 NVIDIA 535.146.02), renderer: NVIDIA GeForce RTX 3060/PCIe/SSE2\n",
      "W0000 00:00:1725880031.470898    8962 inference_feedback_manager.cc:114] Feedback manager requires a model with a single signature inference. Disabling support for feedback tensors.\n",
      "W0000 00:00:1725880031.481965    8961 inference_feedback_manager.cc:114] Feedback manager requires a model with a single signature inference. Disabling support for feedback tensors.\n"
     ]
    },
    {
     "name": "stdout",
     "output_type": "stream",
     "text": [
      "INFO:     127.0.0.1:48470 - \"POST /eye-tracking HTTP/1.1\" 200 OK\n",
      "INFO:     127.0.0.1:48472 - \"POST /pose-estimate HTTP/1.1\" 200 OK\n",
      "INFO:     127.0.0.1:48482 - \"POST /eye-tracking HTTP/1.1\" 200 OK\n",
      "INFO:     127.0.0.1:48484 - \"POST /pose-estimate HTTP/1.1\" 200 OK\n",
      "INFO:     127.0.0.1:48490 - \"POST /eye-tracking HTTP/1.1\" 200 OK\n",
      "INFO:     127.0.0.1:48504 - \"POST /pose-estimate HTTP/1.1\" 200 OK\n"
     ]
    },
    {
     "name": "stderr",
     "output_type": "stream",
     "text": [
      "I0000 00:00:1725880031.553080    6179 gl_context_egl.cc:85] Successfully initialized EGL. Major : 1 Minor: 5\n",
      "I0000 00:00:1725880031.566301    8986 gl_context.cc:357] GL version: 3.2 (OpenGL ES 3.2 NVIDIA 535.146.02), renderer: NVIDIA GeForce RTX 3060/PCIe/SSE2\n",
      "W0000 00:00:1725880031.569204    8977 inference_feedback_manager.cc:114] Feedback manager requires a model with a single signature inference. Disabling support for feedback tensors.\n",
      "W0000 00:00:1725880031.580099    8980 inference_feedback_manager.cc:114] Feedback manager requires a model with a single signature inference. Disabling support for feedback tensors.\n",
      "I0000 00:00:1725880031.655715    6179 gl_context_egl.cc:85] Successfully initialized EGL. Major : 1 Minor: 5\n",
      "I0000 00:00:1725880031.667108    9001 gl_context.cc:357] GL version: 3.2 (OpenGL ES 3.2 NVIDIA 535.146.02), renderer: NVIDIA GeForce RTX 3060/PCIe/SSE2\n",
      "W0000 00:00:1725880031.669852    8994 inference_feedback_manager.cc:114] Feedback manager requires a model with a single signature inference. Disabling support for feedback tensors.\n",
      "W0000 00:00:1725880031.680683    8992 inference_feedback_manager.cc:114] Feedback manager requires a model with a single signature inference. Disabling support for feedback tensors.\n",
      "I0000 00:00:1725880031.751762    6179 gl_context_egl.cc:85] Successfully initialized EGL. Major : 1 Minor: 5\n"
     ]
    },
    {
     "name": "stdout",
     "output_type": "stream",
     "text": [
      "INFO:     127.0.0.1:48510 - \"POST /eye-tracking HTTP/1.1\" 200 OK\n",
      "INFO:     127.0.0.1:48520 - \"POST /pose-estimate HTTP/1.1\" 200 OK\n",
      "INFO:     127.0.0.1:48524 - \"POST /eye-tracking HTTP/1.1\" 200 OK\n",
      "INFO:     127.0.0.1:48526 - \"POST /pose-estimate HTTP/1.1\" 200 OK\n"
     ]
    },
    {
     "name": "stderr",
     "output_type": "stream",
     "text": [
      "I0000 00:00:1725880031.768768    9016 gl_context.cc:357] GL version: 3.2 (OpenGL ES 3.2 NVIDIA 535.146.02), renderer: NVIDIA GeForce RTX 3060/PCIe/SSE2\n",
      "W0000 00:00:1725880031.770592    9007 inference_feedback_manager.cc:114] Feedback manager requires a model with a single signature inference. Disabling support for feedback tensors.\n",
      "W0000 00:00:1725880031.776969    9012 inference_feedback_manager.cc:114] Feedback manager requires a model with a single signature inference. Disabling support for feedback tensors.\n",
      "I0000 00:00:1725880031.850503    6179 gl_context_egl.cc:85] Successfully initialized EGL. Major : 1 Minor: 5\n",
      "I0000 00:00:1725880031.866657    9029 gl_context.cc:357] GL version: 3.2 (OpenGL ES 3.2 NVIDIA 535.146.02), renderer: NVIDIA GeForce RTX 3060/PCIe/SSE2\n",
      "W0000 00:00:1725880031.869348    9021 inference_feedback_manager.cc:114] Feedback manager requires a model with a single signature inference. Disabling support for feedback tensors.\n",
      "W0000 00:00:1725880031.880408    9018 inference_feedback_manager.cc:114] Feedback manager requires a model with a single signature inference. Disabling support for feedback tensors.\n",
      "I0000 00:00:1725880031.951857    6179 gl_context_egl.cc:85] Successfully initialized EGL. Major : 1 Minor: 5\n",
      "I0000 00:00:1725880031.966614    9042 gl_context.cc:357] GL version: 3.2 (OpenGL ES 3.2 NVIDIA 535.146.02), renderer: NVIDIA GeForce RTX 3060/PCIe/SSE2\n",
      "W0000 00:00:1725880031.968876    9038 inference_feedback_manager.cc:114] Feedback manager requires a model with a single signature inference. Disabling support for feedback tensors.\n"
     ]
    },
    {
     "name": "stdout",
     "output_type": "stream",
     "text": [
      "INFO:     127.0.0.1:48536 - \"POST /eye-tracking HTTP/1.1\" 200 OK\n",
      "INFO:     127.0.0.1:48548 - \"POST /pose-estimate HTTP/1.1\" 200 OK\n",
      "INFO:     127.0.0.1:48562 - \"POST /eye-tracking HTTP/1.1\" 200 OK\n",
      "INFO:     127.0.0.1:48568 - \"POST /pose-estimate HTTP/1.1\" 200 OK\n"
     ]
    },
    {
     "name": "stderr",
     "output_type": "stream",
     "text": [
      "W0000 00:00:1725880031.980539    9035 inference_feedback_manager.cc:114] Feedback manager requires a model with a single signature inference. Disabling support for feedback tensors.\n",
      "I0000 00:00:1725880032.052881    6179 gl_context_egl.cc:85] Successfully initialized EGL. Major : 1 Minor: 5\n",
      "I0000 00:00:1725880032.067375    9055 gl_context.cc:357] GL version: 3.2 (OpenGL ES 3.2 NVIDIA 535.146.02), renderer: NVIDIA GeForce RTX 3060/PCIe/SSE2\n",
      "W0000 00:00:1725880032.070345    9047 inference_feedback_manager.cc:114] Feedback manager requires a model with a single signature inference. Disabling support for feedback tensors.\n",
      "W0000 00:00:1725880032.080781    9049 inference_feedback_manager.cc:114] Feedback manager requires a model with a single signature inference. Disabling support for feedback tensors.\n",
      "I0000 00:00:1725880032.152461    6179 gl_context_egl.cc:85] Successfully initialized EGL. Major : 1 Minor: 5\n",
      "I0000 00:00:1725880032.166880    9068 gl_context.cc:357] GL version: 3.2 (OpenGL ES 3.2 NVIDIA 535.146.02), renderer: NVIDIA GeForce RTX 3060/PCIe/SSE2\n",
      "W0000 00:00:1725880032.169749    9056 inference_feedback_manager.cc:114] Feedback manager requires a model with a single signature inference. Disabling support for feedback tensors.\n"
     ]
    },
    {
     "name": "stdout",
     "output_type": "stream",
     "text": [
      "INFO:     127.0.0.1:48578 - \"POST /eye-tracking HTTP/1.1\" 200 OK\n",
      "INFO:     127.0.0.1:48584 - \"POST /pose-estimate HTTP/1.1\" 200 OK\n",
      "INFO:     127.0.0.1:48600 - \"POST /eye-tracking HTTP/1.1\" 200 OK\n",
      "INFO:     127.0.0.1:48610 - \"POST /pose-estimate HTTP/1.1\" 200 OK\n"
     ]
    },
    {
     "name": "stderr",
     "output_type": "stream",
     "text": [
      "W0000 00:00:1725880032.181812    9064 inference_feedback_manager.cc:114] Feedback manager requires a model with a single signature inference. Disabling support for feedback tensors.\n",
      "I0000 00:00:1725880032.254518    6179 gl_context_egl.cc:85] Successfully initialized EGL. Major : 1 Minor: 5\n",
      "I0000 00:00:1725880032.266774    9081 gl_context.cc:357] GL version: 3.2 (OpenGL ES 3.2 NVIDIA 535.146.02), renderer: NVIDIA GeForce RTX 3060/PCIe/SSE2\n",
      "W0000 00:00:1725880032.269492    9078 inference_feedback_manager.cc:114] Feedback manager requires a model with a single signature inference. Disabling support for feedback tensors.\n",
      "W0000 00:00:1725880032.280674    9071 inference_feedback_manager.cc:114] Feedback manager requires a model with a single signature inference. Disabling support for feedback tensors.\n",
      "I0000 00:00:1725880032.353349    6179 gl_context_egl.cc:85] Successfully initialized EGL. Major : 1 Minor: 5\n",
      "I0000 00:00:1725880032.367887    9094 gl_context.cc:357] GL version: 3.2 (OpenGL ES 3.2 NVIDIA 535.146.02), renderer: NVIDIA GeForce RTX 3060/PCIe/SSE2\n",
      "W0000 00:00:1725880032.370124    9092 inference_feedback_manager.cc:114] Feedback manager requires a model with a single signature inference. Disabling support for feedback tensors.\n",
      "W0000 00:00:1725880032.381243    9083 inference_feedback_manager.cc:114] Feedback manager requires a model with a single signature inference. Disabling support for feedback tensors.\n"
     ]
    },
    {
     "name": "stdout",
     "output_type": "stream",
     "text": [
      "INFO:     127.0.0.1:48624 - \"POST /eye-tracking HTTP/1.1\" 200 OK\n",
      "INFO:     127.0.0.1:48640 - \"POST /pose-estimate HTTP/1.1\" 200 OK\n",
      "INFO:     127.0.0.1:48642 - \"POST /eye-tracking HTTP/1.1\" 200 OK\n",
      "INFO:     127.0.0.1:48648 - \"POST /pose-estimate HTTP/1.1\" 200 OK\n",
      "INFO:     127.0.0.1:48658 - \"POST /eye-tracking HTTP/1.1\" 200 OK\n",
      "INFO:     127.0.0.1:48664 - \"POST /pose-estimate HTTP/1.1\" 200 OK\n"
     ]
    },
    {
     "name": "stderr",
     "output_type": "stream",
     "text": [
      "I0000 00:00:1725880032.451115    6179 gl_context_egl.cc:85] Successfully initialized EGL. Major : 1 Minor: 5\n",
      "I0000 00:00:1725880032.466610    9107 gl_context.cc:357] GL version: 3.2 (OpenGL ES 3.2 NVIDIA 535.146.02), renderer: NVIDIA GeForce RTX 3060/PCIe/SSE2\n",
      "W0000 00:00:1725880032.469002    9101 inference_feedback_manager.cc:114] Feedback manager requires a model with a single signature inference. Disabling support for feedback tensors.\n",
      "W0000 00:00:1725880032.480100    9100 inference_feedback_manager.cc:114] Feedback manager requires a model with a single signature inference. Disabling support for feedback tensors.\n",
      "I0000 00:00:1725880032.551524    6179 gl_context_egl.cc:85] Successfully initialized EGL. Major : 1 Minor: 5\n",
      "I0000 00:00:1725880032.567130    9122 gl_context.cc:357] GL version: 3.2 (OpenGL ES 3.2 NVIDIA 535.146.02), renderer: NVIDIA GeForce RTX 3060/PCIe/SSE2\n",
      "W0000 00:00:1725880032.568859    9110 inference_feedback_manager.cc:114] Feedback manager requires a model with a single signature inference. Disabling support for feedback tensors.\n",
      "W0000 00:00:1725880032.574995    9113 inference_feedback_manager.cc:114] Feedback manager requires a model with a single signature inference. Disabling support for feedback tensors.\n",
      "I0000 00:00:1725880032.648867    6179 gl_context_egl.cc:85] Successfully initialized EGL. Major : 1 Minor: 5\n",
      "I0000 00:00:1725880032.666943    9136 gl_context.cc:357] GL version: 3.2 (OpenGL ES 3.2 NVIDIA 535.146.02), renderer: NVIDIA GeForce RTX 3060/PCIe/SSE2\n"
     ]
    },
    {
     "name": "stdout",
     "output_type": "stream",
     "text": [
      "INFO:     127.0.0.1:48668 - \"POST /eye-tracking HTTP/1.1\" 200 OK\n",
      "INFO:     127.0.0.1:48680 - \"POST /pose-estimate HTTP/1.1\" 200 OK\n",
      "INFO:     127.0.0.1:48682 - \"POST /eye-tracking HTTP/1.1\" 200 OK\n",
      "INFO:     127.0.0.1:48688 - \"POST /pose-estimate HTTP/1.1\" 200 OK\n"
     ]
    },
    {
     "name": "stderr",
     "output_type": "stream",
     "text": [
      "W0000 00:00:1725880032.669701    9126 inference_feedback_manager.cc:114] Feedback manager requires a model with a single signature inference. Disabling support for feedback tensors.\n",
      "W0000 00:00:1725880032.681405    9133 inference_feedback_manager.cc:114] Feedback manager requires a model with a single signature inference. Disabling support for feedback tensors.\n",
      "I0000 00:00:1725880032.752086    6179 gl_context_egl.cc:85] Successfully initialized EGL. Major : 1 Minor: 5\n",
      "I0000 00:00:1725880032.766877    9149 gl_context.cc:357] GL version: 3.2 (OpenGL ES 3.2 NVIDIA 535.146.02), renderer: NVIDIA GeForce RTX 3060/PCIe/SSE2\n",
      "W0000 00:00:1725880032.769804    9147 inference_feedback_manager.cc:114] Feedback manager requires a model with a single signature inference. Disabling support for feedback tensors.\n",
      "W0000 00:00:1725880032.781627    9144 inference_feedback_manager.cc:114] Feedback manager requires a model with a single signature inference. Disabling support for feedback tensors.\n",
      "I0000 00:00:1725880032.850916    6179 gl_context_egl.cc:85] Successfully initialized EGL. Major : 1 Minor: 5\n",
      "I0000 00:00:1725880032.868016    9162 gl_context.cc:357] GL version: 3.2 (OpenGL ES 3.2 NVIDIA 535.146.02), renderer: NVIDIA GeForce RTX 3060/PCIe/SSE2\n"
     ]
    },
    {
     "name": "stdout",
     "output_type": "stream",
     "text": [
      "INFO:     127.0.0.1:48702 - \"POST /eye-tracking HTTP/1.1\" 200 OK\n",
      "INFO:     127.0.0.1:48718 - \"POST /pose-estimate HTTP/1.1\" 200 OK\n",
      "INFO:     127.0.0.1:48734 - \"POST /eye-tracking HTTP/1.1\" 200 OK\n",
      "INFO:     127.0.0.1:48740 - \"POST /pose-estimate HTTP/1.1\" 200 OK\n"
     ]
    },
    {
     "name": "stderr",
     "output_type": "stream",
     "text": [
      "W0000 00:00:1725880032.871860    9150 inference_feedback_manager.cc:114] Feedback manager requires a model with a single signature inference. Disabling support for feedback tensors.\n",
      "W0000 00:00:1725880032.883302    9160 inference_feedback_manager.cc:114] Feedback manager requires a model with a single signature inference. Disabling support for feedback tensors.\n",
      "I0000 00:00:1725880032.957525    6179 gl_context_egl.cc:85] Successfully initialized EGL. Major : 1 Minor: 5\n",
      "I0000 00:00:1725880032.966780    9175 gl_context.cc:357] GL version: 3.2 (OpenGL ES 3.2 NVIDIA 535.146.02), renderer: NVIDIA GeForce RTX 3060/PCIe/SSE2\n",
      "W0000 00:00:1725880032.969407    9166 inference_feedback_manager.cc:114] Feedback manager requires a model with a single signature inference. Disabling support for feedback tensors.\n",
      "W0000 00:00:1725880032.980710    9168 inference_feedback_manager.cc:114] Feedback manager requires a model with a single signature inference. Disabling support for feedback tensors.\n",
      "I0000 00:00:1725880033.050260    6179 gl_context_egl.cc:85] Successfully initialized EGL. Major : 1 Minor: 5\n",
      "I0000 00:00:1725880033.067271    9188 gl_context.cc:357] GL version: 3.2 (OpenGL ES 3.2 NVIDIA 535.146.02), renderer: NVIDIA GeForce RTX 3060/PCIe/SSE2\n",
      "W0000 00:00:1725880033.070151    9176 inference_feedback_manager.cc:114] Feedback manager requires a model with a single signature inference. Disabling support for feedback tensors.\n"
     ]
    },
    {
     "name": "stdout",
     "output_type": "stream",
     "text": [
      "INFO:     127.0.0.1:48746 - \"POST /eye-tracking HTTP/1.1\" 200 OK\n",
      "INFO:     127.0.0.1:48762 - \"POST /pose-estimate HTTP/1.1\" 200 OK\n",
      "INFO:     127.0.0.1:48768 - \"POST /eye-tracking HTTP/1.1\" 200 OK\n",
      "INFO:     127.0.0.1:48770 - \"POST /pose-estimate HTTP/1.1\" 200 OK\n",
      "INFO:     127.0.0.1:48780 - \"POST /eye-tracking HTTP/1.1\" 200 OK\n"
     ]
    },
    {
     "name": "stderr",
     "output_type": "stream",
     "text": [
      "W0000 00:00:1725880033.081873    9187 inference_feedback_manager.cc:114] Feedback manager requires a model with a single signature inference. Disabling support for feedback tensors.\n",
      "I0000 00:00:1725880033.153653    6179 gl_context_egl.cc:85] Successfully initialized EGL. Major : 1 Minor: 5\n",
      "I0000 00:00:1725880033.167287    9201 gl_context.cc:357] GL version: 3.2 (OpenGL ES 3.2 NVIDIA 535.146.02), renderer: NVIDIA GeForce RTX 3060/PCIe/SSE2\n",
      "W0000 00:00:1725880033.170101    9189 inference_feedback_manager.cc:114] Feedback manager requires a model with a single signature inference. Disabling support for feedback tensors.\n",
      "W0000 00:00:1725880033.180861    9191 inference_feedback_manager.cc:114] Feedback manager requires a model with a single signature inference. Disabling support for feedback tensors.\n",
      "I0000 00:00:1725880033.251904    6179 gl_context_egl.cc:85] Successfully initialized EGL. Major : 1 Minor: 5\n",
      "I0000 00:00:1725880033.267223    9214 gl_context.cc:357] GL version: 3.2 (OpenGL ES 3.2 NVIDIA 535.146.02), renderer: NVIDIA GeForce RTX 3060/PCIe/SSE2\n",
      "W0000 00:00:1725880033.268919    9211 inference_feedback_manager.cc:114] Feedback manager requires a model with a single signature inference. Disabling support for feedback tensors.\n",
      "W0000 00:00:1725880033.274964    9205 inference_feedback_manager.cc:114] Feedback manager requires a model with a single signature inference. Disabling support for feedback tensors.\n"
     ]
    },
    {
     "name": "stdout",
     "output_type": "stream",
     "text": [
      "INFO:     127.0.0.1:48790 - \"POST /pose-estimate HTTP/1.1\" 200 OK\n",
      "INFO:     127.0.0.1:48800 - \"POST /eye-tracking HTTP/1.1\" 200 OK\n",
      "INFO:     127.0.0.1:48816 - \"POST /pose-estimate HTTP/1.1\" 200 OK\n",
      "INFO:     127.0.0.1:48826 - \"POST /eye-tracking HTTP/1.1\" 200 OK\n",
      "INFO:     127.0.0.1:48836 - \"POST /pose-estimate HTTP/1.1\" 200 OK\n"
     ]
    },
    {
     "name": "stderr",
     "output_type": "stream",
     "text": [
      "I0000 00:00:1725880033.344244    6179 gl_context_egl.cc:85] Successfully initialized EGL. Major : 1 Minor: 5\n",
      "I0000 00:00:1725880033.392485    9227 gl_context.cc:357] GL version: 3.2 (OpenGL ES 3.2 NVIDIA 535.146.02), renderer: NVIDIA GeForce RTX 3060/PCIe/SSE2\n",
      "W0000 00:00:1725880033.396216    9217 inference_feedback_manager.cc:114] Feedback manager requires a model with a single signature inference. Disabling support for feedback tensors.\n",
      "W0000 00:00:1725880033.407657    9221 inference_feedback_manager.cc:114] Feedback manager requires a model with a single signature inference. Disabling support for feedback tensors.\n",
      "I0000 00:00:1725880033.479773    6179 gl_context_egl.cc:85] Successfully initialized EGL. Major : 1 Minor: 5\n",
      "I0000 00:00:1725880033.501046    9240 gl_context.cc:357] GL version: 3.2 (OpenGL ES 3.2 NVIDIA 535.146.02), renderer: NVIDIA GeForce RTX 3060/PCIe/SSE2\n",
      "W0000 00:00:1725880033.503760    9228 inference_feedback_manager.cc:114] Feedback manager requires a model with a single signature inference. Disabling support for feedback tensors.\n",
      "W0000 00:00:1725880033.515202    9237 inference_feedback_manager.cc:114] Feedback manager requires a model with a single signature inference. Disabling support for feedback tensors.\n",
      "I0000 00:00:1725880033.587244    6179 gl_context_egl.cc:85] Successfully initialized EGL. Major : 1 Minor: 5\n"
     ]
    },
    {
     "name": "stdout",
     "output_type": "stream",
     "text": [
      "INFO:     127.0.0.1:48844 - \"POST /eye-tracking HTTP/1.1\" 200 OK\n",
      "INFO:     127.0.0.1:48852 - \"POST /pose-estimate HTTP/1.1\" 200 OK\n",
      "INFO:     127.0.0.1:48860 - \"POST /eye-tracking HTTP/1.1\" 200 OK\n",
      "INFO:     127.0.0.1:48864 - \"POST /pose-estimate HTTP/1.1\" 200 OK\n"
     ]
    },
    {
     "name": "stderr",
     "output_type": "stream",
     "text": [
      "I0000 00:00:1725880033.605343    9253 gl_context.cc:357] GL version: 3.2 (OpenGL ES 3.2 NVIDIA 535.146.02), renderer: NVIDIA GeForce RTX 3060/PCIe/SSE2\n",
      "W0000 00:00:1725880033.607418    9249 inference_feedback_manager.cc:114] Feedback manager requires a model with a single signature inference. Disabling support for feedback tensors.\n",
      "W0000 00:00:1725880033.619061    9244 inference_feedback_manager.cc:114] Feedback manager requires a model with a single signature inference. Disabling support for feedback tensors.\n",
      "I0000 00:00:1725880033.693549    6179 gl_context_egl.cc:85] Successfully initialized EGL. Major : 1 Minor: 5\n",
      "I0000 00:00:1725880033.705699    9267 gl_context.cc:357] GL version: 3.2 (OpenGL ES 3.2 NVIDIA 535.146.02), renderer: NVIDIA GeForce RTX 3060/PCIe/SSE2\n",
      "W0000 00:00:1725880033.707734    9259 inference_feedback_manager.cc:114] Feedback manager requires a model with a single signature inference. Disabling support for feedback tensors.\n",
      "W0000 00:00:1725880033.720071    9260 inference_feedback_manager.cc:114] Feedback manager requires a model with a single signature inference. Disabling support for feedback tensors.\n",
      "I0000 00:00:1725880033.793606    6179 gl_context_egl.cc:85] Successfully initialized EGL. Major : 1 Minor: 5\n",
      "I0000 00:00:1725880033.804456    9280 gl_context.cc:357] GL version: 3.2 (OpenGL ES 3.2 NVIDIA 535.146.02), renderer: NVIDIA GeForce RTX 3060/PCIe/SSE2\n"
     ]
    },
    {
     "name": "stdout",
     "output_type": "stream",
     "text": [
      "INFO:     127.0.0.1:48866 - \"POST /eye-tracking HTTP/1.1\" 200 OK\n",
      "INFO:     127.0.0.1:48882 - \"POST /pose-estimate HTTP/1.1\" 200 OK\n",
      "INFO:     127.0.0.1:48890 - \"POST /eye-tracking HTTP/1.1\" 200 OK\n",
      "INFO:     127.0.0.1:48904 - \"POST /pose-estimate HTTP/1.1\" 200 OK\n"
     ]
    },
    {
     "name": "stderr",
     "output_type": "stream",
     "text": [
      "W0000 00:00:1725880033.807195    9272 inference_feedback_manager.cc:114] Feedback manager requires a model with a single signature inference. Disabling support for feedback tensors.\n",
      "W0000 00:00:1725880033.818233    9271 inference_feedback_manager.cc:114] Feedback manager requires a model with a single signature inference. Disabling support for feedback tensors.\n",
      "I0000 00:00:1725880033.893860    6179 gl_context_egl.cc:85] Successfully initialized EGL. Major : 1 Minor: 5\n",
      "I0000 00:00:1725880033.903393    9293 gl_context.cc:357] GL version: 3.2 (OpenGL ES 3.2 NVIDIA 535.146.02), renderer: NVIDIA GeForce RTX 3060/PCIe/SSE2\n",
      "W0000 00:00:1725880033.905788    9286 inference_feedback_manager.cc:114] Feedback manager requires a model with a single signature inference. Disabling support for feedback tensors.\n",
      "W0000 00:00:1725880033.916750    9284 inference_feedback_manager.cc:114] Feedback manager requires a model with a single signature inference. Disabling support for feedback tensors.\n",
      "I0000 00:00:1725880033.986910    6179 gl_context_egl.cc:85] Successfully initialized EGL. Major : 1 Minor: 5\n",
      "I0000 00:00:1725880034.004592    9306 gl_context.cc:357] GL version: 3.2 (OpenGL ES 3.2 NVIDIA 535.146.02), renderer: NVIDIA GeForce RTX 3060/PCIe/SSE2\n",
      "W0000 00:00:1725880034.006263    9299 inference_feedback_manager.cc:114] Feedback manager requires a model with a single signature inference. Disabling support for feedback tensors.\n"
     ]
    },
    {
     "name": "stdout",
     "output_type": "stream",
     "text": [
      "INFO:     127.0.0.1:48910 - \"POST /eye-tracking HTTP/1.1\" 200 OK\n",
      "INFO:     127.0.0.1:48916 - \"POST /pose-estimate HTTP/1.1\" 200 OK\n",
      "INFO:     127.0.0.1:48924 - \"POST /eye-tracking HTTP/1.1\" 200 OK\n",
      "INFO:     127.0.0.1:48928 - \"POST /pose-estimate HTTP/1.1\" 200 OK\n"
     ]
    },
    {
     "name": "stderr",
     "output_type": "stream",
     "text": [
      "W0000 00:00:1725880034.012927    9300 inference_feedback_manager.cc:114] Feedback manager requires a model with a single signature inference. Disabling support for feedback tensors.\n",
      "I0000 00:00:1725880034.086414    6179 gl_context_egl.cc:85] Successfully initialized EGL. Major : 1 Minor: 5\n",
      "I0000 00:00:1725880034.100605    9319 gl_context.cc:357] GL version: 3.2 (OpenGL ES 3.2 NVIDIA 535.146.02), renderer: NVIDIA GeForce RTX 3060/PCIe/SSE2\n",
      "W0000 00:00:1725880034.102189    9315 inference_feedback_manager.cc:114] Feedback manager requires a model with a single signature inference. Disabling support for feedback tensors.\n",
      "W0000 00:00:1725880034.114326    9311 inference_feedback_manager.cc:114] Feedback manager requires a model with a single signature inference. Disabling support for feedback tensors.\n",
      "I0000 00:00:1725880034.185632    6179 gl_context_egl.cc:85] Successfully initialized EGL. Major : 1 Minor: 5\n",
      "I0000 00:00:1725880034.200744    9332 gl_context.cc:357] GL version: 3.2 (OpenGL ES 3.2 NVIDIA 535.146.02), renderer: NVIDIA GeForce RTX 3060/PCIe/SSE2\n",
      "W0000 00:00:1725880034.203129    9323 inference_feedback_manager.cc:114] Feedback manager requires a model with a single signature inference. Disabling support for feedback tensors.\n"
     ]
    },
    {
     "name": "stdout",
     "output_type": "stream",
     "text": [
      "INFO:     127.0.0.1:48932 - \"POST /eye-tracking HTTP/1.1\" 200 OK\n",
      "INFO:     127.0.0.1:48936 - \"POST /pose-estimate HTTP/1.1\" 200 OK\n",
      "INFO:     127.0.0.1:48950 - \"POST /eye-tracking HTTP/1.1\" 200 OK\n",
      "INFO:     127.0.0.1:48960 - \"POST /pose-estimate HTTP/1.1\" 200 OK\n"
     ]
    },
    {
     "name": "stderr",
     "output_type": "stream",
     "text": [
      "W0000 00:00:1725880034.214333    9321 inference_feedback_manager.cc:114] Feedback manager requires a model with a single signature inference. Disabling support for feedback tensors.\n",
      "I0000 00:00:1725880034.286239    6179 gl_context_egl.cc:85] Successfully initialized EGL. Major : 1 Minor: 5\n",
      "I0000 00:00:1725880034.300753    9345 gl_context.cc:357] GL version: 3.2 (OpenGL ES 3.2 NVIDIA 535.146.02), renderer: NVIDIA GeForce RTX 3060/PCIe/SSE2\n",
      "W0000 00:00:1725880034.302944    9336 inference_feedback_manager.cc:114] Feedback manager requires a model with a single signature inference. Disabling support for feedback tensors.\n",
      "W0000 00:00:1725880034.314716    9337 inference_feedback_manager.cc:114] Feedback manager requires a model with a single signature inference. Disabling support for feedback tensors.\n",
      "I0000 00:00:1725880034.387615    6179 gl_context_egl.cc:85] Successfully initialized EGL. Major : 1 Minor: 5\n"
     ]
    },
    {
     "name": "stdout",
     "output_type": "stream",
     "text": [
      "INFO:     127.0.0.1:48962 - \"POST /eye-tracking HTTP/1.1\" 200 OK\n",
      "INFO:     127.0.0.1:48978 - \"POST /pose-estimate HTTP/1.1\" 200 OK\n",
      "INFO:     127.0.0.1:48992 - \"POST /eye-tracking HTTP/1.1\" 200 OK\n",
      "INFO:     127.0.0.1:48994 - \"POST /pose-estimate HTTP/1.1\" 200 OK\n"
     ]
    },
    {
     "name": "stderr",
     "output_type": "stream",
     "text": [
      "I0000 00:00:1725880034.431027    9358 gl_context.cc:357] GL version: 3.2 (OpenGL ES 3.2 NVIDIA 535.146.02), renderer: NVIDIA GeForce RTX 3060/PCIe/SSE2\n",
      "W0000 00:00:1725880034.433334    9349 inference_feedback_manager.cc:114] Feedback manager requires a model with a single signature inference. Disabling support for feedback tensors.\n",
      "W0000 00:00:1725880034.444759    9356 inference_feedback_manager.cc:114] Feedback manager requires a model with a single signature inference. Disabling support for feedback tensors.\n",
      "I0000 00:00:1725880034.515733    6179 gl_context_egl.cc:85] Successfully initialized EGL. Major : 1 Minor: 5\n",
      "I0000 00:00:1725880034.534456    9371 gl_context.cc:357] GL version: 3.2 (OpenGL ES 3.2 NVIDIA 535.146.02), renderer: NVIDIA GeForce RTX 3060/PCIe/SSE2\n",
      "W0000 00:00:1725880034.537195    9362 inference_feedback_manager.cc:114] Feedback manager requires a model with a single signature inference. Disabling support for feedback tensors.\n",
      "W0000 00:00:1725880034.548113    9363 inference_feedback_manager.cc:114] Feedback manager requires a model with a single signature inference. Disabling support for feedback tensors.\n",
      "I0000 00:00:1725880034.621942    6179 gl_context_egl.cc:85] Successfully initialized EGL. Major : 1 Minor: 5\n"
     ]
    },
    {
     "name": "stdout",
     "output_type": "stream",
     "text": [
      "INFO:     127.0.0.1:49008 - \"POST /eye-tracking HTTP/1.1\" 200 OK\n",
      "INFO:     127.0.0.1:49018 - \"POST /pose-estimate HTTP/1.1\" 200 OK\n",
      "INFO:     127.0.0.1:49028 - \"POST /eye-tracking HTTP/1.1\" 200 OK\n",
      "INFO:     127.0.0.1:49036 - \"POST /pose-estimate HTTP/1.1\" 200 OK\n"
     ]
    },
    {
     "name": "stderr",
     "output_type": "stream",
     "text": [
      "I0000 00:00:1725880034.634780    9384 gl_context.cc:357] GL version: 3.2 (OpenGL ES 3.2 NVIDIA 535.146.02), renderer: NVIDIA GeForce RTX 3060/PCIe/SSE2\n",
      "W0000 00:00:1725880034.637512    9378 inference_feedback_manager.cc:114] Feedback manager requires a model with a single signature inference. Disabling support for feedback tensors.\n",
      "W0000 00:00:1725880034.648591    9379 inference_feedback_manager.cc:114] Feedback manager requires a model with a single signature inference. Disabling support for feedback tensors.\n",
      "I0000 00:00:1725880034.727486    6179 gl_context_egl.cc:85] Successfully initialized EGL. Major : 1 Minor: 5\n",
      "I0000 00:00:1725880034.737388    9397 gl_context.cc:357] GL version: 3.2 (OpenGL ES 3.2 NVIDIA 535.146.02), renderer: NVIDIA GeForce RTX 3060/PCIe/SSE2\n",
      "W0000 00:00:1725880034.740153    9386 inference_feedback_manager.cc:114] Feedback manager requires a model with a single signature inference. Disabling support for feedback tensors.\n",
      "W0000 00:00:1725880034.751877    9388 inference_feedback_manager.cc:114] Feedback manager requires a model with a single signature inference. Disabling support for feedback tensors.\n",
      "I0000 00:00:1725880034.822449    6179 gl_context_egl.cc:85] Successfully initialized EGL. Major : 1 Minor: 5\n",
      "I0000 00:00:1725880034.835744    9410 gl_context.cc:357] GL version: 3.2 (OpenGL ES 3.2 NVIDIA 535.146.02), renderer: NVIDIA GeForce RTX 3060/PCIe/SSE2\n"
     ]
    },
    {
     "name": "stdout",
     "output_type": "stream",
     "text": [
      "INFO:     127.0.0.1:49038 - \"POST /eye-tracking HTTP/1.1\" 200 OK\n",
      "INFO:     127.0.0.1:49044 - \"POST /pose-estimate HTTP/1.1\" 200 OK\n",
      "INFO:     127.0.0.1:49058 - \"POST /eye-tracking HTTP/1.1\" 200 OK\n",
      "INFO:     127.0.0.1:49066 - \"POST /pose-estimate HTTP/1.1\" 200 OK\n"
     ]
    },
    {
     "name": "stderr",
     "output_type": "stream",
     "text": [
      "W0000 00:00:1725880034.837483    9398 inference_feedback_manager.cc:114] Feedback manager requires a model with a single signature inference. Disabling support for feedback tensors.\n",
      "W0000 00:00:1725880034.844940    9405 inference_feedback_manager.cc:114] Feedback manager requires a model with a single signature inference. Disabling support for feedback tensors.\n",
      "I0000 00:00:1725880034.915089    6179 gl_context_egl.cc:85] Successfully initialized EGL. Major : 1 Minor: 5\n",
      "I0000 00:00:1725880034.934074    9423 gl_context.cc:357] GL version: 3.2 (OpenGL ES 3.2 NVIDIA 535.146.02), renderer: NVIDIA GeForce RTX 3060/PCIe/SSE2\n",
      "W0000 00:00:1725880034.936455    9422 inference_feedback_manager.cc:114] Feedback manager requires a model with a single signature inference. Disabling support for feedback tensors.\n",
      "W0000 00:00:1725880034.947626    9415 inference_feedback_manager.cc:114] Feedback manager requires a model with a single signature inference. Disabling support for feedback tensors.\n",
      "I0000 00:00:1725880035.022624    6179 gl_context_egl.cc:85] Successfully initialized EGL. Major : 1 Minor: 5\n",
      "I0000 00:00:1725880035.034478    9436 gl_context.cc:357] GL version: 3.2 (OpenGL ES 3.2 NVIDIA 535.146.02), renderer: NVIDIA GeForce RTX 3060/PCIe/SSE2\n"
     ]
    },
    {
     "name": "stdout",
     "output_type": "stream",
     "text": [
      "INFO:     127.0.0.1:49078 - \"POST /eye-tracking HTTP/1.1\" 200 OK\n",
      "INFO:     127.0.0.1:49090 - \"POST /pose-estimate HTTP/1.1\" 200 OK\n",
      "INFO:     127.0.0.1:49106 - \"POST /eye-tracking HTTP/1.1\" 200 OK\n",
      "INFO:     127.0.0.1:49114 - \"POST /pose-estimate HTTP/1.1\" 200 OK\n"
     ]
    },
    {
     "name": "stderr",
     "output_type": "stream",
     "text": [
      "W0000 00:00:1725880035.038293    9428 inference_feedback_manager.cc:114] Feedback manager requires a model with a single signature inference. Disabling support for feedback tensors.\n",
      "W0000 00:00:1725880035.049757    9434 inference_feedback_manager.cc:114] Feedback manager requires a model with a single signature inference. Disabling support for feedback tensors.\n",
      "I0000 00:00:1725880035.120485    6179 gl_context_egl.cc:85] Successfully initialized EGL. Major : 1 Minor: 5\n",
      "I0000 00:00:1725880035.134421    9449 gl_context.cc:357] GL version: 3.2 (OpenGL ES 3.2 NVIDIA 535.146.02), renderer: NVIDIA GeForce RTX 3060/PCIe/SSE2\n",
      "W0000 00:00:1725880035.137207    9445 inference_feedback_manager.cc:114] Feedback manager requires a model with a single signature inference. Disabling support for feedback tensors.\n",
      "W0000 00:00:1725880035.148062    9448 inference_feedback_manager.cc:114] Feedback manager requires a model with a single signature inference. Disabling support for feedback tensors.\n",
      "I0000 00:00:1725880035.218514    6179 gl_context_egl.cc:85] Successfully initialized EGL. Major : 1 Minor: 5\n",
      "I0000 00:00:1725880035.235931    9462 gl_context.cc:357] GL version: 3.2 (OpenGL ES 3.2 NVIDIA 535.146.02), renderer: NVIDIA GeForce RTX 3060/PCIe/SSE2\n",
      "W0000 00:00:1725880035.238554    9452 inference_feedback_manager.cc:114] Feedback manager requires a model with a single signature inference. Disabling support for feedback tensors.\n"
     ]
    },
    {
     "name": "stdout",
     "output_type": "stream",
     "text": [
      "INFO:     127.0.0.1:49124 - \"POST /eye-tracking HTTP/1.1\" 200 OK\n",
      "INFO:     127.0.0.1:49136 - \"POST /pose-estimate HTTP/1.1\" 200 OK\n",
      "INFO:     127.0.0.1:49146 - \"POST /eye-tracking HTTP/1.1\" 200 OK\n",
      "INFO:     127.0.0.1:49156 - \"POST /pose-estimate HTTP/1.1\" 200 OK\n"
     ]
    },
    {
     "name": "stderr",
     "output_type": "stream",
     "text": [
      "W0000 00:00:1725880035.249716    9453 inference_feedback_manager.cc:114] Feedback manager requires a model with a single signature inference. Disabling support for feedback tensors.\n",
      "I0000 00:00:1725880035.320342    6179 gl_context_egl.cc:85] Successfully initialized EGL. Major : 1 Minor: 5\n",
      "I0000 00:00:1725880035.333997    9475 gl_context.cc:357] GL version: 3.2 (OpenGL ES 3.2 NVIDIA 535.146.02), renderer: NVIDIA GeForce RTX 3060/PCIe/SSE2\n",
      "W0000 00:00:1725880035.337857    9464 inference_feedback_manager.cc:114] Feedback manager requires a model with a single signature inference. Disabling support for feedback tensors.\n",
      "W0000 00:00:1725880035.350806    9464 inference_feedback_manager.cc:114] Feedback manager requires a model with a single signature inference. Disabling support for feedback tensors.\n",
      "I0000 00:00:1725880035.424093    6179 gl_context_egl.cc:85] Successfully initialized EGL. Major : 1 Minor: 5\n",
      "I0000 00:00:1725880035.434042    9488 gl_context.cc:357] GL version: 3.2 (OpenGL ES 3.2 NVIDIA 535.146.02), renderer: NVIDIA GeForce RTX 3060/PCIe/SSE2\n",
      "W0000 00:00:1725880035.436253    9476 inference_feedback_manager.cc:114] Feedback manager requires a model with a single signature inference. Disabling support for feedback tensors.\n",
      "W0000 00:00:1725880035.447555    9479 inference_feedback_manager.cc:114] Feedback manager requires a model with a single signature inference. Disabling support for feedback tensors.\n"
     ]
    },
    {
     "name": "stdout",
     "output_type": "stream",
     "text": [
      "INFO:     127.0.0.1:49158 - \"POST /eye-tracking HTTP/1.1\" 200 OK\n",
      "INFO:     127.0.0.1:49168 - \"POST /pose-estimate HTTP/1.1\" 200 OK\n",
      "INFO:     127.0.0.1:49176 - \"POST /eye-tracking HTTP/1.1\" 200 OK\n",
      "INFO:     127.0.0.1:49186 - \"POST /pose-estimate HTTP/1.1\" 200 OK\n",
      "INFO:     127.0.0.1:49196 - \"POST /eye-tracking HTTP/1.1\" 200 OK\n",
      "INFO:     127.0.0.1:49208 - \"POST /pose-estimate HTTP/1.1\" 200 OK\n"
     ]
    },
    {
     "name": "stderr",
     "output_type": "stream",
     "text": [
      "I0000 00:00:1725880035.519353    6179 gl_context_egl.cc:85] Successfully initialized EGL. Major : 1 Minor: 5\n",
      "I0000 00:00:1725880035.534307    9501 gl_context.cc:357] GL version: 3.2 (OpenGL ES 3.2 NVIDIA 535.146.02), renderer: NVIDIA GeForce RTX 3060/PCIe/SSE2\n",
      "W0000 00:00:1725880035.535919    9491 inference_feedback_manager.cc:114] Feedback manager requires a model with a single signature inference. Disabling support for feedback tensors.\n",
      "W0000 00:00:1725880035.547369    9489 inference_feedback_manager.cc:114] Feedback manager requires a model with a single signature inference. Disabling support for feedback tensors.\n",
      "I0000 00:00:1725880035.618717    6179 gl_context_egl.cc:85] Successfully initialized EGL. Major : 1 Minor: 5\n",
      "I0000 00:00:1725880035.634135    9514 gl_context.cc:357] GL version: 3.2 (OpenGL ES 3.2 NVIDIA 535.146.02), renderer: NVIDIA GeForce RTX 3060/PCIe/SSE2\n",
      "W0000 00:00:1725880035.636572    9511 inference_feedback_manager.cc:114] Feedback manager requires a model with a single signature inference. Disabling support for feedback tensors.\n",
      "W0000 00:00:1725880035.649046    9505 inference_feedback_manager.cc:114] Feedback manager requires a model with a single signature inference. Disabling support for feedback tensors.\n",
      "I0000 00:00:1725880035.721077    6179 gl_context_egl.cc:85] Successfully initialized EGL. Major : 1 Minor: 5\n",
      "I0000 00:00:1725880035.734705    9528 gl_context.cc:357] GL version: 3.2 (OpenGL ES 3.2 NVIDIA 535.146.02), renderer: NVIDIA GeForce RTX 3060/PCIe/SSE2\n"
     ]
    },
    {
     "name": "stdout",
     "output_type": "stream",
     "text": [
      "INFO:     127.0.0.1:49212 - \"POST /eye-tracking HTTP/1.1\" 200 OK\n",
      "INFO:     127.0.0.1:49214 - \"POST /pose-estimate HTTP/1.1\" 200 OK\n",
      "INFO:     127.0.0.1:49218 - \"POST /eye-tracking HTTP/1.1\" 200 OK\n",
      "INFO:     127.0.0.1:49226 - \"POST /pose-estimate HTTP/1.1\" 200 OK\n"
     ]
    },
    {
     "name": "stderr",
     "output_type": "stream",
     "text": [
      "W0000 00:00:1725880035.737606    9523 inference_feedback_manager.cc:114] Feedback manager requires a model with a single signature inference. Disabling support for feedback tensors.\n",
      "W0000 00:00:1725880035.748801    9526 inference_feedback_manager.cc:114] Feedback manager requires a model with a single signature inference. Disabling support for feedback tensors.\n",
      "I0000 00:00:1725880035.820670    6179 gl_context_egl.cc:85] Successfully initialized EGL. Major : 1 Minor: 5\n",
      "I0000 00:00:1725880035.834283    9541 gl_context.cc:357] GL version: 3.2 (OpenGL ES 3.2 NVIDIA 535.146.02), renderer: NVIDIA GeForce RTX 3060/PCIe/SSE2\n",
      "W0000 00:00:1725880035.836611    9530 inference_feedback_manager.cc:114] Feedback manager requires a model with a single signature inference. Disabling support for feedback tensors.\n",
      "W0000 00:00:1725880035.848091    9529 inference_feedback_manager.cc:114] Feedback manager requires a model with a single signature inference. Disabling support for feedback tensors.\n",
      "I0000 00:00:1725880035.921936    6179 gl_context_egl.cc:85] Successfully initialized EGL. Major : 1 Minor: 5\n",
      "I0000 00:00:1725880035.934511    9554 gl_context.cc:357] GL version: 3.2 (OpenGL ES 3.2 NVIDIA 535.146.02), renderer: NVIDIA GeForce RTX 3060/PCIe/SSE2\n",
      "W0000 00:00:1725880035.936952    9550 inference_feedback_manager.cc:114] Feedback manager requires a model with a single signature inference. Disabling support for feedback tensors.\n"
     ]
    },
    {
     "name": "stdout",
     "output_type": "stream",
     "text": [
      "INFO:     127.0.0.1:49230 - \"POST /eye-tracking HTTP/1.1\" 200 OK\n",
      "INFO:     127.0.0.1:49240 - \"POST /pose-estimate HTTP/1.1\" 200 OK\n",
      "INFO:     127.0.0.1:49244 - \"POST /eye-tracking HTTP/1.1\" 200 OK\n",
      "INFO:     127.0.0.1:49258 - \"POST /pose-estimate HTTP/1.1\" 200 OK\n"
     ]
    },
    {
     "name": "stderr",
     "output_type": "stream",
     "text": [
      "W0000 00:00:1725880035.948890    9545 inference_feedback_manager.cc:114] Feedback manager requires a model with a single signature inference. Disabling support for feedback tensors.\n",
      "I0000 00:00:1725880036.018295    6179 gl_context_egl.cc:85] Successfully initialized EGL. Major : 1 Minor: 5\n",
      "I0000 00:00:1725880036.036279    9567 gl_context.cc:357] GL version: 3.2 (OpenGL ES 3.2 NVIDIA 535.146.02), renderer: NVIDIA GeForce RTX 3060/PCIe/SSE2\n",
      "W0000 00:00:1725880036.038634    9555 inference_feedback_manager.cc:114] Feedback manager requires a model with a single signature inference. Disabling support for feedback tensors.\n",
      "W0000 00:00:1725880036.050312    9561 inference_feedback_manager.cc:114] Feedback manager requires a model with a single signature inference. Disabling support for feedback tensors.\n",
      "I0000 00:00:1725880036.119733    6179 gl_context_egl.cc:85] Successfully initialized EGL. Major : 1 Minor: 5\n",
      "I0000 00:00:1725880036.134634    9580 gl_context.cc:357] GL version: 3.2 (OpenGL ES 3.2 NVIDIA 535.146.02), renderer: NVIDIA GeForce RTX 3060/PCIe/SSE2\n",
      "W0000 00:00:1725880036.137508    9571 inference_feedback_manager.cc:114] Feedback manager requires a model with a single signature inference. Disabling support for feedback tensors.\n",
      "W0000 00:00:1725880036.148100    9569 inference_feedback_manager.cc:114] Feedback manager requires a model with a single signature inference. Disabling support for feedback tensors.\n"
     ]
    },
    {
     "name": "stdout",
     "output_type": "stream",
     "text": [
      "INFO:     127.0.0.1:49260 - \"POST /eye-tracking HTTP/1.1\" 200 OK\n",
      "INFO:     127.0.0.1:49268 - \"POST /pose-estimate HTTP/1.1\" 200 OK\n",
      "INFO:     127.0.0.1:49274 - \"POST /eye-tracking HTTP/1.1\" 200 OK\n",
      "INFO:     127.0.0.1:49282 - \"POST /pose-estimate HTTP/1.1\" 200 OK\n",
      "INFO:     127.0.0.1:49284 - \"POST /eye-tracking HTTP/1.1\" 200 OK\n",
      "INFO:     127.0.0.1:49290 - \"POST /pose-estimate HTTP/1.1\" 200 OK\n"
     ]
    },
    {
     "name": "stderr",
     "output_type": "stream",
     "text": [
      "I0000 00:00:1725880036.222843    6179 gl_context_egl.cc:85] Successfully initialized EGL. Major : 1 Minor: 5\n",
      "I0000 00:00:1725880036.234415    9593 gl_context.cc:357] GL version: 3.2 (OpenGL ES 3.2 NVIDIA 535.146.02), renderer: NVIDIA GeForce RTX 3060/PCIe/SSE2\n",
      "W0000 00:00:1725880036.237147    9586 inference_feedback_manager.cc:114] Feedback manager requires a model with a single signature inference. Disabling support for feedback tensors.\n",
      "W0000 00:00:1725880036.248394    9584 inference_feedback_manager.cc:114] Feedback manager requires a model with a single signature inference. Disabling support for feedback tensors.\n",
      "I0000 00:00:1725880036.319744    6179 gl_context_egl.cc:85] Successfully initialized EGL. Major : 1 Minor: 5\n",
      "I0000 00:00:1725880036.336619    9606 gl_context.cc:357] GL version: 3.2 (OpenGL ES 3.2 NVIDIA 535.146.02), renderer: NVIDIA GeForce RTX 3060/PCIe/SSE2\n",
      "W0000 00:00:1725880036.338318    9595 inference_feedback_manager.cc:114] Feedback manager requires a model with a single signature inference. Disabling support for feedback tensors.\n",
      "W0000 00:00:1725880036.344435    9596 inference_feedback_manager.cc:114] Feedback manager requires a model with a single signature inference. Disabling support for feedback tensors.\n",
      "I0000 00:00:1725880036.417642    6179 gl_context_egl.cc:85] Successfully initialized EGL. Major : 1 Minor: 5\n"
     ]
    },
    {
     "name": "stdout",
     "output_type": "stream",
     "text": [
      "INFO:     127.0.0.1:49306 - \"POST /eye-tracking HTTP/1.1\" 200 OK\n",
      "INFO:     127.0.0.1:49318 - \"POST /pose-estimate HTTP/1.1\" 200 OK\n",
      "INFO:     127.0.0.1:49326 - \"POST /eye-tracking HTTP/1.1\" 200 OK\n",
      "INFO:     127.0.0.1:49332 - \"POST /pose-estimate HTTP/1.1\" 200 OK\n"
     ]
    },
    {
     "name": "stderr",
     "output_type": "stream",
     "text": [
      "I0000 00:00:1725880036.436252    9619 gl_context.cc:357] GL version: 3.2 (OpenGL ES 3.2 NVIDIA 535.146.02), renderer: NVIDIA GeForce RTX 3060/PCIe/SSE2\n",
      "W0000 00:00:1725880036.439013    9607 inference_feedback_manager.cc:114] Feedback manager requires a model with a single signature inference. Disabling support for feedback tensors.\n",
      "W0000 00:00:1725880036.450407    9611 inference_feedback_manager.cc:114] Feedback manager requires a model with a single signature inference. Disabling support for feedback tensors.\n",
      "I0000 00:00:1725880036.520461    6179 gl_context_egl.cc:85] Successfully initialized EGL. Major : 1 Minor: 5\n",
      "I0000 00:00:1725880036.534910    9632 gl_context.cc:357] GL version: 3.2 (OpenGL ES 3.2 NVIDIA 535.146.02), renderer: NVIDIA GeForce RTX 3060/PCIe/SSE2\n",
      "W0000 00:00:1725880036.537503    9620 inference_feedback_manager.cc:114] Feedback manager requires a model with a single signature inference. Disabling support for feedback tensors.\n",
      "W0000 00:00:1725880036.549839    9629 inference_feedback_manager.cc:114] Feedback manager requires a model with a single signature inference. Disabling support for feedback tensors.\n",
      "I0000 00:00:1725880036.622827    6179 gl_context_egl.cc:85] Successfully initialized EGL. Major : 1 Minor: 5\n",
      "I0000 00:00:1725880036.635830    9645 gl_context.cc:357] GL version: 3.2 (OpenGL ES 3.2 NVIDIA 535.146.02), renderer: NVIDIA GeForce RTX 3060/PCIe/SSE2\n",
      "W0000 00:00:1725880036.638016    9636 inference_feedback_manager.cc:114] Feedback manager requires a model with a single signature inference. Disabling support for feedback tensors.\n"
     ]
    },
    {
     "name": "stdout",
     "output_type": "stream",
     "text": [
      "INFO:     127.0.0.1:49346 - \"POST /eye-tracking HTTP/1.1\" 200 OK\n",
      "INFO:     127.0.0.1:49356 - \"POST /pose-estimate HTTP/1.1\" 200 OK\n",
      "INFO:     127.0.0.1:49366 - \"POST /eye-tracking HTTP/1.1\" 200 OK\n",
      "INFO:     127.0.0.1:49382 - \"POST /pose-estimate HTTP/1.1\" 200 OK\n"
     ]
    },
    {
     "name": "stderr",
     "output_type": "stream",
     "text": [
      "W0000 00:00:1725880036.649288    9637 inference_feedback_manager.cc:114] Feedback manager requires a model with a single signature inference. Disabling support for feedback tensors.\n",
      "I0000 00:00:1725880036.724979    6179 gl_context_egl.cc:85] Successfully initialized EGL. Major : 1 Minor: 5\n",
      "I0000 00:00:1725880036.735177    9658 gl_context.cc:357] GL version: 3.2 (OpenGL ES 3.2 NVIDIA 535.146.02), renderer: NVIDIA GeForce RTX 3060/PCIe/SSE2\n",
      "W0000 00:00:1725880036.737696    9649 inference_feedback_manager.cc:114] Feedback manager requires a model with a single signature inference. Disabling support for feedback tensors.\n",
      "W0000 00:00:1725880036.748572    9647 inference_feedback_manager.cc:114] Feedback manager requires a model with a single signature inference. Disabling support for feedback tensors.\n",
      "I0000 00:00:1725880036.817563    6179 gl_context_egl.cc:85] Successfully initialized EGL. Major : 1 Minor: 5\n",
      "I0000 00:00:1725880036.834848    9671 gl_context.cc:357] GL version: 3.2 (OpenGL ES 3.2 NVIDIA 535.146.02), renderer: NVIDIA GeForce RTX 3060/PCIe/SSE2\n",
      "W0000 00:00:1725880036.837722    9662 inference_feedback_manager.cc:114] Feedback manager requires a model with a single signature inference. Disabling support for feedback tensors.\n",
      "W0000 00:00:1725880036.849076    9667 inference_feedback_manager.cc:114] Feedback manager requires a model with a single signature inference. Disabling support for feedback tensors.\n"
     ]
    },
    {
     "name": "stdout",
     "output_type": "stream",
     "text": [
      "INFO:     127.0.0.1:49388 - \"POST /eye-tracking HTTP/1.1\" 200 OK\n",
      "INFO:     127.0.0.1:49404 - \"POST /pose-estimate HTTP/1.1\" 200 OK\n",
      "INFO:     127.0.0.1:49418 - \"POST /eye-tracking HTTP/1.1\" 200 OK\n",
      "INFO:     127.0.0.1:49434 - \"POST /pose-estimate HTTP/1.1\" 200 OK\n",
      "INFO:     127.0.0.1:49442 - \"POST /eye-tracking HTTP/1.1\" 200 OK\n",
      "INFO:     127.0.0.1:49456 - \"POST /pose-estimate HTTP/1.1\" 200 OK\n"
     ]
    },
    {
     "name": "stderr",
     "output_type": "stream",
     "text": [
      "I0000 00:00:1725880036.921364    6179 gl_context_egl.cc:85] Successfully initialized EGL. Major : 1 Minor: 5\n",
      "I0000 00:00:1725880036.934923    9685 gl_context.cc:357] GL version: 3.2 (OpenGL ES 3.2 NVIDIA 535.146.02), renderer: NVIDIA GeForce RTX 3060/PCIe/SSE2\n",
      "W0000 00:00:1725880036.937417    9681 inference_feedback_manager.cc:114] Feedback manager requires a model with a single signature inference. Disabling support for feedback tensors.\n",
      "W0000 00:00:1725880036.948637    9682 inference_feedback_manager.cc:114] Feedback manager requires a model with a single signature inference. Disabling support for feedback tensors.\n",
      "I0000 00:00:1725880037.018244    6179 gl_context_egl.cc:85] Successfully initialized EGL. Major : 1 Minor: 5\n",
      "I0000 00:00:1725880037.036021    9700 gl_context.cc:357] GL version: 3.2 (OpenGL ES 3.2 NVIDIA 535.146.02), renderer: NVIDIA GeForce RTX 3060/PCIe/SSE2\n",
      "W0000 00:00:1725880037.037659    9689 inference_feedback_manager.cc:114] Feedback manager requires a model with a single signature inference. Disabling support for feedback tensors.\n",
      "W0000 00:00:1725880037.043706    9697 inference_feedback_manager.cc:114] Feedback manager requires a model with a single signature inference. Disabling support for feedback tensors.\n"
     ]
    },
    {
     "name": "stdout",
     "output_type": "stream",
     "text": [
      "INFO:     127.0.0.1:49466 - \"POST /eye-tracking HTTP/1.1\" 200 OK\n",
      "INFO:     127.0.0.1:46738 - \"POST /pose-estimate HTTP/1.1\" 200 OK\n",
      "INFO:     127.0.0.1:46740 - \"POST /eye-tracking HTTP/1.1\" 200 OK\n",
      "INFO:     127.0.0.1:46746 - \"POST /pose-estimate HTTP/1.1\" 200 OK\n"
     ]
    },
    {
     "name": "stderr",
     "output_type": "stream",
     "text": [
      "I0000 00:00:1725880037.115571    6179 gl_context_egl.cc:85] Successfully initialized EGL. Major : 1 Minor: 5\n",
      "I0000 00:00:1725880037.138161    9713 gl_context.cc:357] GL version: 3.2 (OpenGL ES 3.2 NVIDIA 535.146.02), renderer: NVIDIA GeForce RTX 3060/PCIe/SSE2\n",
      "W0000 00:00:1725880037.141489    9705 inference_feedback_manager.cc:114] Feedback manager requires a model with a single signature inference. Disabling support for feedback tensors.\n",
      "W0000 00:00:1725880037.155639    9712 inference_feedback_manager.cc:114] Feedback manager requires a model with a single signature inference. Disabling support for feedback tensors.\n",
      "I0000 00:00:1725880037.226358    6179 gl_context_egl.cc:85] Successfully initialized EGL. Major : 1 Minor: 5\n",
      "I0000 00:00:1725880037.236760    9726 gl_context.cc:357] GL version: 3.2 (OpenGL ES 3.2 NVIDIA 535.146.02), renderer: NVIDIA GeForce RTX 3060/PCIe/SSE2\n",
      "W0000 00:00:1725880037.238804    9716 inference_feedback_manager.cc:114] Feedback manager requires a model with a single signature inference. Disabling support for feedback tensors.\n",
      "W0000 00:00:1725880037.250003    9717 inference_feedback_manager.cc:114] Feedback manager requires a model with a single signature inference. Disabling support for feedback tensors.\n",
      "I0000 00:00:1725880037.319270    6179 gl_context_egl.cc:85] Successfully initialized EGL. Major : 1 Minor: 5\n",
      "I0000 00:00:1725880037.335410    9739 gl_context.cc:357] GL version: 3.2 (OpenGL ES 3.2 NVIDIA 535.146.02), renderer: NVIDIA GeForce RTX 3060/PCIe/SSE2\n",
      "W0000 00:00:1725880037.337843    9729 inference_feedback_manager.cc:114] Feedback manager requires a model with a single signature inference. Disabling support for feedback tensors.\n"
     ]
    },
    {
     "name": "stdout",
     "output_type": "stream",
     "text": [
      "INFO:     127.0.0.1:46760 - \"POST /eye-tracking HTTP/1.1\" 200 OK\n",
      "INFO:     127.0.0.1:46768 - \"POST /pose-estimate HTTP/1.1\" 200 OK\n",
      "INFO:     127.0.0.1:46784 - \"POST /eye-tracking HTTP/1.1\" 200 OK\n",
      "INFO:     127.0.0.1:46786 - \"POST /pose-estimate HTTP/1.1\" 200 OK\n"
     ]
    },
    {
     "name": "stderr",
     "output_type": "stream",
     "text": [
      "W0000 00:00:1725880037.349040    9727 inference_feedback_manager.cc:114] Feedback manager requires a model with a single signature inference. Disabling support for feedback tensors.\n",
      "I0000 00:00:1725880037.422814    6179 gl_context_egl.cc:85] Successfully initialized EGL. Major : 1 Minor: 5\n",
      "I0000 00:00:1725880037.435541    9752 gl_context.cc:357] GL version: 3.2 (OpenGL ES 3.2 NVIDIA 535.146.02), renderer: NVIDIA GeForce RTX 3060/PCIe/SSE2\n",
      "W0000 00:00:1725880037.438390    9742 inference_feedback_manager.cc:114] Feedback manager requires a model with a single signature inference. Disabling support for feedback tensors.\n",
      "W0000 00:00:1725880037.450533    9748 inference_feedback_manager.cc:114] Feedback manager requires a model with a single signature inference. Disabling support for feedback tensors.\n",
      "I0000 00:00:1725880037.521076    6179 gl_context_egl.cc:85] Successfully initialized EGL. Major : 1 Minor: 5\n",
      "I0000 00:00:1725880037.536996    9765 gl_context.cc:357] GL version: 3.2 (OpenGL ES 3.2 NVIDIA 535.146.02), renderer: NVIDIA GeForce RTX 3060/PCIe/SSE2\n",
      "W0000 00:00:1725880037.539787    9763 inference_feedback_manager.cc:114] Feedback manager requires a model with a single signature inference. Disabling support for feedback tensors.\n"
     ]
    },
    {
     "name": "stdout",
     "output_type": "stream",
     "text": [
      "INFO:     127.0.0.1:46794 - \"POST /eye-tracking HTTP/1.1\" 200 OK\n",
      "INFO:     127.0.0.1:46802 - \"POST /pose-estimate HTTP/1.1\" 200 OK\n",
      "INFO:     127.0.0.1:46806 - \"POST /eye-tracking HTTP/1.1\" 200 OK\n",
      "INFO:     127.0.0.1:46822 - \"POST /pose-estimate HTTP/1.1\" 200 OK\n"
     ]
    },
    {
     "name": "stderr",
     "output_type": "stream",
     "text": [
      "W0000 00:00:1725880037.550557    9756 inference_feedback_manager.cc:114] Feedback manager requires a model with a single signature inference. Disabling support for feedback tensors.\n",
      "I0000 00:00:1725880037.620361    6179 gl_context_egl.cc:85] Successfully initialized EGL. Major : 1 Minor: 5\n",
      "I0000 00:00:1725880037.636407    9778 gl_context.cc:357] GL version: 3.2 (OpenGL ES 3.2 NVIDIA 535.146.02), renderer: NVIDIA GeForce RTX 3060/PCIe/SSE2\n",
      "W0000 00:00:1725880037.639346    9768 inference_feedback_manager.cc:114] Feedback manager requires a model with a single signature inference. Disabling support for feedback tensors.\n",
      "W0000 00:00:1725880037.650433    9767 inference_feedback_manager.cc:114] Feedback manager requires a model with a single signature inference. Disabling support for feedback tensors.\n",
      "I0000 00:00:1725880037.722300    6179 gl_context_egl.cc:85] Successfully initialized EGL. Major : 1 Minor: 5\n",
      "I0000 00:00:1725880037.734761    9792 gl_context.cc:357] GL version: 3.2 (OpenGL ES 3.2 NVIDIA 535.146.02), renderer: NVIDIA GeForce RTX 3060/PCIe/SSE2\n",
      "W0000 00:00:1725880037.736441    9786 inference_feedback_manager.cc:114] Feedback manager requires a model with a single signature inference. Disabling support for feedback tensors.\n",
      "W0000 00:00:1725880037.748078    9780 inference_feedback_manager.cc:114] Feedback manager requires a model with a single signature inference. Disabling support for feedback tensors.\n"
     ]
    },
    {
     "name": "stdout",
     "output_type": "stream",
     "text": [
      "INFO:     127.0.0.1:46830 - \"POST /eye-tracking HTTP/1.1\" 200 OK\n",
      "INFO:     127.0.0.1:46840 - \"POST /pose-estimate HTTP/1.1\" 200 OK\n",
      "INFO:     127.0.0.1:46846 - \"POST /eye-tracking HTTP/1.1\" 200 OK\n",
      "INFO:     127.0.0.1:46862 - \"POST /pose-estimate HTTP/1.1\" 200 OK\n",
      "INFO:     127.0.0.1:46878 - \"POST /eye-tracking HTTP/1.1\" 200 OK\n",
      "INFO:     127.0.0.1:46882 - \"POST /pose-estimate HTTP/1.1\" 200 OK\n"
     ]
    },
    {
     "name": "stderr",
     "output_type": "stream",
     "text": [
      "I0000 00:00:1725880037.815751    6179 gl_context_egl.cc:85] Successfully initialized EGL. Major : 1 Minor: 5\n",
      "I0000 00:00:1725880037.834969    9805 gl_context.cc:357] GL version: 3.2 (OpenGL ES 3.2 NVIDIA 535.146.02), renderer: NVIDIA GeForce RTX 3060/PCIe/SSE2\n",
      "W0000 00:00:1725880037.837781    9803 inference_feedback_manager.cc:114] Feedback manager requires a model with a single signature inference. Disabling support for feedback tensors.\n",
      "W0000 00:00:1725880037.848531    9797 inference_feedback_manager.cc:114] Feedback manager requires a model with a single signature inference. Disabling support for feedback tensors.\n",
      "I0000 00:00:1725880037.924181    6179 gl_context_egl.cc:85] Successfully initialized EGL. Major : 1 Minor: 5\n",
      "I0000 00:00:1725880037.935008    9818 gl_context.cc:357] GL version: 3.2 (OpenGL ES 3.2 NVIDIA 535.146.02), renderer: NVIDIA GeForce RTX 3060/PCIe/SSE2\n",
      "W0000 00:00:1725880037.937716    9815 inference_feedback_manager.cc:114] Feedback manager requires a model with a single signature inference. Disabling support for feedback tensors.\n",
      "W0000 00:00:1725880037.948335    9807 inference_feedback_manager.cc:114] Feedback manager requires a model with a single signature inference. Disabling support for feedback tensors.\n",
      "I0000 00:00:1725880038.020846    6179 gl_context_egl.cc:85] Successfully initialized EGL. Major : 1 Minor: 5\n"
     ]
    },
    {
     "name": "stdout",
     "output_type": "stream",
     "text": [
      "INFO:     127.0.0.1:46890 - \"POST /eye-tracking HTTP/1.1\" 200 OK\n",
      "INFO:     127.0.0.1:46892 - \"POST /pose-estimate HTTP/1.1\" 200 OK\n",
      "INFO:     127.0.0.1:46906 - \"POST /eye-tracking HTTP/1.1\" 200 OK\n",
      "INFO:     127.0.0.1:46922 - \"POST /pose-estimate HTTP/1.1\" 200 OK\n"
     ]
    },
    {
     "name": "stderr",
     "output_type": "stream",
     "text": [
      "I0000 00:00:1725880038.036518    9831 gl_context.cc:357] GL version: 3.2 (OpenGL ES 3.2 NVIDIA 535.146.02), renderer: NVIDIA GeForce RTX 3060/PCIe/SSE2\n",
      "W0000 00:00:1725880038.038316    9819 inference_feedback_manager.cc:114] Feedback manager requires a model with a single signature inference. Disabling support for feedback tensors.\n",
      "W0000 00:00:1725880038.049369    9821 inference_feedback_manager.cc:114] Feedback manager requires a model with a single signature inference. Disabling support for feedback tensors.\n",
      "I0000 00:00:1725880038.120783    6179 gl_context_egl.cc:85] Successfully initialized EGL. Major : 1 Minor: 5\n",
      "I0000 00:00:1725880038.135269    9844 gl_context.cc:357] GL version: 3.2 (OpenGL ES 3.2 NVIDIA 535.146.02), renderer: NVIDIA GeForce RTX 3060/PCIe/SSE2\n",
      "W0000 00:00:1725880038.137920    9836 inference_feedback_manager.cc:114] Feedback manager requires a model with a single signature inference. Disabling support for feedback tensors.\n",
      "W0000 00:00:1725880038.149135    9832 inference_feedback_manager.cc:114] Feedback manager requires a model with a single signature inference. Disabling support for feedback tensors.\n",
      "I0000 00:00:1725880038.219821    6179 gl_context_egl.cc:85] Successfully initialized EGL. Major : 1 Minor: 5\n",
      "I0000 00:00:1725880038.235074    9857 gl_context.cc:357] GL version: 3.2 (OpenGL ES 3.2 NVIDIA 535.146.02), renderer: NVIDIA GeForce RTX 3060/PCIe/SSE2\n",
      "W0000 00:00:1725880038.237914    9845 inference_feedback_manager.cc:114] Feedback manager requires a model with a single signature inference. Disabling support for feedback tensors.\n"
     ]
    },
    {
     "name": "stdout",
     "output_type": "stream",
     "text": [
      "INFO:     127.0.0.1:46926 - \"POST /eye-tracking HTTP/1.1\" 200 OK\n",
      "INFO:     127.0.0.1:46938 - \"POST /pose-estimate HTTP/1.1\" 200 OK\n",
      "INFO:     127.0.0.1:46944 - \"POST /eye-tracking HTTP/1.1\" 200 OK\n",
      "INFO:     127.0.0.1:46954 - \"POST /pose-estimate HTTP/1.1\" 200 OK\n"
     ]
    },
    {
     "name": "stderr",
     "output_type": "stream",
     "text": [
      "W0000 00:00:1725880038.249467    9846 inference_feedback_manager.cc:114] Feedback manager requires a model with a single signature inference. Disabling support for feedback tensors.\n",
      "I0000 00:00:1725880038.321055    6179 gl_context_egl.cc:85] Successfully initialized EGL. Major : 1 Minor: 5\n",
      "I0000 00:00:1725880038.335269    9870 gl_context.cc:357] GL version: 3.2 (OpenGL ES 3.2 NVIDIA 535.146.02), renderer: NVIDIA GeForce RTX 3060/PCIe/SSE2\n",
      "W0000 00:00:1725880038.339033    9864 inference_feedback_manager.cc:114] Feedback manager requires a model with a single signature inference. Disabling support for feedback tensors.\n",
      "W0000 00:00:1725880038.350594    9858 inference_feedback_manager.cc:114] Feedback manager requires a model with a single signature inference. Disabling support for feedback tensors.\n",
      "I0000 00:00:1725880038.422971    6179 gl_context_egl.cc:85] Successfully initialized EGL. Major : 1 Minor: 5\n",
      "I0000 00:00:1725880038.434705    9883 gl_context.cc:357] GL version: 3.2 (OpenGL ES 3.2 NVIDIA 535.146.02), renderer: NVIDIA GeForce RTX 3060/PCIe/SSE2\n",
      "W0000 00:00:1725880038.437445    9876 inference_feedback_manager.cc:114] Feedback manager requires a model with a single signature inference. Disabling support for feedback tensors.\n",
      "W0000 00:00:1725880038.448657    9874 inference_feedback_manager.cc:114] Feedback manager requires a model with a single signature inference. Disabling support for feedback tensors.\n"
     ]
    },
    {
     "name": "stdout",
     "output_type": "stream",
     "text": [
      "INFO:     127.0.0.1:46956 - \"POST /eye-tracking HTTP/1.1\" 200 OK\n",
      "INFO:     127.0.0.1:46962 - \"POST /pose-estimate HTTP/1.1\" 200 OK\n",
      "INFO:     127.0.0.1:46966 - \"POST /eye-tracking HTTP/1.1\" 200 OK\n",
      "INFO:     127.0.0.1:46982 - \"POST /pose-estimate HTTP/1.1\" 200 OK\n",
      "INFO:     127.0.0.1:46998 - \"POST /eye-tracking HTTP/1.1\" 200 OK\n",
      "INFO:     127.0.0.1:47008 - \"POST /pose-estimate HTTP/1.1\" 200 OK\n"
     ]
    },
    {
     "name": "stderr",
     "output_type": "stream",
     "text": [
      "I0000 00:00:1725880038.519553    6179 gl_context_egl.cc:85] Successfully initialized EGL. Major : 1 Minor: 5\n",
      "I0000 00:00:1725880038.535212    9896 gl_context.cc:357] GL version: 3.2 (OpenGL ES 3.2 NVIDIA 535.146.02), renderer: NVIDIA GeForce RTX 3060/PCIe/SSE2\n",
      "W0000 00:00:1725880038.536926    9884 inference_feedback_manager.cc:114] Feedback manager requires a model with a single signature inference. Disabling support for feedback tensors.\n",
      "W0000 00:00:1725880038.543021    9889 inference_feedback_manager.cc:114] Feedback manager requires a model with a single signature inference. Disabling support for feedback tensors.\n",
      "I0000 00:00:1725880038.614300    6179 gl_context_egl.cc:85] Successfully initialized EGL. Major : 1 Minor: 5\n",
      "I0000 00:00:1725880038.636618    9909 gl_context.cc:357] GL version: 3.2 (OpenGL ES 3.2 NVIDIA 535.146.02), renderer: NVIDIA GeForce RTX 3060/PCIe/SSE2\n",
      "W0000 00:00:1725880038.639448    9898 inference_feedback_manager.cc:114] Feedback manager requires a model with a single signature inference. Disabling support for feedback tensors.\n",
      "W0000 00:00:1725880038.651493    9905 inference_feedback_manager.cc:114] Feedback manager requires a model with a single signature inference. Disabling support for feedback tensors.\n",
      "I0000 00:00:1725880038.725742    6179 gl_context_egl.cc:85] Successfully initialized EGL. Major : 1 Minor: 5\n",
      "I0000 00:00:1725880038.736347    9922 gl_context.cc:357] GL version: 3.2 (OpenGL ES 3.2 NVIDIA 535.146.02), renderer: NVIDIA GeForce RTX 3060/PCIe/SSE2\n"
     ]
    },
    {
     "name": "stdout",
     "output_type": "stream",
     "text": [
      "INFO:     127.0.0.1:47020 - \"POST /eye-tracking HTTP/1.1\" 200 OK\n",
      "INFO:     127.0.0.1:47034 - \"POST /pose-estimate HTTP/1.1\" 200 OK\n",
      "INFO:     127.0.0.1:47046 - \"POST /eye-tracking HTTP/1.1\" 200 OK\n",
      "INFO:     127.0.0.1:47062 - \"POST /pose-estimate HTTP/1.1\" 200 OK\n"
     ]
    },
    {
     "name": "stderr",
     "output_type": "stream",
     "text": [
      "W0000 00:00:1725880038.739307    9917 inference_feedback_manager.cc:114] Feedback manager requires a model with a single signature inference. Disabling support for feedback tensors.\n",
      "W0000 00:00:1725880038.750107    9912 inference_feedback_manager.cc:114] Feedback manager requires a model with a single signature inference. Disabling support for feedback tensors.\n",
      "I0000 00:00:1725880038.820749    6179 gl_context_egl.cc:85] Successfully initialized EGL. Major : 1 Minor: 5\n",
      "I0000 00:00:1725880038.837034    9935 gl_context.cc:357] GL version: 3.2 (OpenGL ES 3.2 NVIDIA 535.146.02), renderer: NVIDIA GeForce RTX 3060/PCIe/SSE2\n",
      "W0000 00:00:1725880038.839671    9926 inference_feedback_manager.cc:114] Feedback manager requires a model with a single signature inference. Disabling support for feedback tensors.\n",
      "W0000 00:00:1725880038.851585    9932 inference_feedback_manager.cc:114] Feedback manager requires a model with a single signature inference. Disabling support for feedback tensors.\n",
      "I0000 00:00:1725880038.921223    6179 gl_context_egl.cc:85] Successfully initialized EGL. Major : 1 Minor: 5\n",
      "I0000 00:00:1725880038.935306    9948 gl_context.cc:357] GL version: 3.2 (OpenGL ES 3.2 NVIDIA 535.146.02), renderer: NVIDIA GeForce RTX 3060/PCIe/SSE2\n",
      "W0000 00:00:1725880038.938184    9945 inference_feedback_manager.cc:114] Feedback manager requires a model with a single signature inference. Disabling support for feedback tensors.\n"
     ]
    },
    {
     "name": "stdout",
     "output_type": "stream",
     "text": [
      "INFO:     127.0.0.1:47066 - \"POST /eye-tracking HTTP/1.1\" 200 OK\n",
      "INFO:     127.0.0.1:47080 - \"POST /pose-estimate HTTP/1.1\" 200 OK\n",
      "INFO:     127.0.0.1:47090 - \"POST /eye-tracking HTTP/1.1\" 200 OK\n",
      "INFO:     127.0.0.1:47092 - \"POST /pose-estimate HTTP/1.1\" 200 OK\n"
     ]
    },
    {
     "name": "stderr",
     "output_type": "stream",
     "text": [
      "W0000 00:00:1725880038.949745    9939 inference_feedback_manager.cc:114] Feedback manager requires a model with a single signature inference. Disabling support for feedback tensors.\n",
      "I0000 00:00:1725880039.021379    6179 gl_context_egl.cc:85] Successfully initialized EGL. Major : 1 Minor: 5\n",
      "I0000 00:00:1725880039.036242    9961 gl_context.cc:357] GL version: 3.2 (OpenGL ES 3.2 NVIDIA 535.146.02), renderer: NVIDIA GeForce RTX 3060/PCIe/SSE2\n",
      "W0000 00:00:1725880039.038197    9952 inference_feedback_manager.cc:114] Feedback manager requires a model with a single signature inference. Disabling support for feedback tensors.\n",
      "W0000 00:00:1725880039.050008    9950 inference_feedback_manager.cc:114] Feedback manager requires a model with a single signature inference. Disabling support for feedback tensors.\n",
      "I0000 00:00:1725880039.121879    6179 gl_context_egl.cc:85] Successfully initialized EGL. Major : 1 Minor: 5\n",
      "I0000 00:00:1725880039.135720    9974 gl_context.cc:357] GL version: 3.2 (OpenGL ES 3.2 NVIDIA 535.146.02), renderer: NVIDIA GeForce RTX 3060/PCIe/SSE2\n",
      "W0000 00:00:1725880039.138551    9962 inference_feedback_manager.cc:114] Feedback manager requires a model with a single signature inference. Disabling support for feedback tensors.\n",
      "W0000 00:00:1725880039.149159    9966 inference_feedback_manager.cc:114] Feedback manager requires a model with a single signature inference. Disabling support for feedback tensors.\n"
     ]
    },
    {
     "name": "stdout",
     "output_type": "stream",
     "text": [
      "INFO:     127.0.0.1:47100 - \"POST /eye-tracking HTTP/1.1\" 200 OK\n",
      "INFO:     127.0.0.1:47114 - \"POST /pose-estimate HTTP/1.1\" 200 OK\n",
      "INFO:     127.0.0.1:47126 - \"POST /eye-tracking HTTP/1.1\" 200 OK\n",
      "INFO:     127.0.0.1:47136 - \"POST /pose-estimate HTTP/1.1\" 200 OK\n",
      "INFO:     127.0.0.1:47150 - \"POST /eye-tracking HTTP/1.1\" 200 OK\n",
      "INFO:     127.0.0.1:47164 - \"POST /pose-estimate HTTP/1.1\" 200 OK\n"
     ]
    },
    {
     "name": "stderr",
     "output_type": "stream",
     "text": [
      "I0000 00:00:1725880039.217734    6179 gl_context_egl.cc:85] Successfully initialized EGL. Major : 1 Minor: 5\n",
      "I0000 00:00:1725880039.236661    9987 gl_context.cc:357] GL version: 3.2 (OpenGL ES 3.2 NVIDIA 535.146.02), renderer: NVIDIA GeForce RTX 3060/PCIe/SSE2\n",
      "W0000 00:00:1725880039.238246    9980 inference_feedback_manager.cc:114] Feedback manager requires a model with a single signature inference. Disabling support for feedback tensors.\n",
      "W0000 00:00:1725880039.244520    9985 inference_feedback_manager.cc:114] Feedback manager requires a model with a single signature inference. Disabling support for feedback tensors.\n",
      "I0000 00:00:1725880039.315408    6179 gl_context_egl.cc:85] Successfully initialized EGL. Major : 1 Minor: 5\n",
      "I0000 00:00:1725880039.335727   10000 gl_context.cc:357] GL version: 3.2 (OpenGL ES 3.2 NVIDIA 535.146.02), renderer: NVIDIA GeForce RTX 3060/PCIe/SSE2\n",
      "W0000 00:00:1725880039.337802    9995 inference_feedback_manager.cc:114] Feedback manager requires a model with a single signature inference. Disabling support for feedback tensors.\n",
      "W0000 00:00:1725880039.349178    9989 inference_feedback_manager.cc:114] Feedback manager requires a model with a single signature inference. Disabling support for feedback tensors.\n",
      "I0000 00:00:1725880039.421007    6179 gl_context_egl.cc:85] Successfully initialized EGL. Major : 1 Minor: 5\n",
      "I0000 00:00:1725880039.437489   10013 gl_context.cc:357] GL version: 3.2 (OpenGL ES 3.2 NVIDIA 535.146.02), renderer: NVIDIA GeForce RTX 3060/PCIe/SSE2\n"
     ]
    },
    {
     "name": "stdout",
     "output_type": "stream",
     "text": [
      "INFO:     127.0.0.1:47168 - \"POST /eye-tracking HTTP/1.1\" 200 OK\n",
      "INFO:     127.0.0.1:47182 - \"POST /pose-estimate HTTP/1.1\" 200 OK\n",
      "INFO:     127.0.0.1:47184 - \"POST /eye-tracking HTTP/1.1\" 200 OK\n",
      "INFO:     127.0.0.1:47198 - \"POST /pose-estimate HTTP/1.1\" 200 OK\n"
     ]
    },
    {
     "name": "stderr",
     "output_type": "stream",
     "text": [
      "W0000 00:00:1725880039.439880   10007 inference_feedback_manager.cc:114] Feedback manager requires a model with a single signature inference. Disabling support for feedback tensors.\n",
      "W0000 00:00:1725880039.452334   10008 inference_feedback_manager.cc:114] Feedback manager requires a model with a single signature inference. Disabling support for feedback tensors.\n",
      "I0000 00:00:1725880039.526477    6179 gl_context_egl.cc:85] Successfully initialized EGL. Major : 1 Minor: 5\n",
      "I0000 00:00:1725880039.537375   10026 gl_context.cc:357] GL version: 3.2 (OpenGL ES 3.2 NVIDIA 535.146.02), renderer: NVIDIA GeForce RTX 3060/PCIe/SSE2\n",
      "W0000 00:00:1725880039.540475   10019 inference_feedback_manager.cc:114] Feedback manager requires a model with a single signature inference. Disabling support for feedback tensors.\n",
      "W0000 00:00:1725880039.551540   10015 inference_feedback_manager.cc:114] Feedback manager requires a model with a single signature inference. Disabling support for feedback tensors.\n",
      "I0000 00:00:1725880039.624763    6179 gl_context_egl.cc:85] Successfully initialized EGL. Major : 1 Minor: 5\n",
      "I0000 00:00:1725880039.637315   10039 gl_context.cc:357] GL version: 3.2 (OpenGL ES 3.2 NVIDIA 535.146.02), renderer: NVIDIA GeForce RTX 3060/PCIe/SSE2\n",
      "W0000 00:00:1725880039.640087   10038 inference_feedback_manager.cc:114] Feedback manager requires a model with a single signature inference. Disabling support for feedback tensors.\n"
     ]
    },
    {
     "name": "stdout",
     "output_type": "stream",
     "text": [
      "INFO:     127.0.0.1:47212 - \"POST /eye-tracking HTTP/1.1\" 200 OK\n",
      "INFO:     127.0.0.1:47218 - \"POST /pose-estimate HTTP/1.1\" 200 OK\n",
      "INFO:     127.0.0.1:47224 - \"POST /eye-tracking HTTP/1.1\" 200 OK\n",
      "INFO:     127.0.0.1:47230 - \"POST /pose-estimate HTTP/1.1\" 200 OK\n"
     ]
    },
    {
     "name": "stderr",
     "output_type": "stream",
     "text": [
      "W0000 00:00:1725880039.651988   10030 inference_feedback_manager.cc:114] Feedback manager requires a model with a single signature inference. Disabling support for feedback tensors.\n",
      "I0000 00:00:1725880039.722863    6179 gl_context_egl.cc:85] Successfully initialized EGL. Major : 1 Minor: 5\n",
      "I0000 00:00:1725880039.735531   10053 gl_context.cc:357] GL version: 3.2 (OpenGL ES 3.2 NVIDIA 535.146.02), renderer: NVIDIA GeForce RTX 3060/PCIe/SSE2\n",
      "W0000 00:00:1725880039.738441   10041 inference_feedback_manager.cc:114] Feedback manager requires a model with a single signature inference. Disabling support for feedback tensors.\n",
      "W0000 00:00:1725880039.749552   10050 inference_feedback_manager.cc:114] Feedback manager requires a model with a single signature inference. Disabling support for feedback tensors.\n",
      "I0000 00:00:1725880039.822704    6179 gl_context_egl.cc:85] Successfully initialized EGL. Major : 1 Minor: 5\n",
      "I0000 00:00:1725880039.835586   10066 gl_context.cc:357] GL version: 3.2 (OpenGL ES 3.2 NVIDIA 535.146.02), renderer: NVIDIA GeForce RTX 3060/PCIe/SSE2\n",
      "W0000 00:00:1725880039.839285   10060 inference_feedback_manager.cc:114] Feedback manager requires a model with a single signature inference. Disabling support for feedback tensors.\n",
      "W0000 00:00:1725880039.850848   10064 inference_feedback_manager.cc:114] Feedback manager requires a model with a single signature inference. Disabling support for feedback tensors.\n"
     ]
    },
    {
     "name": "stdout",
     "output_type": "stream",
     "text": [
      "INFO:     127.0.0.1:47232 - \"POST /eye-tracking HTTP/1.1\" 200 OK\n",
      "INFO:     127.0.0.1:47248 - \"POST /pose-estimate HTTP/1.1\" 200 OK\n",
      "INFO:     127.0.0.1:47250 - \"POST /eye-tracking HTTP/1.1\" 200 OK\n",
      "INFO:     127.0.0.1:47256 - \"POST /pose-estimate HTTP/1.1\" 200 OK\n",
      "INFO:     127.0.0.1:47258 - \"POST /eye-tracking HTTP/1.1\" 200 OK\n",
      "INFO:     127.0.0.1:47266 - \"POST /pose-estimate HTTP/1.1\" 200 OK\n"
     ]
    },
    {
     "name": "stderr",
     "output_type": "stream",
     "text": [
      "I0000 00:00:1725880039.921218    6179 gl_context_egl.cc:85] Successfully initialized EGL. Major : 1 Minor: 5\n",
      "I0000 00:00:1725880039.935552   10079 gl_context.cc:357] GL version: 3.2 (OpenGL ES 3.2 NVIDIA 535.146.02), renderer: NVIDIA GeForce RTX 3060/PCIe/SSE2\n",
      "W0000 00:00:1725880039.937907   10070 inference_feedback_manager.cc:114] Feedback manager requires a model with a single signature inference. Disabling support for feedback tensors.\n",
      "W0000 00:00:1725880039.948865   10067 inference_feedback_manager.cc:114] Feedback manager requires a model with a single signature inference. Disabling support for feedback tensors.\n",
      "I0000 00:00:1725880040.024619    6179 gl_context_egl.cc:85] Successfully initialized EGL. Major : 1 Minor: 5\n",
      "I0000 00:00:1725880040.036627   10092 gl_context.cc:357] GL version: 3.2 (OpenGL ES 3.2 NVIDIA 535.146.02), renderer: NVIDIA GeForce RTX 3060/PCIe/SSE2\n",
      "W0000 00:00:1725880040.039214   10085 inference_feedback_manager.cc:114] Feedback manager requires a model with a single signature inference. Disabling support for feedback tensors.\n",
      "W0000 00:00:1725880040.048228   10082 inference_feedback_manager.cc:114] Feedback manager requires a model with a single signature inference. Disabling support for feedback tensors.\n"
     ]
    },
    {
     "name": "stdout",
     "output_type": "stream",
     "text": [
      "INFO:     127.0.0.1:47272 - \"POST /eye-tracking HTTP/1.1\" 200 OK\n",
      "INFO:     127.0.0.1:47282 - \"POST /pose-estimate HTTP/1.1\" 200 OK\n",
      "INFO:     127.0.0.1:47286 - \"POST /eye-tracking HTTP/1.1\" 200 OK\n",
      "INFO:     127.0.0.1:47288 - \"POST /pose-estimate HTTP/1.1\" 200 OK\n"
     ]
    },
    {
     "name": "stderr",
     "output_type": "stream",
     "text": [
      "I0000 00:00:1725880040.117521    6179 gl_context_egl.cc:85] Successfully initialized EGL. Major : 1 Minor: 5\n",
      "I0000 00:00:1725880040.142548   10105 gl_context.cc:357] GL version: 3.2 (OpenGL ES 3.2 NVIDIA 535.146.02), renderer: NVIDIA GeForce RTX 3060/PCIe/SSE2\n",
      "W0000 00:00:1725880040.146034   10101 inference_feedback_manager.cc:114] Feedback manager requires a model with a single signature inference. Disabling support for feedback tensors.\n",
      "W0000 00:00:1725880040.157434   10104 inference_feedback_manager.cc:114] Feedback manager requires a model with a single signature inference. Disabling support for feedback tensors.\n",
      "I0000 00:00:1725880040.228824    6179 gl_context_egl.cc:85] Successfully initialized EGL. Major : 1 Minor: 5\n",
      "I0000 00:00:1725880040.241040   10118 gl_context.cc:357] GL version: 3.2 (OpenGL ES 3.2 NVIDIA 535.146.02), renderer: NVIDIA GeForce RTX 3060/PCIe/SSE2\n",
      "W0000 00:00:1725880040.243771   10112 inference_feedback_manager.cc:114] Feedback manager requires a model with a single signature inference. Disabling support for feedback tensors.\n",
      "W0000 00:00:1725880040.254596   10110 inference_feedback_manager.cc:114] Feedback manager requires a model with a single signature inference. Disabling support for feedback tensors.\n",
      "I0000 00:00:1725880040.329485    6179 gl_context_egl.cc:85] Successfully initialized EGL. Major : 1 Minor: 5\n",
      "I0000 00:00:1725880040.341208   10131 gl_context.cc:357] GL version: 3.2 (OpenGL ES 3.2 NVIDIA 535.146.02), renderer: NVIDIA GeForce RTX 3060/PCIe/SSE2\n",
      "W0000 00:00:1725880040.344003   10120 inference_feedback_manager.cc:114] Feedback manager requires a model with a single signature inference. Disabling support for feedback tensors.\n"
     ]
    },
    {
     "name": "stdout",
     "output_type": "stream",
     "text": [
      "INFO:     127.0.0.1:47294 - \"POST /eye-tracking HTTP/1.1\" 200 OK\n",
      "INFO:     127.0.0.1:47310 - \"POST /pose-estimate HTTP/1.1\" 200 OK\n",
      "INFO:     127.0.0.1:47314 - \"POST /eye-tracking HTTP/1.1\" 200 OK\n",
      "INFO:     127.0.0.1:47316 - \"POST /pose-estimate HTTP/1.1\" 200 OK\n"
     ]
    },
    {
     "name": "stderr",
     "output_type": "stream",
     "text": [
      "W0000 00:00:1725880040.355473   10126 inference_feedback_manager.cc:114] Feedback manager requires a model with a single signature inference. Disabling support for feedback tensors.\n",
      "I0000 00:00:1725880040.430141    6179 gl_context_egl.cc:85] Successfully initialized EGL. Major : 1 Minor: 5\n",
      "I0000 00:00:1725880040.445631   10144 gl_context.cc:357] GL version: 3.2 (OpenGL ES 3.2 NVIDIA 535.146.02), renderer: NVIDIA GeForce RTX 3060/PCIe/SSE2\n",
      "W0000 00:00:1725880040.448524   10137 inference_feedback_manager.cc:114] Feedback manager requires a model with a single signature inference. Disabling support for feedback tensors.\n",
      "W0000 00:00:1725880040.459677   10136 inference_feedback_manager.cc:114] Feedback manager requires a model with a single signature inference. Disabling support for feedback tensors.\n",
      "I0000 00:00:1725880040.532298    6179 gl_context_egl.cc:85] Successfully initialized EGL. Major : 1 Minor: 5\n",
      "I0000 00:00:1725880040.543624   10157 gl_context.cc:357] GL version: 3.2 (OpenGL ES 3.2 NVIDIA 535.146.02), renderer: NVIDIA GeForce RTX 3060/PCIe/SSE2\n",
      "W0000 00:00:1725880040.545790   10154 inference_feedback_manager.cc:114] Feedback manager requires a model with a single signature inference. Disabling support for feedback tensors.\n"
     ]
    },
    {
     "name": "stdout",
     "output_type": "stream",
     "text": [
      "INFO:     127.0.0.1:47326 - \"POST /eye-tracking HTTP/1.1\" 200 OK\n",
      "INFO:     127.0.0.1:47332 - \"POST /pose-estimate HTTP/1.1\" 200 OK\n",
      "INFO:     127.0.0.1:47338 - \"POST /eye-tracking HTTP/1.1\" 200 OK\n",
      "INFO:     127.0.0.1:47344 - \"POST /pose-estimate HTTP/1.1\" 200 OK\n"
     ]
    },
    {
     "name": "stderr",
     "output_type": "stream",
     "text": [
      "W0000 00:00:1725880040.557772   10151 inference_feedback_manager.cc:114] Feedback manager requires a model with a single signature inference. Disabling support for feedback tensors.\n",
      "I0000 00:00:1725880040.628733    6179 gl_context_egl.cc:85] Successfully initialized EGL. Major : 1 Minor: 5\n",
      "I0000 00:00:1725880040.645361   10170 gl_context.cc:357] GL version: 3.2 (OpenGL ES 3.2 NVIDIA 535.146.02), renderer: NVIDIA GeForce RTX 3060/PCIe/SSE2\n",
      "W0000 00:00:1725880040.648065   10159 inference_feedback_manager.cc:114] Feedback manager requires a model with a single signature inference. Disabling support for feedback tensors.\n",
      "W0000 00:00:1725880040.659139   10161 inference_feedback_manager.cc:114] Feedback manager requires a model with a single signature inference. Disabling support for feedback tensors.\n",
      "I0000 00:00:1725880040.729802    6179 gl_context_egl.cc:85] Successfully initialized EGL. Major : 1 Minor: 5\n",
      "I0000 00:00:1725880040.741854   10183 gl_context.cc:357] GL version: 3.2 (OpenGL ES 3.2 NVIDIA 535.146.02), renderer: NVIDIA GeForce RTX 3060/PCIe/SSE2\n",
      "W0000 00:00:1725880040.743615   10176 inference_feedback_manager.cc:114] Feedback manager requires a model with a single signature inference. Disabling support for feedback tensors.\n",
      "W0000 00:00:1725880040.753953   10178 inference_feedback_manager.cc:114] Feedback manager requires a model with a single signature inference. Disabling support for feedback tensors.\n"
     ]
    },
    {
     "name": "stdout",
     "output_type": "stream",
     "text": [
      "INFO:     127.0.0.1:47354 - \"POST /eye-tracking HTTP/1.1\" 200 OK\n",
      "INFO:     127.0.0.1:47366 - \"POST /pose-estimate HTTP/1.1\" 200 OK\n",
      "INFO:     127.0.0.1:47372 - \"POST /eye-tracking HTTP/1.1\" 200 OK\n",
      "INFO:     127.0.0.1:47382 - \"POST /pose-estimate HTTP/1.1\" 200 OK\n",
      "INFO:     127.0.0.1:47392 - \"POST /eye-tracking HTTP/1.1\" 200 OK\n",
      "INFO:     127.0.0.1:47408 - \"POST /pose-estimate HTTP/1.1\" 200 OK\n"
     ]
    },
    {
     "name": "stderr",
     "output_type": "stream",
     "text": [
      "I0000 00:00:1725880040.825392    6179 gl_context_egl.cc:85] Successfully initialized EGL. Major : 1 Minor: 5\n",
      "I0000 00:00:1725880040.836921   10196 gl_context.cc:357] GL version: 3.2 (OpenGL ES 3.2 NVIDIA 535.146.02), renderer: NVIDIA GeForce RTX 3060/PCIe/SSE2\n",
      "W0000 00:00:1725880040.839584   10188 inference_feedback_manager.cc:114] Feedback manager requires a model with a single signature inference. Disabling support for feedback tensors.\n",
      "W0000 00:00:1725880040.850604   10186 inference_feedback_manager.cc:114] Feedback manager requires a model with a single signature inference. Disabling support for feedback tensors.\n",
      "I0000 00:00:1725880040.921287    6179 gl_context_egl.cc:85] Successfully initialized EGL. Major : 1 Minor: 5\n",
      "I0000 00:00:1725880040.936033   10209 gl_context.cc:357] GL version: 3.2 (OpenGL ES 3.2 NVIDIA 535.146.02), renderer: NVIDIA GeForce RTX 3060/PCIe/SSE2\n",
      "W0000 00:00:1725880040.938806   10197 inference_feedback_manager.cc:114] Feedback manager requires a model with a single signature inference. Disabling support for feedback tensors.\n",
      "W0000 00:00:1725880040.949543   10200 inference_feedback_manager.cc:114] Feedback manager requires a model with a single signature inference. Disabling support for feedback tensors.\n"
     ]
    },
    {
     "name": "stdout",
     "output_type": "stream",
     "text": [
      "INFO:     127.0.0.1:47424 - \"POST /eye-tracking HTTP/1.1\" 200 OK\n",
      "INFO:     127.0.0.1:47430 - \"POST /pose-estimate HTTP/1.1\" 200 OK\n",
      "INFO:     127.0.0.1:47446 - \"POST /eye-tracking HTTP/1.1\" 200 OK\n",
      "INFO:     127.0.0.1:47450 - \"POST /pose-estimate HTTP/1.1\" 200 OK\n"
     ]
    },
    {
     "name": "stderr",
     "output_type": "stream",
     "text": [
      "I0000 00:00:1725880041.019253    6179 gl_context_egl.cc:85] Successfully initialized EGL. Major : 1 Minor: 5\n",
      "I0000 00:00:1725880041.037532   10222 gl_context.cc:357] GL version: 3.2 (OpenGL ES 3.2 NVIDIA 535.146.02), renderer: NVIDIA GeForce RTX 3060/PCIe/SSE2\n",
      "W0000 00:00:1725880041.040362   10214 inference_feedback_manager.cc:114] Feedback manager requires a model with a single signature inference. Disabling support for feedback tensors.\n",
      "W0000 00:00:1725880041.050905   10210 inference_feedback_manager.cc:114] Feedback manager requires a model with a single signature inference. Disabling support for feedback tensors.\n",
      "I0000 00:00:1725880041.121398    6179 gl_context_egl.cc:85] Successfully initialized EGL. Major : 1 Minor: 5\n",
      "I0000 00:00:1725880041.136285   10235 gl_context.cc:357] GL version: 3.2 (OpenGL ES 3.2 NVIDIA 535.146.02), renderer: NVIDIA GeForce RTX 3060/PCIe/SSE2\n",
      "W0000 00:00:1725880041.139057   10226 inference_feedback_manager.cc:114] Feedback manager requires a model with a single signature inference. Disabling support for feedback tensors.\n",
      "W0000 00:00:1725880041.149034   10225 inference_feedback_manager.cc:114] Feedback manager requires a model with a single signature inference. Disabling support for feedback tensors.\n",
      "I0000 00:00:1725880041.219586    6179 gl_context_egl.cc:85] Successfully initialized EGL. Major : 1 Minor: 5\n",
      "I0000 00:00:1725880041.236386   10248 gl_context.cc:357] GL version: 3.2 (OpenGL ES 3.2 NVIDIA 535.146.02), renderer: NVIDIA GeForce RTX 3060/PCIe/SSE2\n"
     ]
    },
    {
     "name": "stdout",
     "output_type": "stream",
     "text": [
      "INFO:     127.0.0.1:47454 - \"POST /eye-tracking HTTP/1.1\" 200 OK\n",
      "INFO:     127.0.0.1:47466 - \"POST /pose-estimate HTTP/1.1\" 200 OK\n",
      "INFO:     127.0.0.1:47476 - \"POST /eye-tracking HTTP/1.1\" 200 OK\n",
      "INFO:     127.0.0.1:47480 - \"POST /pose-estimate HTTP/1.1\" 200 OK\n"
     ]
    },
    {
     "name": "stderr",
     "output_type": "stream",
     "text": [
      "W0000 00:00:1725880041.239169   10241 inference_feedback_manager.cc:114] Feedback manager requires a model with a single signature inference. Disabling support for feedback tensors.\n",
      "W0000 00:00:1725880041.250185   10245 inference_feedback_manager.cc:114] Feedback manager requires a model with a single signature inference. Disabling support for feedback tensors.\n",
      "I0000 00:00:1725880041.321037    6179 gl_context_egl.cc:85] Successfully initialized EGL. Major : 1 Minor: 5\n",
      "I0000 00:00:1725880041.336137   10261 gl_context.cc:357] GL version: 3.2 (OpenGL ES 3.2 NVIDIA 535.146.02), renderer: NVIDIA GeForce RTX 3060/PCIe/SSE2\n",
      "W0000 00:00:1725880041.339226   10251 inference_feedback_manager.cc:114] Feedback manager requires a model with a single signature inference. Disabling support for feedback tensors.\n",
      "W0000 00:00:1725880041.350565   10257 inference_feedback_manager.cc:114] Feedback manager requires a model with a single signature inference. Disabling support for feedback tensors.\n",
      "I0000 00:00:1725880041.421768    6179 gl_context_egl.cc:85] Successfully initialized EGL. Major : 1 Minor: 5\n",
      "I0000 00:00:1725880041.436003   10274 gl_context.cc:357] GL version: 3.2 (OpenGL ES 3.2 NVIDIA 535.146.02), renderer: NVIDIA GeForce RTX 3060/PCIe/SSE2\n",
      "W0000 00:00:1725880041.437633   10264 inference_feedback_manager.cc:114] Feedback manager requires a model with a single signature inference. Disabling support for feedback tensors.\n"
     ]
    },
    {
     "name": "stdout",
     "output_type": "stream",
     "text": [
      "INFO:     127.0.0.1:47492 - \"POST /eye-tracking HTTP/1.1\" 200 OK\n",
      "INFO:     127.0.0.1:47494 - \"POST /pose-estimate HTTP/1.1\" 200 OK\n",
      "INFO:     127.0.0.1:47500 - \"POST /eye-tracking HTTP/1.1\" 200 OK\n",
      "INFO:     127.0.0.1:47504 - \"POST /pose-estimate HTTP/1.1\" 200 OK\n"
     ]
    },
    {
     "name": "stderr",
     "output_type": "stream",
     "text": [
      "W0000 00:00:1725880041.444034   10265 inference_feedback_manager.cc:114] Feedback manager requires a model with a single signature inference. Disabling support for feedback tensors.\n",
      "I0000 00:00:1725880041.515047    6179 gl_context_egl.cc:85] Successfully initialized EGL. Major : 1 Minor: 5\n",
      "I0000 00:00:1725880041.536071   10287 gl_context.cc:357] GL version: 3.2 (OpenGL ES 3.2 NVIDIA 535.146.02), renderer: NVIDIA GeForce RTX 3060/PCIe/SSE2\n",
      "W0000 00:00:1725880041.538446   10277 inference_feedback_manager.cc:114] Feedback manager requires a model with a single signature inference. Disabling support for feedback tensors.\n",
      "W0000 00:00:1725880041.549831   10282 inference_feedback_manager.cc:114] Feedback manager requires a model with a single signature inference. Disabling support for feedback tensors.\n",
      "I0000 00:00:1725880041.619463    6179 gl_context_egl.cc:85] Successfully initialized EGL. Major : 1 Minor: 5\n",
      "I0000 00:00:1725880041.638416   10300 gl_context.cc:357] GL version: 3.2 (OpenGL ES 3.2 NVIDIA 535.146.02), renderer: NVIDIA GeForce RTX 3060/PCIe/SSE2\n",
      "W0000 00:00:1725880041.639906   10295 inference_feedback_manager.cc:114] Feedback manager requires a model with a single signature inference. Disabling support for feedback tensors.\n"
     ]
    },
    {
     "name": "stdout",
     "output_type": "stream",
     "text": [
      "INFO:     127.0.0.1:47518 - \"POST /eye-tracking HTTP/1.1\" 200 OK\n",
      "INFO:     127.0.0.1:47528 - \"POST /pose-estimate HTTP/1.1\" 200 OK\n",
      "INFO:     127.0.0.1:47530 - \"POST /eye-tracking HTTP/1.1\" 200 OK\n",
      "INFO:     127.0.0.1:47540 - \"POST /pose-estimate HTTP/1.1\" 200 OK\n"
     ]
    },
    {
     "name": "stderr",
     "output_type": "stream",
     "text": [
      "W0000 00:00:1725880041.652196   10290 inference_feedback_manager.cc:114] Feedback manager requires a model with a single signature inference. Disabling support for feedback tensors.\n",
      "I0000 00:00:1725880041.722826    6179 gl_context_egl.cc:85] Successfully initialized EGL. Major : 1 Minor: 5\n",
      "I0000 00:00:1725880041.735947   10314 gl_context.cc:357] GL version: 3.2 (OpenGL ES 3.2 NVIDIA 535.146.02), renderer: NVIDIA GeForce RTX 3060/PCIe/SSE2\n",
      "W0000 00:00:1725880041.738711   10305 inference_feedback_manager.cc:114] Feedback manager requires a model with a single signature inference. Disabling support for feedback tensors.\n",
      "W0000 00:00:1725880041.749606   10304 inference_feedback_manager.cc:114] Feedback manager requires a model with a single signature inference. Disabling support for feedback tensors.\n",
      "I0000 00:00:1725880041.816939    6179 gl_context_egl.cc:85] Successfully initialized EGL. Major : 1 Minor: 5\n",
      "I0000 00:00:1725880041.836422   10327 gl_context.cc:357] GL version: 3.2 (OpenGL ES 3.2 NVIDIA 535.146.02), renderer: NVIDIA GeForce RTX 3060/PCIe/SSE2\n",
      "W0000 00:00:1725880041.839201   10316 inference_feedback_manager.cc:114] Feedback manager requires a model with a single signature inference. Disabling support for feedback tensors.\n",
      "W0000 00:00:1725880041.849832   10317 inference_feedback_manager.cc:114] Feedback manager requires a model with a single signature inference. Disabling support for feedback tensors.\n"
     ]
    },
    {
     "name": "stdout",
     "output_type": "stream",
     "text": [
      "INFO:     127.0.0.1:47544 - \"POST /eye-tracking HTTP/1.1\" 200 OK\n",
      "INFO:     127.0.0.1:47550 - \"POST /pose-estimate HTTP/1.1\" 200 OK\n",
      "INFO:     127.0.0.1:47552 - \"POST /eye-tracking HTTP/1.1\" 200 OK\n",
      "INFO:     127.0.0.1:47562 - \"POST /pose-estimate HTTP/1.1\" 200 OK\n",
      "INFO:     127.0.0.1:47572 - \"POST /eye-tracking HTTP/1.1\" 200 OK\n",
      "INFO:     127.0.0.1:47586 - \"POST /pose-estimate HTTP/1.1\" 200 OK\n"
     ]
    },
    {
     "name": "stderr",
     "output_type": "stream",
     "text": [
      "I0000 00:00:1725880041.919715    6179 gl_context_egl.cc:85] Successfully initialized EGL. Major : 1 Minor: 5\n",
      "I0000 00:00:1725880041.938035   10340 gl_context.cc:357] GL version: 3.2 (OpenGL ES 3.2 NVIDIA 535.146.02), renderer: NVIDIA GeForce RTX 3060/PCIe/SSE2\n",
      "W0000 00:00:1725880041.940784   10328 inference_feedback_manager.cc:114] Feedback manager requires a model with a single signature inference. Disabling support for feedback tensors.\n",
      "W0000 00:00:1725880041.951399   10329 inference_feedback_manager.cc:114] Feedback manager requires a model with a single signature inference. Disabling support for feedback tensors.\n",
      "I0000 00:00:1725880042.022745    6179 gl_context_egl.cc:85] Successfully initialized EGL. Major : 1 Minor: 5\n",
      "I0000 00:00:1725880042.038515   10353 gl_context.cc:357] GL version: 3.2 (OpenGL ES 3.2 NVIDIA 535.146.02), renderer: NVIDIA GeForce RTX 3060/PCIe/SSE2\n",
      "W0000 00:00:1725880042.041141   10341 inference_feedback_manager.cc:114] Feedback manager requires a model with a single signature inference. Disabling support for feedback tensors.\n",
      "W0000 00:00:1725880042.052171   10345 inference_feedback_manager.cc:114] Feedback manager requires a model with a single signature inference. Disabling support for feedback tensors.\n",
      "I0000 00:00:1725880042.125470    6179 gl_context_egl.cc:85] Successfully initialized EGL. Major : 1 Minor: 5\n",
      "I0000 00:00:1725880042.137292   10367 gl_context.cc:357] GL version: 3.2 (OpenGL ES 3.2 NVIDIA 535.146.02), renderer: NVIDIA GeForce RTX 3060/PCIe/SSE2\n"
     ]
    },
    {
     "name": "stdout",
     "output_type": "stream",
     "text": [
      "INFO:     127.0.0.1:47596 - \"POST /eye-tracking HTTP/1.1\" 200 OK\n",
      "INFO:     127.0.0.1:47604 - \"POST /pose-estimate HTTP/1.1\" 200 OK\n",
      "INFO:     127.0.0.1:47616 - \"POST /eye-tracking HTTP/1.1\" 200 OK\n",
      "INFO:     127.0.0.1:47618 - \"POST /pose-estimate HTTP/1.1\" 200 OK\n"
     ]
    },
    {
     "name": "stderr",
     "output_type": "stream",
     "text": [
      "W0000 00:00:1725880042.140112   10360 inference_feedback_manager.cc:114] Feedback manager requires a model with a single signature inference. Disabling support for feedback tensors.\n",
      "W0000 00:00:1725880042.150898   10357 inference_feedback_manager.cc:114] Feedback manager requires a model with a single signature inference. Disabling support for feedback tensors.\n",
      "I0000 00:00:1725880042.222901    6179 gl_context_egl.cc:85] Successfully initialized EGL. Major : 1 Minor: 5\n",
      "I0000 00:00:1725880042.237522   10382 gl_context.cc:357] GL version: 3.2 (OpenGL ES 3.2 NVIDIA 535.146.02), renderer: NVIDIA GeForce RTX 3060/PCIe/SSE2\n",
      "W0000 00:00:1725880042.239215   10374 inference_feedback_manager.cc:114] Feedback manager requires a model with a single signature inference. Disabling support for feedback tensors.\n",
      "W0000 00:00:1725880042.245638   10371 inference_feedback_manager.cc:114] Feedback manager requires a model with a single signature inference. Disabling support for feedback tensors.\n",
      "I0000 00:00:1725880042.317220    6179 gl_context_egl.cc:85] Successfully initialized EGL. Major : 1 Minor: 5\n",
      "I0000 00:00:1725880042.336547   10395 gl_context.cc:357] GL version: 3.2 (OpenGL ES 3.2 NVIDIA 535.146.02), renderer: NVIDIA GeForce RTX 3060/PCIe/SSE2\n",
      "W0000 00:00:1725880042.339290   10385 inference_feedback_manager.cc:114] Feedback manager requires a model with a single signature inference. Disabling support for feedback tensors.\n"
     ]
    },
    {
     "name": "stdout",
     "output_type": "stream",
     "text": [
      "INFO:     127.0.0.1:47626 - \"POST /eye-tracking HTTP/1.1\" 200 OK\n",
      "INFO:     127.0.0.1:47634 - \"POST /pose-estimate HTTP/1.1\" 200 OK\n",
      "INFO:     127.0.0.1:47638 - \"POST /eye-tracking HTTP/1.1\" 200 OK\n",
      "INFO:     127.0.0.1:47648 - \"POST /pose-estimate HTTP/1.1\" 200 OK\n"
     ]
    },
    {
     "name": "stderr",
     "output_type": "stream",
     "text": [
      "W0000 00:00:1725880042.350580   10388 inference_feedback_manager.cc:114] Feedback manager requires a model with a single signature inference. Disabling support for feedback tensors.\n",
      "I0000 00:00:1725880042.422987    6179 gl_context_egl.cc:85] Successfully initialized EGL. Major : 1 Minor: 5\n",
      "I0000 00:00:1725880042.436781   10408 gl_context.cc:357] GL version: 3.2 (OpenGL ES 3.2 NVIDIA 535.146.02), renderer: NVIDIA GeForce RTX 3060/PCIe/SSE2\n",
      "W0000 00:00:1725880042.438927   10397 inference_feedback_manager.cc:114] Feedback manager requires a model with a single signature inference. Disabling support for feedback tensors.\n",
      "W0000 00:00:1725880042.450358   10399 inference_feedback_manager.cc:114] Feedback manager requires a model with a single signature inference. Disabling support for feedback tensors.\n",
      "I0000 00:00:1725880042.524425    6179 gl_context_egl.cc:85] Successfully initialized EGL. Major : 1 Minor: 5\n",
      "I0000 00:00:1725880042.536936   10423 gl_context.cc:357] GL version: 3.2 (OpenGL ES 3.2 NVIDIA 535.146.02), renderer: NVIDIA GeForce RTX 3060/PCIe/SSE2\n",
      "W0000 00:00:1725880042.539640   10421 inference_feedback_manager.cc:114] Feedback manager requires a model with a single signature inference. Disabling support for feedback tensors.\n",
      "W0000 00:00:1725880042.550451   10414 inference_feedback_manager.cc:114] Feedback manager requires a model with a single signature inference. Disabling support for feedback tensors.\n"
     ]
    },
    {
     "name": "stdout",
     "output_type": "stream",
     "text": [
      "INFO:     127.0.0.1:47664 - \"POST /eye-tracking HTTP/1.1\" 200 OK\n",
      "INFO:     127.0.0.1:47672 - \"POST /pose-estimate HTTP/1.1\" 200 OK\n",
      "INFO:     127.0.0.1:47684 - \"POST /eye-tracking HTTP/1.1\" 200 OK\n",
      "INFO:     127.0.0.1:47698 - \"POST /pose-estimate HTTP/1.1\" 200 OK\n",
      "INFO:     127.0.0.1:47710 - \"POST /eye-tracking HTTP/1.1\" 200 OK\n",
      "INFO:     127.0.0.1:47714 - \"POST /pose-estimate HTTP/1.1\" 200 OK\n"
     ]
    },
    {
     "name": "stderr",
     "output_type": "stream",
     "text": [
      "I0000 00:00:1725880042.620950    6179 gl_context_egl.cc:85] Successfully initialized EGL. Major : 1 Minor: 5\n",
      "I0000 00:00:1725880042.636321   10436 gl_context.cc:357] GL version: 3.2 (OpenGL ES 3.2 NVIDIA 535.146.02), renderer: NVIDIA GeForce RTX 3060/PCIe/SSE2\n",
      "W0000 00:00:1725880042.638639   10431 inference_feedback_manager.cc:114] Feedback manager requires a model with a single signature inference. Disabling support for feedback tensors.\n",
      "W0000 00:00:1725880042.650105   10432 inference_feedback_manager.cc:114] Feedback manager requires a model with a single signature inference. Disabling support for feedback tensors.\n",
      "I0000 00:00:1725880042.728295    6179 gl_context_egl.cc:85] Successfully initialized EGL. Major : 1 Minor: 5\n",
      "I0000 00:00:1725880042.740905   10450 gl_context.cc:357] GL version: 3.2 (OpenGL ES 3.2 NVIDIA 535.146.02), renderer: NVIDIA GeForce RTX 3060/PCIe/SSE2\n",
      "W0000 00:00:1725880042.744704   10443 inference_feedback_manager.cc:114] Feedback manager requires a model with a single signature inference. Disabling support for feedback tensors.\n",
      "W0000 00:00:1725880042.755879   10445 inference_feedback_manager.cc:114] Feedback manager requires a model with a single signature inference. Disabling support for feedback tensors.\n",
      "I0000 00:00:1725880042.827850    6179 gl_context_egl.cc:85] Successfully initialized EGL. Major : 1 Minor: 5\n"
     ]
    },
    {
     "name": "stdout",
     "output_type": "stream",
     "text": [
      "INFO:     127.0.0.1:47720 - \"POST /eye-tracking HTTP/1.1\" 200 OK\n",
      "INFO:     127.0.0.1:47736 - \"POST /pose-estimate HTTP/1.1\" 200 OK\n",
      "INFO:     127.0.0.1:47740 - \"POST /eye-tracking HTTP/1.1\" 200 OK\n",
      "INFO:     127.0.0.1:47752 - \"POST /pose-estimate HTTP/1.1\" 200 OK\n"
     ]
    },
    {
     "name": "stderr",
     "output_type": "stream",
     "text": [
      "I0000 00:00:1725880042.839871   10463 gl_context.cc:357] GL version: 3.2 (OpenGL ES 3.2 NVIDIA 535.146.02), renderer: NVIDIA GeForce RTX 3060/PCIe/SSE2\n",
      "W0000 00:00:1725880042.842507   10453 inference_feedback_manager.cc:114] Feedback manager requires a model with a single signature inference. Disabling support for feedback tensors.\n",
      "W0000 00:00:1725880042.853965   10456 inference_feedback_manager.cc:114] Feedback manager requires a model with a single signature inference. Disabling support for feedback tensors.\n",
      "I0000 00:00:1725880042.928503    6179 gl_context_egl.cc:85] Successfully initialized EGL. Major : 1 Minor: 5\n",
      "I0000 00:00:1725880042.941377   10476 gl_context.cc:357] GL version: 3.2 (OpenGL ES 3.2 NVIDIA 535.146.02), renderer: NVIDIA GeForce RTX 3060/PCIe/SSE2\n",
      "W0000 00:00:1725880042.942939   10468 inference_feedback_manager.cc:114] Feedback manager requires a model with a single signature inference. Disabling support for feedback tensors.\n",
      "W0000 00:00:1725880042.949237   10465 inference_feedback_manager.cc:114] Feedback manager requires a model with a single signature inference. Disabling support for feedback tensors.\n",
      "I0000 00:00:1725880043.021978    6179 gl_context_egl.cc:85] Successfully initialized EGL. Major : 1 Minor: 5\n",
      "I0000 00:00:1725880043.076244   10489 gl_context.cc:357] GL version: 3.2 (OpenGL ES 3.2 NVIDIA 535.146.02), renderer: NVIDIA GeForce RTX 3060/PCIe/SSE2\n"
     ]
    },
    {
     "name": "stdout",
     "output_type": "stream",
     "text": [
      "INFO:     127.0.0.1:47762 - \"POST /eye-tracking HTTP/1.1\" 200 OK\n",
      "INFO:     127.0.0.1:47766 - \"POST /pose-estimate HTTP/1.1\" 200 OK\n",
      "INFO:     127.0.0.1:47774 - \"POST /eye-tracking HTTP/1.1\" 200 OK\n",
      "INFO:     127.0.0.1:47786 - \"POST /pose-estimate HTTP/1.1\" 200 OK\n"
     ]
    },
    {
     "name": "stderr",
     "output_type": "stream",
     "text": [
      "W0000 00:00:1725880043.079491   10482 inference_feedback_manager.cc:114] Feedback manager requires a model with a single signature inference. Disabling support for feedback tensors.\n",
      "W0000 00:00:1725880043.090019   10479 inference_feedback_manager.cc:114] Feedback manager requires a model with a single signature inference. Disabling support for feedback tensors.\n",
      "I0000 00:00:1725880043.161403    6179 gl_context_egl.cc:85] Successfully initialized EGL. Major : 1 Minor: 5\n",
      "I0000 00:00:1725880043.173030   10502 gl_context.cc:357] GL version: 3.2 (OpenGL ES 3.2 NVIDIA 535.146.02), renderer: NVIDIA GeForce RTX 3060/PCIe/SSE2\n",
      "W0000 00:00:1725880043.175890   10493 inference_feedback_manager.cc:114] Feedback manager requires a model with a single signature inference. Disabling support for feedback tensors.\n",
      "W0000 00:00:1725880043.186471   10490 inference_feedback_manager.cc:114] Feedback manager requires a model with a single signature inference. Disabling support for feedback tensors.\n",
      "I0000 00:00:1725880043.258089    6179 gl_context_egl.cc:85] Successfully initialized EGL. Major : 1 Minor: 5\n",
      "I0000 00:00:1725880043.271568   10515 gl_context.cc:357] GL version: 3.2 (OpenGL ES 3.2 NVIDIA 535.146.02), renderer: NVIDIA GeForce RTX 3060/PCIe/SSE2\n",
      "W0000 00:00:1725880043.274426   10513 inference_feedback_manager.cc:114] Feedback manager requires a model with a single signature inference. Disabling support for feedback tensors.\n"
     ]
    },
    {
     "name": "stdout",
     "output_type": "stream",
     "text": [
      "INFO:     127.0.0.1:47792 - \"POST /eye-tracking HTTP/1.1\" 200 OK\n",
      "INFO:     127.0.0.1:47800 - \"POST /pose-estimate HTTP/1.1\" 200 OK\n",
      "INFO:     127.0.0.1:47812 - \"POST /eye-tracking HTTP/1.1\" 200 OK\n",
      "INFO:     127.0.0.1:47816 - \"POST /pose-estimate HTTP/1.1\" 200 OK\n"
     ]
    },
    {
     "name": "stderr",
     "output_type": "stream",
     "text": [
      "W0000 00:00:1725880043.285902   10505 inference_feedback_manager.cc:114] Feedback manager requires a model with a single signature inference. Disabling support for feedback tensors.\n",
      "I0000 00:00:1725880043.356945    6179 gl_context_egl.cc:85] Successfully initialized EGL. Major : 1 Minor: 5\n",
      "I0000 00:00:1725880043.369546   10528 gl_context.cc:357] GL version: 3.2 (OpenGL ES 3.2 NVIDIA 535.146.02), renderer: NVIDIA GeForce RTX 3060/PCIe/SSE2\n",
      "W0000 00:00:1725880043.372472   10521 inference_feedback_manager.cc:114] Feedback manager requires a model with a single signature inference. Disabling support for feedback tensors.\n",
      "W0000 00:00:1725880043.382908   10519 inference_feedback_manager.cc:114] Feedback manager requires a model with a single signature inference. Disabling support for feedback tensors.\n",
      "I0000 00:00:1725880043.458729    6179 gl_context_egl.cc:85] Successfully initialized EGL. Major : 1 Minor: 5\n",
      "I0000 00:00:1725880043.471567   10542 gl_context.cc:357] GL version: 3.2 (OpenGL ES 3.2 NVIDIA 535.146.02), renderer: NVIDIA GeForce RTX 3060/PCIe/SSE2\n",
      "W0000 00:00:1725880043.474581   10533 inference_feedback_manager.cc:114] Feedback manager requires a model with a single signature inference. Disabling support for feedback tensors.\n",
      "W0000 00:00:1725880043.486258   10541 inference_feedback_manager.cc:114] Feedback manager requires a model with a single signature inference. Disabling support for feedback tensors.\n"
     ]
    },
    {
     "name": "stdout",
     "output_type": "stream",
     "text": [
      "INFO:     127.0.0.1:47826 - \"POST /eye-tracking HTTP/1.1\" 200 OK\n",
      "INFO:     127.0.0.1:47842 - \"POST /pose-estimate HTTP/1.1\" 200 OK\n",
      "INFO:     127.0.0.1:47846 - \"POST /eye-tracking HTTP/1.1\" 200 OK\n",
      "INFO:     127.0.0.1:47862 - \"POST /pose-estimate HTTP/1.1\" 200 OK\n",
      "INFO:     127.0.0.1:47868 - \"POST /eye-tracking HTTP/1.1\" 200 OK\n",
      "INFO:     127.0.0.1:47878 - \"POST /pose-estimate HTTP/1.1\" 200 OK\n"
     ]
    },
    {
     "name": "stderr",
     "output_type": "stream",
     "text": [
      "I0000 00:00:1725880043.559030    6179 gl_context_egl.cc:85] Successfully initialized EGL. Major : 1 Minor: 5\n",
      "I0000 00:00:1725880043.571177   10555 gl_context.cc:357] GL version: 3.2 (OpenGL ES 3.2 NVIDIA 535.146.02), renderer: NVIDIA GeForce RTX 3060/PCIe/SSE2\n",
      "W0000 00:00:1725880043.573535   10543 inference_feedback_manager.cc:114] Feedback manager requires a model with a single signature inference. Disabling support for feedback tensors.\n",
      "W0000 00:00:1725880043.584549   10546 inference_feedback_manager.cc:114] Feedback manager requires a model with a single signature inference. Disabling support for feedback tensors.\n",
      "I0000 00:00:1725880043.659885    6179 gl_context_egl.cc:85] Successfully initialized EGL. Major : 1 Minor: 5\n",
      "I0000 00:00:1725880043.692584   10569 gl_context.cc:357] GL version: 3.2 (OpenGL ES 3.2 NVIDIA 535.146.02), renderer: NVIDIA GeForce RTX 3060/PCIe/SSE2\n",
      "W0000 00:00:1725880043.695402   10559 inference_feedback_manager.cc:114] Feedback manager requires a model with a single signature inference. Disabling support for feedback tensors.\n",
      "W0000 00:00:1725880043.702172   10567 inference_feedback_manager.cc:114] Feedback manager requires a model with a single signature inference. Disabling support for feedback tensors.\n",
      "I0000 00:00:1725880043.771842    6179 gl_context_egl.cc:85] Successfully initialized EGL. Major : 1 Minor: 5\n"
     ]
    },
    {
     "name": "stdout",
     "output_type": "stream",
     "text": [
      "INFO:     127.0.0.1:47892 - \"POST /eye-tracking HTTP/1.1\" 200 OK\n",
      "INFO:     127.0.0.1:47908 - \"POST /pose-estimate HTTP/1.1\" 200 OK\n",
      "INFO:     127.0.0.1:47912 - \"POST /eye-tracking HTTP/1.1\" 200 OK\n",
      "INFO:     127.0.0.1:47928 - \"POST /pose-estimate HTTP/1.1\" 200 OK\n"
     ]
    },
    {
     "name": "stderr",
     "output_type": "stream",
     "text": [
      "I0000 00:00:1725880043.792586   10582 gl_context.cc:357] GL version: 3.2 (OpenGL ES 3.2 NVIDIA 535.146.02), renderer: NVIDIA GeForce RTX 3060/PCIe/SSE2\n",
      "W0000 00:00:1725880043.795526   10577 inference_feedback_manager.cc:114] Feedback manager requires a model with a single signature inference. Disabling support for feedback tensors.\n",
      "W0000 00:00:1725880043.806627   10575 inference_feedback_manager.cc:114] Feedback manager requires a model with a single signature inference. Disabling support for feedback tensors.\n",
      "I0000 00:00:1725880043.877317    6179 gl_context_egl.cc:85] Successfully initialized EGL. Major : 1 Minor: 5\n",
      "I0000 00:00:1725880043.903551   10595 gl_context.cc:357] GL version: 3.2 (OpenGL ES 3.2 NVIDIA 535.146.02), renderer: NVIDIA GeForce RTX 3060/PCIe/SSE2\n",
      "W0000 00:00:1725880043.906303   10586 inference_feedback_manager.cc:114] Feedback manager requires a model with a single signature inference. Disabling support for feedback tensors.\n",
      "W0000 00:00:1725880043.917837   10590 inference_feedback_manager.cc:114] Feedback manager requires a model with a single signature inference. Disabling support for feedback tensors.\n"
     ]
    },
    {
     "name": "stdout",
     "output_type": "stream",
     "text": [
      "INFO:     127.0.0.1:47942 - \"POST /eye-tracking HTTP/1.1\" 200 OK\n",
      "INFO:     127.0.0.1:47946 - \"POST /pose-estimate HTTP/1.1\" 200 OK\n",
      "INFO:     127.0.0.1:47948 - \"POST /eye-tracking HTTP/1.1\" 200 OK\n",
      "INFO:     127.0.0.1:47952 - \"POST /pose-estimate HTTP/1.1\" 200 OK\n"
     ]
    },
    {
     "name": "stderr",
     "output_type": "stream",
     "text": [
      "I0000 00:00:1725880043.991221    6179 gl_context_egl.cc:85] Successfully initialized EGL. Major : 1 Minor: 5\n",
      "I0000 00:00:1725880044.003993   10608 gl_context.cc:357] GL version: 3.2 (OpenGL ES 3.2 NVIDIA 535.146.02), renderer: NVIDIA GeForce RTX 3060/PCIe/SSE2\n",
      "W0000 00:00:1725880044.006403   10602 inference_feedback_manager.cc:114] Feedback manager requires a model with a single signature inference. Disabling support for feedback tensors.\n",
      "W0000 00:00:1725880044.018276   10606 inference_feedback_manager.cc:114] Feedback manager requires a model with a single signature inference. Disabling support for feedback tensors.\n",
      "I0000 00:00:1725880044.089662    6179 gl_context_egl.cc:85] Successfully initialized EGL. Major : 1 Minor: 5\n",
      "I0000 00:00:1725880044.103320   10621 gl_context.cc:357] GL version: 3.2 (OpenGL ES 3.2 NVIDIA 535.146.02), renderer: NVIDIA GeForce RTX 3060/PCIe/SSE2\n",
      "W0000 00:00:1725880044.106171   10612 inference_feedback_manager.cc:114] Feedback manager requires a model with a single signature inference. Disabling support for feedback tensors.\n",
      "W0000 00:00:1725880044.117158   10618 inference_feedback_manager.cc:114] Feedback manager requires a model with a single signature inference. Disabling support for feedback tensors.\n",
      "I0000 00:00:1725880044.189104    6179 gl_context_egl.cc:85] Successfully initialized EGL. Major : 1 Minor: 5\n",
      "I0000 00:00:1725880044.205444   10634 gl_context.cc:357] GL version: 3.2 (OpenGL ES 3.2 NVIDIA 535.146.02), renderer: NVIDIA GeForce RTX 3060/PCIe/SSE2\n"
     ]
    },
    {
     "name": "stdout",
     "output_type": "stream",
     "text": [
      "INFO:     127.0.0.1:47966 - \"POST /eye-tracking HTTP/1.1\" 200 OK\n",
      "INFO:     127.0.0.1:47968 - \"POST /pose-estimate HTTP/1.1\" 200 OK\n",
      "INFO:     127.0.0.1:47978 - \"POST /eye-tracking HTTP/1.1\" 200 OK\n",
      "INFO:     127.0.0.1:47984 - \"POST /pose-estimate HTTP/1.1\" 200 OK\n"
     ]
    },
    {
     "name": "stderr",
     "output_type": "stream",
     "text": [
      "W0000 00:00:1725880044.208436   10624 inference_feedback_manager.cc:114] Feedback manager requires a model with a single signature inference. Disabling support for feedback tensors.\n",
      "W0000 00:00:1725880044.219931   10629 inference_feedback_manager.cc:114] Feedback manager requires a model with a single signature inference. Disabling support for feedback tensors.\n",
      "I0000 00:00:1725880044.292733    6179 gl_context_egl.cc:85] Successfully initialized EGL. Major : 1 Minor: 5\n",
      "I0000 00:00:1725880044.305583   10647 gl_context.cc:357] GL version: 3.2 (OpenGL ES 3.2 NVIDIA 535.146.02), renderer: NVIDIA GeForce RTX 3060/PCIe/SSE2\n",
      "W0000 00:00:1725880044.307045   10635 inference_feedback_manager.cc:114] Feedback manager requires a model with a single signature inference. Disabling support for feedback tensors.\n",
      "W0000 00:00:1725880044.318949   10637 inference_feedback_manager.cc:114] Feedback manager requires a model with a single signature inference. Disabling support for feedback tensors.\n",
      "I0000 00:00:1725880044.392213    6179 gl_context_egl.cc:85] Successfully initialized EGL. Major : 1 Minor: 5\n",
      "I0000 00:00:1725880044.405008   10660 gl_context.cc:357] GL version: 3.2 (OpenGL ES 3.2 NVIDIA 535.146.02), renderer: NVIDIA GeForce RTX 3060/PCIe/SSE2\n",
      "W0000 00:00:1725880044.406542   10658 inference_feedback_manager.cc:114] Feedback manager requires a model with a single signature inference. Disabling support for feedback tensors.\n"
     ]
    },
    {
     "name": "stdout",
     "output_type": "stream",
     "text": [
      "INFO:     127.0.0.1:47992 - \"POST /eye-tracking HTTP/1.1\" 200 OK\n",
      "INFO:     127.0.0.1:47996 - \"POST /pose-estimate HTTP/1.1\" 200 OK\n",
      "INFO:     127.0.0.1:48002 - \"POST /eye-tracking HTTP/1.1\" 200 OK\n",
      "INFO:     127.0.0.1:48004 - \"POST /pose-estimate HTTP/1.1\" 200 OK\n"
     ]
    },
    {
     "name": "stderr",
     "output_type": "stream",
     "text": [
      "W0000 00:00:1725880044.418965   10652 inference_feedback_manager.cc:114] Feedback manager requires a model with a single signature inference. Disabling support for feedback tensors.\n",
      "I0000 00:00:1725880044.490817    6179 gl_context_egl.cc:85] Successfully initialized EGL. Major : 1 Minor: 5\n",
      "I0000 00:00:1725880044.504978   10673 gl_context.cc:357] GL version: 3.2 (OpenGL ES 3.2 NVIDIA 535.146.02), renderer: NVIDIA GeForce RTX 3060/PCIe/SSE2\n",
      "W0000 00:00:1725880044.507026   10664 inference_feedback_manager.cc:114] Feedback manager requires a model with a single signature inference. Disabling support for feedback tensors.\n",
      "W0000 00:00:1725880044.513402   10662 inference_feedback_manager.cc:114] Feedback manager requires a model with a single signature inference. Disabling support for feedback tensors.\n",
      "I0000 00:00:1725880044.583873    6179 gl_context_egl.cc:85] Successfully initialized EGL. Major : 1 Minor: 5\n",
      "I0000 00:00:1725880044.605282   10686 gl_context.cc:357] GL version: 3.2 (OpenGL ES 3.2 NVIDIA 535.146.02), renderer: NVIDIA GeForce RTX 3060/PCIe/SSE2\n",
      "W0000 00:00:1725880044.607371   10684 inference_feedback_manager.cc:114] Feedback manager requires a model with a single signature inference. Disabling support for feedback tensors.\n",
      "W0000 00:00:1725880044.618726   10676 inference_feedback_manager.cc:114] Feedback manager requires a model with a single signature inference. Disabling support for feedback tensors.\n"
     ]
    },
    {
     "name": "stdout",
     "output_type": "stream",
     "text": [
      "INFO:     127.0.0.1:48006 - \"POST /eye-tracking HTTP/1.1\" 200 OK\n",
      "INFO:     127.0.0.1:48016 - \"POST /pose-estimate HTTP/1.1\" 200 OK\n",
      "INFO:     127.0.0.1:48032 - \"POST /eye-tracking HTTP/1.1\" 200 OK\n",
      "INFO:     127.0.0.1:48034 - \"POST /pose-estimate HTTP/1.1\" 200 OK\n",
      "INFO:     127.0.0.1:48042 - \"POST /eye-tracking HTTP/1.1\" 200 OK\n",
      "INFO:     127.0.0.1:48058 - \"POST /pose-estimate HTTP/1.1\" 200 OK\n"
     ]
    },
    {
     "name": "stderr",
     "output_type": "stream",
     "text": [
      "I0000 00:00:1725880044.688517    6179 gl_context_egl.cc:85] Successfully initialized EGL. Major : 1 Minor: 5\n",
      "I0000 00:00:1725880044.703297   10699 gl_context.cc:357] GL version: 3.2 (OpenGL ES 3.2 NVIDIA 535.146.02), renderer: NVIDIA GeForce RTX 3060/PCIe/SSE2\n",
      "W0000 00:00:1725880044.705092   10693 inference_feedback_manager.cc:114] Feedback manager requires a model with a single signature inference. Disabling support for feedback tensors.\n",
      "W0000 00:00:1725880044.716788   10690 inference_feedback_manager.cc:114] Feedback manager requires a model with a single signature inference. Disabling support for feedback tensors.\n",
      "I0000 00:00:1725880044.789349    6179 gl_context_egl.cc:85] Successfully initialized EGL. Major : 1 Minor: 5\n",
      "I0000 00:00:1725880044.803716   10712 gl_context.cc:357] GL version: 3.2 (OpenGL ES 3.2 NVIDIA 535.146.02), renderer: NVIDIA GeForce RTX 3060/PCIe/SSE2\n",
      "W0000 00:00:1725880044.806436   10703 inference_feedback_manager.cc:114] Feedback manager requires a model with a single signature inference. Disabling support for feedback tensors.\n",
      "W0000 00:00:1725880044.817331   10702 inference_feedback_manager.cc:114] Feedback manager requires a model with a single signature inference. Disabling support for feedback tensors.\n",
      "I0000 00:00:1725880044.892617    6179 gl_context_egl.cc:85] Successfully initialized EGL. Major : 1 Minor: 5\n"
     ]
    },
    {
     "name": "stdout",
     "output_type": "stream",
     "text": [
      "INFO:     127.0.0.1:48072 - \"POST /eye-tracking HTTP/1.1\" 200 OK\n",
      "INFO:     127.0.0.1:48084 - \"POST /pose-estimate HTTP/1.1\" 200 OK\n",
      "INFO:     127.0.0.1:48100 - \"POST /eye-tracking HTTP/1.1\" 200 OK\n",
      "INFO:     127.0.0.1:48116 - \"POST /pose-estimate HTTP/1.1\" 200 OK\n"
     ]
    },
    {
     "name": "stderr",
     "output_type": "stream",
     "text": [
      "I0000 00:00:1725880044.905711   10725 gl_context.cc:357] GL version: 3.2 (OpenGL ES 3.2 NVIDIA 535.146.02), renderer: NVIDIA GeForce RTX 3060/PCIe/SSE2\n",
      "W0000 00:00:1725880044.908695   10716 inference_feedback_manager.cc:114] Feedback manager requires a model with a single signature inference. Disabling support for feedback tensors.\n",
      "W0000 00:00:1725880044.921050   10720 inference_feedback_manager.cc:114] Feedback manager requires a model with a single signature inference. Disabling support for feedback tensors.\n",
      "I0000 00:00:1725880044.991498    6179 gl_context_egl.cc:85] Successfully initialized EGL. Major : 1 Minor: 5\n",
      "I0000 00:00:1725880045.004273   10738 gl_context.cc:357] GL version: 3.2 (OpenGL ES 3.2 NVIDIA 535.146.02), renderer: NVIDIA GeForce RTX 3060/PCIe/SSE2\n",
      "W0000 00:00:1725880045.007174   10730 inference_feedback_manager.cc:114] Feedback manager requires a model with a single signature inference. Disabling support for feedback tensors.\n",
      "W0000 00:00:1725880045.018234   10728 inference_feedback_manager.cc:114] Feedback manager requires a model with a single signature inference. Disabling support for feedback tensors.\n",
      "I0000 00:00:1725880045.088962    6179 gl_context_egl.cc:85] Successfully initialized EGL. Major : 1 Minor: 5\n",
      "I0000 00:00:1725880045.104116   10752 gl_context.cc:357] GL version: 3.2 (OpenGL ES 3.2 NVIDIA 535.146.02), renderer: NVIDIA GeForce RTX 3060/PCIe/SSE2\n",
      "W0000 00:00:1725880045.106724   10742 inference_feedback_manager.cc:114] Feedback manager requires a model with a single signature inference. Disabling support for feedback tensors.\n"
     ]
    },
    {
     "name": "stdout",
     "output_type": "stream",
     "text": [
      "INFO:     127.0.0.1:48126 - \"POST /eye-tracking HTTP/1.1\" 200 OK\n",
      "INFO:     127.0.0.1:48140 - \"POST /pose-estimate HTTP/1.1\" 200 OK\n",
      "INFO:     127.0.0.1:48148 - \"POST /eye-tracking HTTP/1.1\" 200 OK\n",
      "INFO:     127.0.0.1:48158 - \"POST /pose-estimate HTTP/1.1\" 200 OK\n"
     ]
    },
    {
     "name": "stderr",
     "output_type": "stream",
     "text": [
      "W0000 00:00:1725880045.117803   10743 inference_feedback_manager.cc:114] Feedback manager requires a model with a single signature inference. Disabling support for feedback tensors.\n",
      "I0000 00:00:1725880045.193084    6179 gl_context_egl.cc:85] Successfully initialized EGL. Major : 1 Minor: 5\n",
      "I0000 00:00:1725880045.207246   10765 gl_context.cc:357] GL version: 3.2 (OpenGL ES 3.2 NVIDIA 535.146.02), renderer: NVIDIA GeForce RTX 3060/PCIe/SSE2\n",
      "W0000 00:00:1725880045.208932   10756 inference_feedback_manager.cc:114] Feedback manager requires a model with a single signature inference. Disabling support for feedback tensors.\n",
      "W0000 00:00:1725880045.218129   10761 inference_feedback_manager.cc:114] Feedback manager requires a model with a single signature inference. Disabling support for feedback tensors.\n",
      "I0000 00:00:1725880045.289548    6179 gl_context_egl.cc:85] Successfully initialized EGL. Major : 1 Minor: 5\n",
      "I0000 00:00:1725880045.304289   10778 gl_context.cc:357] GL version: 3.2 (OpenGL ES 3.2 NVIDIA 535.146.02), renderer: NVIDIA GeForce RTX 3060/PCIe/SSE2\n",
      "W0000 00:00:1725880045.306934   10771 inference_feedback_manager.cc:114] Feedback manager requires a model with a single signature inference. Disabling support for feedback tensors.\n",
      "W0000 00:00:1725880045.318432   10768 inference_feedback_manager.cc:114] Feedback manager requires a model with a single signature inference. Disabling support for feedback tensors.\n"
     ]
    },
    {
     "name": "stdout",
     "output_type": "stream",
     "text": [
      "INFO:     127.0.0.1:48166 - \"POST /eye-tracking HTTP/1.1\" 200 OK\n",
      "INFO:     127.0.0.1:48168 - \"POST /pose-estimate HTTP/1.1\" 200 OK\n",
      "INFO:     127.0.0.1:48176 - \"POST /eye-tracking HTTP/1.1\" 200 OK\n",
      "INFO:     127.0.0.1:48186 - \"POST /pose-estimate HTTP/1.1\" 200 OK\n",
      "INFO:     127.0.0.1:48198 - \"POST /eye-tracking HTTP/1.1\" 200 OK\n",
      "INFO:     127.0.0.1:48214 - \"POST /pose-estimate HTTP/1.1\" 200 OK\n"
     ]
    },
    {
     "name": "stderr",
     "output_type": "stream",
     "text": [
      "I0000 00:00:1725880045.391202    6179 gl_context_egl.cc:85] Successfully initialized EGL. Major : 1 Minor: 5\n",
      "I0000 00:00:1725880045.405875   10791 gl_context.cc:357] GL version: 3.2 (OpenGL ES 3.2 NVIDIA 535.146.02), renderer: NVIDIA GeForce RTX 3060/PCIe/SSE2\n",
      "W0000 00:00:1725880045.408628   10786 inference_feedback_manager.cc:114] Feedback manager requires a model with a single signature inference. Disabling support for feedback tensors.\n",
      "W0000 00:00:1725880045.420306   10783 inference_feedback_manager.cc:114] Feedback manager requires a model with a single signature inference. Disabling support for feedback tensors.\n",
      "I0000 00:00:1725880045.493955    6179 gl_context_egl.cc:85] Successfully initialized EGL. Major : 1 Minor: 5\n",
      "I0000 00:00:1725880045.506983   10804 gl_context.cc:357] GL version: 3.2 (OpenGL ES 3.2 NVIDIA 535.146.02), renderer: NVIDIA GeForce RTX 3060/PCIe/SSE2\n",
      "W0000 00:00:1725880045.509359   10797 inference_feedback_manager.cc:114] Feedback manager requires a model with a single signature inference. Disabling support for feedback tensors.\n",
      "W0000 00:00:1725880045.520622   10795 inference_feedback_manager.cc:114] Feedback manager requires a model with a single signature inference. Disabling support for feedback tensors.\n",
      "I0000 00:00:1725880045.591197    6179 gl_context_egl.cc:85] Successfully initialized EGL. Major : 1 Minor: 5\n",
      "I0000 00:00:1725880045.605637   10817 gl_context.cc:357] GL version: 3.2 (OpenGL ES 3.2 NVIDIA 535.146.02), renderer: NVIDIA GeForce RTX 3060/PCIe/SSE2\n"
     ]
    },
    {
     "name": "stdout",
     "output_type": "stream",
     "text": [
      "INFO:     127.0.0.1:48224 - \"POST /eye-tracking HTTP/1.1\" 200 OK\n",
      "INFO:     127.0.0.1:48228 - \"POST /pose-estimate HTTP/1.1\" 200 OK\n",
      "INFO:     127.0.0.1:48240 - \"POST /eye-tracking HTTP/1.1\" 200 OK\n",
      "INFO:     127.0.0.1:48242 - \"POST /pose-estimate HTTP/1.1\" 200 OK\n"
     ]
    },
    {
     "name": "stderr",
     "output_type": "stream",
     "text": [
      "W0000 00:00:1725880045.608641   10808 inference_feedback_manager.cc:114] Feedback manager requires a model with a single signature inference. Disabling support for feedback tensors.\n",
      "W0000 00:00:1725880045.619759   10809 inference_feedback_manager.cc:114] Feedback manager requires a model with a single signature inference. Disabling support for feedback tensors.\n",
      "I0000 00:00:1725880045.695287    6179 gl_context_egl.cc:85] Successfully initialized EGL. Major : 1 Minor: 5\n",
      "I0000 00:00:1725880045.707984   10831 gl_context.cc:357] GL version: 3.2 (OpenGL ES 3.2 NVIDIA 535.146.02), renderer: NVIDIA GeForce RTX 3060/PCIe/SSE2\n",
      "W0000 00:00:1725880045.710476   10821 inference_feedback_manager.cc:114] Feedback manager requires a model with a single signature inference. Disabling support for feedback tensors.\n",
      "W0000 00:00:1725880045.721764   10820 inference_feedback_manager.cc:114] Feedback manager requires a model with a single signature inference. Disabling support for feedback tensors.\n",
      "I0000 00:00:1725880045.795028    6179 gl_context_egl.cc:85] Successfully initialized EGL. Major : 1 Minor: 5\n",
      "I0000 00:00:1725880045.808555   10844 gl_context.cc:357] GL version: 3.2 (OpenGL ES 3.2 NVIDIA 535.146.02), renderer: NVIDIA GeForce RTX 3060/PCIe/SSE2\n"
     ]
    },
    {
     "name": "stdout",
     "output_type": "stream",
     "text": [
      "INFO:     127.0.0.1:48248 - \"POST /eye-tracking HTTP/1.1\" 200 OK\n",
      "INFO:     127.0.0.1:48254 - \"POST /pose-estimate HTTP/1.1\" 200 OK\n",
      "INFO:     127.0.0.1:48268 - \"POST /eye-tracking HTTP/1.1\" 200 OK\n",
      "INFO:     127.0.0.1:48274 - \"POST /pose-estimate HTTP/1.1\" 200 OK\n"
     ]
    },
    {
     "name": "stderr",
     "output_type": "stream",
     "text": [
      "W0000 00:00:1725880045.811002   10836 inference_feedback_manager.cc:114] Feedback manager requires a model with a single signature inference. Disabling support for feedback tensors.\n",
      "W0000 00:00:1725880045.822666   10832 inference_feedback_manager.cc:114] Feedback manager requires a model with a single signature inference. Disabling support for feedback tensors.\n",
      "I0000 00:00:1725880045.893103    6179 gl_context_egl.cc:85] Successfully initialized EGL. Major : 1 Minor: 5\n",
      "I0000 00:00:1725880045.906357   10857 gl_context.cc:357] GL version: 3.2 (OpenGL ES 3.2 NVIDIA 535.146.02), renderer: NVIDIA GeForce RTX 3060/PCIe/SSE2\n",
      "W0000 00:00:1725880045.909147   10848 inference_feedback_manager.cc:114] Feedback manager requires a model with a single signature inference. Disabling support for feedback tensors.\n",
      "W0000 00:00:1725880045.915494   10856 inference_feedback_manager.cc:114] Feedback manager requires a model with a single signature inference. Disabling support for feedback tensors.\n",
      "I0000 00:00:1725880045.987862    6179 gl_context_egl.cc:85] Successfully initialized EGL. Major : 1 Minor: 5\n",
      "I0000 00:00:1725880046.005615   10870 gl_context.cc:357] GL version: 3.2 (OpenGL ES 3.2 NVIDIA 535.146.02), renderer: NVIDIA GeForce RTX 3060/PCIe/SSE2\n",
      "W0000 00:00:1725880046.007088   10859 inference_feedback_manager.cc:114] Feedback manager requires a model with a single signature inference. Disabling support for feedback tensors.\n"
     ]
    },
    {
     "name": "stdout",
     "output_type": "stream",
     "text": [
      "INFO:     127.0.0.1:48288 - \"POST /eye-tracking HTTP/1.1\" 200 OK\n",
      "INFO:     127.0.0.1:48290 - \"POST /pose-estimate HTTP/1.1\" 200 OK\n",
      "INFO:     127.0.0.1:48296 - \"POST /eye-tracking HTTP/1.1\" 200 OK\n",
      "INFO:     127.0.0.1:48312 - \"POST /pose-estimate HTTP/1.1\" 200 OK\n"
     ]
    },
    {
     "name": "stderr",
     "output_type": "stream",
     "text": [
      "W0000 00:00:1725880046.013756   10860 inference_feedback_manager.cc:114] Feedback manager requires a model with a single signature inference. Disabling support for feedback tensors.\n",
      "I0000 00:00:1725880046.084753    6179 gl_context_egl.cc:85] Successfully initialized EGL. Major : 1 Minor: 5\n",
      "I0000 00:00:1725880046.104473   10883 gl_context.cc:357] GL version: 3.2 (OpenGL ES 3.2 NVIDIA 535.146.02), renderer: NVIDIA GeForce RTX 3060/PCIe/SSE2\n",
      "W0000 00:00:1725880046.106111   10873 inference_feedback_manager.cc:114] Feedback manager requires a model with a single signature inference. Disabling support for feedback tensors.\n",
      "W0000 00:00:1725880046.118116   10871 inference_feedback_manager.cc:114] Feedback manager requires a model with a single signature inference. Disabling support for feedback tensors.\n",
      "I0000 00:00:1725880046.193189    6179 gl_context_egl.cc:85] Successfully initialized EGL. Major : 1 Minor: 5\n",
      "I0000 00:00:1725880046.206712   10896 gl_context.cc:357] GL version: 3.2 (OpenGL ES 3.2 NVIDIA 535.146.02), renderer: NVIDIA GeForce RTX 3060/PCIe/SSE2\n",
      "W0000 00:00:1725880046.209285   10887 inference_feedback_manager.cc:114] Feedback manager requires a model with a single signature inference. Disabling support for feedback tensors.\n"
     ]
    },
    {
     "name": "stdout",
     "output_type": "stream",
     "text": [
      "INFO:     127.0.0.1:48328 - \"POST /eye-tracking HTTP/1.1\" 200 OK\n",
      "INFO:     127.0.0.1:48330 - \"POST /pose-estimate HTTP/1.1\" 200 OK\n",
      "INFO:     127.0.0.1:48336 - \"POST /eye-tracking HTTP/1.1\" 200 OK\n",
      "INFO:     127.0.0.1:48340 - \"POST /pose-estimate HTTP/1.1\" 200 OK\n"
     ]
    },
    {
     "name": "stderr",
     "output_type": "stream",
     "text": [
      "W0000 00:00:1725880046.220692   10890 inference_feedback_manager.cc:114] Feedback manager requires a model with a single signature inference. Disabling support for feedback tensors.\n",
      "I0000 00:00:1725880046.291290    6179 gl_context_egl.cc:85] Successfully initialized EGL. Major : 1 Minor: 5\n",
      "I0000 00:00:1725880046.304664   10909 gl_context.cc:357] GL version: 3.2 (OpenGL ES 3.2 NVIDIA 535.146.02), renderer: NVIDIA GeForce RTX 3060/PCIe/SSE2\n",
      "W0000 00:00:1725880046.307386   10897 inference_feedback_manager.cc:114] Feedback manager requires a model with a single signature inference. Disabling support for feedback tensors.\n",
      "W0000 00:00:1725880046.318340   10900 inference_feedback_manager.cc:114] Feedback manager requires a model with a single signature inference. Disabling support for feedback tensors.\n",
      "I0000 00:00:1725880046.390883    6179 gl_context_egl.cc:85] Successfully initialized EGL. Major : 1 Minor: 5\n",
      "I0000 00:00:1725880046.404111   10922 gl_context.cc:357] GL version: 3.2 (OpenGL ES 3.2 NVIDIA 535.146.02), renderer: NVIDIA GeForce RTX 3060/PCIe/SSE2\n",
      "W0000 00:00:1725880046.407100   10915 inference_feedback_manager.cc:114] Feedback manager requires a model with a single signature inference. Disabling support for feedback tensors.\n",
      "W0000 00:00:1725880046.418853   10910 inference_feedback_manager.cc:114] Feedback manager requires a model with a single signature inference. Disabling support for feedback tensors.\n"
     ]
    },
    {
     "name": "stdout",
     "output_type": "stream",
     "text": [
      "INFO:     127.0.0.1:48348 - \"POST /eye-tracking HTTP/1.1\" 200 OK\n",
      "INFO:     127.0.0.1:48356 - \"POST /pose-estimate HTTP/1.1\" 200 OK\n",
      "INFO:     127.0.0.1:48364 - \"POST /eye-tracking HTTP/1.1\" 200 OK\n",
      "INFO:     127.0.0.1:48368 - \"POST /pose-estimate HTTP/1.1\" 200 OK\n",
      "INFO:     127.0.0.1:48380 - \"POST /eye-tracking HTTP/1.1\" 200 OK\n",
      "INFO:     127.0.0.1:48392 - \"POST /pose-estimate HTTP/1.1\" 200 OK\n"
     ]
    },
    {
     "name": "stderr",
     "output_type": "stream",
     "text": [
      "I0000 00:00:1725880046.491402    6179 gl_context_egl.cc:85] Successfully initialized EGL. Major : 1 Minor: 5\n",
      "I0000 00:00:1725880046.504997   10935 gl_context.cc:357] GL version: 3.2 (OpenGL ES 3.2 NVIDIA 535.146.02), renderer: NVIDIA GeForce RTX 3060/PCIe/SSE2\n",
      "W0000 00:00:1725880046.508566   10926 inference_feedback_manager.cc:114] Feedback manager requires a model with a single signature inference. Disabling support for feedback tensors.\n",
      "W0000 00:00:1725880046.520282   10927 inference_feedback_manager.cc:114] Feedback manager requires a model with a single signature inference. Disabling support for feedback tensors.\n",
      "I0000 00:00:1725880046.590190    6179 gl_context_egl.cc:85] Successfully initialized EGL. Major : 1 Minor: 5\n",
      "I0000 00:00:1725880046.604069   10949 gl_context.cc:357] GL version: 3.2 (OpenGL ES 3.2 NVIDIA 535.146.02), renderer: NVIDIA GeForce RTX 3060/PCIe/SSE2\n",
      "W0000 00:00:1725880046.606915   10947 inference_feedback_manager.cc:114] Feedback manager requires a model with a single signature inference. Disabling support for feedback tensors.\n",
      "W0000 00:00:1725880046.618297   10940 inference_feedback_manager.cc:114] Feedback manager requires a model with a single signature inference. Disabling support for feedback tensors.\n",
      "I0000 00:00:1725880046.693826    6179 gl_context_egl.cc:85] Successfully initialized EGL. Major : 1 Minor: 5\n"
     ]
    },
    {
     "name": "stdout",
     "output_type": "stream",
     "text": [
      "INFO:     127.0.0.1:48396 - \"POST /eye-tracking HTTP/1.1\" 200 OK\n",
      "INFO:     127.0.0.1:48412 - \"POST /pose-estimate HTTP/1.1\" 200 OK\n",
      "INFO:     127.0.0.1:48428 - \"POST /eye-tracking HTTP/1.1\" 200 OK\n",
      "INFO:     127.0.0.1:48436 - \"POST /pose-estimate HTTP/1.1\" 200 OK\n"
     ]
    },
    {
     "name": "stderr",
     "output_type": "stream",
     "text": [
      "I0000 00:00:1725880046.707262   10963 gl_context.cc:357] GL version: 3.2 (OpenGL ES 3.2 NVIDIA 535.146.02), renderer: NVIDIA GeForce RTX 3060/PCIe/SSE2\n",
      "W0000 00:00:1725880046.709290   10960 inference_feedback_manager.cc:114] Feedback manager requires a model with a single signature inference. Disabling support for feedback tensors.\n",
      "W0000 00:00:1725880046.721122   10961 inference_feedback_manager.cc:114] Feedback manager requires a model with a single signature inference. Disabling support for feedback tensors.\n",
      "I0000 00:00:1725880046.791695    6179 gl_context_egl.cc:85] Successfully initialized EGL. Major : 1 Minor: 5\n",
      "I0000 00:00:1725880046.805014   10976 gl_context.cc:357] GL version: 3.2 (OpenGL ES 3.2 NVIDIA 535.146.02), renderer: NVIDIA GeForce RTX 3060/PCIe/SSE2\n",
      "W0000 00:00:1725880046.806663   10966 inference_feedback_manager.cc:114] Feedback manager requires a model with a single signature inference. Disabling support for feedback tensors.\n",
      "W0000 00:00:1725880046.819044   10964 inference_feedback_manager.cc:114] Feedback manager requires a model with a single signature inference. Disabling support for feedback tensors.\n",
      "I0000 00:00:1725880046.888953    6179 gl_context_egl.cc:85] Successfully initialized EGL. Major : 1 Minor: 5\n",
      "I0000 00:00:1725880046.904541   10989 gl_context.cc:357] GL version: 3.2 (OpenGL ES 3.2 NVIDIA 535.146.02), renderer: NVIDIA GeForce RTX 3060/PCIe/SSE2\n",
      "W0000 00:00:1725880046.907344   10977 inference_feedback_manager.cc:114] Feedback manager requires a model with a single signature inference. Disabling support for feedback tensors.\n"
     ]
    },
    {
     "name": "stdout",
     "output_type": "stream",
     "text": [
      "INFO:     127.0.0.1:48438 - \"POST /eye-tracking HTTP/1.1\" 200 OK\n",
      "INFO:     127.0.0.1:48452 - \"POST /pose-estimate HTTP/1.1\" 200 OK\n",
      "INFO:     127.0.0.1:48456 - \"POST /eye-tracking HTTP/1.1\" 200 OK\n",
      "INFO:     127.0.0.1:48458 - \"POST /pose-estimate HTTP/1.1\" 200 OK\n"
     ]
    },
    {
     "name": "stderr",
     "output_type": "stream",
     "text": [
      "W0000 00:00:1725880046.918801   10979 inference_feedback_manager.cc:114] Feedback manager requires a model with a single signature inference. Disabling support for feedback tensors.\n",
      "I0000 00:00:1725880046.991438    6179 gl_context_egl.cc:85] Successfully initialized EGL. Major : 1 Minor: 5\n",
      "I0000 00:00:1725880047.025965   11002 gl_context.cc:357] GL version: 3.2 (OpenGL ES 3.2 NVIDIA 535.146.02), renderer: NVIDIA GeForce RTX 3060/PCIe/SSE2\n",
      "W0000 00:00:1725880047.028249   10992 inference_feedback_manager.cc:114] Feedback manager requires a model with a single signature inference. Disabling support for feedback tensors.\n",
      "W0000 00:00:1725880047.039465   10993 inference_feedback_manager.cc:114] Feedback manager requires a model with a single signature inference. Disabling support for feedback tensors.\n"
     ]
    },
    {
     "name": "stdout",
     "output_type": "stream",
     "text": [
      "INFO:     127.0.0.1:48468 - \"POST /eye-tracking HTTP/1.1\" 200 OK\n",
      "INFO:     127.0.0.1:48536 - \"POST /pose-estimate HTTP/1.1\" 200 OK\n",
      "INFO:     127.0.0.1:48550 - \"POST /eye-tracking HTTP/1.1\" 200 OK\n",
      "INFO:     127.0.0.1:48562 - \"POST /pose-estimate HTTP/1.1\" 200 OK\n"
     ]
    },
    {
     "name": "stderr",
     "output_type": "stream",
     "text": [
      "I0000 00:00:1725880047.111776    6179 gl_context_egl.cc:85] Successfully initialized EGL. Major : 1 Minor: 5\n",
      "I0000 00:00:1725880047.138353   11015 gl_context.cc:357] GL version: 3.2 (OpenGL ES 3.2 NVIDIA 535.146.02), renderer: NVIDIA GeForce RTX 3060/PCIe/SSE2\n",
      "W0000 00:00:1725880047.141706   11006 inference_feedback_manager.cc:114] Feedback manager requires a model with a single signature inference. Disabling support for feedback tensors.\n",
      "W0000 00:00:1725880047.152928   11010 inference_feedback_manager.cc:114] Feedback manager requires a model with a single signature inference. Disabling support for feedback tensors.\n",
      "I0000 00:00:1725880047.224102    6179 gl_context_egl.cc:85] Successfully initialized EGL. Major : 1 Minor: 5\n",
      "I0000 00:00:1725880047.237839   11028 gl_context.cc:357] GL version: 3.2 (OpenGL ES 3.2 NVIDIA 535.146.02), renderer: NVIDIA GeForce RTX 3060/PCIe/SSE2\n",
      "W0000 00:00:1725880047.241682   11021 inference_feedback_manager.cc:114] Feedback manager requires a model with a single signature inference. Disabling support for feedback tensors.\n",
      "W0000 00:00:1725880047.252711   11025 inference_feedback_manager.cc:114] Feedback manager requires a model with a single signature inference. Disabling support for feedback tensors.\n",
      "I0000 00:00:1725880047.323629    6179 gl_context_egl.cc:85] Successfully initialized EGL. Major : 1 Minor: 5\n",
      "I0000 00:00:1725880047.338542   11042 gl_context.cc:357] GL version: 3.2 (OpenGL ES 3.2 NVIDIA 535.146.02), renderer: NVIDIA GeForce RTX 3060/PCIe/SSE2\n"
     ]
    },
    {
     "name": "stdout",
     "output_type": "stream",
     "text": [
      "INFO:     127.0.0.1:48566 - \"POST /eye-tracking HTTP/1.1\" 200 OK\n",
      "INFO:     127.0.0.1:48572 - \"POST /pose-estimate HTTP/1.1\" 200 OK\n",
      "INFO:     127.0.0.1:48586 - \"POST /eye-tracking HTTP/1.1\" 200 OK\n",
      "INFO:     127.0.0.1:48592 - \"POST /pose-estimate HTTP/1.1\" 200 OK\n"
     ]
    },
    {
     "name": "stderr",
     "output_type": "stream",
     "text": [
      "W0000 00:00:1725880047.341294   11039 inference_feedback_manager.cc:114] Feedback manager requires a model with a single signature inference. Disabling support for feedback tensors.\n",
      "W0000 00:00:1725880047.352207   11034 inference_feedback_manager.cc:114] Feedback manager requires a model with a single signature inference. Disabling support for feedback tensors.\n",
      "I0000 00:00:1725880047.423412    6179 gl_context_egl.cc:85] Successfully initialized EGL. Major : 1 Minor: 5\n",
      "I0000 00:00:1725880047.437989   11056 gl_context.cc:357] GL version: 3.2 (OpenGL ES 3.2 NVIDIA 535.146.02), renderer: NVIDIA GeForce RTX 3060/PCIe/SSE2\n",
      "W0000 00:00:1725880047.439615   11046 inference_feedback_manager.cc:114] Feedback manager requires a model with a single signature inference. Disabling support for feedback tensors.\n",
      "W0000 00:00:1725880047.451433   11045 inference_feedback_manager.cc:114] Feedback manager requires a model with a single signature inference. Disabling support for feedback tensors.\n",
      "I0000 00:00:1725880047.520658    6179 gl_context_egl.cc:85] Successfully initialized EGL. Major : 1 Minor: 5\n",
      "I0000 00:00:1725880047.539415   11071 gl_context.cc:357] GL version: 3.2 (OpenGL ES 3.2 NVIDIA 535.146.02), renderer: NVIDIA GeForce RTX 3060/PCIe/SSE2\n",
      "W0000 00:00:1725880047.542213   11062 inference_feedback_manager.cc:114] Feedback manager requires a model with a single signature inference. Disabling support for feedback tensors.\n"
     ]
    },
    {
     "name": "stdout",
     "output_type": "stream",
     "text": [
      "INFO:     127.0.0.1:48594 - \"POST /eye-tracking HTTP/1.1\" 200 OK\n",
      "INFO:     127.0.0.1:48610 - \"POST /pose-estimate HTTP/1.1\" 200 OK\n",
      "INFO:     127.0.0.1:48620 - \"POST /eye-tracking HTTP/1.1\" 200 OK\n",
      "INFO:     127.0.0.1:48636 - \"POST /pose-estimate HTTP/1.1\" 200 OK\n"
     ]
    },
    {
     "name": "stderr",
     "output_type": "stream",
     "text": [
      "W0000 00:00:1725880047.549266   11059 inference_feedback_manager.cc:114] Feedback manager requires a model with a single signature inference. Disabling support for feedback tensors.\n",
      "I0000 00:00:1725880047.619983    6179 gl_context_egl.cc:85] Successfully initialized EGL. Major : 1 Minor: 5\n",
      "I0000 00:00:1725880047.637709   11084 gl_context.cc:357] GL version: 3.2 (OpenGL ES 3.2 NVIDIA 535.146.02), renderer: NVIDIA GeForce RTX 3060/PCIe/SSE2\n",
      "W0000 00:00:1725880047.639910   11078 inference_feedback_manager.cc:114] Feedback manager requires a model with a single signature inference. Disabling support for feedback tensors.\n",
      "W0000 00:00:1725880047.652024   11075 inference_feedback_manager.cc:114] Feedback manager requires a model with a single signature inference. Disabling support for feedback tensors.\n",
      "I0000 00:00:1725880047.725904    6179 gl_context_egl.cc:85] Successfully initialized EGL. Major : 1 Minor: 5\n",
      "I0000 00:00:1725880047.739975   11098 gl_context.cc:357] GL version: 3.2 (OpenGL ES 3.2 NVIDIA 535.146.02), renderer: NVIDIA GeForce RTX 3060/PCIe/SSE2\n",
      "W0000 00:00:1725880047.742442   11091 inference_feedback_manager.cc:114] Feedback manager requires a model with a single signature inference. Disabling support for feedback tensors.\n"
     ]
    },
    {
     "name": "stdout",
     "output_type": "stream",
     "text": [
      "INFO:     127.0.0.1:48638 - \"POST /eye-tracking HTTP/1.1\" 200 OK\n",
      "INFO:     127.0.0.1:48640 - \"POST /pose-estimate HTTP/1.1\" 200 OK\n",
      "INFO:     127.0.0.1:48648 - \"POST /eye-tracking HTTP/1.1\" 200 OK\n",
      "INFO:     127.0.0.1:48662 - \"POST /pose-estimate HTTP/1.1\" 200 OK\n"
     ]
    },
    {
     "name": "stderr",
     "output_type": "stream",
     "text": [
      "W0000 00:00:1725880047.754103   11095 inference_feedback_manager.cc:114] Feedback manager requires a model with a single signature inference. Disabling support for feedback tensors.\n",
      "I0000 00:00:1725880047.822737    6179 gl_context_egl.cc:85] Successfully initialized EGL. Major : 1 Minor: 5\n",
      "I0000 00:00:1725880047.844671   11111 gl_context.cc:357] GL version: 3.2 (OpenGL ES 3.2 NVIDIA 535.146.02), renderer: NVIDIA GeForce RTX 3060/PCIe/SSE2\n",
      "W0000 00:00:1725880047.848351   11110 inference_feedback_manager.cc:114] Feedback manager requires a model with a single signature inference. Disabling support for feedback tensors.\n",
      "W0000 00:00:1725880047.859066   11099 inference_feedback_manager.cc:114] Feedback manager requires a model with a single signature inference. Disabling support for feedback tensors.\n",
      "I0000 00:00:1725880047.928013    6179 gl_context_egl.cc:85] Successfully initialized EGL. Major : 1 Minor: 5\n",
      "I0000 00:00:1725880047.942765   11124 gl_context.cc:357] GL version: 3.2 (OpenGL ES 3.2 NVIDIA 535.146.02), renderer: NVIDIA GeForce RTX 3060/PCIe/SSE2\n",
      "W0000 00:00:1725880047.944917   11119 inference_feedback_manager.cc:114] Feedback manager requires a model with a single signature inference. Disabling support for feedback tensors.\n"
     ]
    },
    {
     "name": "stdout",
     "output_type": "stream",
     "text": [
      "INFO:     127.0.0.1:48674 - \"POST /eye-tracking HTTP/1.1\" 200 OK\n",
      "INFO:     127.0.0.1:48676 - \"POST /pose-estimate HTTP/1.1\" 200 OK\n",
      "INFO:     127.0.0.1:48688 - \"POST /eye-tracking HTTP/1.1\" 200 OK\n",
      "INFO:     127.0.0.1:48690 - \"POST /pose-estimate HTTP/1.1\" 200 OK\n"
     ]
    },
    {
     "name": "stderr",
     "output_type": "stream",
     "text": [
      "W0000 00:00:1725880047.956059   11116 inference_feedback_manager.cc:114] Feedback manager requires a model with a single signature inference. Disabling support for feedback tensors.\n",
      "I0000 00:00:1725880048.028025    6179 gl_context_egl.cc:85] Successfully initialized EGL. Major : 1 Minor: 5\n",
      "I0000 00:00:1725880048.042505   11137 gl_context.cc:357] GL version: 3.2 (OpenGL ES 3.2 NVIDIA 535.146.02), renderer: NVIDIA GeForce RTX 3060/PCIe/SSE2\n",
      "W0000 00:00:1725880048.045085   11135 inference_feedback_manager.cc:114] Feedback manager requires a model with a single signature inference. Disabling support for feedback tensors.\n",
      "W0000 00:00:1725880048.057100   11125 inference_feedback_manager.cc:114] Feedback manager requires a model with a single signature inference. Disabling support for feedback tensors.\n",
      "I0000 00:00:1725880048.129021    6179 gl_context_egl.cc:85] Successfully initialized EGL. Major : 1 Minor: 5\n",
      "I0000 00:00:1725880048.142376   11150 gl_context.cc:357] GL version: 3.2 (OpenGL ES 3.2 NVIDIA 535.146.02), renderer: NVIDIA GeForce RTX 3060/PCIe/SSE2\n",
      "W0000 00:00:1725880048.144615   11140 inference_feedback_manager.cc:114] Feedback manager requires a model with a single signature inference. Disabling support for feedback tensors.\n",
      "W0000 00:00:1725880048.155748   11141 inference_feedback_manager.cc:114] Feedback manager requires a model with a single signature inference. Disabling support for feedback tensors.\n"
     ]
    },
    {
     "name": "stdout",
     "output_type": "stream",
     "text": [
      "INFO:     127.0.0.1:48692 - \"POST /eye-tracking HTTP/1.1\" 200 OK\n",
      "INFO:     127.0.0.1:48706 - \"POST /pose-estimate HTTP/1.1\" 200 OK\n",
      "INFO:     127.0.0.1:48708 - \"POST /eye-tracking HTTP/1.1\" 200 OK\n",
      "INFO:     127.0.0.1:48710 - \"POST /pose-estimate HTTP/1.1\" 200 OK\n",
      "INFO:     127.0.0.1:48722 - \"POST /eye-tracking HTTP/1.1\" 200 OK\n",
      "INFO:     127.0.0.1:48728 - \"POST /pose-estimate HTTP/1.1\" 200 OK\n"
     ]
    },
    {
     "name": "stderr",
     "output_type": "stream",
     "text": [
      "I0000 00:00:1725880048.227903    6179 gl_context_egl.cc:85] Successfully initialized EGL. Major : 1 Minor: 5\n",
      "I0000 00:00:1725880048.243629   11163 gl_context.cc:357] GL version: 3.2 (OpenGL ES 3.2 NVIDIA 535.146.02), renderer: NVIDIA GeForce RTX 3060/PCIe/SSE2\n",
      "W0000 00:00:1725880048.245636   11153 inference_feedback_manager.cc:114] Feedback manager requires a model with a single signature inference. Disabling support for feedback tensors.\n",
      "W0000 00:00:1725880048.251719   11152 inference_feedback_manager.cc:114] Feedback manager requires a model with a single signature inference. Disabling support for feedback tensors.\n",
      "I0000 00:00:1725880048.324531    6179 gl_context_egl.cc:85] Successfully initialized EGL. Major : 1 Minor: 5\n",
      "I0000 00:00:1725880048.338441   11176 gl_context.cc:357] GL version: 3.2 (OpenGL ES 3.2 NVIDIA 535.146.02), renderer: NVIDIA GeForce RTX 3060/PCIe/SSE2\n",
      "W0000 00:00:1725880048.340421   11169 inference_feedback_manager.cc:114] Feedback manager requires a model with a single signature inference. Disabling support for feedback tensors.\n",
      "W0000 00:00:1725880048.352117   11168 inference_feedback_manager.cc:114] Feedback manager requires a model with a single signature inference. Disabling support for feedback tensors.\n",
      "I0000 00:00:1725880048.423775    6179 gl_context_egl.cc:85] Successfully initialized EGL. Major : 1 Minor: 5\n",
      "I0000 00:00:1725880048.438073   11189 gl_context.cc:357] GL version: 3.2 (OpenGL ES 3.2 NVIDIA 535.146.02), renderer: NVIDIA GeForce RTX 3060/PCIe/SSE2\n",
      "W0000 00:00:1725880048.440414   11180 inference_feedback_manager.cc:114] Feedback manager requires a model with a single signature inference. Disabling support for feedback tensors.\n"
     ]
    },
    {
     "name": "stdout",
     "output_type": "stream",
     "text": [
      "INFO:     127.0.0.1:48738 - \"POST /eye-tracking HTTP/1.1\" 200 OK\n",
      "INFO:     127.0.0.1:48744 - \"POST /pose-estimate HTTP/1.1\" 200 OK\n",
      "INFO:     127.0.0.1:48750 - \"POST /eye-tracking HTTP/1.1\" 200 OK\n",
      "INFO:     127.0.0.1:48752 - \"POST /pose-estimate HTTP/1.1\" 200 OK\n"
     ]
    },
    {
     "name": "stderr",
     "output_type": "stream",
     "text": [
      "W0000 00:00:1725880048.453459   11186 inference_feedback_manager.cc:114] Feedback manager requires a model with a single signature inference. Disabling support for feedback tensors.\n",
      "I0000 00:00:1725880048.525690    6179 gl_context_egl.cc:85] Successfully initialized EGL. Major : 1 Minor: 5\n",
      "I0000 00:00:1725880048.539620   11202 gl_context.cc:357] GL version: 3.2 (OpenGL ES 3.2 NVIDIA 535.146.02), renderer: NVIDIA GeForce RTX 3060/PCIe/SSE2\n",
      "W0000 00:00:1725880048.542432   11193 inference_feedback_manager.cc:114] Feedback manager requires a model with a single signature inference. Disabling support for feedback tensors.\n",
      "W0000 00:00:1725880048.552954   11191 inference_feedback_manager.cc:114] Feedback manager requires a model with a single signature inference. Disabling support for feedback tensors.\n",
      "I0000 00:00:1725880048.622745    6179 gl_context_egl.cc:85] Successfully initialized EGL. Major : 1 Minor: 5\n",
      "I0000 00:00:1725880048.638379   11215 gl_context.cc:357] GL version: 3.2 (OpenGL ES 3.2 NVIDIA 535.146.02), renderer: NVIDIA GeForce RTX 3060/PCIe/SSE2\n",
      "W0000 00:00:1725880048.640406   11207 inference_feedback_manager.cc:114] Feedback manager requires a model with a single signature inference. Disabling support for feedback tensors.\n",
      "W0000 00:00:1725880048.652119   11206 inference_feedback_manager.cc:114] Feedback manager requires a model with a single signature inference. Disabling support for feedback tensors.\n"
     ]
    },
    {
     "name": "stdout",
     "output_type": "stream",
     "text": [
      "INFO:     127.0.0.1:48760 - \"POST /eye-tracking HTTP/1.1\" 200 OK\n",
      "INFO:     127.0.0.1:48766 - \"POST /pose-estimate HTTP/1.1\" 200 OK\n",
      "INFO:     127.0.0.1:48772 - \"POST /eye-tracking HTTP/1.1\" 200 OK\n",
      "INFO:     127.0.0.1:48780 - \"POST /pose-estimate HTTP/1.1\" 200 OK\n",
      "INFO:     127.0.0.1:48784 - \"POST /eye-tracking HTTP/1.1\" 200 OK\n",
      "INFO:     127.0.0.1:48792 - \"POST /pose-estimate HTTP/1.1\" 200 OK\n"
     ]
    },
    {
     "name": "stderr",
     "output_type": "stream",
     "text": [
      "I0000 00:00:1725880048.723068    6179 gl_context_egl.cc:85] Successfully initialized EGL. Major : 1 Minor: 5\n",
      "I0000 00:00:1725880048.738827   11228 gl_context.cc:357] GL version: 3.2 (OpenGL ES 3.2 NVIDIA 535.146.02), renderer: NVIDIA GeForce RTX 3060/PCIe/SSE2\n",
      "W0000 00:00:1725880048.740986   11216 inference_feedback_manager.cc:114] Feedback manager requires a model with a single signature inference. Disabling support for feedback tensors.\n",
      "W0000 00:00:1725880048.752508   11220 inference_feedback_manager.cc:114] Feedback manager requires a model with a single signature inference. Disabling support for feedback tensors.\n",
      "I0000 00:00:1725880048.823497    6179 gl_context_egl.cc:85] Successfully initialized EGL. Major : 1 Minor: 5\n",
      "I0000 00:00:1725880048.845297   11241 gl_context.cc:357] GL version: 3.2 (OpenGL ES 3.2 NVIDIA 535.146.02), renderer: NVIDIA GeForce RTX 3060/PCIe/SSE2\n",
      "W0000 00:00:1725880048.848240   11236 inference_feedback_manager.cc:114] Feedback manager requires a model with a single signature inference. Disabling support for feedback tensors.\n",
      "W0000 00:00:1725880048.858833   11233 inference_feedback_manager.cc:114] Feedback manager requires a model with a single signature inference. Disabling support for feedback tensors.\n",
      "I0000 00:00:1725880048.929918    6179 gl_context_egl.cc:85] Successfully initialized EGL. Major : 1 Minor: 5\n"
     ]
    },
    {
     "name": "stdout",
     "output_type": "stream",
     "text": [
      "INFO:     127.0.0.1:48796 - \"POST /eye-tracking HTTP/1.1\" 200 OK\n",
      "INFO:     127.0.0.1:48812 - \"POST /pose-estimate HTTP/1.1\" 200 OK\n",
      "INFO:     127.0.0.1:48822 - \"POST /eye-tracking HTTP/1.1\" 200 OK\n",
      "INFO:     127.0.0.1:48826 - \"POST /pose-estimate HTTP/1.1\" 200 OK\n"
     ]
    },
    {
     "name": "stderr",
     "output_type": "stream",
     "text": [
      "I0000 00:00:1725880048.944187   11254 gl_context.cc:357] GL version: 3.2 (OpenGL ES 3.2 NVIDIA 535.146.02), renderer: NVIDIA GeForce RTX 3060/PCIe/SSE2\n",
      "W0000 00:00:1725880048.945945   11252 inference_feedback_manager.cc:114] Feedback manager requires a model with a single signature inference. Disabling support for feedback tensors.\n",
      "W0000 00:00:1725880048.956918   11253 inference_feedback_manager.cc:114] Feedback manager requires a model with a single signature inference. Disabling support for feedback tensors.\n",
      "I0000 00:00:1725880049.032823    6179 gl_context_egl.cc:85] Successfully initialized EGL. Major : 1 Minor: 5\n",
      "I0000 00:00:1725880049.059421   11267 gl_context.cc:357] GL version: 3.2 (OpenGL ES 3.2 NVIDIA 535.146.02), renderer: NVIDIA GeForce RTX 3060/PCIe/SSE2\n",
      "W0000 00:00:1725880049.062017   11258 inference_feedback_manager.cc:114] Feedback manager requires a model with a single signature inference. Disabling support for feedback tensors.\n",
      "W0000 00:00:1725880049.072958   11256 inference_feedback_manager.cc:114] Feedback manager requires a model with a single signature inference. Disabling support for feedback tensors.\n",
      "I0000 00:00:1725880049.143621    6179 gl_context_egl.cc:85] Successfully initialized EGL. Major : 1 Minor: 5\n",
      "I0000 00:00:1725880049.172522   11280 gl_context.cc:357] GL version: 3.2 (OpenGL ES 3.2 NVIDIA 535.146.02), renderer: NVIDIA GeForce RTX 3060/PCIe/SSE2\n"
     ]
    },
    {
     "name": "stdout",
     "output_type": "stream",
     "text": [
      "INFO:     127.0.0.1:48840 - \"POST /eye-tracking HTTP/1.1\" 200 OK\n",
      "INFO:     127.0.0.1:48848 - \"POST /pose-estimate HTTP/1.1\" 200 OK\n",
      "INFO:     127.0.0.1:48850 - \"POST /eye-tracking HTTP/1.1\" 200 OK\n",
      "INFO:     127.0.0.1:48854 - \"POST /pose-estimate HTTP/1.1\" 200 OK\n"
     ]
    },
    {
     "name": "stderr",
     "output_type": "stream",
     "text": [
      "W0000 00:00:1725880049.175473   11272 inference_feedback_manager.cc:114] Feedback manager requires a model with a single signature inference. Disabling support for feedback tensors.\n",
      "W0000 00:00:1725880049.186342   11269 inference_feedback_manager.cc:114] Feedback manager requires a model with a single signature inference. Disabling support for feedback tensors.\n",
      "I0000 00:00:1725880049.257232    6179 gl_context_egl.cc:85] Successfully initialized EGL. Major : 1 Minor: 5\n",
      "I0000 00:00:1725880049.273393   11293 gl_context.cc:357] GL version: 3.2 (OpenGL ES 3.2 NVIDIA 535.146.02), renderer: NVIDIA GeForce RTX 3060/PCIe/SSE2\n",
      "W0000 00:00:1725880049.275815   11288 inference_feedback_manager.cc:114] Feedback manager requires a model with a single signature inference. Disabling support for feedback tensors.\n",
      "W0000 00:00:1725880049.287025   11283 inference_feedback_manager.cc:114] Feedback manager requires a model with a single signature inference. Disabling support for feedback tensors.\n",
      "I0000 00:00:1725880049.359221    6179 gl_context_egl.cc:85] Successfully initialized EGL. Major : 1 Minor: 5\n",
      "I0000 00:00:1725880049.373971   11306 gl_context.cc:357] GL version: 3.2 (OpenGL ES 3.2 NVIDIA 535.146.02), renderer: NVIDIA GeForce RTX 3060/PCIe/SSE2\n",
      "W0000 00:00:1725880049.375483   11298 inference_feedback_manager.cc:114] Feedback manager requires a model with a single signature inference. Disabling support for feedback tensors.\n"
     ]
    },
    {
     "name": "stdout",
     "output_type": "stream",
     "text": [
      "INFO:     127.0.0.1:48868 - \"POST /eye-tracking HTTP/1.1\" 200 OK\n",
      "INFO:     127.0.0.1:48872 - \"POST /pose-estimate HTTP/1.1\" 200 OK\n",
      "INFO:     127.0.0.1:48882 - \"POST /eye-tracking HTTP/1.1\" 200 OK\n",
      "INFO:     127.0.0.1:48898 - \"POST /pose-estimate HTTP/1.1\" 200 OK\n"
     ]
    },
    {
     "name": "stderr",
     "output_type": "stream",
     "text": [
      "W0000 00:00:1725880049.387788   11295 inference_feedback_manager.cc:114] Feedback manager requires a model with a single signature inference. Disabling support for feedback tensors.\n",
      "I0000 00:00:1725880049.458682    6179 gl_context_egl.cc:85] Successfully initialized EGL. Major : 1 Minor: 5\n",
      "I0000 00:00:1725880049.492803   11319 gl_context.cc:357] GL version: 3.2 (OpenGL ES 3.2 NVIDIA 535.146.02), renderer: NVIDIA GeForce RTX 3060/PCIe/SSE2\n",
      "W0000 00:00:1725880049.495476   11307 inference_feedback_manager.cc:114] Feedback manager requires a model with a single signature inference. Disabling support for feedback tensors.\n",
      "W0000 00:00:1725880049.506161   11310 inference_feedback_manager.cc:114] Feedback manager requires a model with a single signature inference. Disabling support for feedback tensors.\n"
     ]
    },
    {
     "name": "stdout",
     "output_type": "stream",
     "text": [
      "INFO:     127.0.0.1:48900 - \"POST /eye-tracking HTTP/1.1\" 200 OK\n",
      "INFO:     127.0.0.1:48910 - \"POST /pose-estimate HTTP/1.1\" 200 OK\n",
      "INFO:     127.0.0.1:48922 - \"POST /eye-tracking HTTP/1.1\" 200 OK\n",
      "INFO:     127.0.0.1:48936 - \"POST /pose-estimate HTTP/1.1\" 200 OK\n"
     ]
    },
    {
     "name": "stderr",
     "output_type": "stream",
     "text": [
      "I0000 00:00:1725880049.580616    6179 gl_context_egl.cc:85] Successfully initialized EGL. Major : 1 Minor: 5\n",
      "I0000 00:00:1725880049.606982   11332 gl_context.cc:357] GL version: 3.2 (OpenGL ES 3.2 NVIDIA 535.146.02), renderer: NVIDIA GeForce RTX 3060/PCIe/SSE2\n",
      "W0000 00:00:1725880049.609952   11324 inference_feedback_manager.cc:114] Feedback manager requires a model with a single signature inference. Disabling support for feedback tensors.\n",
      "W0000 00:00:1725880049.621611   11328 inference_feedback_manager.cc:114] Feedback manager requires a model with a single signature inference. Disabling support for feedback tensors.\n",
      "I0000 00:00:1725880049.697513    6179 gl_context_egl.cc:85] Successfully initialized EGL. Major : 1 Minor: 5\n",
      "I0000 00:00:1725880049.712101   11346 gl_context.cc:357] GL version: 3.2 (OpenGL ES 3.2 NVIDIA 535.146.02), renderer: NVIDIA GeForce RTX 3060/PCIe/SSE2\n",
      "W0000 00:00:1725880049.713653   11342 inference_feedback_manager.cc:114] Feedback manager requires a model with a single signature inference. Disabling support for feedback tensors.\n",
      "W0000 00:00:1725880049.725327   11335 inference_feedback_manager.cc:114] Feedback manager requires a model with a single signature inference. Disabling support for feedback tensors.\n",
      "I0000 00:00:1725880049.795454    6179 gl_context_egl.cc:85] Successfully initialized EGL. Major : 1 Minor: 5\n"
     ]
    },
    {
     "name": "stdout",
     "output_type": "stream",
     "text": [
      "INFO:     127.0.0.1:48938 - \"POST /eye-tracking HTTP/1.1\" 200 OK\n",
      "INFO:     127.0.0.1:48948 - \"POST /pose-estimate HTTP/1.1\" 200 OK\n",
      "INFO:     127.0.0.1:48960 - \"POST /eye-tracking HTTP/1.1\" 200 OK\n",
      "INFO:     127.0.0.1:48970 - \"POST /pose-estimate HTTP/1.1\" 200 OK\n"
     ]
    },
    {
     "name": "stderr",
     "output_type": "stream",
     "text": [
      "I0000 00:00:1725880049.809377   11359 gl_context.cc:357] GL version: 3.2 (OpenGL ES 3.2 NVIDIA 535.146.02), renderer: NVIDIA GeForce RTX 3060/PCIe/SSE2\n",
      "W0000 00:00:1725880049.811108   11348 inference_feedback_manager.cc:114] Feedback manager requires a model with a single signature inference. Disabling support for feedback tensors.\n",
      "W0000 00:00:1725880049.823050   11350 inference_feedback_manager.cc:114] Feedback manager requires a model with a single signature inference. Disabling support for feedback tensors.\n",
      "I0000 00:00:1725880049.894637    6179 gl_context_egl.cc:85] Successfully initialized EGL. Major : 1 Minor: 5\n",
      "I0000 00:00:1725880049.909057   11372 gl_context.cc:357] GL version: 3.2 (OpenGL ES 3.2 NVIDIA 535.146.02), renderer: NVIDIA GeForce RTX 3060/PCIe/SSE2\n",
      "W0000 00:00:1725880049.911516   11365 inference_feedback_manager.cc:114] Feedback manager requires a model with a single signature inference. Disabling support for feedback tensors.\n",
      "W0000 00:00:1725880049.922413   11366 inference_feedback_manager.cc:114] Feedback manager requires a model with a single signature inference. Disabling support for feedback tensors.\n",
      "I0000 00:00:1725880049.991775    6179 gl_context_egl.cc:85] Successfully initialized EGL. Major : 1 Minor: 5\n",
      "I0000 00:00:1725880050.006507   11385 gl_context.cc:357] GL version: 3.2 (OpenGL ES 3.2 NVIDIA 535.146.02), renderer: NVIDIA GeForce RTX 3060/PCIe/SSE2\n",
      "W0000 00:00:1725880050.008284   11375 inference_feedback_manager.cc:114] Feedback manager requires a model with a single signature inference. Disabling support for feedback tensors.\n"
     ]
    },
    {
     "name": "stdout",
     "output_type": "stream",
     "text": [
      "INFO:     127.0.0.1:48986 - \"POST /eye-tracking HTTP/1.1\" 200 OK\n",
      "INFO:     127.0.0.1:48994 - \"POST /pose-estimate HTTP/1.1\" 200 OK\n",
      "INFO:     127.0.0.1:49004 - \"POST /eye-tracking HTTP/1.1\" 200 OK\n",
      "INFO:     127.0.0.1:49012 - \"POST /pose-estimate HTTP/1.1\" 200 OK\n"
     ]
    },
    {
     "name": "stderr",
     "output_type": "stream",
     "text": [
      "W0000 00:00:1725880050.019934   11376 inference_feedback_manager.cc:114] Feedback manager requires a model with a single signature inference. Disabling support for feedback tensors.\n",
      "I0000 00:00:1725880050.094509    6179 gl_context_egl.cc:85] Successfully initialized EGL. Major : 1 Minor: 5\n",
      "I0000 00:00:1725880050.108759   11399 gl_context.cc:357] GL version: 3.2 (OpenGL ES 3.2 NVIDIA 535.146.02), renderer: NVIDIA GeForce RTX 3060/PCIe/SSE2\n",
      "W0000 00:00:1725880050.111474   11389 inference_feedback_manager.cc:114] Feedback manager requires a model with a single signature inference. Disabling support for feedback tensors.\n",
      "W0000 00:00:1725880050.121799   11388 inference_feedback_manager.cc:114] Feedback manager requires a model with a single signature inference. Disabling support for feedback tensors.\n",
      "I0000 00:00:1725880050.192759    6179 gl_context_egl.cc:85] Successfully initialized EGL. Major : 1 Minor: 5\n",
      "I0000 00:00:1725880050.207819   11412 gl_context.cc:357] GL version: 3.2 (OpenGL ES 3.2 NVIDIA 535.146.02), renderer: NVIDIA GeForce RTX 3060/PCIe/SSE2\n",
      "W0000 00:00:1725880050.210725   11403 inference_feedback_manager.cc:114] Feedback manager requires a model with a single signature inference. Disabling support for feedback tensors.\n"
     ]
    },
    {
     "name": "stdout",
     "output_type": "stream",
     "text": [
      "INFO:     127.0.0.1:49018 - \"POST /eye-tracking HTTP/1.1\" 200 OK\n",
      "INFO:     127.0.0.1:49020 - \"POST /pose-estimate HTTP/1.1\" 200 OK\n",
      "INFO:     127.0.0.1:49028 - \"POST /eye-tracking HTTP/1.1\" 200 OK\n",
      "INFO:     127.0.0.1:49040 - \"POST /pose-estimate HTTP/1.1\" 200 OK\n"
     ]
    },
    {
     "name": "stderr",
     "output_type": "stream",
     "text": [
      "W0000 00:00:1725880050.222501   11410 inference_feedback_manager.cc:114] Feedback manager requires a model with a single signature inference. Disabling support for feedback tensors.\n",
      "I0000 00:00:1725880050.297446    6179 gl_context_egl.cc:85] Successfully initialized EGL. Major : 1 Minor: 5\n",
      "I0000 00:00:1725880050.326385   11425 gl_context.cc:357] GL version: 3.2 (OpenGL ES 3.2 NVIDIA 535.146.02), renderer: NVIDIA GeForce RTX 3060/PCIe/SSE2\n",
      "W0000 00:00:1725880050.329379   11413 inference_feedback_manager.cc:114] Feedback manager requires a model with a single signature inference. Disabling support for feedback tensors.\n",
      "W0000 00:00:1725880050.340494   11415 inference_feedback_manager.cc:114] Feedback manager requires a model with a single signature inference. Disabling support for feedback tensors.\n",
      "I0000 00:00:1725880050.410605    6179 gl_context_egl.cc:85] Successfully initialized EGL. Major : 1 Minor: 5\n",
      "I0000 00:00:1725880050.433655   11438 gl_context.cc:357] GL version: 3.2 (OpenGL ES 3.2 NVIDIA 535.146.02), renderer: NVIDIA GeForce RTX 3060/PCIe/SSE2\n"
     ]
    },
    {
     "name": "stdout",
     "output_type": "stream",
     "text": [
      "INFO:     127.0.0.1:49056 - \"POST /eye-tracking HTTP/1.1\" 200 OK\n",
      "INFO:     127.0.0.1:49062 - \"POST /pose-estimate HTTP/1.1\" 200 OK\n",
      "INFO:     127.0.0.1:49070 - \"POST /eye-tracking HTTP/1.1\" 200 OK\n",
      "INFO:     127.0.0.1:49078 - \"POST /pose-estimate HTTP/1.1\" 200 OK\n"
     ]
    },
    {
     "name": "stderr",
     "output_type": "stream",
     "text": [
      "W0000 00:00:1725880050.437458   11429 inference_feedback_manager.cc:114] Feedback manager requires a model with a single signature inference. Disabling support for feedback tensors.\n",
      "W0000 00:00:1725880050.443831   11437 inference_feedback_manager.cc:114] Feedback manager requires a model with a single signature inference. Disabling support for feedback tensors.\n",
      "I0000 00:00:1725880050.513426    6179 gl_context_egl.cc:85] Successfully initialized EGL. Major : 1 Minor: 5\n",
      "I0000 00:00:1725880050.539206   11451 gl_context.cc:357] GL version: 3.2 (OpenGL ES 3.2 NVIDIA 535.146.02), renderer: NVIDIA GeForce RTX 3060/PCIe/SSE2\n",
      "W0000 00:00:1725880050.540727   11442 inference_feedback_manager.cc:114] Feedback manager requires a model with a single signature inference. Disabling support for feedback tensors.\n",
      "W0000 00:00:1725880050.551682   11450 inference_feedback_manager.cc:114] Feedback manager requires a model with a single signature inference. Disabling support for feedback tensors.\n",
      "I0000 00:00:1725880050.625100    6179 gl_context_egl.cc:85] Successfully initialized EGL. Major : 1 Minor: 5\n",
      "I0000 00:00:1725880050.644672   11464 gl_context.cc:357] GL version: 3.2 (OpenGL ES 3.2 NVIDIA 535.146.02), renderer: NVIDIA GeForce RTX 3060/PCIe/SSE2\n"
     ]
    },
    {
     "name": "stdout",
     "output_type": "stream",
     "text": [
      "INFO:     127.0.0.1:49088 - \"POST /eye-tracking HTTP/1.1\" 200 OK\n",
      "INFO:     127.0.0.1:49102 - \"POST /pose-estimate HTTP/1.1\" 200 OK\n",
      "INFO:     127.0.0.1:49104 - \"POST /eye-tracking HTTP/1.1\" 200 OK\n",
      "INFO:     127.0.0.1:49116 - \"POST /pose-estimate HTTP/1.1\" 200 OK\n"
     ]
    },
    {
     "name": "stderr",
     "output_type": "stream",
     "text": [
      "W0000 00:00:1725880050.647474   11453 inference_feedback_manager.cc:114] Feedback manager requires a model with a single signature inference. Disabling support for feedback tensors.\n",
      "W0000 00:00:1725880050.658185   11455 inference_feedback_manager.cc:114] Feedback manager requires a model with a single signature inference. Disabling support for feedback tensors.\n",
      "I0000 00:00:1725880050.730339    6179 gl_context_egl.cc:85] Successfully initialized EGL. Major : 1 Minor: 5\n",
      "I0000 00:00:1725880050.745773   11477 gl_context.cc:357] GL version: 3.2 (OpenGL ES 3.2 NVIDIA 535.146.02), renderer: NVIDIA GeForce RTX 3060/PCIe/SSE2\n",
      "W0000 00:00:1725880050.748608   11470 inference_feedback_manager.cc:114] Feedback manager requires a model with a single signature inference. Disabling support for feedback tensors.\n",
      "W0000 00:00:1725880050.759246   11469 inference_feedback_manager.cc:114] Feedback manager requires a model with a single signature inference. Disabling support for feedback tensors.\n",
      "I0000 00:00:1725880050.830040    6179 gl_context_egl.cc:85] Successfully initialized EGL. Major : 1 Minor: 5\n",
      "I0000 00:00:1725880050.845521   11490 gl_context.cc:357] GL version: 3.2 (OpenGL ES 3.2 NVIDIA 535.146.02), renderer: NVIDIA GeForce RTX 3060/PCIe/SSE2\n",
      "W0000 00:00:1725880050.848158   11482 inference_feedback_manager.cc:114] Feedback manager requires a model with a single signature inference. Disabling support for feedback tensors.\n"
     ]
    },
    {
     "name": "stdout",
     "output_type": "stream",
     "text": [
      "INFO:     127.0.0.1:49120 - \"POST /eye-tracking HTTP/1.1\" 200 OK\n",
      "INFO:     127.0.0.1:49136 - \"POST /pose-estimate HTTP/1.1\" 200 OK\n",
      "INFO:     127.0.0.1:49152 - \"POST /eye-tracking HTTP/1.1\" 200 OK\n",
      "INFO:     127.0.0.1:49154 - \"POST /pose-estimate HTTP/1.1\" 200 OK\n"
     ]
    },
    {
     "name": "stderr",
     "output_type": "stream",
     "text": [
      "W0000 00:00:1725880050.859570   11480 inference_feedback_manager.cc:114] Feedback manager requires a model with a single signature inference. Disabling support for feedback tensors.\n",
      "I0000 00:00:1725880050.932742    6179 gl_context_egl.cc:85] Successfully initialized EGL. Major : 1 Minor: 5\n",
      "I0000 00:00:1725880050.959624   11503 gl_context.cc:357] GL version: 3.2 (OpenGL ES 3.2 NVIDIA 535.146.02), renderer: NVIDIA GeForce RTX 3060/PCIe/SSE2\n",
      "W0000 00:00:1725880050.962591   11495 inference_feedback_manager.cc:114] Feedback manager requires a model with a single signature inference. Disabling support for feedback tensors.\n",
      "W0000 00:00:1725880050.973472   11496 inference_feedback_manager.cc:114] Feedback manager requires a model with a single signature inference. Disabling support for feedback tensors.\n",
      "I0000 00:00:1725880051.045305    6179 gl_context_egl.cc:85] Successfully initialized EGL. Major : 1 Minor: 5\n"
     ]
    },
    {
     "name": "stdout",
     "output_type": "stream",
     "text": [
      "INFO:     127.0.0.1:49166 - \"POST /eye-tracking HTTP/1.1\" 200 OK\n",
      "INFO:     127.0.0.1:49178 - \"POST /pose-estimate HTTP/1.1\" 200 OK\n",
      "INFO:     127.0.0.1:49182 - \"POST /eye-tracking HTTP/1.1\" 200 OK\n",
      "INFO:     127.0.0.1:49190 - \"POST /pose-estimate HTTP/1.1\" 200 OK\n"
     ]
    },
    {
     "name": "stderr",
     "output_type": "stream",
     "text": [
      "I0000 00:00:1725880051.073533   11516 gl_context.cc:357] GL version: 3.2 (OpenGL ES 3.2 NVIDIA 535.146.02), renderer: NVIDIA GeForce RTX 3060/PCIe/SSE2\n",
      "W0000 00:00:1725880051.076727   11510 inference_feedback_manager.cc:114] Feedback manager requires a model with a single signature inference. Disabling support for feedback tensors.\n",
      "W0000 00:00:1725880051.087717   11505 inference_feedback_manager.cc:114] Feedback manager requires a model with a single signature inference. Disabling support for feedback tensors.\n",
      "I0000 00:00:1725880051.159565    6179 gl_context_egl.cc:85] Successfully initialized EGL. Major : 1 Minor: 5\n",
      "I0000 00:00:1725880051.174559   11529 gl_context.cc:357] GL version: 3.2 (OpenGL ES 3.2 NVIDIA 535.146.02), renderer: NVIDIA GeForce RTX 3060/PCIe/SSE2\n",
      "W0000 00:00:1725880051.176935   11527 inference_feedback_manager.cc:114] Feedback manager requires a model with a single signature inference. Disabling support for feedback tensors.\n",
      "W0000 00:00:1725880051.189141   11521 inference_feedback_manager.cc:114] Feedback manager requires a model with a single signature inference. Disabling support for feedback tensors.\n",
      "I0000 00:00:1725880051.264053    6179 gl_context_egl.cc:85] Successfully initialized EGL. Major : 1 Minor: 5\n",
      "I0000 00:00:1725880051.292768   11542 gl_context.cc:357] GL version: 3.2 (OpenGL ES 3.2 NVIDIA 535.146.02), renderer: NVIDIA GeForce RTX 3060/PCIe/SSE2\n"
     ]
    },
    {
     "name": "stdout",
     "output_type": "stream",
     "text": [
      "INFO:     127.0.0.1:49202 - \"POST /eye-tracking HTTP/1.1\" 200 OK\n",
      "INFO:     127.0.0.1:49210 - \"POST /pose-estimate HTTP/1.1\" 200 OK\n",
      "INFO:     127.0.0.1:49212 - \"POST /eye-tracking HTTP/1.1\" 200 OK\n",
      "INFO:     127.0.0.1:49228 - \"POST /pose-estimate HTTP/1.1\" 200 OK\n"
     ]
    },
    {
     "name": "stderr",
     "output_type": "stream",
     "text": [
      "W0000 00:00:1725880051.295059   11540 inference_feedback_manager.cc:114] Feedback manager requires a model with a single signature inference. Disabling support for feedback tensors.\n",
      "W0000 00:00:1725880051.301588   11533 inference_feedback_manager.cc:114] Feedback manager requires a model with a single signature inference. Disabling support for feedback tensors.\n",
      "I0000 00:00:1725880051.374917    6179 gl_context_egl.cc:85] Successfully initialized EGL. Major : 1 Minor: 5\n",
      "I0000 00:00:1725880051.401153   11555 gl_context.cc:357] GL version: 3.2 (OpenGL ES 3.2 NVIDIA 535.146.02), renderer: NVIDIA GeForce RTX 3060/PCIe/SSE2\n",
      "W0000 00:00:1725880051.404000   11551 inference_feedback_manager.cc:114] Feedback manager requires a model with a single signature inference. Disabling support for feedback tensors.\n",
      "W0000 00:00:1725880051.415323   11546 inference_feedback_manager.cc:114] Feedback manager requires a model with a single signature inference. Disabling support for feedback tensors.\n"
     ]
    },
    {
     "name": "stdout",
     "output_type": "stream",
     "text": [
      "INFO:     127.0.0.1:49232 - \"POST /eye-tracking HTTP/1.1\" 200 OK\n",
      "INFO:     127.0.0.1:49240 - \"POST /pose-estimate HTTP/1.1\" 200 OK\n",
      "INFO:     127.0.0.1:49252 - \"POST /eye-tracking HTTP/1.1\" 200 OK\n",
      "INFO:     127.0.0.1:49256 - \"POST /pose-estimate HTTP/1.1\" 200 OK\n"
     ]
    },
    {
     "name": "stderr",
     "output_type": "stream",
     "text": [
      "I0000 00:00:1725880051.490333    6179 gl_context_egl.cc:85] Successfully initialized EGL. Major : 1 Minor: 5\n",
      "I0000 00:00:1725880051.505472   11568 gl_context.cc:357] GL version: 3.2 (OpenGL ES 3.2 NVIDIA 535.146.02), renderer: NVIDIA GeForce RTX 3060/PCIe/SSE2\n",
      "W0000 00:00:1725880051.508513   11563 inference_feedback_manager.cc:114] Feedback manager requires a model with a single signature inference. Disabling support for feedback tensors.\n",
      "W0000 00:00:1725880051.520078   11556 inference_feedback_manager.cc:114] Feedback manager requires a model with a single signature inference. Disabling support for feedback tensors.\n",
      "I0000 00:00:1725880051.592051    6179 gl_context_egl.cc:85] Successfully initialized EGL. Major : 1 Minor: 5\n",
      "I0000 00:00:1725880051.608535   11581 gl_context.cc:357] GL version: 3.2 (OpenGL ES 3.2 NVIDIA 535.146.02), renderer: NVIDIA GeForce RTX 3060/PCIe/SSE2\n",
      "W0000 00:00:1725880051.611700   11573 inference_feedback_manager.cc:114] Feedback manager requires a model with a single signature inference. Disabling support for feedback tensors.\n",
      "W0000 00:00:1725880051.622814   11570 inference_feedback_manager.cc:114] Feedback manager requires a model with a single signature inference. Disabling support for feedback tensors.\n"
     ]
    },
    {
     "name": "stdout",
     "output_type": "stream",
     "text": [
      "INFO:     127.0.0.1:49268 - \"POST /eye-tracking HTTP/1.1\" 200 OK\n",
      "INFO:     127.0.0.1:49276 - \"POST /pose-estimate HTTP/1.1\" 200 OK\n",
      "INFO:     127.0.0.1:49288 - \"POST /eye-tracking HTTP/1.1\" 200 OK\n",
      "INFO:     127.0.0.1:49302 - \"POST /pose-estimate HTTP/1.1\" 200 OK\n"
     ]
    },
    {
     "name": "stderr",
     "output_type": "stream",
     "text": [
      "I0000 00:00:1725880051.695909    6179 gl_context_egl.cc:85] Successfully initialized EGL. Major : 1 Minor: 5\n",
      "I0000 00:00:1725880051.726281   11595 gl_context.cc:357] GL version: 3.2 (OpenGL ES 3.2 NVIDIA 535.146.02), renderer: NVIDIA GeForce RTX 3060/PCIe/SSE2\n",
      "W0000 00:00:1725880051.729088   11584 inference_feedback_manager.cc:114] Feedback manager requires a model with a single signature inference. Disabling support for feedback tensors.\n",
      "W0000 00:00:1725880051.740440   11592 inference_feedback_manager.cc:114] Feedback manager requires a model with a single signature inference. Disabling support for feedback tensors.\n",
      "I0000 00:00:1725880051.811439    6179 gl_context_egl.cc:85] Successfully initialized EGL. Major : 1 Minor: 5\n",
      "I0000 00:00:1725880051.840209   11608 gl_context.cc:357] GL version: 3.2 (OpenGL ES 3.2 NVIDIA 535.146.02), renderer: NVIDIA GeForce RTX 3060/PCIe/SSE2\n",
      "W0000 00:00:1725880051.843246   11598 inference_feedback_manager.cc:114] Feedback manager requires a model with a single signature inference. Disabling support for feedback tensors.\n",
      "W0000 00:00:1725880051.854025   11597 inference_feedback_manager.cc:114] Feedback manager requires a model with a single signature inference. Disabling support for feedback tensors.\n"
     ]
    },
    {
     "name": "stdout",
     "output_type": "stream",
     "text": [
      "INFO:     127.0.0.1:49318 - \"POST /eye-tracking HTTP/1.1\" 200 OK\n",
      "INFO:     127.0.0.1:49332 - \"POST /pose-estimate HTTP/1.1\" 200 OK\n",
      "INFO:     127.0.0.1:49346 - \"POST /eye-tracking HTTP/1.1\" 200 OK\n",
      "INFO:     127.0.0.1:49356 - \"POST /pose-estimate HTTP/1.1\" 200 OK\n"
     ]
    },
    {
     "name": "stderr",
     "output_type": "stream",
     "text": [
      "I0000 00:00:1725880051.925119    6179 gl_context_egl.cc:85] Successfully initialized EGL. Major : 1 Minor: 5\n",
      "I0000 00:00:1725880051.940080   11621 gl_context.cc:357] GL version: 3.2 (OpenGL ES 3.2 NVIDIA 535.146.02), renderer: NVIDIA GeForce RTX 3060/PCIe/SSE2\n",
      "W0000 00:00:1725880051.943201   11616 inference_feedback_manager.cc:114] Feedback manager requires a model with a single signature inference. Disabling support for feedback tensors.\n",
      "W0000 00:00:1725880051.953218   11610 inference_feedback_manager.cc:114] Feedback manager requires a model with a single signature inference. Disabling support for feedback tensors.\n",
      "I0000 00:00:1725880052.025192    6179 gl_context_egl.cc:85] Successfully initialized EGL. Major : 1 Minor: 5\n",
      "I0000 00:00:1725880052.044068   11634 gl_context.cc:357] GL version: 3.2 (OpenGL ES 3.2 NVIDIA 535.146.02), renderer: NVIDIA GeForce RTX 3060/PCIe/SSE2\n",
      "W0000 00:00:1725880052.045747   11625 inference_feedback_manager.cc:114] Feedback manager requires a model with a single signature inference. Disabling support for feedback tensors.\n",
      "W0000 00:00:1725880052.057318   11631 inference_feedback_manager.cc:114] Feedback manager requires a model with a single signature inference. Disabling support for feedback tensors.\n"
     ]
    },
    {
     "name": "stdout",
     "output_type": "stream",
     "text": [
      "INFO:     127.0.0.1:49364 - \"POST /eye-tracking HTTP/1.1\" 200 OK\n",
      "INFO:     127.0.0.1:49380 - \"POST /pose-estimate HTTP/1.1\" 200 OK\n",
      "INFO:     127.0.0.1:49396 - \"POST /eye-tracking HTTP/1.1\" 200 OK\n",
      "INFO:     127.0.0.1:49412 - \"POST /pose-estimate HTTP/1.1\" 200 OK\n"
     ]
    },
    {
     "name": "stderr",
     "output_type": "stream",
     "text": [
      "I0000 00:00:1725880052.129337    6179 gl_context_egl.cc:85] Successfully initialized EGL. Major : 1 Minor: 5\n",
      "I0000 00:00:1725880052.144959   11647 gl_context.cc:357] GL version: 3.2 (OpenGL ES 3.2 NVIDIA 535.146.02), renderer: NVIDIA GeForce RTX 3060/PCIe/SSE2\n",
      "W0000 00:00:1725880052.147796   11646 inference_feedback_manager.cc:114] Feedback manager requires a model with a single signature inference. Disabling support for feedback tensors.\n",
      "W0000 00:00:1725880052.158250   11641 inference_feedback_manager.cc:114] Feedback manager requires a model with a single signature inference. Disabling support for feedback tensors.\n",
      "I0000 00:00:1725880052.230824    6179 gl_context_egl.cc:85] Successfully initialized EGL. Major : 1 Minor: 5\n",
      "I0000 00:00:1725880052.259987   11660 gl_context.cc:357] GL version: 3.2 (OpenGL ES 3.2 NVIDIA 535.146.02), renderer: NVIDIA GeForce RTX 3060/PCIe/SSE2\n",
      "W0000 00:00:1725880052.262441   11651 inference_feedback_manager.cc:114] Feedback manager requires a model with a single signature inference. Disabling support for feedback tensors.\n",
      "W0000 00:00:1725880052.274004   11649 inference_feedback_manager.cc:114] Feedback manager requires a model with a single signature inference. Disabling support for feedback tensors.\n",
      "I0000 00:00:1725880052.345027    6179 gl_context_egl.cc:85] Successfully initialized EGL. Major : 1 Minor: 5\n"
     ]
    },
    {
     "name": "stdout",
     "output_type": "stream",
     "text": [
      "INFO:     127.0.0.1:49416 - \"POST /eye-tracking HTTP/1.1\" 200 OK\n",
      "INFO:     127.0.0.1:49430 - \"POST /pose-estimate HTTP/1.1\" 200 OK\n",
      "INFO:     127.0.0.1:49436 - \"POST /eye-tracking HTTP/1.1\" 200 OK\n",
      "INFO:     127.0.0.1:49448 - \"POST /pose-estimate HTTP/1.1\" 200 OK\n"
     ]
    },
    {
     "name": "stderr",
     "output_type": "stream",
     "text": [
      "I0000 00:00:1725880052.372778   11673 gl_context.cc:357] GL version: 3.2 (OpenGL ES 3.2 NVIDIA 535.146.02), renderer: NVIDIA GeForce RTX 3060/PCIe/SSE2\n",
      "W0000 00:00:1725880052.375643   11663 inference_feedback_manager.cc:114] Feedback manager requires a model with a single signature inference. Disabling support for feedback tensors.\n",
      "W0000 00:00:1725880052.387303   11664 inference_feedback_manager.cc:114] Feedback manager requires a model with a single signature inference. Disabling support for feedback tensors.\n",
      "I0000 00:00:1725880052.460060    6179 gl_context_egl.cc:85] Successfully initialized EGL. Major : 1 Minor: 5\n",
      "I0000 00:00:1725880052.476443   11686 gl_context.cc:357] GL version: 3.2 (OpenGL ES 3.2 NVIDIA 535.146.02), renderer: NVIDIA GeForce RTX 3060/PCIe/SSE2\n",
      "W0000 00:00:1725880052.478777   11677 inference_feedback_manager.cc:114] Feedback manager requires a model with a single signature inference. Disabling support for feedback tensors.\n",
      "W0000 00:00:1725880052.489823   11676 inference_feedback_manager.cc:114] Feedback manager requires a model with a single signature inference. Disabling support for feedback tensors.\n"
     ]
    },
    {
     "name": "stdout",
     "output_type": "stream",
     "text": [
      "INFO:     127.0.0.1:49464 - \"POST /eye-tracking HTTP/1.1\" 200 OK\n",
      "INFO:     127.0.0.1:49474 - \"POST /pose-estimate HTTP/1.1\" 200 OK\n",
      "INFO:     127.0.0.1:49486 - \"POST /eye-tracking HTTP/1.1\" 200 OK\n",
      "INFO:     127.0.0.1:49500 - \"POST /pose-estimate HTTP/1.1\" 200 OK\n"
     ]
    },
    {
     "name": "stderr",
     "output_type": "stream",
     "text": [
      "I0000 00:00:1725880052.560051    6179 gl_context_egl.cc:85] Successfully initialized EGL. Major : 1 Minor: 5\n",
      "I0000 00:00:1725880052.574999   11699 gl_context.cc:357] GL version: 3.2 (OpenGL ES 3.2 NVIDIA 535.146.02), renderer: NVIDIA GeForce RTX 3060/PCIe/SSE2\n",
      "W0000 00:00:1725880052.578058   11690 inference_feedback_manager.cc:114] Feedback manager requires a model with a single signature inference. Disabling support for feedback tensors.\n",
      "W0000 00:00:1725880052.589036   11691 inference_feedback_manager.cc:114] Feedback manager requires a model with a single signature inference. Disabling support for feedback tensors.\n",
      "I0000 00:00:1725880052.661655    6179 gl_context_egl.cc:85] Successfully initialized EGL. Major : 1 Minor: 5\n",
      "I0000 00:00:1725880052.692925   11713 gl_context.cc:357] GL version: 3.2 (OpenGL ES 3.2 NVIDIA 535.146.02), renderer: NVIDIA GeForce RTX 3060/PCIe/SSE2\n",
      "W0000 00:00:1725880052.695774   11705 inference_feedback_manager.cc:114] Feedback manager requires a model with a single signature inference. Disabling support for feedback tensors.\n",
      "W0000 00:00:1725880052.708593   11702 inference_feedback_manager.cc:114] Feedback manager requires a model with a single signature inference. Disabling support for feedback tensors.\n"
     ]
    },
    {
     "name": "stdout",
     "output_type": "stream",
     "text": [
      "INFO:     127.0.0.1:49508 - \"POST /eye-tracking HTTP/1.1\" 200 OK\n",
      "INFO:     127.0.0.1:49518 - \"POST /pose-estimate HTTP/1.1\" 200 OK\n",
      "INFO:     127.0.0.1:49522 - \"POST /eye-tracking HTTP/1.1\" 200 OK\n",
      "INFO:     127.0.0.1:49526 - \"POST /pose-estimate HTTP/1.1\" 200 OK\n"
     ]
    },
    {
     "name": "stderr",
     "output_type": "stream",
     "text": [
      "I0000 00:00:1725880052.782842    6179 gl_context_egl.cc:85] Successfully initialized EGL. Major : 1 Minor: 5\n",
      "I0000 00:00:1725880052.807423   11729 gl_context.cc:357] GL version: 3.2 (OpenGL ES 3.2 NVIDIA 535.146.02), renderer: NVIDIA GeForce RTX 3060/PCIe/SSE2\n",
      "W0000 00:00:1725880052.809677   11720 inference_feedback_manager.cc:114] Feedback manager requires a model with a single signature inference. Disabling support for feedback tensors.\n",
      "W0000 00:00:1725880052.820881   11718 inference_feedback_manager.cc:114] Feedback manager requires a model with a single signature inference. Disabling support for feedback tensors.\n",
      "I0000 00:00:1725880052.889326    6179 gl_context_egl.cc:85] Successfully initialized EGL. Major : 1 Minor: 5\n",
      "I0000 00:00:1725880052.906307   11742 gl_context.cc:357] GL version: 3.2 (OpenGL ES 3.2 NVIDIA 535.146.02), renderer: NVIDIA GeForce RTX 3060/PCIe/SSE2\n",
      "W0000 00:00:1725880052.907895   11739 inference_feedback_manager.cc:114] Feedback manager requires a model with a single signature inference. Disabling support for feedback tensors.\n",
      "W0000 00:00:1725880052.919546   11741 inference_feedback_manager.cc:114] Feedback manager requires a model with a single signature inference. Disabling support for feedback tensors.\n",
      "I0000 00:00:1725880052.991503    6179 gl_context_egl.cc:85] Successfully initialized EGL. Major : 1 Minor: 5\n",
      "I0000 00:00:1725880053.007151   11755 gl_context.cc:357] GL version: 3.2 (OpenGL ES 3.2 NVIDIA 535.146.02), renderer: NVIDIA GeForce RTX 3060/PCIe/SSE2\n"
     ]
    },
    {
     "name": "stdout",
     "output_type": "stream",
     "text": [
      "INFO:     127.0.0.1:49534 - \"POST /eye-tracking HTTP/1.1\" 200 OK\n",
      "INFO:     127.0.0.1:49544 - \"POST /pose-estimate HTTP/1.1\" 200 OK\n",
      "INFO:     127.0.0.1:49548 - \"POST /eye-tracking HTTP/1.1\" 200 OK\n",
      "INFO:     127.0.0.1:49558 - \"POST /pose-estimate HTTP/1.1\" 200 OK\n"
     ]
    },
    {
     "name": "stderr",
     "output_type": "stream",
     "text": [
      "W0000 00:00:1725880053.010145   11745 inference_feedback_manager.cc:114] Feedback manager requires a model with a single signature inference. Disabling support for feedback tensors.\n",
      "W0000 00:00:1725880053.021115   11747 inference_feedback_manager.cc:114] Feedback manager requires a model with a single signature inference. Disabling support for feedback tensors.\n",
      "I0000 00:00:1725880053.093946    6179 gl_context_egl.cc:85] Successfully initialized EGL. Major : 1 Minor: 5\n",
      "I0000 00:00:1725880053.109628   11768 gl_context.cc:357] GL version: 3.2 (OpenGL ES 3.2 NVIDIA 535.146.02), renderer: NVIDIA GeForce RTX 3060/PCIe/SSE2\n",
      "W0000 00:00:1725880053.112767   11759 inference_feedback_manager.cc:114] Feedback manager requires a model with a single signature inference. Disabling support for feedback tensors.\n",
      "W0000 00:00:1725880053.124041   11764 inference_feedback_manager.cc:114] Feedback manager requires a model with a single signature inference. Disabling support for feedback tensors.\n",
      "I0000 00:00:1725880053.196345    6179 gl_context_egl.cc:85] Successfully initialized EGL. Major : 1 Minor: 5\n"
     ]
    },
    {
     "name": "stdout",
     "output_type": "stream",
     "text": [
      "INFO:     127.0.0.1:49560 - \"POST /eye-tracking HTTP/1.1\" 200 OK\n",
      "INFO:     127.0.0.1:49576 - \"POST /pose-estimate HTTP/1.1\" 200 OK\n",
      "INFO:     127.0.0.1:49580 - \"POST /eye-tracking HTTP/1.1\" 200 OK\n",
      "INFO:     127.0.0.1:49592 - \"POST /pose-estimate HTTP/1.1\" 200 OK\n"
     ]
    },
    {
     "name": "stderr",
     "output_type": "stream",
     "text": [
      "I0000 00:00:1725880053.226049   11781 gl_context.cc:357] GL version: 3.2 (OpenGL ES 3.2 NVIDIA 535.146.02), renderer: NVIDIA GeForce RTX 3060/PCIe/SSE2\n",
      "W0000 00:00:1725880053.228610   11775 inference_feedback_manager.cc:114] Feedback manager requires a model with a single signature inference. Disabling support for feedback tensors.\n",
      "W0000 00:00:1725880053.240590   11779 inference_feedback_manager.cc:114] Feedback manager requires a model with a single signature inference. Disabling support for feedback tensors.\n",
      "I0000 00:00:1725880053.309579    6179 gl_context_egl.cc:85] Successfully initialized EGL. Major : 1 Minor: 5\n",
      "I0000 00:00:1725880053.339633   11794 gl_context.cc:357] GL version: 3.2 (OpenGL ES 3.2 NVIDIA 535.146.02), renderer: NVIDIA GeForce RTX 3060/PCIe/SSE2\n",
      "W0000 00:00:1725880053.341948   11783 inference_feedback_manager.cc:114] Feedback manager requires a model with a single signature inference. Disabling support for feedback tensors.\n",
      "W0000 00:00:1725880053.353710   11785 inference_feedback_manager.cc:114] Feedback manager requires a model with a single signature inference. Disabling support for feedback tensors.\n",
      "I0000 00:00:1725880053.422841    6179 gl_context_egl.cc:85] Successfully initialized EGL. Major : 1 Minor: 5\n"
     ]
    },
    {
     "name": "stdout",
     "output_type": "stream",
     "text": [
      "INFO:     127.0.0.1:49594 - \"POST /eye-tracking HTTP/1.1\" 200 OK\n",
      "INFO:     127.0.0.1:49604 - \"POST /pose-estimate HTTP/1.1\" 200 OK\n",
      "INFO:     127.0.0.1:49606 - \"POST /eye-tracking HTTP/1.1\" 200 OK\n",
      "INFO:     127.0.0.1:49612 - \"POST /pose-estimate HTTP/1.1\" 200 OK\n"
     ]
    },
    {
     "name": "stderr",
     "output_type": "stream",
     "text": [
      "I0000 00:00:1725880053.430988   11807 gl_context.cc:357] GL version: 3.2 (OpenGL ES 3.2 NVIDIA 535.146.02), renderer: NVIDIA GeForce RTX 3060/PCIe/SSE2\n",
      "W0000 00:00:1725880053.433796   11797 inference_feedback_manager.cc:114] Feedback manager requires a model with a single signature inference. Disabling support for feedback tensors.\n",
      "W0000 00:00:1725880053.445198   11798 inference_feedback_manager.cc:114] Feedback manager requires a model with a single signature inference. Disabling support for feedback tensors.\n",
      "I0000 00:00:1725880053.516788    6179 gl_context_egl.cc:85] Successfully initialized EGL. Major : 1 Minor: 5\n",
      "I0000 00:00:1725880053.530815   11820 gl_context.cc:357] GL version: 3.2 (OpenGL ES 3.2 NVIDIA 535.146.02), renderer: NVIDIA GeForce RTX 3060/PCIe/SSE2\n",
      "W0000 00:00:1725880053.533622   11816 inference_feedback_manager.cc:114] Feedback manager requires a model with a single signature inference. Disabling support for feedback tensors.\n",
      "W0000 00:00:1725880053.545079   11809 inference_feedback_manager.cc:114] Feedback manager requires a model with a single signature inference. Disabling support for feedback tensors.\n",
      "I0000 00:00:1725880053.619089    6179 gl_context_egl.cc:85] Successfully initialized EGL. Major : 1 Minor: 5\n",
      "I0000 00:00:1725880053.631022   11833 gl_context.cc:357] GL version: 3.2 (OpenGL ES 3.2 NVIDIA 535.146.02), renderer: NVIDIA GeForce RTX 3060/PCIe/SSE2\n"
     ]
    },
    {
     "name": "stdout",
     "output_type": "stream",
     "text": [
      "INFO:     127.0.0.1:49620 - \"POST /eye-tracking HTTP/1.1\" 200 OK\n",
      "INFO:     127.0.0.1:49636 - \"POST /pose-estimate HTTP/1.1\" 200 OK\n",
      "INFO:     127.0.0.1:49646 - \"POST /eye-tracking HTTP/1.1\" 200 OK\n",
      "INFO:     127.0.0.1:49648 - \"POST /pose-estimate HTTP/1.1\" 200 OK\n"
     ]
    },
    {
     "name": "stderr",
     "output_type": "stream",
     "text": [
      "W0000 00:00:1725880053.633331   11823 inference_feedback_manager.cc:114] Feedback manager requires a model with a single signature inference. Disabling support for feedback tensors.\n",
      "W0000 00:00:1725880053.644485   11827 inference_feedback_manager.cc:114] Feedback manager requires a model with a single signature inference. Disabling support for feedback tensors.\n",
      "I0000 00:00:1725880053.715539    6179 gl_context_egl.cc:85] Successfully initialized EGL. Major : 1 Minor: 5\n",
      "I0000 00:00:1725880053.730577   11847 gl_context.cc:357] GL version: 3.2 (OpenGL ES 3.2 NVIDIA 535.146.02), renderer: NVIDIA GeForce RTX 3060/PCIe/SSE2\n",
      "W0000 00:00:1725880053.732971   11838 inference_feedback_manager.cc:114] Feedback manager requires a model with a single signature inference. Disabling support for feedback tensors.\n",
      "W0000 00:00:1725880053.743974   11837 inference_feedback_manager.cc:114] Feedback manager requires a model with a single signature inference. Disabling support for feedback tensors.\n",
      "I0000 00:00:1725880053.813134    6179 gl_context_egl.cc:85] Successfully initialized EGL. Major : 1 Minor: 5\n",
      "I0000 00:00:1725880053.830805   11860 gl_context.cc:357] GL version: 3.2 (OpenGL ES 3.2 NVIDIA 535.146.02), renderer: NVIDIA GeForce RTX 3060/PCIe/SSE2\n",
      "W0000 00:00:1725880053.833711   11855 inference_feedback_manager.cc:114] Feedback manager requires a model with a single signature inference. Disabling support for feedback tensors.\n"
     ]
    },
    {
     "name": "stdout",
     "output_type": "stream",
     "text": [
      "INFO:     127.0.0.1:49656 - \"POST /eye-tracking HTTP/1.1\" 200 OK\n",
      "INFO:     127.0.0.1:49664 - \"POST /pose-estimate HTTP/1.1\" 200 OK\n",
      "INFO:     127.0.0.1:49678 - \"POST /eye-tracking HTTP/1.1\" 200 OK\n",
      "INFO:     127.0.0.1:49690 - \"POST /pose-estimate HTTP/1.1\" 200 OK\n"
     ]
    },
    {
     "name": "stderr",
     "output_type": "stream",
     "text": [
      "W0000 00:00:1725880053.844511   11851 inference_feedback_manager.cc:114] Feedback manager requires a model with a single signature inference. Disabling support for feedback tensors.\n",
      "I0000 00:00:1725880053.915465    6179 gl_context_egl.cc:85] Successfully initialized EGL. Major : 1 Minor: 5\n",
      "I0000 00:00:1725880053.930916   11873 gl_context.cc:357] GL version: 3.2 (OpenGL ES 3.2 NVIDIA 535.146.02), renderer: NVIDIA GeForce RTX 3060/PCIe/SSE2\n",
      "W0000 00:00:1725880053.933694   11861 inference_feedback_manager.cc:114] Feedback manager requires a model with a single signature inference. Disabling support for feedback tensors.\n",
      "W0000 00:00:1725880053.945130   11870 inference_feedback_manager.cc:114] Feedback manager requires a model with a single signature inference. Disabling support for feedback tensors.\n",
      "I0000 00:00:1725880054.015998    6179 gl_context_egl.cc:85] Successfully initialized EGL. Major : 1 Minor: 5\n",
      "I0000 00:00:1725880054.030635   11886 gl_context.cc:357] GL version: 3.2 (OpenGL ES 3.2 NVIDIA 535.146.02), renderer: NVIDIA GeForce RTX 3060/PCIe/SSE2\n",
      "W0000 00:00:1725880054.033566   11877 inference_feedback_manager.cc:114] Feedback manager requires a model with a single signature inference. Disabling support for feedback tensors.\n",
      "W0000 00:00:1725880054.044300   11875 inference_feedback_manager.cc:114] Feedback manager requires a model with a single signature inference. Disabling support for feedback tensors.\n"
     ]
    },
    {
     "name": "stdout",
     "output_type": "stream",
     "text": [
      "INFO:     127.0.0.1:49700 - \"POST /eye-tracking HTTP/1.1\" 200 OK\n",
      "INFO:     127.0.0.1:49704 - \"POST /pose-estimate HTTP/1.1\" 200 OK\n",
      "INFO:     127.0.0.1:49718 - \"POST /eye-tracking HTTP/1.1\" 200 OK\n",
      "INFO:     127.0.0.1:49724 - \"POST /pose-estimate HTTP/1.1\" 200 OK\n",
      "INFO:     127.0.0.1:49728 - \"POST /eye-tracking HTTP/1.1\" 200 OK\n",
      "INFO:     127.0.0.1:49740 - \"POST /pose-estimate HTTP/1.1\" 200 OK\n"
     ]
    },
    {
     "name": "stderr",
     "output_type": "stream",
     "text": [
      "I0000 00:00:1725880054.120991    6179 gl_context_egl.cc:85] Successfully initialized EGL. Major : 1 Minor: 5\n",
      "I0000 00:00:1725880054.130704   11899 gl_context.cc:357] GL version: 3.2 (OpenGL ES 3.2 NVIDIA 535.146.02), renderer: NVIDIA GeForce RTX 3060/PCIe/SSE2\n",
      "W0000 00:00:1725880054.133440   11891 inference_feedback_manager.cc:114] Feedback manager requires a model with a single signature inference. Disabling support for feedback tensors.\n",
      "W0000 00:00:1725880054.144208   11888 inference_feedback_manager.cc:114] Feedback manager requires a model with a single signature inference. Disabling support for feedback tensors.\n",
      "I0000 00:00:1725880054.215697    6179 gl_context_egl.cc:85] Successfully initialized EGL. Major : 1 Minor: 5\n",
      "I0000 00:00:1725880054.231130   11912 gl_context.cc:357] GL version: 3.2 (OpenGL ES 3.2 NVIDIA 535.146.02), renderer: NVIDIA GeForce RTX 3060/PCIe/SSE2\n",
      "W0000 00:00:1725880054.234048   11904 inference_feedback_manager.cc:114] Feedback manager requires a model with a single signature inference. Disabling support for feedback tensors.\n",
      "W0000 00:00:1725880054.245849   11900 inference_feedback_manager.cc:114] Feedback manager requires a model with a single signature inference. Disabling support for feedback tensors.\n",
      "I0000 00:00:1725880054.316850    6179 gl_context_egl.cc:85] Successfully initialized EGL. Major : 1 Minor: 5\n"
     ]
    },
    {
     "name": "stdout",
     "output_type": "stream",
     "text": [
      "INFO:     127.0.0.1:49746 - \"POST /eye-tracking HTTP/1.1\" 200 OK\n",
      "INFO:     127.0.0.1:49752 - \"POST /pose-estimate HTTP/1.1\" 200 OK\n",
      "INFO:     127.0.0.1:49762 - \"POST /eye-tracking HTTP/1.1\" 200 OK\n",
      "INFO:     127.0.0.1:49770 - \"POST /pose-estimate HTTP/1.1\" 200 OK\n"
     ]
    },
    {
     "name": "stderr",
     "output_type": "stream",
     "text": [
      "I0000 00:00:1725880054.331103   11925 gl_context.cc:357] GL version: 3.2 (OpenGL ES 3.2 NVIDIA 535.146.02), renderer: NVIDIA GeForce RTX 3060/PCIe/SSE2\n",
      "W0000 00:00:1725880054.334197   11915 inference_feedback_manager.cc:114] Feedback manager requires a model with a single signature inference. Disabling support for feedback tensors.\n",
      "W0000 00:00:1725880054.345695   11914 inference_feedback_manager.cc:114] Feedback manager requires a model with a single signature inference. Disabling support for feedback tensors.\n",
      "I0000 00:00:1725880054.417495    6179 gl_context_egl.cc:85] Successfully initialized EGL. Major : 1 Minor: 5\n",
      "I0000 00:00:1725880054.430896   11938 gl_context.cc:357] GL version: 3.2 (OpenGL ES 3.2 NVIDIA 535.146.02), renderer: NVIDIA GeForce RTX 3060/PCIe/SSE2\n",
      "W0000 00:00:1725880054.432567   11927 inference_feedback_manager.cc:114] Feedback manager requires a model with a single signature inference. Disabling support for feedback tensors.\n",
      "W0000 00:00:1725880054.443596   11934 inference_feedback_manager.cc:114] Feedback manager requires a model with a single signature inference. Disabling support for feedback tensors.\n",
      "I0000 00:00:1725880054.516534    6179 gl_context_egl.cc:85] Successfully initialized EGL. Major : 1 Minor: 5\n",
      "I0000 00:00:1725880054.531789   11951 gl_context.cc:357] GL version: 3.2 (OpenGL ES 3.2 NVIDIA 535.146.02), renderer: NVIDIA GeForce RTX 3060/PCIe/SSE2\n"
     ]
    },
    {
     "name": "stdout",
     "output_type": "stream",
     "text": [
      "INFO:     127.0.0.1:49778 - \"POST /eye-tracking HTTP/1.1\" 200 OK\n",
      "INFO:     127.0.0.1:49790 - \"POST /pose-estimate HTTP/1.1\" 200 OK\n",
      "INFO:     127.0.0.1:49804 - \"POST /eye-tracking HTTP/1.1\" 200 OK\n",
      "INFO:     127.0.0.1:49808 - \"POST /pose-estimate HTTP/1.1\" 200 OK\n"
     ]
    },
    {
     "name": "stderr",
     "output_type": "stream",
     "text": [
      "W0000 00:00:1725880054.534710   11940 inference_feedback_manager.cc:114] Feedback manager requires a model with a single signature inference. Disabling support for feedback tensors.\n",
      "W0000 00:00:1725880054.546483   11943 inference_feedback_manager.cc:114] Feedback manager requires a model with a single signature inference. Disabling support for feedback tensors.\n",
      "I0000 00:00:1725880054.619808    6179 gl_context_egl.cc:85] Successfully initialized EGL. Major : 1 Minor: 5\n",
      "I0000 00:00:1725880054.630711   11964 gl_context.cc:357] GL version: 3.2 (OpenGL ES 3.2 NVIDIA 535.146.02), renderer: NVIDIA GeForce RTX 3060/PCIe/SSE2\n",
      "W0000 00:00:1725880054.633184   11953 inference_feedback_manager.cc:114] Feedback manager requires a model with a single signature inference. Disabling support for feedback tensors.\n",
      "W0000 00:00:1725880054.644657   11961 inference_feedback_manager.cc:114] Feedback manager requires a model with a single signature inference. Disabling support for feedback tensors.\n",
      "I0000 00:00:1725880054.713425    6179 gl_context_egl.cc:85] Successfully initialized EGL. Major : 1 Minor: 5\n",
      "I0000 00:00:1725880054.730735   11977 gl_context.cc:357] GL version: 3.2 (OpenGL ES 3.2 NVIDIA 535.146.02), renderer: NVIDIA GeForce RTX 3060/PCIe/SSE2\n",
      "W0000 00:00:1725880054.733557   11967 inference_feedback_manager.cc:114] Feedback manager requires a model with a single signature inference. Disabling support for feedback tensors.\n"
     ]
    },
    {
     "name": "stdout",
     "output_type": "stream",
     "text": [
      "INFO:     127.0.0.1:49812 - \"POST /eye-tracking HTTP/1.1\" 200 OK\n",
      "INFO:     127.0.0.1:49824 - \"POST /pose-estimate HTTP/1.1\" 200 OK\n",
      "INFO:     127.0.0.1:49836 - \"POST /eye-tracking HTTP/1.1\" 200 OK\n",
      "INFO:     127.0.0.1:49844 - \"POST /pose-estimate HTTP/1.1\" 200 OK\n"
     ]
    },
    {
     "name": "stderr",
     "output_type": "stream",
     "text": [
      "W0000 00:00:1725880054.746908   11969 inference_feedback_manager.cc:114] Feedback manager requires a model with a single signature inference. Disabling support for feedback tensors.\n",
      "I0000 00:00:1725880054.819661    6179 gl_context_egl.cc:85] Successfully initialized EGL. Major : 1 Minor: 5\n",
      "I0000 00:00:1725880054.831025   11990 gl_context.cc:357] GL version: 3.2 (OpenGL ES 3.2 NVIDIA 535.146.02), renderer: NVIDIA GeForce RTX 3060/PCIe/SSE2\n",
      "W0000 00:00:1725880054.833352   11978 inference_feedback_manager.cc:114] Feedback manager requires a model with a single signature inference. Disabling support for feedback tensors.\n",
      "W0000 00:00:1725880054.845902   11979 inference_feedback_manager.cc:114] Feedback manager requires a model with a single signature inference. Disabling support for feedback tensors.\n",
      "I0000 00:00:1725880054.929663    6179 gl_context_egl.cc:85] Successfully initialized EGL. Major : 1 Minor: 5\n",
      "I0000 00:00:1725880054.937002   12003 gl_context.cc:357] GL version: 3.2 (OpenGL ES 3.2 NVIDIA 535.146.02), renderer: NVIDIA GeForce RTX 3060/PCIe/SSE2\n",
      "W0000 00:00:1725880054.939405   11991 inference_feedback_manager.cc:114] Feedback manager requires a model with a single signature inference. Disabling support for feedback tensors.\n"
     ]
    },
    {
     "name": "stdout",
     "output_type": "stream",
     "text": [
      "INFO:     127.0.0.1:49860 - \"POST /eye-tracking HTTP/1.1\" 200 OK\n",
      "INFO:     127.0.0.1:49876 - \"POST /pose-estimate HTTP/1.1\" 200 OK\n",
      "INFO:     127.0.0.1:49886 - \"POST /eye-tracking HTTP/1.1\" 200 OK\n",
      "INFO:     127.0.0.1:49888 - \"POST /pose-estimate HTTP/1.1\" 200 OK\n",
      "INFO:     127.0.0.1:49894 - \"POST /eye-tracking HTTP/1.1\" 200 OK\n"
     ]
    },
    {
     "name": "stderr",
     "output_type": "stream",
     "text": [
      "W0000 00:00:1725880054.950625   12000 inference_feedback_manager.cc:114] Feedback manager requires a model with a single signature inference. Disabling support for feedback tensors.\n",
      "I0000 00:00:1725880055.024152    6179 gl_context_egl.cc:85] Successfully initialized EGL. Major : 1 Minor: 5\n",
      "I0000 00:00:1725880055.031099   12016 gl_context.cc:357] GL version: 3.2 (OpenGL ES 3.2 NVIDIA 535.146.02), renderer: NVIDIA GeForce RTX 3060/PCIe/SSE2\n",
      "W0000 00:00:1725880055.033698   12008 inference_feedback_manager.cc:114] Feedback manager requires a model with a single signature inference. Disabling support for feedback tensors.\n",
      "W0000 00:00:1725880055.045034   12006 inference_feedback_manager.cc:114] Feedback manager requires a model with a single signature inference. Disabling support for feedback tensors.\n",
      "I0000 00:00:1725880055.117106    6179 gl_context_egl.cc:85] Successfully initialized EGL. Major : 1 Minor: 5\n",
      "I0000 00:00:1725880055.131215   12029 gl_context.cc:357] GL version: 3.2 (OpenGL ES 3.2 NVIDIA 535.146.02), renderer: NVIDIA GeForce RTX 3060/PCIe/SSE2\n",
      "W0000 00:00:1725880055.133800   12018 inference_feedback_manager.cc:114] Feedback manager requires a model with a single signature inference. Disabling support for feedback tensors.\n",
      "W0000 00:00:1725880055.145095   12017 inference_feedback_manager.cc:114] Feedback manager requires a model with a single signature inference. Disabling support for feedback tensors.\n"
     ]
    },
    {
     "name": "stdout",
     "output_type": "stream",
     "text": [
      "INFO:     127.0.0.1:49898 - \"POST /pose-estimate HTTP/1.1\" 200 OK\n",
      "INFO:     127.0.0.1:49908 - \"POST /eye-tracking HTTP/1.1\" 200 OK\n",
      "INFO:     127.0.0.1:49922 - \"POST /pose-estimate HTTP/1.1\" 200 OK\n",
      "INFO:     127.0.0.1:49934 - \"POST /eye-tracking HTTP/1.1\" 200 OK\n",
      "INFO:     127.0.0.1:49944 - \"POST /pose-estimate HTTP/1.1\" 200 OK\n"
     ]
    },
    {
     "name": "stderr",
     "output_type": "stream",
     "text": [
      "I0000 00:00:1725880055.216529    6179 gl_context_egl.cc:85] Successfully initialized EGL. Major : 1 Minor: 5\n",
      "I0000 00:00:1725880055.230684   12042 gl_context.cc:357] GL version: 3.2 (OpenGL ES 3.2 NVIDIA 535.146.02), renderer: NVIDIA GeForce RTX 3060/PCIe/SSE2\n",
      "W0000 00:00:1725880055.233518   12033 inference_feedback_manager.cc:114] Feedback manager requires a model with a single signature inference. Disabling support for feedback tensors.\n",
      "W0000 00:00:1725880055.243355   12036 inference_feedback_manager.cc:114] Feedback manager requires a model with a single signature inference. Disabling support for feedback tensors.\n",
      "I0000 00:00:1725880055.313815    6179 gl_context_egl.cc:85] Successfully initialized EGL. Major : 1 Minor: 5\n",
      "I0000 00:00:1725880055.331004   12055 gl_context.cc:357] GL version: 3.2 (OpenGL ES 3.2 NVIDIA 535.146.02), renderer: NVIDIA GeForce RTX 3060/PCIe/SSE2\n",
      "W0000 00:00:1725880055.333029   12046 inference_feedback_manager.cc:114] Feedback manager requires a model with a single signature inference. Disabling support for feedback tensors.\n",
      "W0000 00:00:1725880055.344219   12051 inference_feedback_manager.cc:114] Feedback manager requires a model with a single signature inference. Disabling support for feedback tensors.\n",
      "I0000 00:00:1725880055.414159    6179 gl_context_egl.cc:85] Successfully initialized EGL. Major : 1 Minor: 5\n",
      "I0000 00:00:1725880055.430882   12068 gl_context.cc:357] GL version: 3.2 (OpenGL ES 3.2 NVIDIA 535.146.02), renderer: NVIDIA GeForce RTX 3060/PCIe/SSE2\n"
     ]
    },
    {
     "name": "stdout",
     "output_type": "stream",
     "text": [
      "INFO:     127.0.0.1:49956 - \"POST /eye-tracking HTTP/1.1\" 200 OK\n",
      "INFO:     127.0.0.1:49972 - \"POST /pose-estimate HTTP/1.1\" 200 OK\n",
      "INFO:     127.0.0.1:49984 - \"POST /eye-tracking HTTP/1.1\" 200 OK\n",
      "INFO:     127.0.0.1:49988 - \"POST /pose-estimate HTTP/1.1\" 200 OK\n"
     ]
    },
    {
     "name": "stderr",
     "output_type": "stream",
     "text": [
      "W0000 00:00:1725880055.433823   12064 inference_feedback_manager.cc:114] Feedback manager requires a model with a single signature inference. Disabling support for feedback tensors.\n",
      "W0000 00:00:1725880055.445095   12058 inference_feedback_manager.cc:114] Feedback manager requires a model with a single signature inference. Disabling support for feedback tensors.\n",
      "I0000 00:00:1725880055.515870    6179 gl_context_egl.cc:85] Successfully initialized EGL. Major : 1 Minor: 5\n",
      "I0000 00:00:1725880055.530819   12081 gl_context.cc:357] GL version: 3.2 (OpenGL ES 3.2 NVIDIA 535.146.02), renderer: NVIDIA GeForce RTX 3060/PCIe/SSE2\n",
      "W0000 00:00:1725880055.533577   12069 inference_feedback_manager.cc:114] Feedback manager requires a model with a single signature inference. Disabling support for feedback tensors.\n",
      "W0000 00:00:1725880055.545050   12079 inference_feedback_manager.cc:114] Feedback manager requires a model with a single signature inference. Disabling support for feedback tensors.\n",
      "I0000 00:00:1725880055.616849    6179 gl_context_egl.cc:85] Successfully initialized EGL. Major : 1 Minor: 5\n",
      "I0000 00:00:1725880055.631144   12094 gl_context.cc:357] GL version: 3.2 (OpenGL ES 3.2 NVIDIA 535.146.02), renderer: NVIDIA GeForce RTX 3060/PCIe/SSE2\n"
     ]
    },
    {
     "name": "stdout",
     "output_type": "stream",
     "text": [
      "INFO:     127.0.0.1:49994 - \"POST /eye-tracking HTTP/1.1\" 200 OK\n",
      "INFO:     127.0.0.1:50002 - \"POST /pose-estimate HTTP/1.1\" 200 OK\n",
      "INFO:     127.0.0.1:50016 - \"POST /eye-tracking HTTP/1.1\" 200 OK\n",
      "INFO:     127.0.0.1:50018 - \"POST /pose-estimate HTTP/1.1\" 200 OK\n"
     ]
    },
    {
     "name": "stderr",
     "output_type": "stream",
     "text": [
      "W0000 00:00:1725880055.634286   12087 inference_feedback_manager.cc:114] Feedback manager requires a model with a single signature inference. Disabling support for feedback tensors.\n",
      "W0000 00:00:1725880055.645821   12086 inference_feedback_manager.cc:114] Feedback manager requires a model with a single signature inference. Disabling support for feedback tensors.\n",
      "I0000 00:00:1725880055.712067    6179 gl_context_egl.cc:85] Successfully initialized EGL. Major : 1 Minor: 5\n",
      "I0000 00:00:1725880055.730914   12108 gl_context.cc:357] GL version: 3.2 (OpenGL ES 3.2 NVIDIA 535.146.02), renderer: NVIDIA GeForce RTX 3060/PCIe/SSE2\n",
      "W0000 00:00:1725880055.733835   12100 inference_feedback_manager.cc:114] Feedback manager requires a model with a single signature inference. Disabling support for feedback tensors.\n",
      "W0000 00:00:1725880055.744933   12107 inference_feedback_manager.cc:114] Feedback manager requires a model with a single signature inference. Disabling support for feedback tensors.\n",
      "I0000 00:00:1725880055.812653    6179 gl_context_egl.cc:85] Successfully initialized EGL. Major : 1 Minor: 5\n",
      "I0000 00:00:1725880055.830765   12121 gl_context.cc:357] GL version: 3.2 (OpenGL ES 3.2 NVIDIA 535.146.02), renderer: NVIDIA GeForce RTX 3060/PCIe/SSE2\n",
      "W0000 00:00:1725880055.832402   12114 inference_feedback_manager.cc:114] Feedback manager requires a model with a single signature inference. Disabling support for feedback tensors.\n"
     ]
    },
    {
     "name": "stdout",
     "output_type": "stream",
     "text": [
      "INFO:     127.0.0.1:50026 - \"POST /eye-tracking HTTP/1.1\" 200 OK\n",
      "INFO:     127.0.0.1:50036 - \"POST /pose-estimate HTTP/1.1\" 200 OK\n",
      "INFO:     127.0.0.1:50050 - \"POST /eye-tracking HTTP/1.1\" 200 OK\n",
      "INFO:     127.0.0.1:50058 - \"POST /pose-estimate HTTP/1.1\" 200 OK\n",
      "INFO:     127.0.0.1:50064 - \"POST /eye-tracking HTTP/1.1\" 200 OK\n"
     ]
    },
    {
     "name": "stderr",
     "output_type": "stream",
     "text": [
      "W0000 00:00:1725880055.844792   12110 inference_feedback_manager.cc:114] Feedback manager requires a model with a single signature inference. Disabling support for feedback tensors.\n",
      "I0000 00:00:1725880055.912681    6179 gl_context_egl.cc:85] Successfully initialized EGL. Major : 1 Minor: 5\n",
      "I0000 00:00:1725880055.930980   12134 gl_context.cc:357] GL version: 3.2 (OpenGL ES 3.2 NVIDIA 535.146.02), renderer: NVIDIA GeForce RTX 3060/PCIe/SSE2\n",
      "W0000 00:00:1725880055.934848   12129 inference_feedback_manager.cc:114] Feedback manager requires a model with a single signature inference. Disabling support for feedback tensors.\n",
      "W0000 00:00:1725880055.945499   12133 inference_feedback_manager.cc:114] Feedback manager requires a model with a single signature inference. Disabling support for feedback tensors.\n",
      "I0000 00:00:1725880056.009411    6179 gl_context_egl.cc:85] Successfully initialized EGL. Major : 1 Minor: 5\n",
      "I0000 00:00:1725880056.026225   12147 gl_context.cc:357] GL version: 3.2 (OpenGL ES 3.2 NVIDIA 535.146.02), renderer: NVIDIA GeForce RTX 3060/PCIe/SSE2\n",
      "W0000 00:00:1725880056.028962   12138 inference_feedback_manager.cc:114] Feedback manager requires a model with a single signature inference. Disabling support for feedback tensors.\n",
      "W0000 00:00:1725880056.041461   12145 inference_feedback_manager.cc:114] Feedback manager requires a model with a single signature inference. Disabling support for feedback tensors.\n"
     ]
    },
    {
     "name": "stdout",
     "output_type": "stream",
     "text": [
      "INFO:     127.0.0.1:50080 - \"POST /pose-estimate HTTP/1.1\" 200 OK\n",
      "INFO:     127.0.0.1:50086 - \"POST /eye-tracking HTTP/1.1\" 200 OK\n",
      "INFO:     127.0.0.1:50094 - \"POST /pose-estimate HTTP/1.1\" 200 OK\n",
      "INFO:     127.0.0.1:50104 - \"POST /eye-tracking HTTP/1.1\" 200 OK\n",
      "INFO:     127.0.0.1:50106 - \"POST /pose-estimate HTTP/1.1\" 200 OK\n"
     ]
    },
    {
     "name": "stderr",
     "output_type": "stream",
     "text": [
      "I0000 00:00:1725880056.110153    6179 gl_context_egl.cc:85] Successfully initialized EGL. Major : 1 Minor: 5\n",
      "I0000 00:00:1725880056.126085   12160 gl_context.cc:357] GL version: 3.2 (OpenGL ES 3.2 NVIDIA 535.146.02), renderer: NVIDIA GeForce RTX 3060/PCIe/SSE2\n",
      "W0000 00:00:1725880056.129052   12148 inference_feedback_manager.cc:114] Feedback manager requires a model with a single signature inference. Disabling support for feedback tensors.\n",
      "W0000 00:00:1725880056.140135   12155 inference_feedback_manager.cc:114] Feedback manager requires a model with a single signature inference. Disabling support for feedback tensors.\n",
      "I0000 00:00:1725880056.211732    6179 gl_context_egl.cc:85] Successfully initialized EGL. Major : 1 Minor: 5\n",
      "I0000 00:00:1725880056.231967   12173 gl_context.cc:357] GL version: 3.2 (OpenGL ES 3.2 NVIDIA 535.146.02), renderer: NVIDIA GeForce RTX 3060/PCIe/SSE2\n",
      "W0000 00:00:1725880056.235629   12164 inference_feedback_manager.cc:114] Feedback manager requires a model with a single signature inference. Disabling support for feedback tensors.\n",
      "W0000 00:00:1725880056.248029   12165 inference_feedback_manager.cc:114] Feedback manager requires a model with a single signature inference. Disabling support for feedback tensors.\n",
      "I0000 00:00:1725880056.317189    6179 gl_context_egl.cc:85] Successfully initialized EGL. Major : 1 Minor: 5\n",
      "I0000 00:00:1725880056.331030   12186 gl_context.cc:357] GL version: 3.2 (OpenGL ES 3.2 NVIDIA 535.146.02), renderer: NVIDIA GeForce RTX 3060/PCIe/SSE2\n"
     ]
    },
    {
     "name": "stdout",
     "output_type": "stream",
     "text": [
      "INFO:     127.0.0.1:50116 - \"POST /eye-tracking HTTP/1.1\" 200 OK\n",
      "INFO:     127.0.0.1:50130 - \"POST /pose-estimate HTTP/1.1\" 200 OK\n",
      "INFO:     127.0.0.1:50136 - \"POST /eye-tracking HTTP/1.1\" 200 OK\n",
      "INFO:     127.0.0.1:50146 - \"POST /pose-estimate HTTP/1.1\" 200 OK\n"
     ]
    },
    {
     "name": "stderr",
     "output_type": "stream",
     "text": [
      "W0000 00:00:1725880056.332945   12174 inference_feedback_manager.cc:114] Feedback manager requires a model with a single signature inference. Disabling support for feedback tensors.\n",
      "W0000 00:00:1725880056.344819   12178 inference_feedback_manager.cc:114] Feedback manager requires a model with a single signature inference. Disabling support for feedback tensors.\n",
      "I0000 00:00:1725880056.408612    6179 gl_context_egl.cc:85] Successfully initialized EGL. Major : 1 Minor: 5\n",
      "I0000 00:00:1725880056.426563   12199 gl_context.cc:357] GL version: 3.2 (OpenGL ES 3.2 NVIDIA 535.146.02), renderer: NVIDIA GeForce RTX 3060/PCIe/SSE2\n",
      "W0000 00:00:1725880056.429341   12188 inference_feedback_manager.cc:114] Feedback manager requires a model with a single signature inference. Disabling support for feedback tensors.\n",
      "W0000 00:00:1725880056.440080   12196 inference_feedback_manager.cc:114] Feedback manager requires a model with a single signature inference. Disabling support for feedback tensors.\n",
      "I0000 00:00:1725880056.507681    6179 gl_context_egl.cc:85] Successfully initialized EGL. Major : 1 Minor: 5\n",
      "I0000 00:00:1725880056.527146   12212 gl_context.cc:357] GL version: 3.2 (OpenGL ES 3.2 NVIDIA 535.146.02), renderer: NVIDIA GeForce RTX 3060/PCIe/SSE2\n",
      "W0000 00:00:1725880056.530066   12207 inference_feedback_manager.cc:114] Feedback manager requires a model with a single signature inference. Disabling support for feedback tensors.\n"
     ]
    },
    {
     "name": "stdout",
     "output_type": "stream",
     "text": [
      "INFO:     127.0.0.1:50152 - \"POST /eye-tracking HTTP/1.1\" 200 OK\n",
      "INFO:     127.0.0.1:50158 - \"POST /pose-estimate HTTP/1.1\" 200 OK\n",
      "INFO:     127.0.0.1:50172 - \"POST /eye-tracking HTTP/1.1\" 200 OK\n",
      "INFO:     127.0.0.1:50186 - \"POST /pose-estimate HTTP/1.1\" 200 OK\n"
     ]
    },
    {
     "name": "stderr",
     "output_type": "stream",
     "text": [
      "W0000 00:00:1725880056.540713   12200 inference_feedback_manager.cc:114] Feedback manager requires a model with a single signature inference. Disabling support for feedback tensors.\n",
      "I0000 00:00:1725880056.611887    6179 gl_context_egl.cc:85] Successfully initialized EGL. Major : 1 Minor: 5\n",
      "I0000 00:00:1725880056.631772   12225 gl_context.cc:357] GL version: 3.2 (OpenGL ES 3.2 NVIDIA 535.146.02), renderer: NVIDIA GeForce RTX 3060/PCIe/SSE2\n",
      "W0000 00:00:1725880056.633487   12218 inference_feedback_manager.cc:114] Feedback manager requires a model with a single signature inference. Disabling support for feedback tensors.\n",
      "W0000 00:00:1725880056.644674   12223 inference_feedback_manager.cc:114] Feedback manager requires a model with a single signature inference. Disabling support for feedback tensors.\n",
      "I0000 00:00:1725880056.709604    6179 gl_context_egl.cc:85] Successfully initialized EGL. Major : 1 Minor: 5\n",
      "I0000 00:00:1725880056.726509   12238 gl_context.cc:357] GL version: 3.2 (OpenGL ES 3.2 NVIDIA 535.146.02), renderer: NVIDIA GeForce RTX 3060/PCIe/SSE2\n",
      "W0000 00:00:1725880056.728860   12227 inference_feedback_manager.cc:114] Feedback manager requires a model with a single signature inference. Disabling support for feedback tensors.\n",
      "W0000 00:00:1725880056.740826   12230 inference_feedback_manager.cc:114] Feedback manager requires a model with a single signature inference. Disabling support for feedback tensors.\n"
     ]
    },
    {
     "name": "stdout",
     "output_type": "stream",
     "text": [
      "INFO:     127.0.0.1:50198 - \"POST /eye-tracking HTTP/1.1\" 200 OK\n",
      "INFO:     127.0.0.1:50212 - \"POST /pose-estimate HTTP/1.1\" 200 OK\n",
      "INFO:     127.0.0.1:50216 - \"POST /eye-tracking HTTP/1.1\" 200 OK\n",
      "INFO:     127.0.0.1:50228 - \"POST /pose-estimate HTTP/1.1\" 200 OK\n",
      "INFO:     127.0.0.1:50242 - \"POST /eye-tracking HTTP/1.1\" 200 OK\n",
      "INFO:     127.0.0.1:50256 - \"POST /pose-estimate HTTP/1.1\" 200 OK\n"
     ]
    },
    {
     "name": "stderr",
     "output_type": "stream",
     "text": [
      "I0000 00:00:1725880056.813350    6179 gl_context_egl.cc:85] Successfully initialized EGL. Major : 1 Minor: 5\n",
      "I0000 00:00:1725880056.831479   12251 gl_context.cc:357] GL version: 3.2 (OpenGL ES 3.2 NVIDIA 535.146.02), renderer: NVIDIA GeForce RTX 3060/PCIe/SSE2\n",
      "W0000 00:00:1725880056.834337   12242 inference_feedback_manager.cc:114] Feedback manager requires a model with a single signature inference. Disabling support for feedback tensors.\n",
      "W0000 00:00:1725880056.845063   12240 inference_feedback_manager.cc:114] Feedback manager requires a model with a single signature inference. Disabling support for feedback tensors.\n",
      "I0000 00:00:1725880056.916901    6179 gl_context_egl.cc:85] Successfully initialized EGL. Major : 1 Minor: 5\n",
      "I0000 00:00:1725880056.931828   12264 gl_context.cc:357] GL version: 3.2 (OpenGL ES 3.2 NVIDIA 535.146.02), renderer: NVIDIA GeForce RTX 3060/PCIe/SSE2\n",
      "W0000 00:00:1725880056.934469   12259 inference_feedback_manager.cc:114] Feedback manager requires a model with a single signature inference. Disabling support for feedback tensors.\n",
      "W0000 00:00:1725880056.945490   12252 inference_feedback_manager.cc:114] Feedback manager requires a model with a single signature inference. Disabling support for feedback tensors.\n"
     ]
    },
    {
     "name": "stdout",
     "output_type": "stream",
     "text": [
      "INFO:     127.0.0.1:50266 - \"POST /eye-tracking HTTP/1.1\" 200 OK\n",
      "INFO:     127.0.0.1:50278 - \"POST /pose-estimate HTTP/1.1\" 200 OK\n",
      "INFO:     127.0.0.1:50290 - \"POST /eye-tracking HTTP/1.1\" 200 OK\n",
      "INFO:     127.0.0.1:41642 - \"POST /pose-estimate HTTP/1.1\" 200 OK\n"
     ]
    },
    {
     "name": "stderr",
     "output_type": "stream",
     "text": [
      "I0000 00:00:1725880057.017292    6179 gl_context_egl.cc:85] Successfully initialized EGL. Major : 1 Minor: 5\n",
      "I0000 00:00:1725880057.032633   12277 gl_context.cc:357] GL version: 3.2 (OpenGL ES 3.2 NVIDIA 535.146.02), renderer: NVIDIA GeForce RTX 3060/PCIe/SSE2\n",
      "W0000 00:00:1725880057.035701   12269 inference_feedback_manager.cc:114] Feedback manager requires a model with a single signature inference. Disabling support for feedback tensors.\n",
      "W0000 00:00:1725880057.046695   12268 inference_feedback_manager.cc:114] Feedback manager requires a model with a single signature inference. Disabling support for feedback tensors.\n",
      "I0000 00:00:1725880057.115381    6179 gl_context_egl.cc:85] Successfully initialized EGL. Major : 1 Minor: 5\n",
      "I0000 00:00:1725880057.132342   12290 gl_context.cc:357] GL version: 3.2 (OpenGL ES 3.2 NVIDIA 535.146.02), renderer: NVIDIA GeForce RTX 3060/PCIe/SSE2\n",
      "W0000 00:00:1725880057.135110   12283 inference_feedback_manager.cc:114] Feedback manager requires a model with a single signature inference. Disabling support for feedback tensors.\n",
      "W0000 00:00:1725880057.146071   12279 inference_feedback_manager.cc:114] Feedback manager requires a model with a single signature inference. Disabling support for feedback tensors.\n",
      "I0000 00:00:1725880057.218108    6179 gl_context_egl.cc:85] Successfully initialized EGL. Major : 1 Minor: 5\n",
      "I0000 00:00:1725880057.232926   12303 gl_context.cc:357] GL version: 3.2 (OpenGL ES 3.2 NVIDIA 535.146.02), renderer: NVIDIA GeForce RTX 3060/PCIe/SSE2\n"
     ]
    },
    {
     "name": "stdout",
     "output_type": "stream",
     "text": [
      "INFO:     127.0.0.1:41650 - \"POST /eye-tracking HTTP/1.1\" 200 OK\n",
      "INFO:     127.0.0.1:41666 - \"POST /pose-estimate HTTP/1.1\" 200 OK\n",
      "INFO:     127.0.0.1:41680 - \"POST /eye-tracking HTTP/1.1\" 200 OK\n",
      "INFO:     127.0.0.1:41686 - \"POST /pose-estimate HTTP/1.1\" 200 OK\n"
     ]
    },
    {
     "name": "stderr",
     "output_type": "stream",
     "text": [
      "W0000 00:00:1725880057.234614   12294 inference_feedback_manager.cc:114] Feedback manager requires a model with a single signature inference. Disabling support for feedback tensors.\n",
      "W0000 00:00:1725880057.245970   12293 inference_feedback_manager.cc:114] Feedback manager requires a model with a single signature inference. Disabling support for feedback tensors.\n",
      "I0000 00:00:1725880057.317451    6179 gl_context_egl.cc:85] Successfully initialized EGL. Major : 1 Minor: 5\n",
      "I0000 00:00:1725880057.332873   12316 gl_context.cc:357] GL version: 3.2 (OpenGL ES 3.2 NVIDIA 535.146.02), renderer: NVIDIA GeForce RTX 3060/PCIe/SSE2\n",
      "W0000 00:00:1725880057.334341   12305 inference_feedback_manager.cc:114] Feedback manager requires a model with a single signature inference. Disabling support for feedback tensors.\n",
      "W0000 00:00:1725880057.346380   12304 inference_feedback_manager.cc:114] Feedback manager requires a model with a single signature inference. Disabling support for feedback tensors.\n",
      "I0000 00:00:1725880057.416937    6179 gl_context_egl.cc:85] Successfully initialized EGL. Major : 1 Minor: 5\n",
      "I0000 00:00:1725880057.432321   12329 gl_context.cc:357] GL version: 3.2 (OpenGL ES 3.2 NVIDIA 535.146.02), renderer: NVIDIA GeForce RTX 3060/PCIe/SSE2\n",
      "W0000 00:00:1725880057.435075   12318 inference_feedback_manager.cc:114] Feedback manager requires a model with a single signature inference. Disabling support for feedback tensors.\n"
     ]
    },
    {
     "name": "stdout",
     "output_type": "stream",
     "text": [
      "INFO:     127.0.0.1:41696 - \"POST /eye-tracking HTTP/1.1\" 200 OK\n",
      "INFO:     127.0.0.1:41700 - \"POST /pose-estimate HTTP/1.1\" 200 OK\n",
      "INFO:     127.0.0.1:41708 - \"POST /eye-tracking HTTP/1.1\" 200 OK\n",
      "INFO:     127.0.0.1:41722 - \"POST /pose-estimate HTTP/1.1\" 200 OK\n"
     ]
    },
    {
     "name": "stderr",
     "output_type": "stream",
     "text": [
      "W0000 00:00:1725880057.446566   12320 inference_feedback_manager.cc:114] Feedback manager requires a model with a single signature inference. Disabling support for feedback tensors.\n",
      "I0000 00:00:1725880057.519724    6179 gl_context_egl.cc:85] Successfully initialized EGL. Major : 1 Minor: 5\n",
      "I0000 00:00:1725880057.532880   12342 gl_context.cc:357] GL version: 3.2 (OpenGL ES 3.2 NVIDIA 535.146.02), renderer: NVIDIA GeForce RTX 3060/PCIe/SSE2\n",
      "W0000 00:00:1725880057.535297   12336 inference_feedback_manager.cc:114] Feedback manager requires a model with a single signature inference. Disabling support for feedback tensors.\n",
      "W0000 00:00:1725880057.547022   12335 inference_feedback_manager.cc:114] Feedback manager requires a model with a single signature inference. Disabling support for feedback tensors.\n",
      "I0000 00:00:1725880057.621245    6179 gl_context_egl.cc:85] Successfully initialized EGL. Major : 1 Minor: 5\n",
      "I0000 00:00:1725880057.632738   12355 gl_context.cc:357] GL version: 3.2 (OpenGL ES 3.2 NVIDIA 535.146.02), renderer: NVIDIA GeForce RTX 3060/PCIe/SSE2\n",
      "W0000 00:00:1725880057.635601   12345 inference_feedback_manager.cc:114] Feedback manager requires a model with a single signature inference. Disabling support for feedback tensors.\n",
      "W0000 00:00:1725880057.646415   12344 inference_feedback_manager.cc:114] Feedback manager requires a model with a single signature inference. Disabling support for feedback tensors.\n"
     ]
    },
    {
     "name": "stdout",
     "output_type": "stream",
     "text": [
      "INFO:     127.0.0.1:41734 - \"POST /eye-tracking HTTP/1.1\" 200 OK\n",
      "INFO:     127.0.0.1:41738 - \"POST /pose-estimate HTTP/1.1\" 200 OK\n",
      "INFO:     127.0.0.1:41748 - \"POST /eye-tracking HTTP/1.1\" 200 OK\n",
      "INFO:     127.0.0.1:41760 - \"POST /pose-estimate HTTP/1.1\" 200 OK\n",
      "INFO:     127.0.0.1:41762 - \"POST /eye-tracking HTTP/1.1\" 200 OK\n",
      "INFO:     127.0.0.1:41776 - \"POST /pose-estimate HTTP/1.1\" 200 OK\n"
     ]
    },
    {
     "name": "stderr",
     "output_type": "stream",
     "text": [
      "I0000 00:00:1725880057.718541    6179 gl_context_egl.cc:85] Successfully initialized EGL. Major : 1 Minor: 5\n",
      "I0000 00:00:1725880057.733081   12369 gl_context.cc:357] GL version: 3.2 (OpenGL ES 3.2 NVIDIA 535.146.02), renderer: NVIDIA GeForce RTX 3060/PCIe/SSE2\n",
      "W0000 00:00:1725880057.735277   12357 inference_feedback_manager.cc:114] Feedback manager requires a model with a single signature inference. Disabling support for feedback tensors.\n",
      "W0000 00:00:1725880057.746533   12359 inference_feedback_manager.cc:114] Feedback manager requires a model with a single signature inference. Disabling support for feedback tensors.\n",
      "I0000 00:00:1725880057.817931    6179 gl_context_egl.cc:85] Successfully initialized EGL. Major : 1 Minor: 5\n",
      "I0000 00:00:1725880057.832562   12382 gl_context.cc:357] GL version: 3.2 (OpenGL ES 3.2 NVIDIA 535.146.02), renderer: NVIDIA GeForce RTX 3060/PCIe/SSE2\n",
      "W0000 00:00:1725880057.835567   12372 inference_feedback_manager.cc:114] Feedback manager requires a model with a single signature inference. Disabling support for feedback tensors.\n",
      "W0000 00:00:1725880057.846764   12371 inference_feedback_manager.cc:114] Feedback manager requires a model with a single signature inference. Disabling support for feedback tensors.\n",
      "I0000 00:00:1725880057.919643    6179 gl_context_egl.cc:85] Successfully initialized EGL. Major : 1 Minor: 5\n",
      "I0000 00:00:1725880057.932743   12396 gl_context.cc:357] GL version: 3.2 (OpenGL ES 3.2 NVIDIA 535.146.02), renderer: NVIDIA GeForce RTX 3060/PCIe/SSE2\n"
     ]
    },
    {
     "name": "stdout",
     "output_type": "stream",
     "text": [
      "INFO:     127.0.0.1:41792 - \"POST /eye-tracking HTTP/1.1\" 200 OK\n",
      "INFO:     127.0.0.1:41804 - \"POST /pose-estimate HTTP/1.1\" 200 OK\n",
      "INFO:     127.0.0.1:41806 - \"POST /eye-tracking HTTP/1.1\" 200 OK\n",
      "INFO:     127.0.0.1:41818 - \"POST /pose-estimate HTTP/1.1\" 200 OK\n"
     ]
    },
    {
     "name": "stderr",
     "output_type": "stream",
     "text": [
      "W0000 00:00:1725880057.934633   12387 inference_feedback_manager.cc:114] Feedback manager requires a model with a single signature inference. Disabling support for feedback tensors.\n",
      "W0000 00:00:1725880057.947696   12392 inference_feedback_manager.cc:114] Feedback manager requires a model with a single signature inference. Disabling support for feedback tensors.\n",
      "I0000 00:00:1725880058.022623    6179 gl_context_egl.cc:85] Successfully initialized EGL. Major : 1 Minor: 5\n",
      "I0000 00:00:1725880058.033618   12411 gl_context.cc:357] GL version: 3.2 (OpenGL ES 3.2 NVIDIA 535.146.02), renderer: NVIDIA GeForce RTX 3060/PCIe/SSE2\n",
      "W0000 00:00:1725880058.036482   12403 inference_feedback_manager.cc:114] Feedback manager requires a model with a single signature inference. Disabling support for feedback tensors.\n",
      "W0000 00:00:1725880058.047597   12402 inference_feedback_manager.cc:114] Feedback manager requires a model with a single signature inference. Disabling support for feedback tensors.\n",
      "I0000 00:00:1725880058.120105    6179 gl_context_egl.cc:85] Successfully initialized EGL. Major : 1 Minor: 5\n",
      "I0000 00:00:1725880058.132612   12424 gl_context.cc:357] GL version: 3.2 (OpenGL ES 3.2 NVIDIA 535.146.02), renderer: NVIDIA GeForce RTX 3060/PCIe/SSE2\n",
      "W0000 00:00:1725880058.134320   12414 inference_feedback_manager.cc:114] Feedback manager requires a model with a single signature inference. Disabling support for feedback tensors.\n"
     ]
    },
    {
     "name": "stdout",
     "output_type": "stream",
     "text": [
      "INFO:     127.0.0.1:41826 - \"POST /eye-tracking HTTP/1.1\" 200 OK\n",
      "INFO:     127.0.0.1:41838 - \"POST /pose-estimate HTTP/1.1\" 200 OK\n",
      "INFO:     127.0.0.1:41846 - \"POST /eye-tracking HTTP/1.1\" 200 OK\n",
      "INFO:     127.0.0.1:41862 - \"POST /pose-estimate HTTP/1.1\" 200 OK\n"
     ]
    },
    {
     "name": "stderr",
     "output_type": "stream",
     "text": [
      "W0000 00:00:1725880058.146036   12422 inference_feedback_manager.cc:114] Feedback manager requires a model with a single signature inference. Disabling support for feedback tensors.\n",
      "I0000 00:00:1725880058.219182    6179 gl_context_egl.cc:85] Successfully initialized EGL. Major : 1 Minor: 5\n",
      "I0000 00:00:1725880058.232681   12437 gl_context.cc:357] GL version: 3.2 (OpenGL ES 3.2 NVIDIA 535.146.02), renderer: NVIDIA GeForce RTX 3060/PCIe/SSE2\n",
      "W0000 00:00:1725880058.234719   12434 inference_feedback_manager.cc:114] Feedback manager requires a model with a single signature inference. Disabling support for feedback tensors.\n",
      "W0000 00:00:1725880058.246141   12426 inference_feedback_manager.cc:114] Feedback manager requires a model with a single signature inference. Disabling support for feedback tensors.\n",
      "I0000 00:00:1725880058.316662    6179 gl_context_egl.cc:85] Successfully initialized EGL. Major : 1 Minor: 5\n",
      "I0000 00:00:1725880058.332774   12450 gl_context.cc:357] GL version: 3.2 (OpenGL ES 3.2 NVIDIA 535.146.02), renderer: NVIDIA GeForce RTX 3060/PCIe/SSE2\n",
      "W0000 00:00:1725880058.335207   12439 inference_feedback_manager.cc:114] Feedback manager requires a model with a single signature inference. Disabling support for feedback tensors.\n",
      "W0000 00:00:1725880058.346334   12441 inference_feedback_manager.cc:114] Feedback manager requires a model with a single signature inference. Disabling support for feedback tensors.\n"
     ]
    },
    {
     "name": "stdout",
     "output_type": "stream",
     "text": [
      "INFO:     127.0.0.1:41864 - \"POST /eye-tracking HTTP/1.1\" 200 OK\n",
      "INFO:     127.0.0.1:41878 - \"POST /pose-estimate HTTP/1.1\" 200 OK\n",
      "INFO:     127.0.0.1:41884 - \"POST /eye-tracking HTTP/1.1\" 200 OK\n",
      "INFO:     127.0.0.1:41888 - \"POST /pose-estimate HTTP/1.1\" 200 OK\n",
      "INFO:     127.0.0.1:41890 - \"POST /eye-tracking HTTP/1.1\" 200 OK\n",
      "INFO:     127.0.0.1:41900 - \"POST /pose-estimate HTTP/1.1\" 200 OK\n"
     ]
    },
    {
     "name": "stderr",
     "output_type": "stream",
     "text": [
      "I0000 00:00:1725880058.416412    6179 gl_context_egl.cc:85] Successfully initialized EGL. Major : 1 Minor: 5\n",
      "I0000 00:00:1725880058.432344   12463 gl_context.cc:357] GL version: 3.2 (OpenGL ES 3.2 NVIDIA 535.146.02), renderer: NVIDIA GeForce RTX 3060/PCIe/SSE2\n",
      "W0000 00:00:1725880058.435292   12458 inference_feedback_manager.cc:114] Feedback manager requires a model with a single signature inference. Disabling support for feedback tensors.\n",
      "W0000 00:00:1725880058.446071   12454 inference_feedback_manager.cc:114] Feedback manager requires a model with a single signature inference. Disabling support for feedback tensors.\n",
      "I0000 00:00:1725880058.518177    6179 gl_context_egl.cc:85] Successfully initialized EGL. Major : 1 Minor: 5\n",
      "I0000 00:00:1725880058.542627   12476 gl_context.cc:357] GL version: 3.2 (OpenGL ES 3.2 NVIDIA 535.146.02), renderer: NVIDIA GeForce RTX 3060/PCIe/SSE2\n",
      "W0000 00:00:1725880058.545790   12467 inference_feedback_manager.cc:114] Feedback manager requires a model with a single signature inference. Disabling support for feedback tensors.\n",
      "W0000 00:00:1725880058.557089   12466 inference_feedback_manager.cc:114] Feedback manager requires a model with a single signature inference. Disabling support for feedback tensors.\n"
     ]
    },
    {
     "name": "stdout",
     "output_type": "stream",
     "text": [
      "INFO:     127.0.0.1:41902 - \"POST /eye-tracking HTTP/1.1\" 200 OK\n",
      "INFO:     127.0.0.1:41912 - \"POST /pose-estimate HTTP/1.1\" 200 OK\n",
      "INFO:     127.0.0.1:41920 - \"POST /eye-tracking HTTP/1.1\" 200 OK\n",
      "INFO:     127.0.0.1:41930 - \"POST /pose-estimate HTTP/1.1\" 200 OK\n"
     ]
    },
    {
     "name": "stderr",
     "output_type": "stream",
     "text": [
      "I0000 00:00:1725880058.631697    6179 gl_context_egl.cc:85] Successfully initialized EGL. Major : 1 Minor: 5\n",
      "I0000 00:00:1725880058.638680   12489 gl_context.cc:357] GL version: 3.2 (OpenGL ES 3.2 NVIDIA 535.146.02), renderer: NVIDIA GeForce RTX 3060/PCIe/SSE2\n",
      "W0000 00:00:1725880058.641706   12481 inference_feedback_manager.cc:114] Feedback manager requires a model with a single signature inference. Disabling support for feedback tensors.\n",
      "W0000 00:00:1725880058.652306   12477 inference_feedback_manager.cc:114] Feedback manager requires a model with a single signature inference. Disabling support for feedback tensors.\n",
      "I0000 00:00:1725880058.724621    6179 gl_context_egl.cc:85] Successfully initialized EGL. Major : 1 Minor: 5\n",
      "I0000 00:00:1725880058.732365   12502 gl_context.cc:357] GL version: 3.2 (OpenGL ES 3.2 NVIDIA 535.146.02), renderer: NVIDIA GeForce RTX 3060/PCIe/SSE2\n",
      "W0000 00:00:1725880058.735289   12492 inference_feedback_manager.cc:114] Feedback manager requires a model with a single signature inference. Disabling support for feedback tensors.\n",
      "W0000 00:00:1725880058.746802   12490 inference_feedback_manager.cc:114] Feedback manager requires a model with a single signature inference. Disabling support for feedback tensors.\n",
      "I0000 00:00:1725880058.818942    6179 gl_context_egl.cc:85] Successfully initialized EGL. Major : 1 Minor: 5\n",
      "I0000 00:00:1725880058.832504   12515 gl_context.cc:357] GL version: 3.2 (OpenGL ES 3.2 NVIDIA 535.146.02), renderer: NVIDIA GeForce RTX 3060/PCIe/SSE2\n",
      "W0000 00:00:1725880058.834166   12512 inference_feedback_manager.cc:114] Feedback manager requires a model with a single signature inference. Disabling support for feedback tensors.\n",
      "W0000 00:00:1725880058.840280   12504 inference_feedback_manager.cc:114] Feedback manager requires a model with a single signature inference. Disabling support for feedback tensors.\n"
     ]
    },
    {
     "name": "stdout",
     "output_type": "stream",
     "text": [
      "INFO:     127.0.0.1:41932 - \"POST /eye-tracking HTTP/1.1\" 200 OK\n",
      "INFO:     127.0.0.1:41946 - \"POST /pose-estimate HTTP/1.1\" 200 OK\n",
      "INFO:     127.0.0.1:41958 - \"POST /eye-tracking HTTP/1.1\" 200 OK\n",
      "INFO:     127.0.0.1:41968 - \"POST /pose-estimate HTTP/1.1\" 200 OK\n",
      "INFO:     127.0.0.1:41984 - \"POST /eye-tracking HTTP/1.1\" 200 OK\n",
      "INFO:     127.0.0.1:41992 - \"POST /pose-estimate HTTP/1.1\" 200 OK\n"
     ]
    },
    {
     "name": "stderr",
     "output_type": "stream",
     "text": [
      "I0000 00:00:1725880058.910703    6179 gl_context_egl.cc:85] Successfully initialized EGL. Major : 1 Minor: 5\n",
      "I0000 00:00:1725880058.932382   12528 gl_context.cc:357] GL version: 3.2 (OpenGL ES 3.2 NVIDIA 535.146.02), renderer: NVIDIA GeForce RTX 3060/PCIe/SSE2\n",
      "W0000 00:00:1725880058.935247   12521 inference_feedback_manager.cc:114] Feedback manager requires a model with a single signature inference. Disabling support for feedback tensors.\n",
      "W0000 00:00:1725880058.946215   12518 inference_feedback_manager.cc:114] Feedback manager requires a model with a single signature inference. Disabling support for feedback tensors.\n",
      "I0000 00:00:1725880059.014771    6179 gl_context_egl.cc:85] Successfully initialized EGL. Major : 1 Minor: 5\n",
      "I0000 00:00:1725880059.032600   12541 gl_context.cc:357] GL version: 3.2 (OpenGL ES 3.2 NVIDIA 535.146.02), renderer: NVIDIA GeForce RTX 3060/PCIe/SSE2\n",
      "W0000 00:00:1725880059.034994   12536 inference_feedback_manager.cc:114] Feedback manager requires a model with a single signature inference. Disabling support for feedback tensors.\n",
      "W0000 00:00:1725880059.047915   12534 inference_feedback_manager.cc:114] Feedback manager requires a model with a single signature inference. Disabling support for feedback tensors.\n",
      "I0000 00:00:1725880059.118684    6179 gl_context_egl.cc:85] Successfully initialized EGL. Major : 1 Minor: 5\n",
      "I0000 00:00:1725880059.132719   12554 gl_context.cc:357] GL version: 3.2 (OpenGL ES 3.2 NVIDIA 535.146.02), renderer: NVIDIA GeForce RTX 3060/PCIe/SSE2\n"
     ]
    },
    {
     "name": "stdout",
     "output_type": "stream",
     "text": [
      "INFO:     127.0.0.1:42008 - \"POST /eye-tracking HTTP/1.1\" 200 OK\n",
      "INFO:     127.0.0.1:42024 - \"POST /pose-estimate HTTP/1.1\" 200 OK\n",
      "INFO:     127.0.0.1:42026 - \"POST /eye-tracking HTTP/1.1\" 200 OK\n",
      "INFO:     127.0.0.1:42042 - \"POST /pose-estimate HTTP/1.1\" 200 OK\n"
     ]
    },
    {
     "name": "stderr",
     "output_type": "stream",
     "text": [
      "W0000 00:00:1725880059.134852   12542 inference_feedback_manager.cc:114] Feedback manager requires a model with a single signature inference. Disabling support for feedback tensors.\n",
      "W0000 00:00:1725880059.147080   12549 inference_feedback_manager.cc:114] Feedback manager requires a model with a single signature inference. Disabling support for feedback tensors.\n",
      "I0000 00:00:1725880059.217780    6179 gl_context_egl.cc:85] Successfully initialized EGL. Major : 1 Minor: 5\n",
      "I0000 00:00:1725880059.232739   12567 gl_context.cc:357] GL version: 3.2 (OpenGL ES 3.2 NVIDIA 535.146.02), renderer: NVIDIA GeForce RTX 3060/PCIe/SSE2\n",
      "W0000 00:00:1725880059.235570   12556 inference_feedback_manager.cc:114] Feedback manager requires a model with a single signature inference. Disabling support for feedback tensors.\n",
      "W0000 00:00:1725880059.246618   12565 inference_feedback_manager.cc:114] Feedback manager requires a model with a single signature inference. Disabling support for feedback tensors.\n",
      "I0000 00:00:1725880059.319597    6179 gl_context_egl.cc:85] Successfully initialized EGL. Major : 1 Minor: 5\n",
      "I0000 00:00:1725880059.332361   12580 gl_context.cc:357] GL version: 3.2 (OpenGL ES 3.2 NVIDIA 535.146.02), renderer: NVIDIA GeForce RTX 3060/PCIe/SSE2\n",
      "W0000 00:00:1725880059.334011   12568 inference_feedback_manager.cc:114] Feedback manager requires a model with a single signature inference. Disabling support for feedback tensors.\n"
     ]
    },
    {
     "name": "stdout",
     "output_type": "stream",
     "text": [
      "INFO:     127.0.0.1:42056 - \"POST /eye-tracking HTTP/1.1\" 200 OK\n",
      "INFO:     127.0.0.1:42072 - \"POST /pose-estimate HTTP/1.1\" 200 OK\n",
      "INFO:     127.0.0.1:42088 - \"POST /eye-tracking HTTP/1.1\" 200 OK\n",
      "INFO:     127.0.0.1:42098 - \"POST /pose-estimate HTTP/1.1\" 200 OK\n"
     ]
    },
    {
     "name": "stderr",
     "output_type": "stream",
     "text": [
      "W0000 00:00:1725880059.345638   12570 inference_feedback_manager.cc:114] Feedback manager requires a model with a single signature inference. Disabling support for feedback tensors.\n",
      "I0000 00:00:1725880059.413312    6179 gl_context_egl.cc:85] Successfully initialized EGL. Major : 1 Minor: 5\n",
      "I0000 00:00:1725880059.432336   12593 gl_context.cc:357] GL version: 3.2 (OpenGL ES 3.2 NVIDIA 535.146.02), renderer: NVIDIA GeForce RTX 3060/PCIe/SSE2\n",
      "W0000 00:00:1725880059.434865   12584 inference_feedback_manager.cc:114] Feedback manager requires a model with a single signature inference. Disabling support for feedback tensors.\n",
      "W0000 00:00:1725880059.445894   12582 inference_feedback_manager.cc:114] Feedback manager requires a model with a single signature inference. Disabling support for feedback tensors.\n",
      "I0000 00:00:1725880059.516268    6179 gl_context_egl.cc:85] Successfully initialized EGL. Major : 1 Minor: 5\n",
      "I0000 00:00:1725880059.542938   12606 gl_context.cc:357] GL version: 3.2 (OpenGL ES 3.2 NVIDIA 535.146.02), renderer: NVIDIA GeForce RTX 3060/PCIe/SSE2\n",
      "W0000 00:00:1725880059.545532   12597 inference_feedback_manager.cc:114] Feedback manager requires a model with a single signature inference. Disabling support for feedback tensors.\n"
     ]
    },
    {
     "name": "stdout",
     "output_type": "stream",
     "text": [
      "INFO:     127.0.0.1:42104 - \"POST /eye-tracking HTTP/1.1\" 200 OK\n",
      "INFO:     127.0.0.1:42112 - \"POST /pose-estimate HTTP/1.1\" 200 OK\n",
      "INFO:     127.0.0.1:42116 - \"POST /eye-tracking HTTP/1.1\" 200 OK\n",
      "INFO:     127.0.0.1:42130 - \"POST /pose-estimate HTTP/1.1\" 200 OK\n",
      "INFO:     127.0.0.1:42134 - \"POST /eye-tracking HTTP/1.1\" 200 OK\n"
     ]
    },
    {
     "name": "stderr",
     "output_type": "stream",
     "text": [
      "W0000 00:00:1725880059.556824   12596 inference_feedback_manager.cc:114] Feedback manager requires a model with a single signature inference. Disabling support for feedback tensors.\n",
      "I0000 00:00:1725880059.627817    6179 gl_context_egl.cc:85] Successfully initialized EGL. Major : 1 Minor: 5\n",
      "I0000 00:00:1725880059.634885   12619 gl_context.cc:357] GL version: 3.2 (OpenGL ES 3.2 NVIDIA 535.146.02), renderer: NVIDIA GeForce RTX 3060/PCIe/SSE2\n",
      "W0000 00:00:1725880059.637566   12611 inference_feedback_manager.cc:114] Feedback manager requires a model with a single signature inference. Disabling support for feedback tensors.\n",
      "W0000 00:00:1725880059.648466   12617 inference_feedback_manager.cc:114] Feedback manager requires a model with a single signature inference. Disabling support for feedback tensors.\n",
      "I0000 00:00:1725880059.719609    6179 gl_context_egl.cc:85] Successfully initialized EGL. Major : 1 Minor: 5\n",
      "I0000 00:00:1725880059.733375   12633 gl_context.cc:357] GL version: 3.2 (OpenGL ES 3.2 NVIDIA 535.146.02), renderer: NVIDIA GeForce RTX 3060/PCIe/SSE2\n",
      "W0000 00:00:1725880059.735381   12624 inference_feedback_manager.cc:114] Feedback manager requires a model with a single signature inference. Disabling support for feedback tensors.\n",
      "W0000 00:00:1725880059.746755   12623 inference_feedback_manager.cc:114] Feedback manager requires a model with a single signature inference. Disabling support for feedback tensors.\n"
     ]
    },
    {
     "name": "stdout",
     "output_type": "stream",
     "text": [
      "INFO:     127.0.0.1:42140 - \"POST /pose-estimate HTTP/1.1\" 200 OK\n",
      "INFO:     127.0.0.1:42156 - \"POST /eye-tracking HTTP/1.1\" 200 OK\n",
      "INFO:     127.0.0.1:42160 - \"POST /pose-estimate HTTP/1.1\" 200 OK\n",
      "INFO:     127.0.0.1:42170 - \"POST /eye-tracking HTTP/1.1\" 200 OK\n",
      "INFO:     127.0.0.1:42180 - \"POST /pose-estimate HTTP/1.1\" 200 OK\n"
     ]
    },
    {
     "name": "stderr",
     "output_type": "stream",
     "text": [
      "I0000 00:00:1725880059.816363    6179 gl_context_egl.cc:85] Successfully initialized EGL. Major : 1 Minor: 5\n",
      "I0000 00:00:1725880059.832747   12646 gl_context.cc:357] GL version: 3.2 (OpenGL ES 3.2 NVIDIA 535.146.02), renderer: NVIDIA GeForce RTX 3060/PCIe/SSE2\n",
      "W0000 00:00:1725880059.834405   12636 inference_feedback_manager.cc:114] Feedback manager requires a model with a single signature inference. Disabling support for feedback tensors.\n",
      "W0000 00:00:1725880059.845154   12637 inference_feedback_manager.cc:114] Feedback manager requires a model with a single signature inference. Disabling support for feedback tensors.\n",
      "I0000 00:00:1725880059.916230    6179 gl_context_egl.cc:85] Successfully initialized EGL. Major : 1 Minor: 5\n",
      "I0000 00:00:1725880059.932715   12659 gl_context.cc:357] GL version: 3.2 (OpenGL ES 3.2 NVIDIA 535.146.02), renderer: NVIDIA GeForce RTX 3060/PCIe/SSE2\n",
      "W0000 00:00:1725880059.934450   12653 inference_feedback_manager.cc:114] Feedback manager requires a model with a single signature inference. Disabling support for feedback tensors.\n",
      "W0000 00:00:1725880059.946144   12650 inference_feedback_manager.cc:114] Feedback manager requires a model with a single signature inference. Disabling support for feedback tensors.\n",
      "I0000 00:00:1725880060.018328    6179 gl_context_egl.cc:85] Successfully initialized EGL. Major : 1 Minor: 5\n",
      "I0000 00:00:1725880060.033093   12672 gl_context.cc:357] GL version: 3.2 (OpenGL ES 3.2 NVIDIA 535.146.02), renderer: NVIDIA GeForce RTX 3060/PCIe/SSE2\n"
     ]
    },
    {
     "name": "stdout",
     "output_type": "stream",
     "text": [
      "INFO:     127.0.0.1:42190 - \"POST /eye-tracking HTTP/1.1\" 200 OK\n",
      "INFO:     127.0.0.1:42198 - \"POST /pose-estimate HTTP/1.1\" 200 OK\n",
      "INFO:     127.0.0.1:42206 - \"POST /eye-tracking HTTP/1.1\" 200 OK\n",
      "INFO:     127.0.0.1:42220 - \"POST /pose-estimate HTTP/1.1\" 200 OK\n"
     ]
    },
    {
     "name": "stderr",
     "output_type": "stream",
     "text": [
      "W0000 00:00:1725880060.035856   12661 inference_feedback_manager.cc:114] Feedback manager requires a model with a single signature inference. Disabling support for feedback tensors.\n",
      "W0000 00:00:1725880060.047244   12660 inference_feedback_manager.cc:114] Feedback manager requires a model with a single signature inference. Disabling support for feedback tensors.\n",
      "I0000 00:00:1725880060.115754    6179 gl_context_egl.cc:85] Successfully initialized EGL. Major : 1 Minor: 5\n",
      "I0000 00:00:1725880060.133398   12685 gl_context.cc:357] GL version: 3.2 (OpenGL ES 3.2 NVIDIA 535.146.02), renderer: NVIDIA GeForce RTX 3060/PCIe/SSE2\n",
      "W0000 00:00:1725880060.135448   12676 inference_feedback_manager.cc:114] Feedback manager requires a model with a single signature inference. Disabling support for feedback tensors.\n",
      "W0000 00:00:1725880060.146963   12678 inference_feedback_manager.cc:114] Feedback manager requires a model with a single signature inference. Disabling support for feedback tensors.\n",
      "I0000 00:00:1725880060.224090    6179 gl_context_egl.cc:85] Successfully initialized EGL. Major : 1 Minor: 5\n",
      "I0000 00:00:1725880060.233176   12698 gl_context.cc:357] GL version: 3.2 (OpenGL ES 3.2 NVIDIA 535.146.02), renderer: NVIDIA GeForce RTX 3060/PCIe/SSE2\n",
      "W0000 00:00:1725880060.235991   12691 inference_feedback_manager.cc:114] Feedback manager requires a model with a single signature inference. Disabling support for feedback tensors.\n"
     ]
    },
    {
     "name": "stdout",
     "output_type": "stream",
     "text": [
      "INFO:     127.0.0.1:42232 - \"POST /eye-tracking HTTP/1.1\" 200 OK\n",
      "INFO:     127.0.0.1:42238 - \"POST /pose-estimate HTTP/1.1\" 200 OK\n",
      "INFO:     127.0.0.1:42248 - \"POST /eye-tracking HTTP/1.1\" 200 OK\n",
      "INFO:     127.0.0.1:42252 - \"POST /pose-estimate HTTP/1.1\" 200 OK\n"
     ]
    },
    {
     "name": "stderr",
     "output_type": "stream",
     "text": [
      "W0000 00:00:1725880060.246847   12687 inference_feedback_manager.cc:114] Feedback manager requires a model with a single signature inference. Disabling support for feedback tensors.\n",
      "I0000 00:00:1725880060.321434    6179 gl_context_egl.cc:85] Successfully initialized EGL. Major : 1 Minor: 5\n",
      "I0000 00:00:1725880060.332696   12711 gl_context.cc:357] GL version: 3.2 (OpenGL ES 3.2 NVIDIA 535.146.02), renderer: NVIDIA GeForce RTX 3060/PCIe/SSE2\n",
      "W0000 00:00:1725880060.335495   12708 inference_feedback_manager.cc:114] Feedback manager requires a model with a single signature inference. Disabling support for feedback tensors.\n",
      "W0000 00:00:1725880060.341756   12702 inference_feedback_manager.cc:114] Feedback manager requires a model with a single signature inference. Disabling support for feedback tensors.\n",
      "I0000 00:00:1725880060.415021    6179 gl_context_egl.cc:85] Successfully initialized EGL. Major : 1 Minor: 5\n",
      "I0000 00:00:1725880060.432914   12724 gl_context.cc:357] GL version: 3.2 (OpenGL ES 3.2 NVIDIA 535.146.02), renderer: NVIDIA GeForce RTX 3060/PCIe/SSE2\n",
      "W0000 00:00:1725880060.435343   12715 inference_feedback_manager.cc:114] Feedback manager requires a model with a single signature inference. Disabling support for feedback tensors.\n",
      "W0000 00:00:1725880060.446502   12712 inference_feedback_manager.cc:114] Feedback manager requires a model with a single signature inference. Disabling support for feedback tensors.\n"
     ]
    },
    {
     "name": "stdout",
     "output_type": "stream",
     "text": [
      "INFO:     127.0.0.1:42266 - \"POST /eye-tracking HTTP/1.1\" 200 OK\n",
      "INFO:     127.0.0.1:42272 - \"POST /pose-estimate HTTP/1.1\" 200 OK\n",
      "INFO:     127.0.0.1:42288 - \"POST /eye-tracking HTTP/1.1\" 200 OK\n",
      "INFO:     127.0.0.1:42304 - \"POST /pose-estimate HTTP/1.1\" 200 OK\n",
      "INFO:     127.0.0.1:42306 - \"POST /eye-tracking HTTP/1.1\" 200 OK\n",
      "INFO:     127.0.0.1:42318 - \"POST /pose-estimate HTTP/1.1\" 200 OK\n"
     ]
    },
    {
     "name": "stderr",
     "output_type": "stream",
     "text": [
      "I0000 00:00:1725880060.523414    6179 gl_context_egl.cc:85] Successfully initialized EGL. Major : 1 Minor: 5\n",
      "I0000 00:00:1725880060.542633   12737 gl_context.cc:357] GL version: 3.2 (OpenGL ES 3.2 NVIDIA 535.146.02), renderer: NVIDIA GeForce RTX 3060/PCIe/SSE2\n",
      "W0000 00:00:1725880060.545349   12726 inference_feedback_manager.cc:114] Feedback manager requires a model with a single signature inference. Disabling support for feedback tensors.\n",
      "W0000 00:00:1725880060.556790   12733 inference_feedback_manager.cc:114] Feedback manager requires a model with a single signature inference. Disabling support for feedback tensors.\n",
      "I0000 00:00:1725880060.629846    6179 gl_context_egl.cc:85] Successfully initialized EGL. Major : 1 Minor: 5\n",
      "I0000 00:00:1725880060.636908   12750 gl_context.cc:357] GL version: 3.2 (OpenGL ES 3.2 NVIDIA 535.146.02), renderer: NVIDIA GeForce RTX 3060/PCIe/SSE2\n",
      "W0000 00:00:1725880060.639703   12742 inference_feedback_manager.cc:114] Feedback manager requires a model with a single signature inference. Disabling support for feedback tensors.\n",
      "W0000 00:00:1725880060.650584   12739 inference_feedback_manager.cc:114] Feedback manager requires a model with a single signature inference. Disabling support for feedback tensors.\n",
      "I0000 00:00:1725880060.730575    6179 gl_context_egl.cc:85] Successfully initialized EGL. Major : 1 Minor: 5\n",
      "I0000 00:00:1725880060.737670   12763 gl_context.cc:357] GL version: 3.2 (OpenGL ES 3.2 NVIDIA 535.146.02), renderer: NVIDIA GeForce RTX 3060/PCIe/SSE2\n",
      "W0000 00:00:1725880060.740326   12752 inference_feedback_manager.cc:114] Feedback manager requires a model with a single signature inference. Disabling support for feedback tensors.\n"
     ]
    },
    {
     "name": "stdout",
     "output_type": "stream",
     "text": [
      "INFO:     127.0.0.1:42334 - \"POST /eye-tracking HTTP/1.1\" 200 OK\n",
      "INFO:     127.0.0.1:42348 - \"POST /pose-estimate HTTP/1.1\" 200 OK\n",
      "INFO:     127.0.0.1:42362 - \"POST /eye-tracking HTTP/1.1\" 200 OK\n",
      "INFO:     127.0.0.1:42376 - \"POST /pose-estimate HTTP/1.1\" 200 OK\n"
     ]
    },
    {
     "name": "stderr",
     "output_type": "stream",
     "text": [
      "W0000 00:00:1725880060.751622   12754 inference_feedback_manager.cc:114] Feedback manager requires a model with a single signature inference. Disabling support for feedback tensors.\n",
      "I0000 00:00:1725880060.828401    6179 gl_context_egl.cc:85] Successfully initialized EGL. Major : 1 Minor: 5\n",
      "I0000 00:00:1725880060.835851   12776 gl_context.cc:357] GL version: 3.2 (OpenGL ES 3.2 NVIDIA 535.146.02), renderer: NVIDIA GeForce RTX 3060/PCIe/SSE2\n",
      "W0000 00:00:1725880060.838734   12768 inference_feedback_manager.cc:114] Feedback manager requires a model with a single signature inference. Disabling support for feedback tensors.\n",
      "W0000 00:00:1725880060.850360   12774 inference_feedback_manager.cc:114] Feedback manager requires a model with a single signature inference. Disabling support for feedback tensors.\n",
      "I0000 00:00:1725880060.926790    6179 gl_context_egl.cc:85] Successfully initialized EGL. Major : 1 Minor: 5\n",
      "I0000 00:00:1725880060.934024   12789 gl_context.cc:357] GL version: 3.2 (OpenGL ES 3.2 NVIDIA 535.146.02), renderer: NVIDIA GeForce RTX 3060/PCIe/SSE2\n",
      "W0000 00:00:1725880060.936937   12782 inference_feedback_manager.cc:114] Feedback manager requires a model with a single signature inference. Disabling support for feedback tensors.\n",
      "W0000 00:00:1725880060.948154   12780 inference_feedback_manager.cc:114] Feedback manager requires a model with a single signature inference. Disabling support for feedback tensors.\n"
     ]
    },
    {
     "name": "stdout",
     "output_type": "stream",
     "text": [
      "INFO:     127.0.0.1:42378 - \"POST /eye-tracking HTTP/1.1\" 200 OK\n",
      "INFO:     127.0.0.1:42384 - \"POST /pose-estimate HTTP/1.1\" 200 OK\n",
      "INFO:     127.0.0.1:42392 - \"POST /eye-tracking HTTP/1.1\" 200 OK\n",
      "INFO:     127.0.0.1:42406 - \"POST /pose-estimate HTTP/1.1\" 200 OK\n",
      "INFO:     127.0.0.1:42420 - \"POST /eye-tracking HTTP/1.1\" 200 OK\n",
      "INFO:     127.0.0.1:42422 - \"POST /pose-estimate HTTP/1.1\" 200 OK\n"
     ]
    },
    {
     "name": "stderr",
     "output_type": "stream",
     "text": [
      "I0000 00:00:1725880061.024664    6179 gl_context_egl.cc:85] Successfully initialized EGL. Major : 1 Minor: 5\n",
      "I0000 00:00:1725880061.032588   12802 gl_context.cc:357] GL version: 3.2 (OpenGL ES 3.2 NVIDIA 535.146.02), renderer: NVIDIA GeForce RTX 3060/PCIe/SSE2\n",
      "W0000 00:00:1725880061.034291   12791 inference_feedback_manager.cc:114] Feedback manager requires a model with a single signature inference. Disabling support for feedback tensors.\n",
      "W0000 00:00:1725880061.046146   12790 inference_feedback_manager.cc:114] Feedback manager requires a model with a single signature inference. Disabling support for feedback tensors.\n",
      "I0000 00:00:1725880061.124336    6179 gl_context_egl.cc:85] Successfully initialized EGL. Major : 1 Minor: 5\n",
      "I0000 00:00:1725880061.132741   12815 gl_context.cc:357] GL version: 3.2 (OpenGL ES 3.2 NVIDIA 535.146.02), renderer: NVIDIA GeForce RTX 3060/PCIe/SSE2\n",
      "W0000 00:00:1725880061.135620   12803 inference_feedback_manager.cc:114] Feedback manager requires a model with a single signature inference. Disabling support for feedback tensors.\n",
      "W0000 00:00:1725880061.146545   12804 inference_feedback_manager.cc:114] Feedback manager requires a model with a single signature inference. Disabling support for feedback tensors.\n",
      "I0000 00:00:1725880061.219962    6179 gl_context_egl.cc:85] Successfully initialized EGL. Major : 1 Minor: 5\n"
     ]
    },
    {
     "name": "stdout",
     "output_type": "stream",
     "text": [
      "INFO:     127.0.0.1:42424 - \"POST /eye-tracking HTTP/1.1\" 200 OK\n",
      "INFO:     127.0.0.1:42428 - \"POST /pose-estimate HTTP/1.1\" 200 OK\n",
      "INFO:     127.0.0.1:42434 - \"POST /eye-tracking HTTP/1.1\" 200 OK\n",
      "INFO:     127.0.0.1:42444 - \"POST /pose-estimate HTTP/1.1\" 200 OK\n"
     ]
    },
    {
     "name": "stderr",
     "output_type": "stream",
     "text": [
      "I0000 00:00:1725880061.233268   12828 gl_context.cc:357] GL version: 3.2 (OpenGL ES 3.2 NVIDIA 535.146.02), renderer: NVIDIA GeForce RTX 3060/PCIe/SSE2\n",
      "W0000 00:00:1725880061.235809   12816 inference_feedback_manager.cc:114] Feedback manager requires a model with a single signature inference. Disabling support for feedback tensors.\n",
      "W0000 00:00:1725880061.246704   12819 inference_feedback_manager.cc:114] Feedback manager requires a model with a single signature inference. Disabling support for feedback tensors.\n",
      "I0000 00:00:1725880061.326848    6179 gl_context_egl.cc:85] Successfully initialized EGL. Major : 1 Minor: 5\n",
      "I0000 00:00:1725880061.334358   12841 gl_context.cc:357] GL version: 3.2 (OpenGL ES 3.2 NVIDIA 535.146.02), renderer: NVIDIA GeForce RTX 3060/PCIe/SSE2\n",
      "W0000 00:00:1725880061.336458   12834 inference_feedback_manager.cc:114] Feedback manager requires a model with a single signature inference. Disabling support for feedback tensors.\n",
      "W0000 00:00:1725880061.347846   12829 inference_feedback_manager.cc:114] Feedback manager requires a model with a single signature inference. Disabling support for feedback tensors.\n",
      "I0000 00:00:1725880061.421680    6179 gl_context_egl.cc:85] Successfully initialized EGL. Major : 1 Minor: 5\n",
      "I0000 00:00:1725880061.432545   12854 gl_context.cc:357] GL version: 3.2 (OpenGL ES 3.2 NVIDIA 535.146.02), renderer: NVIDIA GeForce RTX 3060/PCIe/SSE2\n"
     ]
    },
    {
     "name": "stdout",
     "output_type": "stream",
     "text": [
      "INFO:     127.0.0.1:42448 - \"POST /eye-tracking HTTP/1.1\" 200 OK\n",
      "INFO:     127.0.0.1:42462 - \"POST /pose-estimate HTTP/1.1\" 200 OK\n",
      "INFO:     127.0.0.1:42464 - \"POST /eye-tracking HTTP/1.1\" 200 OK\n",
      "INFO:     127.0.0.1:42476 - \"POST /pose-estimate HTTP/1.1\" 200 OK\n"
     ]
    },
    {
     "name": "stderr",
     "output_type": "stream",
     "text": [
      "W0000 00:00:1725880061.435452   12844 inference_feedback_manager.cc:114] Feedback manager requires a model with a single signature inference. Disabling support for feedback tensors.\n",
      "W0000 00:00:1725880061.446583   12843 inference_feedback_manager.cc:114] Feedback manager requires a model with a single signature inference. Disabling support for feedback tensors.\n",
      "I0000 00:00:1725880061.525327    6179 gl_context_egl.cc:85] Successfully initialized EGL. Major : 1 Minor: 5\n",
      "I0000 00:00:1725880061.534273   12867 gl_context.cc:357] GL version: 3.2 (OpenGL ES 3.2 NVIDIA 535.146.02), renderer: NVIDIA GeForce RTX 3060/PCIe/SSE2\n",
      "W0000 00:00:1725880061.537127   12858 inference_feedback_manager.cc:114] Feedback manager requires a model with a single signature inference. Disabling support for feedback tensors.\n",
      "W0000 00:00:1725880061.547917   12856 inference_feedback_manager.cc:114] Feedback manager requires a model with a single signature inference. Disabling support for feedback tensors.\n",
      "I0000 00:00:1725880061.623592    6179 gl_context_egl.cc:85] Successfully initialized EGL. Major : 1 Minor: 5\n",
      "I0000 00:00:1725880061.633801   12880 gl_context.cc:357] GL version: 3.2 (OpenGL ES 3.2 NVIDIA 535.146.02), renderer: NVIDIA GeForce RTX 3060/PCIe/SSE2\n"
     ]
    },
    {
     "name": "stdout",
     "output_type": "stream",
     "text": [
      "INFO:     127.0.0.1:42480 - \"POST /eye-tracking HTTP/1.1\" 200 OK\n",
      "INFO:     127.0.0.1:42492 - \"POST /pose-estimate HTTP/1.1\" 200 OK\n",
      "INFO:     127.0.0.1:42506 - \"POST /eye-tracking HTTP/1.1\" 200 OK\n",
      "INFO:     127.0.0.1:42518 - \"POST /pose-estimate HTTP/1.1\" 200 OK\n"
     ]
    },
    {
     "name": "stderr",
     "output_type": "stream",
     "text": [
      "W0000 00:00:1725880061.636688   12870 inference_feedback_manager.cc:114] Feedback manager requires a model with a single signature inference. Disabling support for feedback tensors.\n",
      "W0000 00:00:1725880061.647467   12869 inference_feedback_manager.cc:114] Feedback manager requires a model with a single signature inference. Disabling support for feedback tensors.\n",
      "I0000 00:00:1725880061.729935    6179 gl_context_egl.cc:85] Successfully initialized EGL. Major : 1 Minor: 5\n",
      "I0000 00:00:1725880061.744202   12894 gl_context.cc:357] GL version: 3.2 (OpenGL ES 3.2 NVIDIA 535.146.02), renderer: NVIDIA GeForce RTX 3060/PCIe/SSE2\n",
      "W0000 00:00:1725880061.746583   12887 inference_feedback_manager.cc:114] Feedback manager requires a model with a single signature inference. Disabling support for feedback tensors.\n",
      "W0000 00:00:1725880061.758109   12885 inference_feedback_manager.cc:114] Feedback manager requires a model with a single signature inference. Disabling support for feedback tensors.\n"
     ]
    },
    {
     "name": "stdout",
     "output_type": "stream",
     "text": [
      "INFO:     127.0.0.1:42532 - \"POST /eye-tracking HTTP/1.1\" 200 OK\n",
      "INFO:     127.0.0.1:42538 - \"POST /pose-estimate HTTP/1.1\" 200 OK\n",
      "INFO:     127.0.0.1:42542 - \"POST /eye-tracking HTTP/1.1\" 200 OK\n",
      "INFO:     127.0.0.1:42558 - \"POST /pose-estimate HTTP/1.1\" 200 OK\n"
     ]
    },
    {
     "name": "stderr",
     "output_type": "stream",
     "text": [
      "I0000 00:00:1725880061.833248    6179 gl_context_egl.cc:85] Successfully initialized EGL. Major : 1 Minor: 5\n",
      "I0000 00:00:1725880061.840435   12907 gl_context.cc:357] GL version: 3.2 (OpenGL ES 3.2 NVIDIA 535.146.02), renderer: NVIDIA GeForce RTX 3060/PCIe/SSE2\n",
      "W0000 00:00:1725880061.843519   12905 inference_feedback_manager.cc:114] Feedback manager requires a model with a single signature inference. Disabling support for feedback tensors.\n",
      "W0000 00:00:1725880061.854429   12903 inference_feedback_manager.cc:114] Feedback manager requires a model with a single signature inference. Disabling support for feedback tensors.\n",
      "I0000 00:00:1725880061.932416    6179 gl_context_egl.cc:85] Successfully initialized EGL. Major : 1 Minor: 5\n",
      "I0000 00:00:1725880061.940683   12920 gl_context.cc:357] GL version: 3.2 (OpenGL ES 3.2 NVIDIA 535.146.02), renderer: NVIDIA GeForce RTX 3060/PCIe/SSE2\n",
      "W0000 00:00:1725880061.943636   12917 inference_feedback_manager.cc:114] Feedback manager requires a model with a single signature inference. Disabling support for feedback tensors.\n",
      "W0000 00:00:1725880061.954462   12912 inference_feedback_manager.cc:114] Feedback manager requires a model with a single signature inference. Disabling support for feedback tensors.\n",
      "I0000 00:00:1725880062.029605    6179 gl_context_egl.cc:85] Successfully initialized EGL. Major : 1 Minor: 5\n",
      "I0000 00:00:1725880062.036631   12933 gl_context.cc:357] GL version: 3.2 (OpenGL ES 3.2 NVIDIA 535.146.02), renderer: NVIDIA GeForce RTX 3060/PCIe/SSE2\n",
      "W0000 00:00:1725880062.039306   12925 inference_feedback_manager.cc:114] Feedback manager requires a model with a single signature inference. Disabling support for feedback tensors.\n"
     ]
    },
    {
     "name": "stdout",
     "output_type": "stream",
     "text": [
      "INFO:     127.0.0.1:42566 - \"POST /eye-tracking HTTP/1.1\" 200 OK\n",
      "INFO:     127.0.0.1:42578 - \"POST /pose-estimate HTTP/1.1\" 200 OK\n",
      "INFO:     127.0.0.1:42588 - \"POST /eye-tracking HTTP/1.1\" 200 OK\n",
      "INFO:     127.0.0.1:42590 - \"POST /pose-estimate HTTP/1.1\" 200 OK\n",
      "INFO:     127.0.0.1:42596 - \"POST /eye-tracking HTTP/1.1\" 200 OK\n"
     ]
    },
    {
     "name": "stderr",
     "output_type": "stream",
     "text": [
      "W0000 00:00:1725880062.051396   12923 inference_feedback_manager.cc:114] Feedback manager requires a model with a single signature inference. Disabling support for feedback tensors.\n",
      "I0000 00:00:1725880062.126557    6179 gl_context_egl.cc:85] Successfully initialized EGL. Major : 1 Minor: 5\n",
      "I0000 00:00:1725880062.134199   12946 gl_context.cc:357] GL version: 3.2 (OpenGL ES 3.2 NVIDIA 535.146.02), renderer: NVIDIA GeForce RTX 3060/PCIe/SSE2\n",
      "W0000 00:00:1725880062.136918   12937 inference_feedback_manager.cc:114] Feedback manager requires a model with a single signature inference. Disabling support for feedback tensors.\n",
      "W0000 00:00:1725880062.147952   12935 inference_feedback_manager.cc:114] Feedback manager requires a model with a single signature inference. Disabling support for feedback tensors.\n",
      "I0000 00:00:1725880062.223899    6179 gl_context_egl.cc:85] Successfully initialized EGL. Major : 1 Minor: 5\n",
      "I0000 00:00:1725880062.233020   12959 gl_context.cc:357] GL version: 3.2 (OpenGL ES 3.2 NVIDIA 535.146.02), renderer: NVIDIA GeForce RTX 3060/PCIe/SSE2\n",
      "W0000 00:00:1725880062.235417   12949 inference_feedback_manager.cc:114] Feedback manager requires a model with a single signature inference. Disabling support for feedback tensors.\n",
      "W0000 00:00:1725880062.246782   12953 inference_feedback_manager.cc:114] Feedback manager requires a model with a single signature inference. Disabling support for feedback tensors.\n"
     ]
    },
    {
     "name": "stdout",
     "output_type": "stream",
     "text": [
      "INFO:     127.0.0.1:42602 - \"POST /pose-estimate HTTP/1.1\" 200 OK\n",
      "INFO:     127.0.0.1:42616 - \"POST /eye-tracking HTTP/1.1\" 200 OK\n",
      "INFO:     127.0.0.1:42618 - \"POST /pose-estimate HTTP/1.1\" 200 OK\n",
      "INFO:     127.0.0.1:42630 - \"POST /eye-tracking HTTP/1.1\" 200 OK\n",
      "INFO:     127.0.0.1:42632 - \"POST /pose-estimate HTTP/1.1\" 200 OK\n"
     ]
    },
    {
     "name": "stderr",
     "output_type": "stream",
     "text": [
      "I0000 00:00:1725880062.326925    6179 gl_context_egl.cc:85] Successfully initialized EGL. Major : 1 Minor: 5\n",
      "I0000 00:00:1725880062.334440   12972 gl_context.cc:357] GL version: 3.2 (OpenGL ES 3.2 NVIDIA 535.146.02), renderer: NVIDIA GeForce RTX 3060/PCIe/SSE2\n",
      "W0000 00:00:1725880062.337337   12967 inference_feedback_manager.cc:114] Feedback manager requires a model with a single signature inference. Disabling support for feedback tensors.\n",
      "W0000 00:00:1725880062.348538   12963 inference_feedback_manager.cc:114] Feedback manager requires a model with a single signature inference. Disabling support for feedback tensors.\n",
      "I0000 00:00:1725880062.425640    6179 gl_context_egl.cc:85] Successfully initialized EGL. Major : 1 Minor: 5\n",
      "I0000 00:00:1725880062.433156   12985 gl_context.cc:357] GL version: 3.2 (OpenGL ES 3.2 NVIDIA 535.146.02), renderer: NVIDIA GeForce RTX 3060/PCIe/SSE2\n",
      "W0000 00:00:1725880062.435590   12976 inference_feedback_manager.cc:114] Feedback manager requires a model with a single signature inference. Disabling support for feedback tensors.\n",
      "W0000 00:00:1725880062.446508   12974 inference_feedback_manager.cc:114] Feedback manager requires a model with a single signature inference. Disabling support for feedback tensors.\n",
      "I0000 00:00:1725880062.520393    6179 gl_context_egl.cc:85] Successfully initialized EGL. Major : 1 Minor: 5\n",
      "I0000 00:00:1725880062.533657   12998 gl_context.cc:357] GL version: 3.2 (OpenGL ES 3.2 NVIDIA 535.146.02), renderer: NVIDIA GeForce RTX 3060/PCIe/SSE2\n",
      "W0000 00:00:1725880062.535280   12994 inference_feedback_manager.cc:114] Feedback manager requires a model with a single signature inference. Disabling support for feedback tensors.\n"
     ]
    },
    {
     "name": "stdout",
     "output_type": "stream",
     "text": [
      "INFO:     127.0.0.1:42646 - \"POST /eye-tracking HTTP/1.1\" 200 OK\n",
      "INFO:     127.0.0.1:42662 - \"POST /pose-estimate HTTP/1.1\" 200 OK\n",
      "INFO:     127.0.0.1:42666 - \"POST /eye-tracking HTTP/1.1\" 200 OK\n",
      "INFO:     127.0.0.1:42682 - \"POST /pose-estimate HTTP/1.1\" 200 OK\n"
     ]
    },
    {
     "name": "stderr",
     "output_type": "stream",
     "text": [
      "W0000 00:00:1725880062.547561   12986 inference_feedback_manager.cc:114] Feedback manager requires a model with a single signature inference. Disabling support for feedback tensors.\n",
      "I0000 00:00:1725880062.621322    6179 gl_context_egl.cc:85] Successfully initialized EGL. Major : 1 Minor: 5\n",
      "I0000 00:00:1725880062.632574   13011 gl_context.cc:357] GL version: 3.2 (OpenGL ES 3.2 NVIDIA 535.146.02), renderer: NVIDIA GeForce RTX 3060/PCIe/SSE2\n",
      "W0000 00:00:1725880062.635424   13001 inference_feedback_manager.cc:114] Feedback manager requires a model with a single signature inference. Disabling support for feedback tensors.\n",
      "W0000 00:00:1725880062.646629   13002 inference_feedback_manager.cc:114] Feedback manager requires a model with a single signature inference. Disabling support for feedback tensors.\n",
      "I0000 00:00:1725880062.722546    6179 gl_context_egl.cc:85] Successfully initialized EGL. Major : 1 Minor: 5\n",
      "I0000 00:00:1725880062.733056   13024 gl_context.cc:357] GL version: 3.2 (OpenGL ES 3.2 NVIDIA 535.146.02), renderer: NVIDIA GeForce RTX 3060/PCIe/SSE2\n",
      "W0000 00:00:1725880062.736034   13023 inference_feedback_manager.cc:114] Feedback manager requires a model with a single signature inference. Disabling support for feedback tensors.\n",
      "W0000 00:00:1725880062.748207   13014 inference_feedback_manager.cc:114] Feedback manager requires a model with a single signature inference. Disabling support for feedback tensors.\n"
     ]
    },
    {
     "name": "stdout",
     "output_type": "stream",
     "text": [
      "INFO:     127.0.0.1:42684 - \"POST /eye-tracking HTTP/1.1\" 200 OK\n",
      "INFO:     127.0.0.1:42692 - \"POST /pose-estimate HTTP/1.1\" 200 OK\n",
      "INFO:     127.0.0.1:42694 - \"POST /eye-tracking HTTP/1.1\" 200 OK\n",
      "INFO:     127.0.0.1:42700 - \"POST /pose-estimate HTTP/1.1\" 200 OK\n",
      "INFO:     127.0.0.1:42702 - \"POST /eye-tracking HTTP/1.1\" 200 OK\n",
      "INFO:     127.0.0.1:42714 - \"POST /pose-estimate HTTP/1.1\" 200 OK\n"
     ]
    },
    {
     "name": "stderr",
     "output_type": "stream",
     "text": [
      "I0000 00:00:1725880062.830048    6179 gl_context_egl.cc:85] Successfully initialized EGL. Major : 1 Minor: 5\n",
      "I0000 00:00:1725880062.838389   13038 gl_context.cc:357] GL version: 3.2 (OpenGL ES 3.2 NVIDIA 535.146.02), renderer: NVIDIA GeForce RTX 3060/PCIe/SSE2\n",
      "W0000 00:00:1725880062.841575   13027 inference_feedback_manager.cc:114] Feedback manager requires a model with a single signature inference. Disabling support for feedback tensors.\n",
      "W0000 00:00:1725880062.852204   13035 inference_feedback_manager.cc:114] Feedback manager requires a model with a single signature inference. Disabling support for feedback tensors.\n",
      "I0000 00:00:1725880062.923796    6179 gl_context_egl.cc:85] Successfully initialized EGL. Major : 1 Minor: 5\n",
      "I0000 00:00:1725880062.933039   13051 gl_context.cc:357] GL version: 3.2 (OpenGL ES 3.2 NVIDIA 535.146.02), renderer: NVIDIA GeForce RTX 3060/PCIe/SSE2\n",
      "W0000 00:00:1725880062.935333   13050 inference_feedback_manager.cc:114] Feedback manager requires a model with a single signature inference. Disabling support for feedback tensors.\n",
      "W0000 00:00:1725880062.947105   13042 inference_feedback_manager.cc:114] Feedback manager requires a model with a single signature inference. Disabling support for feedback tensors.\n",
      "I0000 00:00:1725880063.025340    6179 gl_context_egl.cc:85] Successfully initialized EGL. Major : 1 Minor: 5\n",
      "I0000 00:00:1725880063.034191   13064 gl_context.cc:357] GL version: 3.2 (OpenGL ES 3.2 NVIDIA 535.146.02), renderer: NVIDIA GeForce RTX 3060/PCIe/SSE2\n",
      "W0000 00:00:1725880063.036521   13060 inference_feedback_manager.cc:114] Feedback manager requires a model with a single signature inference. Disabling support for feedback tensors.\n"
     ]
    },
    {
     "name": "stdout",
     "output_type": "stream",
     "text": [
      "INFO:     127.0.0.1:42728 - \"POST /eye-tracking HTTP/1.1\" 200 OK\n",
      "INFO:     127.0.0.1:42740 - \"POST /pose-estimate HTTP/1.1\" 200 OK\n",
      "INFO:     127.0.0.1:42746 - \"POST /eye-tracking HTTP/1.1\" 200 OK\n",
      "INFO:     127.0.0.1:42748 - \"POST /pose-estimate HTTP/1.1\" 200 OK\n"
     ]
    },
    {
     "name": "stderr",
     "output_type": "stream",
     "text": [
      "W0000 00:00:1725880063.047944   13054 inference_feedback_manager.cc:114] Feedback manager requires a model with a single signature inference. Disabling support for feedback tensors.\n",
      "I0000 00:00:1725880063.129798    6179 gl_context_egl.cc:85] Successfully initialized EGL. Major : 1 Minor: 5\n",
      "I0000 00:00:1725880063.137682   13078 gl_context.cc:357] GL version: 3.2 (OpenGL ES 3.2 NVIDIA 535.146.02), renderer: NVIDIA GeForce RTX 3060/PCIe/SSE2\n",
      "W0000 00:00:1725880063.140572   13066 inference_feedback_manager.cc:114] Feedback manager requires a model with a single signature inference. Disabling support for feedback tensors.\n",
      "W0000 00:00:1725880063.151604   13068 inference_feedback_manager.cc:114] Feedback manager requires a model with a single signature inference. Disabling support for feedback tensors.\n",
      "I0000 00:00:1725880063.227572    6179 gl_context_egl.cc:85] Successfully initialized EGL. Major : 1 Minor: 5\n",
      "I0000 00:00:1725880063.235340   13093 gl_context.cc:357] GL version: 3.2 (OpenGL ES 3.2 NVIDIA 535.146.02), renderer: NVIDIA GeForce RTX 3060/PCIe/SSE2\n",
      "W0000 00:00:1725880063.237106   13090 inference_feedback_manager.cc:114] Feedback manager requires a model with a single signature inference. Disabling support for feedback tensors.\n",
      "W0000 00:00:1725880063.247319   13089 inference_feedback_manager.cc:114] Feedback manager requires a model with a single signature inference. Disabling support for feedback tensors.\n"
     ]
    },
    {
     "name": "stdout",
     "output_type": "stream",
     "text": [
      "INFO:     127.0.0.1:42760 - \"POST /eye-tracking HTTP/1.1\" 200 OK\n",
      "INFO:     127.0.0.1:42774 - \"POST /pose-estimate HTTP/1.1\" 200 OK\n",
      "INFO:     127.0.0.1:42784 - \"POST /eye-tracking HTTP/1.1\" 200 OK\n",
      "INFO:     127.0.0.1:42798 - \"POST /pose-estimate HTTP/1.1\" 200 OK\n",
      "INFO:     127.0.0.1:42806 - \"POST /eye-tracking HTTP/1.1\" 200 OK\n",
      "INFO:     127.0.0.1:42810 - \"POST /pose-estimate HTTP/1.1\" 200 OK\n"
     ]
    },
    {
     "name": "stderr",
     "output_type": "stream",
     "text": [
      "I0000 00:00:1725880063.326617    6179 gl_context_egl.cc:85] Successfully initialized EGL. Major : 1 Minor: 5\n",
      "I0000 00:00:1725880063.334331   13106 gl_context.cc:357] GL version: 3.2 (OpenGL ES 3.2 NVIDIA 535.146.02), renderer: NVIDIA GeForce RTX 3060/PCIe/SSE2\n",
      "W0000 00:00:1725880063.337360   13096 inference_feedback_manager.cc:114] Feedback manager requires a model with a single signature inference. Disabling support for feedback tensors.\n",
      "W0000 00:00:1725880063.349045   13103 inference_feedback_manager.cc:114] Feedback manager requires a model with a single signature inference. Disabling support for feedback tensors.\n",
      "I0000 00:00:1725880063.426672    6179 gl_context_egl.cc:85] Successfully initialized EGL. Major : 1 Minor: 5\n",
      "I0000 00:00:1725880063.434571   13119 gl_context.cc:357] GL version: 3.2 (OpenGL ES 3.2 NVIDIA 535.146.02), renderer: NVIDIA GeForce RTX 3060/PCIe/SSE2\n",
      "W0000 00:00:1725880063.437381   13116 inference_feedback_manager.cc:114] Feedback manager requires a model with a single signature inference. Disabling support for feedback tensors.\n",
      "W0000 00:00:1725880063.449677   13109 inference_feedback_manager.cc:114] Feedback manager requires a model with a single signature inference. Disabling support for feedback tensors.\n",
      "I0000 00:00:1725880063.526866    6179 gl_context_egl.cc:85] Successfully initialized EGL. Major : 1 Minor: 5\n"
     ]
    },
    {
     "name": "stdout",
     "output_type": "stream",
     "text": [
      "INFO:     127.0.0.1:42812 - \"POST /eye-tracking HTTP/1.1\" 200 OK\n",
      "INFO:     127.0.0.1:42820 - \"POST /pose-estimate HTTP/1.1\" 200 OK\n",
      "INFO:     127.0.0.1:42836 - \"POST /eye-tracking HTTP/1.1\" 200 OK\n",
      "INFO:     127.0.0.1:42852 - \"POST /pose-estimate HTTP/1.1\" 200 OK\n"
     ]
    },
    {
     "name": "stderr",
     "output_type": "stream",
     "text": [
      "I0000 00:00:1725880063.535523   13132 gl_context.cc:357] GL version: 3.2 (OpenGL ES 3.2 NVIDIA 535.146.02), renderer: NVIDIA GeForce RTX 3060/PCIe/SSE2\n",
      "W0000 00:00:1725880063.537974   13122 inference_feedback_manager.cc:114] Feedback manager requires a model with a single signature inference. Disabling support for feedback tensors.\n",
      "W0000 00:00:1725880063.548413   13120 inference_feedback_manager.cc:114] Feedback manager requires a model with a single signature inference. Disabling support for feedback tensors.\n",
      "I0000 00:00:1725880063.626216    6179 gl_context_egl.cc:85] Successfully initialized EGL. Major : 1 Minor: 5\n",
      "I0000 00:00:1725880063.634236   13145 gl_context.cc:357] GL version: 3.2 (OpenGL ES 3.2 NVIDIA 535.146.02), renderer: NVIDIA GeForce RTX 3060/PCIe/SSE2\n",
      "W0000 00:00:1725880063.636620   13136 inference_feedback_manager.cc:114] Feedback manager requires a model with a single signature inference. Disabling support for feedback tensors.\n",
      "W0000 00:00:1725880063.648322   13142 inference_feedback_manager.cc:114] Feedback manager requires a model with a single signature inference. Disabling support for feedback tensors.\n"
     ]
    },
    {
     "name": "stdout",
     "output_type": "stream",
     "text": [
      "INFO:     127.0.0.1:42858 - \"POST /eye-tracking HTTP/1.1\" 200 OK\n",
      "INFO:     127.0.0.1:42870 - \"POST /pose-estimate HTTP/1.1\" 200 OK\n",
      "INFO:     127.0.0.1:42876 - \"POST /eye-tracking HTTP/1.1\" 200 OK\n",
      "INFO:     127.0.0.1:42882 - \"POST /pose-estimate HTTP/1.1\" 200 OK\n"
     ]
    },
    {
     "name": "stderr",
     "output_type": "stream",
     "text": [
      "I0000 00:00:1725880063.730244    6179 gl_context_egl.cc:85] Successfully initialized EGL. Major : 1 Minor: 5\n",
      "I0000 00:00:1725880063.760921   13159 gl_context.cc:357] GL version: 3.2 (OpenGL ES 3.2 NVIDIA 535.146.02), renderer: NVIDIA GeForce RTX 3060/PCIe/SSE2\n",
      "W0000 00:00:1725880063.763852   13153 inference_feedback_manager.cc:114] Feedback manager requires a model with a single signature inference. Disabling support for feedback tensors.\n",
      "W0000 00:00:1725880063.774726   13149 inference_feedback_manager.cc:114] Feedback manager requires a model with a single signature inference. Disabling support for feedback tensors.\n",
      "I0000 00:00:1725880063.850190    6179 gl_context_egl.cc:85] Successfully initialized EGL. Major : 1 Minor: 5\n",
      "I0000 00:00:1725880063.866299   13172 gl_context.cc:357] GL version: 3.2 (OpenGL ES 3.2 NVIDIA 535.146.02), renderer: NVIDIA GeForce RTX 3060/PCIe/SSE2\n",
      "W0000 00:00:1725880063.869220   13162 inference_feedback_manager.cc:114] Feedback manager requires a model with a single signature inference. Disabling support for feedback tensors.\n",
      "W0000 00:00:1725880063.881227   13167 inference_feedback_manager.cc:114] Feedback manager requires a model with a single signature inference. Disabling support for feedback tensors.\n",
      "I0000 00:00:1725880063.957437    6179 gl_context_egl.cc:85] Successfully initialized EGL. Major : 1 Minor: 5\n",
      "I0000 00:00:1725880063.965862   13185 gl_context.cc:357] GL version: 3.2 (OpenGL ES 3.2 NVIDIA 535.146.02), renderer: NVIDIA GeForce RTX 3060/PCIe/SSE2\n"
     ]
    },
    {
     "name": "stdout",
     "output_type": "stream",
     "text": [
      "INFO:     127.0.0.1:42888 - \"POST /eye-tracking HTTP/1.1\" 200 OK\n",
      "INFO:     127.0.0.1:42890 - \"POST /pose-estimate HTTP/1.1\" 200 OK\n",
      "INFO:     127.0.0.1:42896 - \"POST /eye-tracking HTTP/1.1\" 200 OK\n",
      "INFO:     127.0.0.1:42910 - \"POST /pose-estimate HTTP/1.1\" 200 OK\n"
     ]
    },
    {
     "name": "stderr",
     "output_type": "stream",
     "text": [
      "W0000 00:00:1725880063.968751   13176 inference_feedback_manager.cc:114] Feedback manager requires a model with a single signature inference. Disabling support for feedback tensors.\n",
      "W0000 00:00:1725880063.980069   13174 inference_feedback_manager.cc:114] Feedback manager requires a model with a single signature inference. Disabling support for feedback tensors.\n",
      "I0000 00:00:1725880064.060306    6179 gl_context_egl.cc:85] Successfully initialized EGL. Major : 1 Minor: 5\n",
      "I0000 00:00:1725880064.068167   13198 gl_context.cc:357] GL version: 3.2 (OpenGL ES 3.2 NVIDIA 535.146.02), renderer: NVIDIA GeForce RTX 3060/PCIe/SSE2\n",
      "W0000 00:00:1725880064.069830   13189 inference_feedback_manager.cc:114] Feedback manager requires a model with a single signature inference. Disabling support for feedback tensors.\n",
      "W0000 00:00:1725880064.081786   13192 inference_feedback_manager.cc:114] Feedback manager requires a model with a single signature inference. Disabling support for feedback tensors.\n",
      "I0000 00:00:1725880064.159260    6179 gl_context_egl.cc:85] Successfully initialized EGL. Major : 1 Minor: 5\n",
      "I0000 00:00:1725880064.166870   13211 gl_context.cc:357] GL version: 3.2 (OpenGL ES 3.2 NVIDIA 535.146.02), renderer: NVIDIA GeForce RTX 3060/PCIe/SSE2\n",
      "W0000 00:00:1725880064.169725   13201 inference_feedback_manager.cc:114] Feedback manager requires a model with a single signature inference. Disabling support for feedback tensors.\n"
     ]
    },
    {
     "name": "stdout",
     "output_type": "stream",
     "text": [
      "INFO:     127.0.0.1:42914 - \"POST /eye-tracking HTTP/1.1\" 200 OK\n",
      "INFO:     127.0.0.1:42918 - \"POST /pose-estimate HTTP/1.1\" 200 OK\n",
      "INFO:     127.0.0.1:42924 - \"POST /eye-tracking HTTP/1.1\" 200 OK\n",
      "INFO:     127.0.0.1:42938 - \"POST /pose-estimate HTTP/1.1\" 200 OK\n"
     ]
    },
    {
     "name": "stderr",
     "output_type": "stream",
     "text": [
      "W0000 00:00:1725880064.180569   13207 inference_feedback_manager.cc:114] Feedback manager requires a model with a single signature inference. Disabling support for feedback tensors.\n",
      "I0000 00:00:1725880064.258751    6179 gl_context_egl.cc:85] Successfully initialized EGL. Major : 1 Minor: 5\n",
      "I0000 00:00:1725880064.266499   13224 gl_context.cc:357] GL version: 3.2 (OpenGL ES 3.2 NVIDIA 535.146.02), renderer: NVIDIA GeForce RTX 3060/PCIe/SSE2\n",
      "W0000 00:00:1725880064.270129   13216 inference_feedback_manager.cc:114] Feedback manager requires a model with a single signature inference. Disabling support for feedback tensors.\n",
      "W0000 00:00:1725880064.282037   13220 inference_feedback_manager.cc:114] Feedback manager requires a model with a single signature inference. Disabling support for feedback tensors.\n",
      "I0000 00:00:1725880064.359444    6179 gl_context_egl.cc:85] Successfully initialized EGL. Major : 1 Minor: 5\n",
      "I0000 00:00:1725880064.367427   13237 gl_context.cc:357] GL version: 3.2 (OpenGL ES 3.2 NVIDIA 535.146.02), renderer: NVIDIA GeForce RTX 3060/PCIe/SSE2\n",
      "W0000 00:00:1725880064.370401   13230 inference_feedback_manager.cc:114] Feedback manager requires a model with a single signature inference. Disabling support for feedback tensors.\n",
      "W0000 00:00:1725880064.381536   13233 inference_feedback_manager.cc:114] Feedback manager requires a model with a single signature inference. Disabling support for feedback tensors.\n"
     ]
    },
    {
     "name": "stdout",
     "output_type": "stream",
     "text": [
      "INFO:     127.0.0.1:42942 - \"POST /eye-tracking HTTP/1.1\" 200 OK\n",
      "INFO:     127.0.0.1:42954 - \"POST /pose-estimate HTTP/1.1\" 200 OK\n",
      "INFO:     127.0.0.1:42958 - \"POST /eye-tracking HTTP/1.1\" 200 OK\n",
      "INFO:     127.0.0.1:42970 - \"POST /pose-estimate HTTP/1.1\" 200 OK\n",
      "INFO:     127.0.0.1:42974 - \"POST /eye-tracking HTTP/1.1\" 200 OK\n",
      "INFO:     127.0.0.1:42984 - \"POST /pose-estimate HTTP/1.1\" 200 OK\n"
     ]
    },
    {
     "name": "stderr",
     "output_type": "stream",
     "text": [
      "I0000 00:00:1725880064.458942    6179 gl_context_egl.cc:85] Successfully initialized EGL. Major : 1 Minor: 5\n",
      "I0000 00:00:1725880064.466242   13250 gl_context.cc:357] GL version: 3.2 (OpenGL ES 3.2 NVIDIA 535.146.02), renderer: NVIDIA GeForce RTX 3060/PCIe/SSE2\n",
      "W0000 00:00:1725880064.468803   13239 inference_feedback_manager.cc:114] Feedback manager requires a model with a single signature inference. Disabling support for feedback tensors.\n",
      "W0000 00:00:1725880064.480125   13245 inference_feedback_manager.cc:114] Feedback manager requires a model with a single signature inference. Disabling support for feedback tensors.\n",
      "I0000 00:00:1725880064.557907    6179 gl_context_egl.cc:85] Successfully initialized EGL. Major : 1 Minor: 5\n",
      "I0000 00:00:1725880064.566697   13263 gl_context.cc:357] GL version: 3.2 (OpenGL ES 3.2 NVIDIA 535.146.02), renderer: NVIDIA GeForce RTX 3060/PCIe/SSE2\n",
      "W0000 00:00:1725880064.569310   13251 inference_feedback_manager.cc:114] Feedback manager requires a model with a single signature inference. Disabling support for feedback tensors.\n",
      "W0000 00:00:1725880064.580936   13258 inference_feedback_manager.cc:114] Feedback manager requires a model with a single signature inference. Disabling support for feedback tensors.\n",
      "I0000 00:00:1725880064.656678    6179 gl_context_egl.cc:85] Successfully initialized EGL. Major : 1 Minor: 5\n",
      "I0000 00:00:1725880064.666118   13276 gl_context.cc:357] GL version: 3.2 (OpenGL ES 3.2 NVIDIA 535.146.02), renderer: NVIDIA GeForce RTX 3060/PCIe/SSE2\n"
     ]
    },
    {
     "name": "stdout",
     "output_type": "stream",
     "text": [
      "INFO:     127.0.0.1:42996 - \"POST /eye-tracking HTTP/1.1\" 200 OK\n",
      "INFO:     127.0.0.1:43010 - \"POST /pose-estimate HTTP/1.1\" 200 OK\n",
      "INFO:     127.0.0.1:43014 - \"POST /eye-tracking HTTP/1.1\" 200 OK\n",
      "INFO:     127.0.0.1:43028 - \"POST /pose-estimate HTTP/1.1\" 200 OK\n"
     ]
    },
    {
     "name": "stderr",
     "output_type": "stream",
     "text": [
      "W0000 00:00:1725880064.668339   13270 inference_feedback_manager.cc:114] Feedback manager requires a model with a single signature inference. Disabling support for feedback tensors.\n",
      "W0000 00:00:1725880064.679677   13264 inference_feedback_manager.cc:114] Feedback manager requires a model with a single signature inference. Disabling support for feedback tensors.\n",
      "I0000 00:00:1725880064.754762    6179 gl_context_egl.cc:85] Successfully initialized EGL. Major : 1 Minor: 5\n",
      "I0000 00:00:1725880064.766143   13289 gl_context.cc:357] GL version: 3.2 (OpenGL ES 3.2 NVIDIA 535.146.02), renderer: NVIDIA GeForce RTX 3060/PCIe/SSE2\n",
      "W0000 00:00:1725880064.767869   13281 inference_feedback_manager.cc:114] Feedback manager requires a model with a single signature inference. Disabling support for feedback tensors.\n",
      "W0000 00:00:1725880064.773992   13277 inference_feedback_manager.cc:114] Feedback manager requires a model with a single signature inference. Disabling support for feedback tensors.\n",
      "I0000 00:00:1725880064.851701    6179 gl_context_egl.cc:85] Successfully initialized EGL. Major : 1 Minor: 5\n",
      "I0000 00:00:1725880064.866038   13302 gl_context.cc:357] GL version: 3.2 (OpenGL ES 3.2 NVIDIA 535.146.02), renderer: NVIDIA GeForce RTX 3060/PCIe/SSE2\n",
      "W0000 00:00:1725880064.868355   13292 inference_feedback_manager.cc:114] Feedback manager requires a model with a single signature inference. Disabling support for feedback tensors.\n"
     ]
    },
    {
     "name": "stdout",
     "output_type": "stream",
     "text": [
      "INFO:     127.0.0.1:43044 - \"POST /eye-tracking HTTP/1.1\" 200 OK\n",
      "INFO:     127.0.0.1:43060 - \"POST /pose-estimate HTTP/1.1\" 200 OK\n",
      "INFO:     127.0.0.1:43076 - \"POST /eye-tracking HTTP/1.1\" 200 OK\n",
      "INFO:     127.0.0.1:43078 - \"POST /pose-estimate HTTP/1.1\" 200 OK\n"
     ]
    },
    {
     "name": "stderr",
     "output_type": "stream",
     "text": [
      "W0000 00:00:1725880064.879575   13291 inference_feedback_manager.cc:114] Feedback manager requires a model with a single signature inference. Disabling support for feedback tensors.\n",
      "I0000 00:00:1725880064.953973    6179 gl_context_egl.cc:85] Successfully initialized EGL. Major : 1 Minor: 5\n",
      "I0000 00:00:1725880064.966176   13315 gl_context.cc:357] GL version: 3.2 (OpenGL ES 3.2 NVIDIA 535.146.02), renderer: NVIDIA GeForce RTX 3060/PCIe/SSE2\n",
      "W0000 00:00:1725880064.968159   13307 inference_feedback_manager.cc:114] Feedback manager requires a model with a single signature inference. Disabling support for feedback tensors.\n",
      "W0000 00:00:1725880064.979610   13303 inference_feedback_manager.cc:114] Feedback manager requires a model with a single signature inference. Disabling support for feedback tensors.\n",
      "I0000 00:00:1725880065.054493    6179 gl_context_egl.cc:85] Successfully initialized EGL. Major : 1 Minor: 5\n",
      "I0000 00:00:1725880065.065804   13328 gl_context.cc:357] GL version: 3.2 (OpenGL ES 3.2 NVIDIA 535.146.02), renderer: NVIDIA GeForce RTX 3060/PCIe/SSE2\n",
      "W0000 00:00:1725880065.068465   13316 inference_feedback_manager.cc:114] Feedback manager requires a model with a single signature inference. Disabling support for feedback tensors.\n",
      "W0000 00:00:1725880065.079299   13320 inference_feedback_manager.cc:114] Feedback manager requires a model with a single signature inference. Disabling support for feedback tensors.\n"
     ]
    },
    {
     "name": "stdout",
     "output_type": "stream",
     "text": [
      "INFO:     127.0.0.1:43080 - \"POST /eye-tracking HTTP/1.1\" 200 OK\n",
      "INFO:     127.0.0.1:43084 - \"POST /pose-estimate HTTP/1.1\" 200 OK\n",
      "INFO:     127.0.0.1:43088 - \"POST /eye-tracking HTTP/1.1\" 200 OK\n",
      "INFO:     127.0.0.1:43096 - \"POST /pose-estimate HTTP/1.1\" 200 OK\n",
      "INFO:     127.0.0.1:43100 - \"POST /eye-tracking HTTP/1.1\" 200 OK\n",
      "INFO:     127.0.0.1:43104 - \"POST /pose-estimate HTTP/1.1\" 200 OK\n"
     ]
    },
    {
     "name": "stderr",
     "output_type": "stream",
     "text": [
      "I0000 00:00:1725880065.158836    6179 gl_context_egl.cc:85] Successfully initialized EGL. Major : 1 Minor: 5\n",
      "I0000 00:00:1725880065.166653   13341 gl_context.cc:357] GL version: 3.2 (OpenGL ES 3.2 NVIDIA 535.146.02), renderer: NVIDIA GeForce RTX 3060/PCIe/SSE2\n",
      "W0000 00:00:1725880065.169700   13335 inference_feedback_manager.cc:114] Feedback manager requires a model with a single signature inference. Disabling support for feedback tensors.\n",
      "W0000 00:00:1725880065.181136   13334 inference_feedback_manager.cc:114] Feedback manager requires a model with a single signature inference. Disabling support for feedback tensors.\n",
      "I0000 00:00:1725880065.259744    6179 gl_context_egl.cc:85] Successfully initialized EGL. Major : 1 Minor: 5\n",
      "I0000 00:00:1725880065.267337   13354 gl_context.cc:357] GL version: 3.2 (OpenGL ES 3.2 NVIDIA 535.146.02), renderer: NVIDIA GeForce RTX 3060/PCIe/SSE2\n",
      "W0000 00:00:1725880065.269758   13345 inference_feedback_manager.cc:114] Feedback manager requires a model with a single signature inference. Disabling support for feedback tensors.\n",
      "W0000 00:00:1725880065.280801   13344 inference_feedback_manager.cc:114] Feedback manager requires a model with a single signature inference. Disabling support for feedback tensors.\n",
      "I0000 00:00:1725880065.361652    6179 gl_context_egl.cc:85] Successfully initialized EGL. Major : 1 Minor: 5\n"
     ]
    },
    {
     "name": "stdout",
     "output_type": "stream",
     "text": [
      "INFO:     127.0.0.1:43116 - \"POST /eye-tracking HTTP/1.1\" 200 OK\n",
      "INFO:     127.0.0.1:43128 - \"POST /pose-estimate HTTP/1.1\" 200 OK\n",
      "INFO:     127.0.0.1:43130 - \"POST /eye-tracking HTTP/1.1\" 200 OK\n",
      "INFO:     127.0.0.1:43138 - \"POST /pose-estimate HTTP/1.1\" 200 OK\n"
     ]
    },
    {
     "name": "stderr",
     "output_type": "stream",
     "text": [
      "I0000 00:00:1725880065.369650   13367 gl_context.cc:357] GL version: 3.2 (OpenGL ES 3.2 NVIDIA 535.146.02), renderer: NVIDIA GeForce RTX 3060/PCIe/SSE2\n",
      "W0000 00:00:1725880065.372747   13365 inference_feedback_manager.cc:114] Feedback manager requires a model with a single signature inference. Disabling support for feedback tensors.\n",
      "W0000 00:00:1725880065.383381   13356 inference_feedback_manager.cc:114] Feedback manager requires a model with a single signature inference. Disabling support for feedback tensors.\n",
      "I0000 00:00:1725880065.459972    6179 gl_context_egl.cc:85] Successfully initialized EGL. Major : 1 Minor: 5\n",
      "I0000 00:00:1725880065.467744   13380 gl_context.cc:357] GL version: 3.2 (OpenGL ES 3.2 NVIDIA 535.146.02), renderer: NVIDIA GeForce RTX 3060/PCIe/SSE2\n",
      "W0000 00:00:1725880065.470641   13371 inference_feedback_manager.cc:114] Feedback manager requires a model with a single signature inference. Disabling support for feedback tensors.\n",
      "W0000 00:00:1725880065.481651   13378 inference_feedback_manager.cc:114] Feedback manager requires a model with a single signature inference. Disabling support for feedback tensors.\n"
     ]
    },
    {
     "name": "stdout",
     "output_type": "stream",
     "text": [
      "INFO:     127.0.0.1:43150 - \"POST /eye-tracking HTTP/1.1\" 200 OK\n",
      "INFO:     127.0.0.1:43152 - \"POST /pose-estimate HTTP/1.1\" 200 OK\n",
      "INFO:     127.0.0.1:43160 - \"POST /eye-tracking HTTP/1.1\" 200 OK\n",
      "INFO:     127.0.0.1:43166 - \"POST /pose-estimate HTTP/1.1\" 200 OK\n"
     ]
    },
    {
     "name": "stderr",
     "output_type": "stream",
     "text": [
      "I0000 00:00:1725880065.561892    6179 gl_context_egl.cc:85] Successfully initialized EGL. Major : 1 Minor: 5\n",
      "I0000 00:00:1725880065.578003   13393 gl_context.cc:357] GL version: 3.2 (OpenGL ES 3.2 NVIDIA 535.146.02), renderer: NVIDIA GeForce RTX 3060/PCIe/SSE2\n",
      "W0000 00:00:1725880065.579504   13383 inference_feedback_manager.cc:114] Feedback manager requires a model with a single signature inference. Disabling support for feedback tensors.\n",
      "W0000 00:00:1725880065.591329   13381 inference_feedback_manager.cc:114] Feedback manager requires a model with a single signature inference. Disabling support for feedback tensors.\n",
      "I0000 00:00:1725880065.663791    6179 gl_context_egl.cc:85] Successfully initialized EGL. Major : 1 Minor: 5\n",
      "I0000 00:00:1725880065.672549   13406 gl_context.cc:357] GL version: 3.2 (OpenGL ES 3.2 NVIDIA 535.146.02), renderer: NVIDIA GeForce RTX 3060/PCIe/SSE2\n",
      "W0000 00:00:1725880065.675223   13400 inference_feedback_manager.cc:114] Feedback manager requires a model with a single signature inference. Disabling support for feedback tensors.\n",
      "W0000 00:00:1725880065.685451   13397 inference_feedback_manager.cc:114] Feedback manager requires a model with a single signature inference. Disabling support for feedback tensors.\n",
      "I0000 00:00:1725880065.763232    6179 gl_context_egl.cc:85] Successfully initialized EGL. Major : 1 Minor: 5\n",
      "I0000 00:00:1725880065.778224   13420 gl_context.cc:357] GL version: 3.2 (OpenGL ES 3.2 NVIDIA 535.146.02), renderer: NVIDIA GeForce RTX 3060/PCIe/SSE2\n"
     ]
    },
    {
     "name": "stdout",
     "output_type": "stream",
     "text": [
      "INFO:     127.0.0.1:43168 - \"POST /eye-tracking HTTP/1.1\" 200 OK\n",
      "INFO:     127.0.0.1:43170 - \"POST /pose-estimate HTTP/1.1\" 200 OK\n",
      "INFO:     127.0.0.1:43182 - \"POST /eye-tracking HTTP/1.1\" 200 OK\n",
      "INFO:     127.0.0.1:43190 - \"POST /pose-estimate HTTP/1.1\" 200 OK\n"
     ]
    },
    {
     "name": "stderr",
     "output_type": "stream",
     "text": [
      "W0000 00:00:1725880065.781196   13416 inference_feedback_manager.cc:114] Feedback manager requires a model with a single signature inference. Disabling support for feedback tensors.\n",
      "W0000 00:00:1725880065.791871   13411 inference_feedback_manager.cc:114] Feedback manager requires a model with a single signature inference. Disabling support for feedback tensors.\n",
      "I0000 00:00:1725880065.864185    6179 gl_context_egl.cc:85] Successfully initialized EGL. Major : 1 Minor: 5\n",
      "I0000 00:00:1725880065.871646   13433 gl_context.cc:357] GL version: 3.2 (OpenGL ES 3.2 NVIDIA 535.146.02), renderer: NVIDIA GeForce RTX 3060/PCIe/SSE2\n",
      "W0000 00:00:1725880065.874485   13427 inference_feedback_manager.cc:114] Feedback manager requires a model with a single signature inference. Disabling support for feedback tensors.\n",
      "W0000 00:00:1725880065.886351   13425 inference_feedback_manager.cc:114] Feedback manager requires a model with a single signature inference. Disabling support for feedback tensors.\n",
      "I0000 00:00:1725880065.960747    6179 gl_context_egl.cc:85] Successfully initialized EGL. Major : 1 Minor: 5\n",
      "I0000 00:00:1725880065.968514   13446 gl_context.cc:357] GL version: 3.2 (OpenGL ES 3.2 NVIDIA 535.146.02), renderer: NVIDIA GeForce RTX 3060/PCIe/SSE2\n",
      "W0000 00:00:1725880065.971584   13436 inference_feedback_manager.cc:114] Feedback manager requires a model with a single signature inference. Disabling support for feedback tensors.\n",
      "W0000 00:00:1725880065.982481   13438 inference_feedback_manager.cc:114] Feedback manager requires a model with a single signature inference. Disabling support for feedback tensors.\n"
     ]
    },
    {
     "name": "stdout",
     "output_type": "stream",
     "text": [
      "INFO:     127.0.0.1:43204 - \"POST /eye-tracking HTTP/1.1\" 200 OK\n",
      "INFO:     127.0.0.1:43220 - \"POST /pose-estimate HTTP/1.1\" 200 OK\n",
      "INFO:     127.0.0.1:43228 - \"POST /eye-tracking HTTP/1.1\" 200 OK\n",
      "INFO:     127.0.0.1:43230 - \"POST /pose-estimate HTTP/1.1\" 200 OK\n",
      "INFO:     127.0.0.1:43244 - \"POST /eye-tracking HTTP/1.1\" 200 OK\n",
      "INFO:     127.0.0.1:43258 - \"POST /pose-estimate HTTP/1.1\" 200 OK\n"
     ]
    },
    {
     "name": "stderr",
     "output_type": "stream",
     "text": [
      "I0000 00:00:1725880066.060385    6179 gl_context_egl.cc:85] Successfully initialized EGL. Major : 1 Minor: 5\n",
      "I0000 00:00:1725880066.068216   13459 gl_context.cc:357] GL version: 3.2 (OpenGL ES 3.2 NVIDIA 535.146.02), renderer: NVIDIA GeForce RTX 3060/PCIe/SSE2\n",
      "W0000 00:00:1725880066.071014   13451 inference_feedback_manager.cc:114] Feedback manager requires a model with a single signature inference. Disabling support for feedback tensors.\n",
      "W0000 00:00:1725880066.081917   13448 inference_feedback_manager.cc:114] Feedback manager requires a model with a single signature inference. Disabling support for feedback tensors.\n",
      "I0000 00:00:1725880066.156493    6179 gl_context_egl.cc:85] Successfully initialized EGL. Major : 1 Minor: 5\n",
      "I0000 00:00:1725880066.166202   13472 gl_context.cc:357] GL version: 3.2 (OpenGL ES 3.2 NVIDIA 535.146.02), renderer: NVIDIA GeForce RTX 3060/PCIe/SSE2\n",
      "W0000 00:00:1725880066.169837   13461 inference_feedback_manager.cc:114] Feedback manager requires a model with a single signature inference. Disabling support for feedback tensors.\n",
      "W0000 00:00:1725880066.181862   13463 inference_feedback_manager.cc:114] Feedback manager requires a model with a single signature inference. Disabling support for feedback tensors.\n",
      "I0000 00:00:1725880066.257769    6179 gl_context_egl.cc:85] Successfully initialized EGL. Major : 1 Minor: 5\n",
      "I0000 00:00:1725880066.266612   13485 gl_context.cc:357] GL version: 3.2 (OpenGL ES 3.2 NVIDIA 535.146.02), renderer: NVIDIA GeForce RTX 3060/PCIe/SSE2\n",
      "W0000 00:00:1725880066.268120   13478 inference_feedback_manager.cc:114] Feedback manager requires a model with a single signature inference. Disabling support for feedback tensors.\n"
     ]
    },
    {
     "name": "stdout",
     "output_type": "stream",
     "text": [
      "INFO:     127.0.0.1:43268 - \"POST /eye-tracking HTTP/1.1\" 200 OK\n",
      "INFO:     127.0.0.1:43272 - \"POST /pose-estimate HTTP/1.1\" 200 OK\n",
      "INFO:     127.0.0.1:43278 - \"POST /eye-tracking HTTP/1.1\" 200 OK\n",
      "INFO:     127.0.0.1:43292 - \"POST /pose-estimate HTTP/1.1\" 200 OK\n"
     ]
    },
    {
     "name": "stderr",
     "output_type": "stream",
     "text": [
      "W0000 00:00:1725880066.281015   13483 inference_feedback_manager.cc:114] Feedback manager requires a model with a single signature inference. Disabling support for feedback tensors.\n",
      "I0000 00:00:1725880066.360857    6179 gl_context_egl.cc:85] Successfully initialized EGL. Major : 1 Minor: 5\n",
      "I0000 00:00:1725880066.368855   13498 gl_context.cc:357] GL version: 3.2 (OpenGL ES 3.2 NVIDIA 535.146.02), renderer: NVIDIA GeForce RTX 3060/PCIe/SSE2\n",
      "W0000 00:00:1725880066.370904   13489 inference_feedback_manager.cc:114] Feedback manager requires a model with a single signature inference. Disabling support for feedback tensors.\n",
      "W0000 00:00:1725880066.382344   13487 inference_feedback_manager.cc:114] Feedback manager requires a model with a single signature inference. Disabling support for feedback tensors.\n",
      "I0000 00:00:1725880066.459957    6179 gl_context_egl.cc:85] Successfully initialized EGL. Major : 1 Minor: 5\n",
      "I0000 00:00:1725880066.467796   13511 gl_context.cc:357] GL version: 3.2 (OpenGL ES 3.2 NVIDIA 535.146.02), renderer: NVIDIA GeForce RTX 3060/PCIe/SSE2\n",
      "W0000 00:00:1725880066.470236   13507 inference_feedback_manager.cc:114] Feedback manager requires a model with a single signature inference. Disabling support for feedback tensors.\n"
     ]
    },
    {
     "name": "stdout",
     "output_type": "stream",
     "text": [
      "INFO:     127.0.0.1:43296 - \"POST /eye-tracking HTTP/1.1\" 200 OK\n",
      "INFO:     127.0.0.1:43310 - \"POST /pose-estimate HTTP/1.1\" 200 OK\n",
      "INFO:     127.0.0.1:43314 - \"POST /eye-tracking HTTP/1.1\" 200 OK\n",
      "INFO:     127.0.0.1:43322 - \"POST /pose-estimate HTTP/1.1\" 200 OK\n"
     ]
    },
    {
     "name": "stderr",
     "output_type": "stream",
     "text": [
      "W0000 00:00:1725880066.482249   13501 inference_feedback_manager.cc:114] Feedback manager requires a model with a single signature inference. Disabling support for feedback tensors.\n",
      "I0000 00:00:1725880066.558478    6179 gl_context_egl.cc:85] Successfully initialized EGL. Major : 1 Minor: 5\n",
      "I0000 00:00:1725880066.594213   13524 gl_context.cc:357] GL version: 3.2 (OpenGL ES 3.2 NVIDIA 535.146.02), renderer: NVIDIA GeForce RTX 3060/PCIe/SSE2\n",
      "W0000 00:00:1725880066.597061   13515 inference_feedback_manager.cc:114] Feedback manager requires a model with a single signature inference. Disabling support for feedback tensors.\n",
      "W0000 00:00:1725880066.608324   13523 inference_feedback_manager.cc:114] Feedback manager requires a model with a single signature inference. Disabling support for feedback tensors.\n"
     ]
    },
    {
     "name": "stdout",
     "output_type": "stream",
     "text": [
      "INFO:     127.0.0.1:43328 - \"POST /eye-tracking HTTP/1.1\" 200 OK\n",
      "INFO:     127.0.0.1:43334 - \"POST /pose-estimate HTTP/1.1\" 200 OK\n",
      "INFO:     127.0.0.1:43342 - \"POST /eye-tracking HTTP/1.1\" 200 OK\n",
      "INFO:     127.0.0.1:43352 - \"POST /pose-estimate HTTP/1.1\" 200 OK\n"
     ]
    },
    {
     "name": "stderr",
     "output_type": "stream",
     "text": [
      "I0000 00:00:1725880066.684289    6179 gl_context_egl.cc:85] Successfully initialized EGL. Major : 1 Minor: 5\n",
      "I0000 00:00:1725880066.699692   13537 gl_context.cc:357] GL version: 3.2 (OpenGL ES 3.2 NVIDIA 535.146.02), renderer: NVIDIA GeForce RTX 3060/PCIe/SSE2\n",
      "W0000 00:00:1725880066.702331   13536 inference_feedback_manager.cc:114] Feedback manager requires a model with a single signature inference. Disabling support for feedback tensors.\n",
      "W0000 00:00:1725880066.713584   13527 inference_feedback_manager.cc:114] Feedback manager requires a model with a single signature inference. Disabling support for feedback tensors.\n",
      "I0000 00:00:1725880066.788743    6179 gl_context_egl.cc:85] Successfully initialized EGL. Major : 1 Minor: 5\n",
      "I0000 00:00:1725880066.799594   13550 gl_context.cc:357] GL version: 3.2 (OpenGL ES 3.2 NVIDIA 535.146.02), renderer: NVIDIA GeForce RTX 3060/PCIe/SSE2\n",
      "W0000 00:00:1725880066.802575   13538 inference_feedback_manager.cc:114] Feedback manager requires a model with a single signature inference. Disabling support for feedback tensors.\n",
      "W0000 00:00:1725880066.813857   13546 inference_feedback_manager.cc:114] Feedback manager requires a model with a single signature inference. Disabling support for feedback tensors.\n",
      "I0000 00:00:1725880066.890277    6179 gl_context_egl.cc:85] Successfully initialized EGL. Major : 1 Minor: 5\n",
      "I0000 00:00:1725880066.900437   13563 gl_context.cc:357] GL version: 3.2 (OpenGL ES 3.2 NVIDIA 535.146.02), renderer: NVIDIA GeForce RTX 3060/PCIe/SSE2\n"
     ]
    },
    {
     "name": "stdout",
     "output_type": "stream",
     "text": [
      "INFO:     127.0.0.1:43356 - \"POST /eye-tracking HTTP/1.1\" 200 OK\n",
      "INFO:     127.0.0.1:43368 - \"POST /pose-estimate HTTP/1.1\" 200 OK\n",
      "INFO:     127.0.0.1:43384 - \"POST /eye-tracking HTTP/1.1\" 200 OK\n",
      "INFO:     127.0.0.1:43390 - \"POST /pose-estimate HTTP/1.1\" 200 OK\n"
     ]
    },
    {
     "name": "stderr",
     "output_type": "stream",
     "text": [
      "W0000 00:00:1725880066.903265   13554 inference_feedback_manager.cc:114] Feedback manager requires a model with a single signature inference. Disabling support for feedback tensors.\n",
      "W0000 00:00:1725880066.914282   13555 inference_feedback_manager.cc:114] Feedback manager requires a model with a single signature inference. Disabling support for feedback tensors.\n",
      "I0000 00:00:1725880066.990966    6179 gl_context_egl.cc:85] Successfully initialized EGL. Major : 1 Minor: 5\n",
      "I0000 00:00:1725880066.999719   13576 gl_context.cc:357] GL version: 3.2 (OpenGL ES 3.2 NVIDIA 535.146.02), renderer: NVIDIA GeForce RTX 3060/PCIe/SSE2\n",
      "W0000 00:00:1725880067.002543   13568 inference_feedback_manager.cc:114] Feedback manager requires a model with a single signature inference. Disabling support for feedback tensors.\n",
      "W0000 00:00:1725880067.013871   13565 inference_feedback_manager.cc:114] Feedback manager requires a model with a single signature inference. Disabling support for feedback tensors.\n",
      "I0000 00:00:1725880067.093720    6179 gl_context_egl.cc:85] Successfully initialized EGL. Major : 1 Minor: 5\n",
      "I0000 00:00:1725880067.101599   13589 gl_context.cc:357] GL version: 3.2 (OpenGL ES 3.2 NVIDIA 535.146.02), renderer: NVIDIA GeForce RTX 3060/PCIe/SSE2\n",
      "W0000 00:00:1725880067.104560   13577 inference_feedback_manager.cc:114] Feedback manager requires a model with a single signature inference. Disabling support for feedback tensors.\n"
     ]
    },
    {
     "name": "stdout",
     "output_type": "stream",
     "text": [
      "INFO:     127.0.0.1:43402 - \"POST /eye-tracking HTTP/1.1\" 200 OK\n",
      "INFO:     127.0.0.1:40032 - \"POST /pose-estimate HTTP/1.1\" 200 OK\n",
      "INFO:     127.0.0.1:40046 - \"POST /eye-tracking HTTP/1.1\" 200 OK\n",
      "INFO:     127.0.0.1:40060 - \"POST /pose-estimate HTTP/1.1\" 200 OK\n"
     ]
    },
    {
     "name": "stderr",
     "output_type": "stream",
     "text": [
      "W0000 00:00:1725880067.116084   13582 inference_feedback_manager.cc:114] Feedback manager requires a model with a single signature inference. Disabling support for feedback tensors.\n",
      "I0000 00:00:1725880067.191536    6179 gl_context_egl.cc:85] Successfully initialized EGL. Major : 1 Minor: 5\n",
      "I0000 00:00:1725880067.199628   13602 gl_context.cc:357] GL version: 3.2 (OpenGL ES 3.2 NVIDIA 535.146.02), renderer: NVIDIA GeForce RTX 3060/PCIe/SSE2\n",
      "W0000 00:00:1725880067.202389   13590 inference_feedback_manager.cc:114] Feedback manager requires a model with a single signature inference. Disabling support for feedback tensors.\n",
      "W0000 00:00:1725880067.213881   13601 inference_feedback_manager.cc:114] Feedback manager requires a model with a single signature inference. Disabling support for feedback tensors.\n",
      "I0000 00:00:1725880067.289953    6179 gl_context_egl.cc:85] Successfully initialized EGL. Major : 1 Minor: 5\n",
      "I0000 00:00:1725880067.299429   13615 gl_context.cc:357] GL version: 3.2 (OpenGL ES 3.2 NVIDIA 535.146.02), renderer: NVIDIA GeForce RTX 3060/PCIe/SSE2\n",
      "W0000 00:00:1725880067.302364   13607 inference_feedback_manager.cc:114] Feedback manager requires a model with a single signature inference. Disabling support for feedback tensors.\n",
      "W0000 00:00:1725880067.313383   13605 inference_feedback_manager.cc:114] Feedback manager requires a model with a single signature inference. Disabling support for feedback tensors.\n"
     ]
    },
    {
     "name": "stdout",
     "output_type": "stream",
     "text": [
      "INFO:     127.0.0.1:40066 - \"POST /eye-tracking HTTP/1.1\" 200 OK\n",
      "INFO:     127.0.0.1:40078 - \"POST /pose-estimate HTTP/1.1\" 200 OK\n",
      "INFO:     127.0.0.1:40084 - \"POST /eye-tracking HTTP/1.1\" 200 OK\n",
      "INFO:     127.0.0.1:40096 - \"POST /pose-estimate HTTP/1.1\" 200 OK\n",
      "INFO:     127.0.0.1:40102 - \"POST /eye-tracking HTTP/1.1\" 200 OK\n",
      "INFO:     127.0.0.1:40112 - \"POST /pose-estimate HTTP/1.1\" 200 OK\n"
     ]
    },
    {
     "name": "stderr",
     "output_type": "stream",
     "text": [
      "I0000 00:00:1725880067.391344    6179 gl_context_egl.cc:85] Successfully initialized EGL. Major : 1 Minor: 5\n",
      "I0000 00:00:1725880067.399521   13628 gl_context.cc:357] GL version: 3.2 (OpenGL ES 3.2 NVIDIA 535.146.02), renderer: NVIDIA GeForce RTX 3060/PCIe/SSE2\n",
      "W0000 00:00:1725880067.402515   13619 inference_feedback_manager.cc:114] Feedback manager requires a model with a single signature inference. Disabling support for feedback tensors.\n",
      "W0000 00:00:1725880067.413320   13625 inference_feedback_manager.cc:114] Feedback manager requires a model with a single signature inference. Disabling support for feedback tensors.\n",
      "I0000 00:00:1725880067.492664    6179 gl_context_egl.cc:85] Successfully initialized EGL. Major : 1 Minor: 5\n",
      "I0000 00:00:1725880067.500461   13641 gl_context.cc:357] GL version: 3.2 (OpenGL ES 3.2 NVIDIA 535.146.02), renderer: NVIDIA GeForce RTX 3060/PCIe/SSE2\n",
      "W0000 00:00:1725880067.502367   13635 inference_feedback_manager.cc:114] Feedback manager requires a model with a single signature inference. Disabling support for feedback tensors.\n",
      "W0000 00:00:1725880067.513945   13631 inference_feedback_manager.cc:114] Feedback manager requires a model with a single signature inference. Disabling support for feedback tensors.\n",
      "I0000 00:00:1725880067.591010    6179 gl_context_egl.cc:85] Successfully initialized EGL. Major : 1 Minor: 5\n",
      "I0000 00:00:1725880067.600467   13654 gl_context.cc:357] GL version: 3.2 (OpenGL ES 3.2 NVIDIA 535.146.02), renderer: NVIDIA GeForce RTX 3060/PCIe/SSE2\n"
     ]
    },
    {
     "name": "stdout",
     "output_type": "stream",
     "text": [
      "INFO:     127.0.0.1:40128 - \"POST /eye-tracking HTTP/1.1\" 200 OK\n",
      "INFO:     127.0.0.1:40144 - \"POST /pose-estimate HTTP/1.1\" 200 OK\n",
      "INFO:     127.0.0.1:40152 - \"POST /eye-tracking HTTP/1.1\" 200 OK\n",
      "INFO:     127.0.0.1:40158 - \"POST /pose-estimate HTTP/1.1\" 200 OK\n"
     ]
    },
    {
     "name": "stderr",
     "output_type": "stream",
     "text": [
      "W0000 00:00:1725880067.602987   13642 inference_feedback_manager.cc:114] Feedback manager requires a model with a single signature inference. Disabling support for feedback tensors.\n",
      "W0000 00:00:1725880067.614599   13650 inference_feedback_manager.cc:114] Feedback manager requires a model with a single signature inference. Disabling support for feedback tensors.\n",
      "I0000 00:00:1725880067.690729    6179 gl_context_egl.cc:85] Successfully initialized EGL. Major : 1 Minor: 5\n",
      "I0000 00:00:1725880067.699572   13667 gl_context.cc:357] GL version: 3.2 (OpenGL ES 3.2 NVIDIA 535.146.02), renderer: NVIDIA GeForce RTX 3060/PCIe/SSE2\n",
      "W0000 00:00:1725880067.702319   13658 inference_feedback_manager.cc:114] Feedback manager requires a model with a single signature inference. Disabling support for feedback tensors.\n",
      "W0000 00:00:1725880067.713149   13655 inference_feedback_manager.cc:114] Feedback manager requires a model with a single signature inference. Disabling support for feedback tensors.\n",
      "I0000 00:00:1725880067.786574    6179 gl_context_egl.cc:85] Successfully initialized EGL. Major : 1 Minor: 5\n",
      "I0000 00:00:1725880067.799590   13681 gl_context.cc:357] GL version: 3.2 (OpenGL ES 3.2 NVIDIA 535.146.02), renderer: NVIDIA GeForce RTX 3060/PCIe/SSE2\n",
      "W0000 00:00:1725880067.801968   13679 inference_feedback_manager.cc:114] Feedback manager requires a model with a single signature inference. Disabling support for feedback tensors.\n"
     ]
    },
    {
     "name": "stdout",
     "output_type": "stream",
     "text": [
      "INFO:     127.0.0.1:40166 - \"POST /eye-tracking HTTP/1.1\" 200 OK\n",
      "INFO:     127.0.0.1:40168 - \"POST /pose-estimate HTTP/1.1\" 200 OK\n",
      "INFO:     127.0.0.1:40184 - \"POST /eye-tracking HTTP/1.1\" 200 OK\n",
      "INFO:     127.0.0.1:40186 - \"POST /pose-estimate HTTP/1.1\" 200 OK\n"
     ]
    },
    {
     "name": "stderr",
     "output_type": "stream",
     "text": [
      "W0000 00:00:1725880067.813685   13675 inference_feedback_manager.cc:114] Feedback manager requires a model with a single signature inference. Disabling support for feedback tensors.\n",
      "I0000 00:00:1725880067.890250    6179 gl_context_egl.cc:85] Successfully initialized EGL. Major : 1 Minor: 5\n",
      "I0000 00:00:1725880067.899752   13694 gl_context.cc:357] GL version: 3.2 (OpenGL ES 3.2 NVIDIA 535.146.02), renderer: NVIDIA GeForce RTX 3060/PCIe/SSE2\n",
      "W0000 00:00:1725880067.902391   13682 inference_feedback_manager.cc:114] Feedback manager requires a model with a single signature inference. Disabling support for feedback tensors.\n",
      "W0000 00:00:1725880067.913233   13683 inference_feedback_manager.cc:114] Feedback manager requires a model with a single signature inference. Disabling support for feedback tensors.\n",
      "I0000 00:00:1725880067.991114    6179 gl_context_egl.cc:85] Successfully initialized EGL. Major : 1 Minor: 5\n",
      "I0000 00:00:1725880067.999620   13707 gl_context.cc:357] GL version: 3.2 (OpenGL ES 3.2 NVIDIA 535.146.02), renderer: NVIDIA GeForce RTX 3060/PCIe/SSE2\n",
      "W0000 00:00:1725880068.002687   13698 inference_feedback_manager.cc:114] Feedback manager requires a model with a single signature inference. Disabling support for feedback tensors.\n",
      "W0000 00:00:1725880068.014322   13703 inference_feedback_manager.cc:114] Feedback manager requires a model with a single signature inference. Disabling support for feedback tensors.\n"
     ]
    },
    {
     "name": "stdout",
     "output_type": "stream",
     "text": [
      "INFO:     127.0.0.1:40188 - \"POST /eye-tracking HTTP/1.1\" 200 OK\n",
      "INFO:     127.0.0.1:40192 - \"POST /pose-estimate HTTP/1.1\" 200 OK\n",
      "INFO:     127.0.0.1:40196 - \"POST /eye-tracking HTTP/1.1\" 200 OK\n",
      "INFO:     127.0.0.1:40206 - \"POST /pose-estimate HTTP/1.1\" 200 OK\n",
      "INFO:     127.0.0.1:40220 - \"POST /eye-tracking HTTP/1.1\" 200 OK\n",
      "INFO:     127.0.0.1:40236 - \"POST /pose-estimate HTTP/1.1\" 200 OK\n"
     ]
    },
    {
     "name": "stderr",
     "output_type": "stream",
     "text": [
      "I0000 00:00:1725880068.094022    6179 gl_context_egl.cc:85] Successfully initialized EGL. Major : 1 Minor: 5\n",
      "I0000 00:00:1725880068.101967   13720 gl_context.cc:357] GL version: 3.2 (OpenGL ES 3.2 NVIDIA 535.146.02), renderer: NVIDIA GeForce RTX 3060/PCIe/SSE2\n",
      "W0000 00:00:1725880068.104774   13712 inference_feedback_manager.cc:114] Feedback manager requires a model with a single signature inference. Disabling support for feedback tensors.\n",
      "W0000 00:00:1725880068.115674   13715 inference_feedback_manager.cc:114] Feedback manager requires a model with a single signature inference. Disabling support for feedback tensors.\n",
      "I0000 00:00:1725880068.196289    6179 gl_context_egl.cc:85] Successfully initialized EGL. Major : 1 Minor: 5\n",
      "I0000 00:00:1725880068.204627   13733 gl_context.cc:357] GL version: 3.2 (OpenGL ES 3.2 NVIDIA 535.146.02), renderer: NVIDIA GeForce RTX 3060/PCIe/SSE2\n",
      "W0000 00:00:1725880068.207346   13724 inference_feedback_manager.cc:114] Feedback manager requires a model with a single signature inference. Disabling support for feedback tensors.\n",
      "W0000 00:00:1725880068.218491   13722 inference_feedback_manager.cc:114] Feedback manager requires a model with a single signature inference. Disabling support for feedback tensors.\n",
      "I0000 00:00:1725880068.292586    6179 gl_context_egl.cc:85] Successfully initialized EGL. Major : 1 Minor: 5\n",
      "I0000 00:00:1725880068.300586   13746 gl_context.cc:357] GL version: 3.2 (OpenGL ES 3.2 NVIDIA 535.146.02), renderer: NVIDIA GeForce RTX 3060/PCIe/SSE2\n",
      "W0000 00:00:1725880068.302714   13734 inference_feedback_manager.cc:114] Feedback manager requires a model with a single signature inference. Disabling support for feedback tensors.\n"
     ]
    },
    {
     "name": "stdout",
     "output_type": "stream",
     "text": [
      "INFO:     127.0.0.1:40248 - \"POST /eye-tracking HTTP/1.1\" 200 OK\n",
      "INFO:     127.0.0.1:40264 - \"POST /pose-estimate HTTP/1.1\" 200 OK\n",
      "INFO:     127.0.0.1:40276 - \"POST /eye-tracking HTTP/1.1\" 200 OK\n",
      "INFO:     127.0.0.1:40278 - \"POST /pose-estimate HTTP/1.1\" 200 OK\n",
      "INFO:     127.0.0.1:40288 - \"POST /eye-tracking HTTP/1.1\" 200 OK\n"
     ]
    },
    {
     "name": "stderr",
     "output_type": "stream",
     "text": [
      "W0000 00:00:1725880068.314164   13737 inference_feedback_manager.cc:114] Feedback manager requires a model with a single signature inference. Disabling support for feedback tensors.\n",
      "I0000 00:00:1725880068.389643    6179 gl_context_egl.cc:85] Successfully initialized EGL. Major : 1 Minor: 5\n",
      "I0000 00:00:1725880068.399675   13760 gl_context.cc:357] GL version: 3.2 (OpenGL ES 3.2 NVIDIA 535.146.02), renderer: NVIDIA GeForce RTX 3060/PCIe/SSE2\n",
      "W0000 00:00:1725880068.402352   13752 inference_feedback_manager.cc:114] Feedback manager requires a model with a single signature inference. Disabling support for feedback tensors.\n",
      "W0000 00:00:1725880068.415732   13748 inference_feedback_manager.cc:114] Feedback manager requires a model with a single signature inference. Disabling support for feedback tensors.\n",
      "I0000 00:00:1725880068.492969    6179 gl_context_egl.cc:85] Successfully initialized EGL. Major : 1 Minor: 5\n",
      "I0000 00:00:1725880068.501143   13775 gl_context.cc:357] GL version: 3.2 (OpenGL ES 3.2 NVIDIA 535.146.02), renderer: NVIDIA GeForce RTX 3060/PCIe/SSE2\n",
      "W0000 00:00:1725880068.502928   13763 inference_feedback_manager.cc:114] Feedback manager requires a model with a single signature inference. Disabling support for feedback tensors.\n",
      "W0000 00:00:1725880068.509417   13769 inference_feedback_manager.cc:114] Feedback manager requires a model with a single signature inference. Disabling support for feedback tensors.\n"
     ]
    },
    {
     "name": "stdout",
     "output_type": "stream",
     "text": [
      "INFO:     127.0.0.1:40302 - \"POST /pose-estimate HTTP/1.1\" 200 OK\n",
      "INFO:     127.0.0.1:40304 - \"POST /eye-tracking HTTP/1.1\" 200 OK\n",
      "INFO:     127.0.0.1:40318 - \"POST /pose-estimate HTTP/1.1\" 200 OK\n",
      "INFO:     127.0.0.1:40326 - \"POST /eye-tracking HTTP/1.1\" 200 OK\n",
      "INFO:     127.0.0.1:40330 - \"POST /pose-estimate HTTP/1.1\" 200 OK\n"
     ]
    },
    {
     "name": "stderr",
     "output_type": "stream",
     "text": [
      "I0000 00:00:1725880068.585054    6179 gl_context_egl.cc:85] Successfully initialized EGL. Major : 1 Minor: 5\n",
      "I0000 00:00:1725880068.601090   13788 gl_context.cc:357] GL version: 3.2 (OpenGL ES 3.2 NVIDIA 535.146.02), renderer: NVIDIA GeForce RTX 3060/PCIe/SSE2\n",
      "W0000 00:00:1725880068.604037   13777 inference_feedback_manager.cc:114] Feedback manager requires a model with a single signature inference. Disabling support for feedback tensors.\n",
      "W0000 00:00:1725880068.615036   13781 inference_feedback_manager.cc:114] Feedback manager requires a model with a single signature inference. Disabling support for feedback tensors.\n",
      "I0000 00:00:1725880068.692388    6179 gl_context_egl.cc:85] Successfully initialized EGL. Major : 1 Minor: 5\n",
      "I0000 00:00:1725880068.700214   13801 gl_context.cc:357] GL version: 3.2 (OpenGL ES 3.2 NVIDIA 535.146.02), renderer: NVIDIA GeForce RTX 3060/PCIe/SSE2\n",
      "W0000 00:00:1725880068.703003   13794 inference_feedback_manager.cc:114] Feedback manager requires a model with a single signature inference. Disabling support for feedback tensors.\n",
      "W0000 00:00:1725880068.713951   13793 inference_feedback_manager.cc:114] Feedback manager requires a model with a single signature inference. Disabling support for feedback tensors.\n",
      "I0000 00:00:1725880068.792469    6179 gl_context_egl.cc:85] Successfully initialized EGL. Major : 1 Minor: 5\n",
      "I0000 00:00:1725880068.800462   13814 gl_context.cc:357] GL version: 3.2 (OpenGL ES 3.2 NVIDIA 535.146.02), renderer: NVIDIA GeForce RTX 3060/PCIe/SSE2\n",
      "W0000 00:00:1725880068.802483   13805 inference_feedback_manager.cc:114] Feedback manager requires a model with a single signature inference. Disabling support for feedback tensors.\n"
     ]
    },
    {
     "name": "stdout",
     "output_type": "stream",
     "text": [
      "INFO:     127.0.0.1:40346 - \"POST /eye-tracking HTTP/1.1\" 200 OK\n",
      "INFO:     127.0.0.1:40352 - \"POST /pose-estimate HTTP/1.1\" 200 OK\n",
      "INFO:     127.0.0.1:40360 - \"POST /eye-tracking HTTP/1.1\" 200 OK\n",
      "INFO:     127.0.0.1:40366 - \"POST /pose-estimate HTTP/1.1\" 200 OK\n"
     ]
    },
    {
     "name": "stderr",
     "output_type": "stream",
     "text": [
      "W0000 00:00:1725880068.814076   13803 inference_feedback_manager.cc:114] Feedback manager requires a model with a single signature inference. Disabling support for feedback tensors.\n",
      "I0000 00:00:1725880068.890585    6179 gl_context_egl.cc:85] Successfully initialized EGL. Major : 1 Minor: 5\n",
      "I0000 00:00:1725880068.899578   13827 gl_context.cc:357] GL version: 3.2 (OpenGL ES 3.2 NVIDIA 535.146.02), renderer: NVIDIA GeForce RTX 3060/PCIe/SSE2\n",
      "W0000 00:00:1725880068.902373   13815 inference_feedback_manager.cc:114] Feedback manager requires a model with a single signature inference. Disabling support for feedback tensors.\n",
      "W0000 00:00:1725880068.913234   13818 inference_feedback_manager.cc:114] Feedback manager requires a model with a single signature inference. Disabling support for feedback tensors.\n",
      "I0000 00:00:1725880068.991586    6179 gl_context_egl.cc:85] Successfully initialized EGL. Major : 1 Minor: 5\n",
      "I0000 00:00:1725880068.999791   13840 gl_context.cc:357] GL version: 3.2 (OpenGL ES 3.2 NVIDIA 535.146.02), renderer: NVIDIA GeForce RTX 3060/PCIe/SSE2\n",
      "W0000 00:00:1725880069.003676   13833 inference_feedback_manager.cc:114] Feedback manager requires a model with a single signature inference. Disabling support for feedback tensors.\n"
     ]
    },
    {
     "name": "stdout",
     "output_type": "stream",
     "text": [
      "INFO:     127.0.0.1:40380 - \"POST /eye-tracking HTTP/1.1\" 200 OK\n",
      "INFO:     127.0.0.1:40394 - \"POST /pose-estimate HTTP/1.1\" 200 OK\n",
      "INFO:     127.0.0.1:40398 - \"POST /eye-tracking HTTP/1.1\" 200 OK\n",
      "INFO:     127.0.0.1:40402 - \"POST /pose-estimate HTTP/1.1\" 200 OK\n"
     ]
    },
    {
     "name": "stderr",
     "output_type": "stream",
     "text": [
      "W0000 00:00:1725880069.015360   13831 inference_feedback_manager.cc:114] Feedback manager requires a model with a single signature inference. Disabling support for feedback tensors.\n",
      "I0000 00:00:1725880069.095560    6179 gl_context_egl.cc:85] Successfully initialized EGL. Major : 1 Minor: 5\n",
      "I0000 00:00:1725880069.103576   13853 gl_context.cc:357] GL version: 3.2 (OpenGL ES 3.2 NVIDIA 535.146.02), renderer: NVIDIA GeForce RTX 3060/PCIe/SSE2\n",
      "W0000 00:00:1725880069.106591   13847 inference_feedback_manager.cc:114] Feedback manager requires a model with a single signature inference. Disabling support for feedback tensors.\n",
      "W0000 00:00:1725880069.117119   13852 inference_feedback_manager.cc:114] Feedback manager requires a model with a single signature inference. Disabling support for feedback tensors.\n",
      "I0000 00:00:1725880069.197302    6179 gl_context_egl.cc:85] Successfully initialized EGL. Major : 1 Minor: 5\n",
      "I0000 00:00:1725880069.205377   13866 gl_context.cc:357] GL version: 3.2 (OpenGL ES 3.2 NVIDIA 535.146.02), renderer: NVIDIA GeForce RTX 3060/PCIe/SSE2\n",
      "W0000 00:00:1725880069.208336   13860 inference_feedback_manager.cc:114] Feedback manager requires a model with a single signature inference. Disabling support for feedback tensors.\n"
     ]
    },
    {
     "name": "stdout",
     "output_type": "stream",
     "text": [
      "INFO:     127.0.0.1:40416 - \"POST /eye-tracking HTTP/1.1\" 200 OK\n",
      "INFO:     127.0.0.1:40430 - \"POST /pose-estimate HTTP/1.1\" 200 OK\n",
      "INFO:     127.0.0.1:40432 - \"POST /eye-tracking HTTP/1.1\" 200 OK\n",
      "INFO:     127.0.0.1:40448 - \"POST /pose-estimate HTTP/1.1\" 200 OK\n"
     ]
    },
    {
     "name": "stderr",
     "output_type": "stream",
     "text": [
      "W0000 00:00:1725880069.216112   13858 inference_feedback_manager.cc:114] Feedback manager requires a model with a single signature inference. Disabling support for feedback tensors.\n",
      "I0000 00:00:1725880069.293643    6179 gl_context_egl.cc:85] Successfully initialized EGL. Major : 1 Minor: 5\n",
      "I0000 00:00:1725880069.301769   13879 gl_context.cc:357] GL version: 3.2 (OpenGL ES 3.2 NVIDIA 535.146.02), renderer: NVIDIA GeForce RTX 3060/PCIe/SSE2\n",
      "W0000 00:00:1725880069.304650   13870 inference_feedback_manager.cc:114] Feedback manager requires a model with a single signature inference. Disabling support for feedback tensors.\n",
      "W0000 00:00:1725880069.315485   13878 inference_feedback_manager.cc:114] Feedback manager requires a model with a single signature inference. Disabling support for feedback tensors.\n",
      "I0000 00:00:1725880069.394888    6179 gl_context_egl.cc:85] Successfully initialized EGL. Major : 1 Minor: 5\n",
      "I0000 00:00:1725880069.402886   13892 gl_context.cc:357] GL version: 3.2 (OpenGL ES 3.2 NVIDIA 535.146.02), renderer: NVIDIA GeForce RTX 3060/PCIe/SSE2\n",
      "W0000 00:00:1725880069.406750   13891 inference_feedback_manager.cc:114] Feedback manager requires a model with a single signature inference. Disabling support for feedback tensors.\n"
     ]
    },
    {
     "name": "stdout",
     "output_type": "stream",
     "text": [
      "INFO:     127.0.0.1:40464 - \"POST /eye-tracking HTTP/1.1\" 200 OK\n",
      "INFO:     127.0.0.1:40466 - \"POST /pose-estimate HTTP/1.1\" 200 OK\n",
      "INFO:     127.0.0.1:40478 - \"POST /eye-tracking HTTP/1.1\" 200 OK\n",
      "INFO:     127.0.0.1:40482 - \"POST /pose-estimate HTTP/1.1\" 200 OK\n"
     ]
    },
    {
     "name": "stderr",
     "output_type": "stream",
     "text": [
      "W0000 00:00:1725880069.418205   13880 inference_feedback_manager.cc:114] Feedback manager requires a model with a single signature inference. Disabling support for feedback tensors.\n",
      "I0000 00:00:1725880069.493372    6179 gl_context_egl.cc:85] Successfully initialized EGL. Major : 1 Minor: 5\n",
      "I0000 00:00:1725880069.501358   13905 gl_context.cc:357] GL version: 3.2 (OpenGL ES 3.2 NVIDIA 535.146.02), renderer: NVIDIA GeForce RTX 3060/PCIe/SSE2\n",
      "W0000 00:00:1725880069.503148   13895 inference_feedback_manager.cc:114] Feedback manager requires a model with a single signature inference. Disabling support for feedback tensors.\n",
      "W0000 00:00:1725880069.514617   13901 inference_feedback_manager.cc:114] Feedback manager requires a model with a single signature inference. Disabling support for feedback tensors.\n",
      "I0000 00:00:1725880069.598283    6179 gl_context_egl.cc:85] Successfully initialized EGL. Major : 1 Minor: 5\n",
      "I0000 00:00:1725880069.611897   13918 gl_context.cc:357] GL version: 3.2 (OpenGL ES 3.2 NVIDIA 535.146.02), renderer: NVIDIA GeForce RTX 3060/PCIe/SSE2\n",
      "W0000 00:00:1725880069.613842   13908 inference_feedback_manager.cc:114] Feedback manager requires a model with a single signature inference. Disabling support for feedback tensors.\n"
     ]
    },
    {
     "name": "stdout",
     "output_type": "stream",
     "text": [
      "INFO:     127.0.0.1:40490 - \"POST /eye-tracking HTTP/1.1\" 200 OK\n",
      "INFO:     127.0.0.1:40500 - \"POST /pose-estimate HTTP/1.1\" 200 OK\n",
      "INFO:     127.0.0.1:40508 - \"POST /eye-tracking HTTP/1.1\" 200 OK\n"
     ]
    },
    {
     "name": "stderr",
     "output_type": "stream",
     "text": [
      "W0000 00:00:1725880069.625917   13906 inference_feedback_manager.cc:114] Feedback manager requires a model with a single signature inference. Disabling support for feedback tensors.\n",
      "I0000 00:00:1725880069.701582    6179 gl_context_egl.cc:85] Successfully initialized EGL. Major : 1 Minor: 5\n",
      "I0000 00:00:1725880069.710702   13931 gl_context.cc:357] GL version: 3.2 (OpenGL ES 3.2 NVIDIA 535.146.02), renderer: NVIDIA GeForce RTX 3060/PCIe/SSE2\n",
      "W0000 00:00:1725880069.713414   13922 inference_feedback_manager.cc:114] Feedback manager requires a model with a single signature inference. Disabling support for feedback tensors.\n",
      "W0000 00:00:1725880069.724266   13926 inference_feedback_manager.cc:114] Feedback manager requires a model with a single signature inference. Disabling support for feedback tensors.\n",
      "INFO:     Shutting down\n",
      "INFO:     Waiting for application shutdown.\n",
      "INFO:     Application shutdown complete.\n",
      "INFO:     Finished server process [6179]\n"
     ]
    }
   ],
   "source": [
    "start_fastapi()"
   ]
  },
  {
   "cell_type": "code",
   "execution_count": 4,
   "id": "4072be7a-5b18-49af-a4f8-aef0b340d8fc",
   "metadata": {},
   "outputs": [],
   "source": []
  },
  {
   "cell_type": "code",
   "execution_count": null,
   "id": "a8878a8e-2a6c-4e12-a38d-b64f074ea837",
   "metadata": {},
   "outputs": [],
   "source": []
  },
  {
   "cell_type": "code",
   "execution_count": null,
   "id": "41e0c49d-8462-41d2-9eaa-774f8f7c4ad6",
   "metadata": {},
   "outputs": [],
   "source": []
  },
  {
   "cell_type": "code",
   "execution_count": null,
   "id": "20776faa-a565-4597-b503-2625fd8d7977",
   "metadata": {},
   "outputs": [],
   "source": []
  },
  {
   "cell_type": "code",
   "execution_count": null,
   "id": "56de3e9e-856b-4e44-9a89-93e40f99624d",
   "metadata": {},
   "outputs": [],
   "source": []
  },
  {
   "cell_type": "code",
   "execution_count": null,
   "id": "9d076122-5dd8-47ee-b777-e175bacf13cd",
   "metadata": {},
   "outputs": [],
   "source": []
  },
  {
   "cell_type": "code",
   "execution_count": null,
   "id": "b2438a62-f4cc-4b36-923b-d915c1b16603",
   "metadata": {},
   "outputs": [],
   "source": []
  },
  {
   "cell_type": "code",
   "execution_count": null,
   "id": "9cc66f68-136a-484c-8de8-251b69fb48da",
   "metadata": {},
   "outputs": [],
   "source": []
  },
  {
   "cell_type": "code",
   "execution_count": null,
   "id": "14e7cd9f-594c-4fc9-84ac-3e777871dc63",
   "metadata": {},
   "outputs": [],
   "source": []
  },
  {
   "cell_type": "code",
   "execution_count": null,
   "id": "23934077-c94a-4775-9a26-e7f756353c25",
   "metadata": {},
   "outputs": [],
   "source": []
  },
  {
   "cell_type": "code",
   "execution_count": null,
   "id": "1921e53f-43c2-4705-b827-4b9a3e96aa01",
   "metadata": {},
   "outputs": [],
   "source": [
    "nest_asyncio.apply()\n",
    "app = FastAPI()\n",
    "\n",
    "# class Frame(BaseModel):\n",
    "#     frame: str\n",
    "#     timestamp: str\n",
    "\n",
    "@app.post(\"/process-video\")\n",
    "async def process_video(request: Request):\n",
    "\n",
    "    infodata = await request.body()\n",
    "    return {'connected':'yes'}\n",
    "    \n",
    "        \n",
    "def start_fastapi():\n",
    "    uvicorn.run(app, host=\"0.0.0.0\", port=8080)\n",
    "\n",
    "start_fastapi()"
   ]
  }
 ],
 "metadata": {
  "kernelspec": {
   "display_name": "vtenv-2",
   "language": "python",
   "name": "vtenv-2"
  },
  "language_info": {
   "codemirror_mode": {
    "name": "ipython",
    "version": 3
   },
   "file_extension": ".py",
   "mimetype": "text/x-python",
   "name": "python",
   "nbconvert_exporter": "python",
   "pygments_lexer": "ipython3",
   "version": "3.10.0"
  }
 },
 "nbformat": 4,
 "nbformat_minor": 5
}
